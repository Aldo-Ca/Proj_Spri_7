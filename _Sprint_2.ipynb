{
 "cells": [
  {
   "cell_type": "markdown",
   "metadata": {},
   "source": [
    "¡Hola!\n",
    "\n",
    "Mi nombre es Tonatiuh Cruz. Me complace revisar tu proyecto hoy.\n",
    "\n",
    "Al identificar cualquier error inicialmente, simplemente los destacaré. Te animo a localizar y abordar los problemas de forma independiente como parte de tu preparación para un rol como data-scientist. En un entorno profesional, tu líder de equipo seguiría un enfoque similar. Si encuentras la tarea desafiante, proporcionaré una pista más específica en la próxima iteración.\n",
    "\n",
    "Encontrarás mis comentarios a continuación - **por favor no los muevas, modifiques o elimines**.\n",
    "\n",
    "Puedes encontrar mis comentarios en cajas verdes, amarillas o rojas como esta:\n",
    "\n",
    "<div class=\"alert alert-block alert-success\">\n",
    "<b>Comentario del revisor</b> <a class=\"tocSkip\"></a>\n",
    "\n",
    "Éxito. Todo está hecho correctamente.\n",
    "</div>\n",
    "\n",
    "<div class=\"alert alert-block alert-warning\">\n",
    "<b>Comentario del revisor</b> <a class=\"tocSkip\"></a>\n",
    "\n",
    "Observaciones. Algunas recomendaciones.\n",
    "</div>\n",
    "\n",
    "<div class=\"alert alert-block alert-danger\">\n",
    "<b>Comentario del revisor</b> <a class=\"tocSkip\"></a>\n",
    "\n",
    "Necesita corrección. El bloque requiere algunas correcciones. El trabajo no puede ser aceptado con comentarios en rojo.\n",
    "</div>\n",
    "\n",
    "Puedes responderme utilizando esto:\n",
    "\n",
    "<div class=\"alert alert-block alert-info\">\n",
    "<b>Respuesta del estudiante.</b> <a class=\"tocSkip\"></a>\n",
    "</div>"
   ]
  },
  {
   "cell_type": "markdown",
   "metadata": {
    "id": "E0vqbgi9ay0H"
   },
   "source": [
    "# Déjame escuchar la música"
   ]
  },
  {
   "cell_type": "markdown",
   "metadata": {
    "id": "fhq_eyov_Zcs"
   },
   "source": [
    "# Contenido <a id='back'></a>\n",
    "\n",
    "* [Introducción](#intro)\n",
    "* [Etapa 1. Descripción de los datos](#data_review)\n",
    "    * [Conclusiones](#data_review_conclusions)\n",
    "* [Etapa 2. Preprocesamiento de datos](#data_preprocessing)\n",
    "    * [2.1 Estilo del encabezado](#header_style)\n",
    "    * [2.2 Valores ausentes](#missing_values)\n",
    "    * [2.3 Duplicados](#duplicates)\n",
    "    * [2.4 Conclusiones](#data_preprocessing_conclusions)\n",
    "* [Etapa 3. Prueba de hipótesis](#hypothesis)\n",
    "    * [3.1 Hipótesis 1: actividad de los usuarios y las usuarias en las dos ciudades](#activity)\n",
    "* [Conclusiones](#end)"
   ]
  },
  {
   "cell_type": "markdown",
   "metadata": {},
   "source": [
    "<div class=\"alert alert-block alert-warning\">\n",
    "<b>Comentario del revisor</b> <a class=\"tocSkip\"></a>\n",
    "\n",
    "La tabla de contenidos está bien estructurada, pero sería útil si estuviera enlazada a las secciones correspondientes, de manera que al hacer clic se pueda acceder directamente a cada una. Esto facilitaría la navegación.\n",
    "\n",
    "Un consejo útil: si etiquetas correctamente todas las secciones con sus respectivos números (#), puedes generar automáticamente la tabla de contenidos desde Jupyter Lab. Simplemente ve a la pestaña de herramientas y haz clic en el botón de los puntos y barras (Table of contents). Esto te generará una tabla de contenidos enlazada y visualmente atractiva. El botón está ubicado a la derecha del botón \"Validate\".\n",
    "</div>"
   ]
  },
  {
   "cell_type": "markdown",
   "metadata": {
    "id": "VUC88oWjTJw2"
   },
   "source": [
    "## Introducción <a id='intro'></a>\n",
    "Como analista de datos, tu trabajo consiste en analizar datos para extraer información valiosa y tomar decisiones basadas en ellos. Esto implica diferentes etapas, como la descripción general de los datos, el preprocesamiento y la prueba de hipótesis.\n",
    "\n",
    "Siempre que investigamos, necesitamos formular hipótesis que después podamos probar. A veces aceptamos estas hipótesis; otras veces, las rechazamos. Para tomar las decisiones correctas, una empresa debe ser capaz de entender si está haciendo las suposiciones correctas.\n",
    "\n",
    "En este proyecto, compararás las preferencias musicales de las ciudades de Springfield y Shelbyville. Estudiarás datos reales de transmisión de música online para probar la hipótesis a continuación y comparar el comportamiento de los usuarios y las usuarias de estas dos ciudades.\n",
    "\n",
    "### Objetivo:\n",
    "Prueba la hipótesis:\n",
    "1. La actividad de los usuarios y las usuarias difiere según el día de la semana y dependiendo de la ciudad.\n",
    "\n",
    "\n",
    "### Etapas\n",
    "Los datos del comportamiento del usuario se almacenan en el archivo `/datasets/music_project_en.csv`. No hay ninguna información sobre la calidad de los datos, así que necesitarás examinarlos antes de probar la hipótesis.\n",
    "\n",
    "Primero, evaluarás la calidad de los datos y verás si los problemas son significativos. Entonces, durante el preprocesamiento de datos, tomarás en cuenta los problemas más críticos.\n",
    "\n",
    "Tu proyecto consistirá en tres etapas:\n",
    " 1. Descripción de los datos.\n",
    " 2. Preprocesamiento de datos.\n",
    " 3. Prueba de hipótesis.\n",
    "\n",
    "\n",
    "\n",
    "\n",
    "\n",
    "\n"
   ]
  },
  {
   "cell_type": "markdown",
   "metadata": {
    "id": "hDt6pg-Rw-1U"
   },
   "source": [
    "[Volver a Contenidos](#back)"
   ]
  },
  {
   "cell_type": "markdown",
   "metadata": {
    "id": "Ml1hmfXC_Zcs"
   },
   "source": [
    "## Etapa 1. Descripción de los datos <a id='data_review'></a>\n",
    "\n",
    "Abre los datos y examínalos."
   ]
  },
  {
   "cell_type": "markdown",
   "metadata": {
    "id": "57eAOGIz_Zcs"
   },
   "source": [
    "Necesitarás `pandas`, así que impórtalo."
   ]
  },
  {
   "cell_type": "code",
   "execution_count": 48,
   "metadata": {
    "id": "AXN7PHPN_Zcs"
   },
   "outputs": [],
   "source": [
    "# Importar pandas\n",
    "import pandas as pd"
   ]
  },
  {
   "cell_type": "markdown",
   "metadata": {
    "id": "SG23P8tt_Zcs"
   },
   "source": [
    "Lee el archivo `music_project_en.csv` de la carpeta `/datasets/` y guárdalo en la variable `df`:"
   ]
  },
  {
   "cell_type": "code",
   "execution_count": 49,
   "metadata": {
    "id": "fFVu7vqh_Zct"
   },
   "outputs": [],
   "source": [
    "# Leer el archivo y almacenarlo en df\n",
    "df = pd.read_csv('/datasets/music_project_en.csv')"
   ]
  },
  {
   "cell_type": "markdown",
   "metadata": {
    "id": "rDoOMd3uTqnZ"
   },
   "source": [
    "Muestra las 10 primeras filas de la tabla:"
   ]
  },
  {
   "cell_type": "code",
   "execution_count": 50,
   "metadata": {
    "id": "oWTVX3gW_Zct"
   },
   "outputs": [
    {
     "name": "stdout",
     "output_type": "stream",
     "text": [
      "     userID                        Track            artist   genre  \\\n",
      "0  FFB692EC            Kamigata To Boots  The Mass Missile    rock   \n",
      "1  55204538  Delayed Because of Accident  Andreas Rönnberg    rock   \n",
      "2    20EC38            Funiculì funiculà       Mario Lanza     pop   \n",
      "3  A3DD03C9        Dragons in the Sunset        Fire + Ice    folk   \n",
      "4  E2DC1FAE                  Soul People        Space Echo   dance   \n",
      "5  842029A1                       Chains          Obladaet  rusrap   \n",
      "6  4CB90AA5                         True      Roman Messer   dance   \n",
      "7  F03E1C1F             Feeling This Way   Polina Griffith   dance   \n",
      "8  8FA1D3BE                     L’estate       Julia Dalia  ruspop   \n",
      "9  E772D5C0                    Pessimist               NaN   dance   \n",
      "\n",
      "        City        time        Day  \n",
      "0  Shelbyville  20:28:33  Wednesday  \n",
      "1  Springfield  14:07:09     Friday  \n",
      "2  Shelbyville  20:58:07  Wednesday  \n",
      "3  Shelbyville  08:37:09     Monday  \n",
      "4  Springfield  08:34:34     Monday  \n",
      "5  Shelbyville  13:09:41     Friday  \n",
      "6  Springfield  13:00:07  Wednesday  \n",
      "7  Springfield  20:47:49  Wednesday  \n",
      "8  Springfield  09:17:40     Friday  \n",
      "9  Shelbyville  21:20:49  Wednesday  \n"
     ]
    }
   ],
   "source": [
    "# Obtener las 10 primeras filas de la tabla df\n",
    "print(df.head(10))"
   ]
  },
  {
   "cell_type": "markdown",
   "metadata": {
    "id": "EO73Kwic_Zct"
   },
   "source": [
    "Obtén la información general sobre la tabla con un comando. Conoces el método que muestra la información general que necesitamos."
   ]
  },
  {
   "cell_type": "code",
   "execution_count": 51,
   "metadata": {
    "id": "DSf2kIb-_Zct"
   },
   "outputs": [
    {
     "name": "stdout",
     "output_type": "stream",
     "text": [
      "<class 'pandas.core.frame.DataFrame'>\n",
      "RangeIndex: 65079 entries, 0 to 65078\n",
      "Data columns (total 7 columns):\n",
      " #   Column    Non-Null Count  Dtype \n",
      "---  ------    --------------  ----- \n",
      " 0     userID  65079 non-null  object\n",
      " 1   Track     63736 non-null  object\n",
      " 2   artist    57512 non-null  object\n",
      " 3   genre     63881 non-null  object\n",
      " 4     City    65079 non-null  object\n",
      " 5   time      65079 non-null  object\n",
      " 6   Day       65079 non-null  object\n",
      "dtypes: object(7)\n",
      "memory usage: 3.5+ MB\n",
      "None\n"
     ]
    }
   ],
   "source": [
    "# Obtener la información general sobre nuestros datos\n",
    "print(df.info())"
   ]
  },
  {
   "cell_type": "markdown",
   "metadata": {
    "id": "TaQ2Iwbr_Zct"
   },
   "source": [
    "Estas son nuestras observaciones sobre la tabla. Contiene siete columnas. Almacenan los mismos tipos de datos: `object`.\n",
    "\n",
    "Según la documentación:\n",
    "- `' userID'`: identificador del usuario o la usuaria;\n",
    "- `'Track'`: título de la canción;\n",
    "- `'artist'`: nombre del artista;\n",
    "- `'genre'`: género de la pista;\n",
    "- `'City'`: ciudad del usuario o la usuaria;\n",
    "- `'time'`: la hora exacta en la que se reprodujo la canción;\n",
    "- `'Day'`: día de la semana.\n",
    "\n",
    "Podemos ver tres problemas con el estilo en los encabezados de la tabla:\n",
    "1. Algunos encabezados están en mayúsculas, otros en minúsculas.\n",
    "2. Hay espacios en algunos encabezados.\n",
    "3. `Detecta el tercer problema por tu cuenta y descríbelo aquí`: Se detectan datos ausentes en los campos `'Track'`, `'artist'`,  `'genre'`.\n",
    "\n",
    "\n"
   ]
  },
  {
   "cell_type": "markdown",
   "metadata": {
    "id": "MCB6-dXG_Zct"
   },
   "source": [
    "### Escribe observaciones de tu parte. Estas son algunas de las preguntas que pueden ser útiles: <a id='data_review_conclusions'></a>\n",
    "\n",
    "`1.   ¿Qué tipo de datos tenemos a nuestra disposición en las filas? ¿Y cómo podemos entender lo que almacenan las columnas?`\n",
    "Nos encontramos ante datos tipo object, los cuales pueden ser cualquier tipo de objeto de Python, incluyendo listas, diccionarios, funciones, etc. Por los nombres de las columnas y descripciones anteriores vemos que cada campo describe las características en las que un usuario reproduce música.\n",
    "\n",
    "`2.   ¿Hay suficientes datos para proporcionar respuestas a nuestra hipótesis o necesitamos más información?`\n",
    "Se considera que hay registros y campos suficientes para responder la hipótesis inicialmente planteada. \n",
    "\n",
    "`3.   ¿Notaste algún problema en los datos, como valores ausentes, duplicados o tipos de datos incorrectos?`\n",
    "Hasta ahora, gracias al comando `df.inffo()` podemos ver que hay algunos errores en la composición de dicha tabla, comenznando por el formato de los nombres de las columnas, así como valores ausentes en los campos `'Track'`, `'artist'`,  `'genre'`."
   ]
  },
  {
   "cell_type": "markdown",
   "metadata": {},
   "source": [
    "<div class=\"alert alert-block alert-success\">\n",
    "<b>Comentario del revisor</b> <a class=\"tocSkip\"></a>\n",
    "\n",
    "Muy buen trabajo! Excelentes observaciones de tu parte. </div>"
   ]
  },
  {
   "cell_type": "markdown",
   "metadata": {
    "id": "3eL__vcwViOi"
   },
   "source": [
    "[Volver a Contenidos](#back)"
   ]
  },
  {
   "cell_type": "markdown",
   "metadata": {
    "id": "SjYF6Ub9_Zct"
   },
   "source": [
    "## Etapa 2. Preprocesamiento de datos <a id='data_preprocessing'></a>\n",
    "\n",
    "El objetivo aquí es preparar los datos para que sean analizados.\n",
    "El primer paso es resolver cualquier problema con los encabezados. Luego podemos avanzar a los valores ausentes y duplicados. Empecemos.\n",
    "\n",
    "Corrige el formato en los encabezados de la tabla.\n"
   ]
  },
  {
   "cell_type": "markdown",
   "metadata": {
    "id": "dIaKXr29_Zct"
   },
   "source": [
    "### Estilo del encabezado <a id='header_style'></a>\n",
    "Muestra los encabezados de la tabla (los nombres de las columnas):"
   ]
  },
  {
   "cell_type": "code",
   "execution_count": 52,
   "metadata": {
    "id": "oKOTdF_Q_Zct"
   },
   "outputs": [
    {
     "name": "stdout",
     "output_type": "stream",
     "text": [
      "Index(['  userID', 'Track', 'artist', 'genre', '  City  ', 'time', 'Day'], dtype='object')\n"
     ]
    }
   ],
   "source": [
    "# Muestra los nombres de las columnas\n",
    "print(df.columns)"
   ]
  },
  {
   "cell_type": "markdown",
   "metadata": {
    "id": "zj5534cv_Zct"
   },
   "source": [
    "Cambia los encabezados de la tabla de acuerdo con las reglas del buen estilo:\n",
    "* Todos los caracteres deben ser minúsculas.\n",
    "* Elimina los espacios.\n",
    "* Si el nombre tiene varias palabras, utiliza snake_case."
   ]
  },
  {
   "cell_type": "markdown",
   "metadata": {
    "id": "Xu0zkfe5zNJe"
   },
   "source": [
    "Anteriormente, aprendiste acerca de la forma automática de cambiar el nombre de las columnas. Vamos a aplicarla ahora. Utiliza el bucle for para iterar sobre los nombres de las columnas y poner todos los caracteres en minúsculas. Cuando hayas terminado, vuelve a mostrar los encabezados de la tabla:"
   ]
  },
  {
   "cell_type": "code",
   "execution_count": 53,
   "metadata": {
    "id": "6I_RwwMhzM4e"
   },
   "outputs": [
    {
     "name": "stdout",
     "output_type": "stream",
     "text": [
      "Index(['  userid', 'track', 'artist', 'genre', '  city  ', 'time', 'day'], dtype='object')\n"
     ]
    }
   ],
   "source": [
    "# Bucle en los encabezados poniendo todo en minúsculas\n",
    "new_col_names = []\n",
    "\n",
    "for old_name in df.columns:\n",
    "    # Poniendo todas las letras en minúsculas\n",
    "    name_lowered = old_name.lower()\n",
    "    # Agrega el nuevo nombre a la lista de nuevos nombres de columna\n",
    "    new_col_names.append(name_lowered)\n",
    "\n",
    "# Reemplaza los nombres anteriores por los nuevos\n",
    "df.columns = new_col_names\n",
    "print(df.columns)"
   ]
  },
  {
   "cell_type": "markdown",
   "metadata": {},
   "source": [
    "<div class=\"alert alert-block alert-success\">\n",
    "<b>Comentario del revisor</b> <a class=\"tocSkip\"></a>\n",
    "\n",
    "Gran trabajo en hacer uso de un ciclo for para aplicar la función lower() en todas las columnas d ela base</div>"
   ]
  },
  {
   "cell_type": "markdown",
   "metadata": {
    "id": "pweIRxjSzPYW"
   },
   "source": [
    "Ahora, utilizando el mismo método, elimina los espacios al principio y al final de los nombres de las columnas e imprime los nombres de las columnas nuevamente:"
   ]
  },
  {
   "cell_type": "code",
   "execution_count": 54,
   "metadata": {
    "id": "vVQXbFyJzSYl"
   },
   "outputs": [
    {
     "name": "stdout",
     "output_type": "stream",
     "text": [
      "Index(['userid', 'track', 'artist', 'genre', 'city', 'time', 'day'], dtype='object')\n"
     ]
    }
   ],
   "source": [
    "# Bucle en los encabezados eliminando los espacios\n",
    "new_col_names = []\n",
    "\n",
    "for old_name in df.columns:\n",
    "    # Primero, elimina los espacios al principio y al final\n",
    "    name_stripped = old_name.strip()\n",
    "    # Agrega el nuevo nombre a la lista de nuevos nombres de columna\n",
    "    new_col_names.append(name_stripped)\n",
    "\n",
    "# Reemplaza los nombres anteriores por los nuevos\n",
    "df.columns = new_col_names\n",
    "print(df.columns)"
   ]
  },
  {
   "cell_type": "markdown",
   "metadata": {},
   "source": [
    "<div class=\"alert alert-block alert-success\">\n",
    "<b>Comentario del revisor</b> <a class=\"tocSkip\"></a>\n",
    "\n",
    "Muy buen uso de strip() que aprendimos en el curso anterior!</div>"
   ]
  },
  {
   "cell_type": "markdown",
   "metadata": {
    "id": "yCb8MW1JzURd"
   },
   "source": [
    "Necesitamos aplicar la regla de snake_case a la columna `userid`. Debe ser `user_id`. Cambia el nombre de esta columna y muestra los nombres de todas las columnas cuando hayas terminado."
   ]
  },
  {
   "cell_type": "code",
   "execution_count": 55,
   "metadata": {
    "id": "ISlFqs5y_Zct"
   },
   "outputs": [
    {
     "name": "stdout",
     "output_type": "stream",
     "text": [
      "Index(['user_id', 'track', 'artist', 'genre', 'city', 'time', 'day'], dtype='object')\n"
     ]
    }
   ],
   "source": [
    "# Cambiar el nombre de la columna \"userid\"\n",
    "# Declara un diccionario con el nombre anterior de la columna como claves y los nombres nuevos de la columna como los valores\n",
    "columns_new ={\n",
    "    \"userid\": \"user_id\"\n",
    "    }\n",
    "\n",
    "# Llama al método rename y pasa\n",
    "# el diccionario como un argumento al parámetro columns\n",
    "# y True como un argumento al parámetro inplace\n",
    "df.rename(columns = columns_new, inplace = True)\n",
    "print(df.columns)"
   ]
  },
  {
   "cell_type": "markdown",
   "metadata": {
    "id": "1dqbh00J_Zct"
   },
   "source": [
    "Comprueba el resultado. Muestra los encabezados una vez más:"
   ]
  },
  {
   "cell_type": "code",
   "execution_count": 56,
   "metadata": {
    "id": "d4NOAmTW_Zct"
   },
   "outputs": [
    {
     "name": "stdout",
     "output_type": "stream",
     "text": [
      "Index(['user_id', 'track', 'artist', 'genre', 'city', 'time', 'day'], dtype='object')\n"
     ]
    }
   ],
   "source": [
    "# Comprobar el resultado: la lista de encabezados\n",
    "print(df.columns)"
   ]
  },
  {
   "cell_type": "markdown",
   "metadata": {},
   "source": [
    "<div class=\"alert alert-block alert-success\">\n",
    "<b>Comentario del revisor</b> <a class=\"tocSkip\"></a>\n",
    "\n",
    "Muy buen trabajo! Ajustaste todos los elementos</div>"
   ]
  },
  {
   "cell_type": "markdown",
   "metadata": {
    "id": "xYJk6ksJVpOl"
   },
   "source": [
    "[Volver a Contenidos](#back)"
   ]
  },
  {
   "cell_type": "markdown",
   "metadata": {
    "id": "5ISfbcfY_Zct"
   },
   "source": [
    "### Valores ausentes <a id='missing_values'></a>\n",
    " Primero, encuentra el número de valores ausentes en la tabla. Debes utilizar dos métodos en una secuencia para obtener el número de valores ausentes."
   ]
  },
  {
   "cell_type": "code",
   "execution_count": 57,
   "metadata": {
    "id": "RskX29qr_Zct"
   },
   "outputs": [
    {
     "name": "stdout",
     "output_type": "stream",
     "text": [
      "user_id       0\n",
      "track      1343\n",
      "artist     7567\n",
      "genre      1198\n",
      "city          0\n",
      "time          0\n",
      "day           0\n",
      "dtype: int64\n"
     ]
    }
   ],
   "source": [
    "# Calcular el número de valores ausentes\n",
    "print(df.isna().sum())"
   ]
  },
  {
   "cell_type": "markdown",
   "metadata": {
    "id": "qubhgnlO_Zct"
   },
   "source": [
    "No todos los valores ausentes afectan a la investigación. Por ejemplo, los valores ausentes en `track` y `artist` no son cruciales. Simplemente puedes reemplazarlos con valores predeterminados como el string `'unknown'` (desconocido).\n",
    "\n",
    "Pero los valores ausentes en `'genre'` pueden afectar la comparación entre las preferencias musicales de Springfield y Shelbyville. En la vida real, sería útil saber las razones por las cuales hay datos ausentes e intentar recuperarlos. Pero no tenemos esa oportunidad en este proyecto. Así que tendrás que:\n",
    "* rellenar estos valores ausentes con un valor predeterminado;\n",
    "* evaluar cuánto podrían afectar los valores ausentes a tus cómputos;"
   ]
  },
  {
   "cell_type": "markdown",
   "metadata": {
    "id": "fSv2laPA_Zct"
   },
   "source": [
    "Reemplazar los valores ausentes en las columnas `'track'`, `'artist'` y `'genre'` con el string `'unknown'`. Como mostramos anteriormente en las lecciones, la mejor forma de hacerlo es crear una lista que almacene los nombres de las columnas donde se necesita el reemplazo. Luego, utiliza esta lista e itera sobre las columnas donde se necesita el reemplazo haciendo el propio reemplazo."
   ]
  },
  {
   "cell_type": "code",
   "execution_count": 58,
   "metadata": {
    "id": "KplB5qWs_Zct"
   },
   "outputs": [],
   "source": [
    "# Bucle en los encabezados reemplazando los valores ausentes con 'unknown'\n",
    "columns_to_replace = ['track', 'artist', 'genre'] \n",
    "\n",
    "for col in columns_to_replace:\n",
    "    df[col] = df[col].fillna('unknown')\n",
    "\n"
   ]
  },
  {
   "cell_type": "markdown",
   "metadata": {
    "id": "Ilsm-MZo_Zct"
   },
   "source": [
    "Ahora comprueba el resultado para asegurarte de que después del reemplazo no haya valores ausentes en el conjunto de datos. Para hacer esto, cuenta los valores ausentes nuevamente."
   ]
  },
  {
   "cell_type": "code",
   "execution_count": 59,
   "metadata": {
    "id": "Tq4nYRX4_Zct"
   },
   "outputs": [
    {
     "name": "stdout",
     "output_type": "stream",
     "text": [
      "user_id    0\n",
      "track      0\n",
      "artist     0\n",
      "genre      0\n",
      "city       0\n",
      "time       0\n",
      "day        0\n",
      "dtype: int64\n"
     ]
    }
   ],
   "source": [
    "# Contar valores ausentes\n",
    "print(df.isna().sum())"
   ]
  },
  {
   "cell_type": "markdown",
   "metadata": {},
   "source": [
    "<div class=\"alert alert-block alert-success\">\n",
    "<b>Comentario del revisor</b> <a class=\"tocSkip\"></a>\n",
    "\n",
    "Muy buen trabajo! Ajustaste todos los elementos con valores ausentes y los cambiaste con una etiqueta \"unkown\" que nos permite identificarlos</div>"
   ]
  },
  {
   "cell_type": "markdown",
   "metadata": {
    "id": "74ZIBmq9VrsK"
   },
   "source": [
    "[Volver a Contenidos](#back)"
   ]
  },
  {
   "cell_type": "markdown",
   "metadata": {
    "id": "BWKRtBJ3_Zct"
   },
   "source": [
    "### Duplicados <a id='duplicates'></a>\n",
    "Encuentra el número de duplicados explícitos en la tabla. Una vez más, debes aplicar dos métodos en una secuencia para obtener la cantidad de duplicados explícitos."
   ]
  },
  {
   "cell_type": "code",
   "execution_count": 60,
   "metadata": {
    "id": "36eES_S0_Zct"
   },
   "outputs": [
    {
     "name": "stdout",
     "output_type": "stream",
     "text": [
      "3826\n"
     ]
    }
   ],
   "source": [
    "# Contar duplicados explícitos\n",
    "\n",
    "print(df.duplicated().sum())"
   ]
  },
  {
   "cell_type": "markdown",
   "metadata": {
    "id": "Ot25h6XR_Zct"
   },
   "source": [
    "Ahora, elimina todos los duplicados. Para ello, llama al método que hace exactamente esto."
   ]
  },
  {
   "cell_type": "code",
   "execution_count": 61,
   "metadata": {
    "id": "exFHq6tt_Zct"
   },
   "outputs": [],
   "source": [
    "# Eliminar duplicados explícitos\n",
    "df = df.drop_duplicates()"
   ]
  },
  {
   "cell_type": "markdown",
   "metadata": {
    "id": "Im2YwBEG_Zct"
   },
   "source": [
    "Comprobemos ahora si eliminamos con éxito todos los duplicados. Cuenta los duplicados explícitos una vez más para asegurarte de haberlos eliminado todos:"
   ]
  },
  {
   "cell_type": "code",
   "execution_count": 62,
   "metadata": {
    "id": "-8PuNWQ0_Zct"
   },
   "outputs": [
    {
     "name": "stdout",
     "output_type": "stream",
     "text": [
      "0\n"
     ]
    }
   ],
   "source": [
    "# Comprobar de nuevo si hay duplicados\n",
    "\n",
    "print(df.duplicated().sum())\n"
   ]
  },
  {
   "cell_type": "markdown",
   "metadata": {
    "id": "QlFBsxAr_Zct"
   },
   "source": [
    "Ahora queremos deshacernos de los duplicados implícitos en la columna `genre`. Por ejemplo, el nombre de un género se puede escribir de varias formas. Dichos errores también pueden afectar al resultado."
   ]
  },
  {
   "cell_type": "markdown",
   "metadata": {
    "id": "eSjWwsOh_Zct"
   },
   "source": [
    "Para hacerlo, primero mostremos una lista de nombres de género únicos, ordenados en orden alfabético. Para ello:\n",
    "* Extrae la columna `genre` del DataFrame.\n",
    "* Llama al método que devolverá todos los valores únicos en la columna extraída.\n"
   ]
  },
  {
   "cell_type": "code",
   "execution_count": 63,
   "metadata": {
    "id": "JIUcqzZN_Zct"
   },
   "outputs": [
    {
     "name": "stdout",
     "output_type": "stream",
     "text": [
      "269\n",
      "['rock' 'pop' 'folk' 'dance' 'rusrap' 'ruspop' 'world' 'electronic'\n",
      " 'unknown' 'alternative' 'children' 'rnb' 'hip' 'jazz' 'postrock' 'latin'\n",
      " 'classical' 'metal' 'reggae' 'triphop' 'blues' 'instrumental' 'rusrock'\n",
      " 'dnb' 'türk' 'post' 'country' 'psychedelic' 'conjazz' 'indie'\n",
      " 'posthardcore' 'local' 'avantgarde' 'punk' 'videogame' 'techno' 'house'\n",
      " 'christmas' 'melodic' 'caucasian' 'reggaeton' 'soundtrack' 'singer' 'ska'\n",
      " 'salsa' 'ambient' 'film' 'western' 'rap' 'beats' \"hard'n'heavy\"\n",
      " 'progmetal' 'minimal' 'tropical' 'contemporary' 'new' 'soul' 'holiday'\n",
      " 'german' 'jpop' 'spiritual' 'urban' 'gospel' 'nujazz' 'folkmetal'\n",
      " 'trance' 'miscellaneous' 'anime' 'hardcore' 'progressive' 'korean'\n",
      " 'numetal' 'vocal' 'estrada' 'tango' 'loungeelectronic' 'classicmetal'\n",
      " 'dubstep' 'club' 'deep' 'southern' 'black' 'folkrock' 'fitness' 'french'\n",
      " 'disco' 'religious' 'hiphop' 'drum' 'extrememetal' 'türkçe'\n",
      " 'experimental' 'easy' 'metalcore' 'modern' 'argentinetango' 'old' 'swing'\n",
      " 'breaks' 'eurofolk' 'stonerrock' 'industrial' 'funk' 'middle' 'variété'\n",
      " 'other' 'adult' 'christian' 'thrash' 'gothic' 'international' 'muslim'\n",
      " 'relax' 'schlager' 'caribbean' 'nu' 'breakbeat' 'comedy' 'chill' 'newage'\n",
      " 'specialty' 'uzbek' 'k-pop' 'balkan' 'chinese' 'meditative' 'dub' 'power'\n",
      " 'death' 'grime' 'arabesk' 'romance' 'flamenco' 'leftfield' 'european'\n",
      " 'tech' 'newwave' 'dancehall' 'mpb' 'piano' 'top' 'bigroom' 'opera'\n",
      " 'celtic' 'tradjazz' 'acoustic' 'epicmetal' 'hip-hop' 'historisch'\n",
      " 'downbeat' 'downtempo' 'africa' 'audiobook' 'jewish' 'sängerportrait'\n",
      " 'deutschrock' 'eastern' 'action' 'future' 'electropop' 'folklore'\n",
      " 'bollywood' 'marschmusik' 'rnr' 'karaoke' 'indian' 'rancheras'\n",
      " 'afrikaans' 'rhythm' 'sound' 'deutschspr' 'trip' 'lovers' 'choral'\n",
      " 'dancepop' 'retro' 'smooth' 'mexican' 'brazilian' 'ïîï' 'mood' 'surf'\n",
      " 'gangsta' 'inspirational' 'idm' 'ethnic' 'bluegrass' 'broadway'\n",
      " 'animated' 'americana' 'karadeniz' 'rockabilly' 'colombian' 'self' 'hop'\n",
      " 'sertanejo' 'japanese' 'canzone' 'lounge' 'sport' 'ragga' 'traditional'\n",
      " 'gitarre' 'frankreich' 'emo' 'laiko' 'cantopop' 'glitch' 'documentary'\n",
      " 'oceania' 'popeurodance' 'dark' 'vi' 'grunge' 'hardstyle' 'samba'\n",
      " 'garage' 'art' 'folktronica' 'entehno' 'mediterranean' 'chamber' 'cuban'\n",
      " 'taraftar' 'gypsy' 'hardtechno' 'shoegazing' 'bossa' 'latino' 'worldbeat'\n",
      " 'malaysian' 'baile' 'ghazal' 'arabic' 'popelectronic' 'acid' 'kayokyoku'\n",
      " 'neoklassik' 'tribal' 'tanzorchester' 'native' 'independent' 'cantautori'\n",
      " 'handsup' 'punjabi' 'synthpop' 'rave' 'französisch' 'quebecois' 'speech'\n",
      " 'soulful' 'jam' 'ram' 'horror' 'orchestral' 'neue' 'roots' 'slow'\n",
      " 'jungle' 'indipop' 'axé' 'fado' 'showtunes' 'arena' 'irish' 'mandopop'\n",
      " 'forró' 'dirty' 'regional']\n"
     ]
    }
   ],
   "source": [
    "# Inspeccionar los nombres de géneros únicos\n",
    "print(df['genre'].nunique()) #Aquí podemos ver cuántos valores tenemos duplicados.\n",
    "print(df['genre'].unique())"
   ]
  },
  {
   "cell_type": "markdown",
   "metadata": {
    "id": "qej-Qmuo_Zct"
   },
   "source": [
    "Busca en la lista para encontrar duplicados implícitos del género `hiphop`. Estos pueden ser nombres escritos incorrectamente o nombres alternativos para el mismo género.\n",
    "\n",
    "Verás los siguientes duplicados implícitos:\n",
    "* `hip`\n",
    "* `hop`\n",
    "* `hip-hop`\n",
    "\n",
    "Para deshacerte de ellos, crea una función llamada `replace_wrong_genres()` con dos parámetros:\n",
    "* `wrong_genres=`: esta es una lista que contiene todos los valores que necesitas reemplazar.\n",
    "* `correct_genre=`: este es un string que vas a utilizar como reemplazo.\n",
    "\n",
    "Como resultado, la función debería corregir los nombres en la columna `'genre'` de la tabla `df`, es decir, remplazar cada valor de la lista `wrong_genres` por el valor en `correct_genre`.\n",
    "\n",
    "Dentro del cuerpo de la función, utiliza un bucle `'for'` para iterar sobre la lista de géneros incorrectos, extrae la columna `'genre'` y aplica el método `replace` para hacer correcciones."
   ]
  },
  {
   "cell_type": "code",
   "execution_count": 64,
   "metadata": {
    "id": "ErNDkmns_Zct"
   },
   "outputs": [],
   "source": [
    "# Función para reemplazar duplicados implícitos\n",
    "def replace_wrong_genres(df, column, wrong_genres, correct_genre):\n",
    "    for wrong_values in wrong_genres: # un bucle sobre nombres mal escritos\n",
    "        df[column] = df[column].replace(wrong_values, correct_genre) # llamar a replace() para cada nombre incorrecto\n",
    "    return df # devolver el DataFrame modificado"
   ]
  },
  {
   "cell_type": "markdown",
   "metadata": {},
   "source": [
    "<div class=\"alert alert-block alert-success\">\n",
    "<b>Comentario del revisor</b> <a class=\"tocSkip\"></a>\n",
    "\n",
    "Excelente trabajo con la función. Con esto nos permitira reemplazar los registros duplicados con los valores que coloquemos dentro del arguneto de la función</div>"
   ]
  },
  {
   "cell_type": "markdown",
   "metadata": {
    "id": "aDoBJxbA_Zct"
   },
   "source": [
    "Ahora, llama a `replace_wrong_genres()` y pásale tales argumentos para que retire los duplicados implícitos (`hip`, `hop` y `hip-hop`) y los reemplace por `hiphop`:"
   ]
  },
  {
   "cell_type": "code",
   "execution_count": 65,
   "metadata": {
    "id": "YN5i2hpmSo09"
   },
   "outputs": [],
   "source": [
    "# Eliminar duplicados implícitos\n",
    "\n",
    "column = 'genre'\n",
    "duplicates = ['hip', 'hop', 'hip-hop'] # una lista de nombres mal escritos\n",
    "name = 'hiphop' # el nombre correcto\n",
    "genre = replace_wrong_genres(df, column, duplicates, name) # llamar a la función, replace() se llamará dos veces"
   ]
  },
  {
   "cell_type": "markdown",
   "metadata": {
    "id": "zQKF16_RG15m"
   },
   "source": [
    "Asegúrate de que los nombres duplicados han sido eliminados. Muestra la lista de valores únicos de la columna `'genre'` una vez más:"
   ]
  },
  {
   "cell_type": "code",
   "execution_count": 66,
   "metadata": {
    "id": "wvixALnFG15m"
   },
   "outputs": [
    {
     "name": "stdout",
     "output_type": "stream",
     "text": [
      "266\n",
      "['rock' 'pop' 'folk' 'dance' 'rusrap' 'ruspop' 'world' 'electronic'\n",
      " 'unknown' 'alternative' 'children' 'rnb' 'hiphop' 'jazz' 'postrock'\n",
      " 'latin' 'classical' 'metal' 'reggae' 'triphop' 'blues' 'instrumental'\n",
      " 'rusrock' 'dnb' 'türk' 'post' 'country' 'psychedelic' 'conjazz' 'indie'\n",
      " 'posthardcore' 'local' 'avantgarde' 'punk' 'videogame' 'techno' 'house'\n",
      " 'christmas' 'melodic' 'caucasian' 'reggaeton' 'soundtrack' 'singer' 'ska'\n",
      " 'salsa' 'ambient' 'film' 'western' 'rap' 'beats' \"hard'n'heavy\"\n",
      " 'progmetal' 'minimal' 'tropical' 'contemporary' 'new' 'soul' 'holiday'\n",
      " 'german' 'jpop' 'spiritual' 'urban' 'gospel' 'nujazz' 'folkmetal'\n",
      " 'trance' 'miscellaneous' 'anime' 'hardcore' 'progressive' 'korean'\n",
      " 'numetal' 'vocal' 'estrada' 'tango' 'loungeelectronic' 'classicmetal'\n",
      " 'dubstep' 'club' 'deep' 'southern' 'black' 'folkrock' 'fitness' 'french'\n",
      " 'disco' 'religious' 'drum' 'extrememetal' 'türkçe' 'experimental' 'easy'\n",
      " 'metalcore' 'modern' 'argentinetango' 'old' 'swing' 'breaks' 'eurofolk'\n",
      " 'stonerrock' 'industrial' 'funk' 'middle' 'variété' 'other' 'adult'\n",
      " 'christian' 'thrash' 'gothic' 'international' 'muslim' 'relax' 'schlager'\n",
      " 'caribbean' 'nu' 'breakbeat' 'comedy' 'chill' 'newage' 'specialty'\n",
      " 'uzbek' 'k-pop' 'balkan' 'chinese' 'meditative' 'dub' 'power' 'death'\n",
      " 'grime' 'arabesk' 'romance' 'flamenco' 'leftfield' 'european' 'tech'\n",
      " 'newwave' 'dancehall' 'mpb' 'piano' 'top' 'bigroom' 'opera' 'celtic'\n",
      " 'tradjazz' 'acoustic' 'epicmetal' 'historisch' 'downbeat' 'downtempo'\n",
      " 'africa' 'audiobook' 'jewish' 'sängerportrait' 'deutschrock' 'eastern'\n",
      " 'action' 'future' 'electropop' 'folklore' 'bollywood' 'marschmusik' 'rnr'\n",
      " 'karaoke' 'indian' 'rancheras' 'afrikaans' 'rhythm' 'sound' 'deutschspr'\n",
      " 'trip' 'lovers' 'choral' 'dancepop' 'retro' 'smooth' 'mexican'\n",
      " 'brazilian' 'ïîï' 'mood' 'surf' 'gangsta' 'inspirational' 'idm' 'ethnic'\n",
      " 'bluegrass' 'broadway' 'animated' 'americana' 'karadeniz' 'rockabilly'\n",
      " 'colombian' 'self' 'sertanejo' 'japanese' 'canzone' 'lounge' 'sport'\n",
      " 'ragga' 'traditional' 'gitarre' 'frankreich' 'emo' 'laiko' 'cantopop'\n",
      " 'glitch' 'documentary' 'oceania' 'popeurodance' 'dark' 'vi' 'grunge'\n",
      " 'hardstyle' 'samba' 'garage' 'art' 'folktronica' 'entehno'\n",
      " 'mediterranean' 'chamber' 'cuban' 'taraftar' 'gypsy' 'hardtechno'\n",
      " 'shoegazing' 'bossa' 'latino' 'worldbeat' 'malaysian' 'baile' 'ghazal'\n",
      " 'arabic' 'popelectronic' 'acid' 'kayokyoku' 'neoklassik' 'tribal'\n",
      " 'tanzorchester' 'native' 'independent' 'cantautori' 'handsup' 'punjabi'\n",
      " 'synthpop' 'rave' 'französisch' 'quebecois' 'speech' 'soulful' 'jam'\n",
      " 'ram' 'horror' 'orchestral' 'neue' 'roots' 'slow' 'jungle' 'indipop'\n",
      " 'axé' 'fado' 'showtunes' 'arena' 'irish' 'mandopop' 'forró' 'dirty'\n",
      " 'regional']\n"
     ]
    }
   ],
   "source": [
    "# Comprobación de duplicados implícitos\n",
    "print(df['genre'].nunique())\n",
    "print(df['genre'].unique()) # el nuevo DataFrame sin duplicados"
   ]
  },
  {
   "cell_type": "markdown",
   "metadata": {},
   "source": [
    "<div class=\"alert alert-block alert-success\">\n",
    "<b>Comentario del revisor</b> <a class=\"tocSkip\"></a>\n",
    "\n",
    "Muy buen trabajo! Remplazaste los generos incorrectos y eliminaste los duplicados.</div>"
   ]
  },
  {
   "cell_type": "markdown",
   "metadata": {
    "id": "ALgNbvF3VtPA"
   },
   "source": [
    "[Volver a Contenidos](#back)"
   ]
  },
  {
   "cell_type": "markdown",
   "metadata": {
    "id": "jz6a9-7HQUDd"
   },
   "source": [
    "### Tus observaciones <a id='data_preprocessing_conclusions'></a>\n",
    "\n",
    "`Describe brevemente lo que has notado al analizar duplicados, cómo abordaste sus eliminaciones y qué resultados obtuviste.`\n",
    "\n",
    "A simple vista, es tedioso y tardado poder identificar valores duplicados (especificamente en la columna `genre`). Sin embargo, utilizando el comando `nunuque()` es fácil identificar todos los valores únicos que contiene el campo. \n",
    "\n",
    "Al querer eliminar posibles valores duplicados, es bastante óptimo utlizar el bucle for junto con el comando `replace()`.\n",
    "\n",
    "Como resultado, obtuve que para el género de hiphop, se encontraron 3 nombres que se repetían, pues de tener 269 originalmente inicialmente, después de usar el comando `nunuque()` se obtuvieron un total de 266 valores únicos."
   ]
  },
  {
   "cell_type": "markdown",
   "metadata": {
    "id": "eK1es74rVujj"
   },
   "source": [
    "[Volver a Contenidos](#back)"
   ]
  },
  {
   "cell_type": "markdown",
   "metadata": {
    "id": "WttZHXH0SqKk"
   },
   "source": [
    "## Etapa 3. Prueba de hipótesis <a id='hypothesis'></a>"
   ]
  },
  {
   "cell_type": "markdown",
   "metadata": {
    "id": "Im936VVi_Zcu"
   },
   "source": [
    "### Hipótesis: comparar el comportamiento del usuario o la usuaria en las dos ciudades <a id='activity'></a>"
   ]
  },
  {
   "cell_type": "markdown",
   "metadata": {
    "id": "nwt_MuaL_Zcu"
   },
   "source": [
    "La hipótesis afirma que existen diferencias en la forma en que los usuarios y las usuarias de Springfield y Shelbyville consumen música. Para comprobar esto, usa los datos de tres días de la semana: lunes, miércoles y viernes.\n",
    "\n",
    "* Agrupa a los usuarios y las usuarias por ciudad.\n",
    "* Compara el número de canciones que cada grupo reprodujo el lunes, el miércoles y el viernes.\n"
   ]
  },
  {
   "cell_type": "markdown",
   "metadata": {
    "id": "8Dw_YMmT_Zcu"
   },
   "source": [
    "Realiza cada cálculo por separado.\n",
    "\n",
    "El primer paso es evaluar la actividad del usuario en cada ciudad. Recuerda las etapas dividir-aplicar-combinar de las que hablamos anteriormente en la lección. Tu objetivo ahora es agrupar los datos por ciudad, aplicar el método apropiado para contar durante la etapa de aplicación y luego encontrar la cantidad de canciones reproducidas en cada grupo especificando la columna para obtener el recuento.\n",
    "\n",
    "A continuación se muestra un ejemplo de cómo debería verse el resultado final:\n",
    "`df.groupby(by='....')['column'].method()`Realiza cada cálculo por separado.\n",
    "\n",
    "Para evaluar la actividad de los usuarios y las usuarias en cada ciudad, agrupa los datos por ciudad y encuentra la cantidad de canciones reproducidas en cada grupo.\n",
    "\n"
   ]
  },
  {
   "cell_type": "code",
   "execution_count": 69,
   "metadata": {
    "id": "0_Qs96oh_Zcu"
   },
   "outputs": [
    {
     "name": "stdout",
     "output_type": "stream",
     "text": [
      "<pandas.core.groupby.generic.DataFrameGroupBy object at 0x7fc05fb22bb0>\n",
      "\n",
      "             user_id  track  artist  genre   time    day\n",
      "city                                                    \n",
      "Shelbyville    18512  18512   18512  18512  18512  18512\n",
      "Springfield    42741  42741   42741  42741  42741  42741\n"
     ]
    }
   ],
   "source": [
    "# Contar las canciones reproducidas en cada ciudad\n",
    "print(df.groupby(by='city'))\n",
    "print() # nos dará una línea vacía entre dos impresiones\n",
    "print(df.groupby(by='city').count())"
   ]
  },
  {
   "cell_type": "markdown",
   "metadata": {
    "id": "t_Qx-3NewAnK"
   },
   "source": [
    "`Comenta tus observaciones aquí`\n",
    "\n",
    "A simple vista, se identifica que en la ciudad de Springfield hay mayor actividad al momento de reproducir canciones, pues cuenta con 42,741 reproducciones, mientras que Shelbyville cuenta con 18,512."
   ]
  },
  {
   "cell_type": "markdown",
   "metadata": {
    "id": "dzli3w8o_Zcu"
   },
   "source": [
    "Ahora agrupemos los datos por día de la semana y encontremos el número de canciones reproducidas el lunes, miércoles y viernes. Utiliza el mismo método que antes, pero ahora necesitamos una agrupación diferente.\n"
   ]
  },
  {
   "cell_type": "code",
   "execution_count": 100,
   "metadata": {
    "id": "uZMKjiJz_Zcu"
   },
   "outputs": [
    {
     "name": "stdout",
     "output_type": "stream",
     "text": [
      "-------------Lunes-------------\n",
      "city\n",
      "Shelbyville     5614\n",
      "Springfield    15740\n",
      "Name: day, dtype: int64\n",
      "\n",
      "-------------Miércoles-------------\n",
      "city\n",
      "Shelbyville     7003\n",
      "Springfield    11056\n",
      "Name: day, dtype: int64\n",
      "\n",
      "-------------Viernes-------------\n",
      "city\n",
      "Shelbyville     5895\n",
      "Springfield    15945\n",
      "Name: day, dtype: int64\n",
      "\n"
     ]
    }
   ],
   "source": [
    "# Calcular las canciones reproducidas en cada uno de los tres días\n",
    "# Lunes\n",
    "print('-------------Lunes-------------')\n",
    "monday_songs = df.loc[df['day']== 'Monday']\n",
    "mon = monday_songs.groupby('city')['day'].count()\n",
    "print(mon)\n",
    "print()\n",
    "\n",
    "# Miércoles\n",
    "print('-------------Miércoles-------------')\n",
    "wednesday_songs = df.loc[df['day']== 'Wednesday']\n",
    "wen = wednesday_songs.groupby('city')['day'].count()\n",
    "print(wen)\n",
    "print()\n",
    "\n",
    "# Viernes\n",
    "print('-------------Viernes-------------')\n",
    "friday_songs = df.loc[df['day']== 'Friday']\n",
    "fri = friday_songs.groupby('city')['day'].count()\n",
    "print(fri)\n",
    "print()"
   ]
  },
  {
   "cell_type": "markdown",
   "metadata": {
    "id": "cC2tNrlL_Zcu"
   },
   "source": [
    "`Comenta tus observaciones aquí`\n",
    "\n",
    "En definitiva, se comprueba que la ciudad de Springfield es la que más actividad tiene a lo largo de la semana al momento de reproducir canciones, a comparación de Shelbyville. De igual manera, se observa que los días lunes y viernes tienen la misma cantidad de reporducciones de canciones (aproximadamente), esto para ambas ciudades, siendo el miércoles el día que menos se reproducen canciones."
   ]
  },
  {
   "cell_type": "markdown",
   "metadata": {
    "id": "POzs8bGa_Zcu"
   },
   "source": [
    "Ya sabes cómo contar entradas agrupándolas por ciudad o día. Ahora necesitas escribir una función que pueda contar entradas según ambos criterios simultáneamente.\n",
    "\n",
    "Crea la función `number_tracks()` para calcular el número de canciones reproducidas en un determinado día **y** ciudad. La función debe aceptar dos parámetros:\n",
    "\n",
    "- `day`: un día de la semana para filtrar. Por ejemplo, `'Monday'` (lunes).\n",
    "- `city`: una ciudad para filtrar. Por ejemplo, `'Springfield'`.\n",
    "\n",
    "Dentro de la función, aplicarás un filtrado consecutivo con indexación lógica.\n",
    "\n",
    "Primero filtra los datos por día y luego filtra la tabla resultante por ciudad.\n",
    "\n",
    "Después de filtrar los datos por dos criterios, cuenta el número de valores de la columna 'user_id' en la tabla resultante. Este recuento representa el número de entradas que estás buscando. Guarda el resultado en una nueva variable y devuélvelo desde la función."
   ]
  },
  {
   "cell_type": "code",
   "execution_count": 89,
   "metadata": {
    "id": "Nz3GdQB1_Zcu"
   },
   "outputs": [],
   "source": [
    "# Declara la función number_tracks() con dos parámetros: day= y city=.\n",
    "def number_tracks(day, city):\n",
    "    # Almacena las filas del DataFrame donde el valor en la columna 'day' es igual al parámetro day=\n",
    "    day_songs = df.loc[df['day']== day]\n",
    "    # Filtra las filas donde el valor en la columna 'city' es igual al parámetro city=\n",
    "    city_songs = day_songs.loc[df['city']== city]\n",
    "    # Extrae la columna 'user_id' de la tabla filtrada y aplica el método count()\n",
    "    total = city_songs.groupby('city')['user_id'].count()\n",
    "    # Devolve el número de valores de la columna 'user_id'\n",
    "    return total"
   ]
  },
  {
   "cell_type": "markdown",
   "metadata": {},
   "source": [
    "<div class=\"alert alert-block alert-success\">\n",
    "<b>Comentario del revisor</b> <a class=\"tocSkip\"></a>\n",
    "\n",
    "Realizaste un gran trabajo con la definición de la función. Como pudiste notar, el desarrollar funciones nos permiten encapsular lógica reutilizable, evitando la repetición de código y facilitando su uso en diferentes partes de un programa o en distintos proyectos.</div>"
   ]
  },
  {
   "cell_type": "markdown",
   "metadata": {
    "id": "ytf7xFrFJQ2r"
   },
   "source": [
    "Llama a `number_tracks()` seis veces, cambiando los valores de los parámetros para que recuperes los datos de ambas ciudades para cada uno de los tres días."
   ]
  },
  {
   "cell_type": "code",
   "execution_count": 92,
   "metadata": {
    "id": "rJcRATNQ_Zcu"
   },
   "outputs": [
    {
     "data": {
      "text/plain": [
       "city\n",
       "Springfield    15740\n",
       "Name: user_id, dtype: int64"
      ]
     },
     "execution_count": 92,
     "metadata": {},
     "output_type": "execute_result"
    }
   ],
   "source": [
    "# El número de canciones reproducidas en Springfield el lunes\n",
    "number_tracks('Monday', 'Springfield')"
   ]
  },
  {
   "cell_type": "code",
   "execution_count": 93,
   "metadata": {
    "id": "hq_ncZ5T_Zcu"
   },
   "outputs": [
    {
     "data": {
      "text/plain": [
       "city\n",
       "Shelbyville    5614\n",
       "Name: user_id, dtype: int64"
      ]
     },
     "execution_count": 93,
     "metadata": {},
     "output_type": "execute_result"
    }
   ],
   "source": [
    "# El número de canciones reproducidas en Shelbyville el lunes\n",
    "number_tracks('Monday', 'Shelbyville')"
   ]
  },
  {
   "cell_type": "code",
   "execution_count": 95,
   "metadata": {
    "id": "_NTy2VPU_Zcu"
   },
   "outputs": [
    {
     "data": {
      "text/plain": [
       "city\n",
       "Springfield    11056\n",
       "Name: user_id, dtype: int64"
      ]
     },
     "execution_count": 95,
     "metadata": {},
     "output_type": "execute_result"
    }
   ],
   "source": [
    "# El número de canciones reproducidas en Springfield el miércoles\n",
    "number_tracks('Wednesday', 'Springfield')"
   ]
  },
  {
   "cell_type": "code",
   "execution_count": 96,
   "metadata": {
    "id": "j2y3TAwo_Zcu"
   },
   "outputs": [
    {
     "data": {
      "text/plain": [
       "city\n",
       "Shelbyville    7003\n",
       "Name: user_id, dtype: int64"
      ]
     },
     "execution_count": 96,
     "metadata": {},
     "output_type": "execute_result"
    }
   ],
   "source": [
    "# El número de canciones reproducidas en Shelbyville el miércoles\n",
    "number_tracks('Wednesday', 'Shelbyville')"
   ]
  },
  {
   "cell_type": "code",
   "execution_count": 98,
   "metadata": {
    "id": "vYDw5u_K_Zcu"
   },
   "outputs": [
    {
     "data": {
      "text/plain": [
       "city\n",
       "Springfield    15945\n",
       "Name: user_id, dtype: int64"
      ]
     },
     "execution_count": 98,
     "metadata": {},
     "output_type": "execute_result"
    }
   ],
   "source": [
    "# El número de canciones reproducidas en Springfield el viernes\n",
    "number_tracks('Friday', 'Springfield')"
   ]
  },
  {
   "cell_type": "code",
   "execution_count": 97,
   "metadata": {
    "id": "8_yzFtW3_Zcu"
   },
   "outputs": [
    {
     "data": {
      "text/plain": [
       "city\n",
       "Shelbyville    5895\n",
       "Name: user_id, dtype: int64"
      ]
     },
     "execution_count": 97,
     "metadata": {},
     "output_type": "execute_result"
    }
   ],
   "source": [
    "# El número de canciones reproducidas en Shelbyville el viernes\n",
    "number_tracks('Friday', 'Shelbyville')"
   ]
  },
  {
   "cell_type": "code",
   "execution_count": 114,
   "metadata": {},
   "outputs": [
    {
     "name": "stdout",
     "output_type": "stream",
     "text": [
      "La diferencia media entre Springfield y Shelbyville es de:  8076.333333333333\n"
     ]
    }
   ],
   "source": [
    "# Aquí calcularemnos la media de las diferencias en canciones reproducidas entre las dos ciudades.\n",
    "# Importamos librería statisticas para obtener la media del arreglo\n",
    "import statistics as stats\n",
    "\n",
    "media = [] #Arreglo en el que se almacenarán las diferencias en reproducciones\n",
    "\n",
    "lunes = int(number_tracks('Monday', 'Springfield'))-int(number_tracks('Monday', 'Shelbyville'))\n",
    "media.append(lunes)\n",
    "\n",
    "miercoles = int(number_tracks('Wednesday', 'Springfield'))-int(number_tracks('Wednesday', 'Shelbyville'))\n",
    "media.append(miercoles)\n",
    "\n",
    "viernes = int(number_tracks('Friday', 'Springfield'))-int(number_tracks('Friday', 'Shelbyville'))\n",
    "media.append(viernes)\n",
    "\n",
    "print('La diferencia media entre Springfield y Shelbyville es de: ', stats.mean(media))\n"
   ]
  },
  {
   "cell_type": "markdown",
   "metadata": {},
   "source": [
    "<div class=\"alert alert-block alert-success\">\n",
    "<b>Comentario del revisor</b> <a class=\"tocSkip\"></a>\n",
    "\n",
    "Muy buen trabajo! Desarrollaste de forma correcta el análisis comparativo. Además creaste la función de manera correcta. </div>"
   ]
  },
  {
   "cell_type": "markdown",
   "metadata": {
    "id": "-EgPIHYu_Zcu"
   },
   "source": [
    "**Conclusiones**\n",
    "\n",
    "`Comenta si la hipótesis es correcta o se debe rechazar. Explica tu razonamiento.`\n",
    "\n",
    "Dado que la hipótesis afirma que existen diferencias en la forma en que los usuarios y las usuarias de Springfield y Shelbyville consumen música. Después de este análisis podemos aceptar dicha hipótesis, pues en los tres días evaluados, hay una diferencia considerable de acuerdo a las canciones reporducidas. En Springfield se reproducen 8,076.3 canciones más en promedio."
   ]
  },
  {
   "cell_type": "markdown",
   "metadata": {
    "id": "p7nFQajCVw5B"
   },
   "source": [
    "[Volver a Contenidos](#back)"
   ]
  },
  {
   "cell_type": "markdown",
   "metadata": {
    "id": "ykKQ0N65_Zcv"
   },
   "source": [
    "# Conclusiones <a id='end'></a>"
   ]
  },
  {
   "cell_type": "markdown",
   "metadata": {
    "id": "tjUwbHb3_Zcv"
   },
   "source": [
    "`Resume aquí tus conclusiones sobre la hipótesis.`\n",
    "\n",
    "Se confirma que existe una diferencia en la actividad entre las ciudades de Springfield y Shelbyville, siendo Springfield la ciudad con más reproducciones."
   ]
  },
  {
   "cell_type": "markdown",
   "metadata": {
    "id": "azLHu64yOIp7"
   },
   "source": [
    "### Nota\n",
    "En proyectos de investigación reales, la prueba de hipótesis estadística es más precisa y cuantitativa. También ten en cuenta que no siempre se pueden sacar conclusiones sobre una ciudad entera a partir de datos de una sola fuente.\n",
    "\n",
    "Aprenderás más sobre la prueba de hipótesis en el sprint de análisis estadístico de datos."
   ]
  },
  {
   "cell_type": "markdown",
   "metadata": {},
   "source": [
    "<div class=\"alert alert-block alert-warning\">\n",
    "<b>Comentario general</b> <a class=\"tocSkip\"></a>\n",
    "\n",
    "Aldo,  hiciste un muy buen trabajo con el proyecto, pudiste resolver casi todos los ejericios de una forma adecuada y se nota que hiciste uso de todas las herramientas aprendidas. Además, considero que te ayudo para aprender el uso de algunas funciones que te sirvan en los siguientes cursos.Solamente verifica lo de la tabla de contenidos.\n",
    "\n",
    "Exitos en lo que viene, saludos.</div>"
   ]
  },
  {
   "cell_type": "markdown",
   "metadata": {
    "id": "Ju4AHDSgV1FE"
   },
   "source": [
    "[Volver a Contenidos](#back)"
   ]
  }
 ],
 "metadata": {
  "ExecuteTimeLog": [
   {
    "duration": 307,
    "start_time": "2024-05-16T20:09:26.474Z"
   },
   {
    "duration": 425,
    "start_time": "2024-05-16T20:09:35.055Z"
   },
   {
    "duration": 211,
    "start_time": "2024-05-16T20:09:36.196Z"
   },
   {
    "duration": 10,
    "start_time": "2024-05-16T20:09:36.870Z"
   },
   {
    "duration": 32,
    "start_time": "2024-05-16T20:09:37.580Z"
   },
   {
    "duration": 4,
    "start_time": "2024-05-16T20:09:39.767Z"
   },
   {
    "duration": 6,
    "start_time": "2024-05-16T20:10:36.895Z"
   },
   {
    "duration": 5,
    "start_time": "2024-05-16T20:13:11.524Z"
   },
   {
    "duration": 6,
    "start_time": "2024-05-16T20:13:27.964Z"
   },
   {
    "duration": 4,
    "start_time": "2024-05-16T20:13:55.086Z"
   },
   {
    "duration": 157,
    "start_time": "2024-05-16T20:13:56.039Z"
   },
   {
    "duration": 9,
    "start_time": "2024-05-16T20:13:56.902Z"
   },
   {
    "duration": 32,
    "start_time": "2024-05-16T20:13:57.823Z"
   },
   {
    "duration": 5,
    "start_time": "2024-05-16T20:14:00.793Z"
   },
   {
    "duration": 7,
    "start_time": "2024-05-16T20:14:05.771Z"
   },
   {
    "duration": 7,
    "start_time": "2024-05-16T20:14:31.792Z"
   },
   {
    "duration": 3,
    "start_time": "2024-05-16T20:15:09.351Z"
   },
   {
    "duration": 160,
    "start_time": "2024-05-16T20:15:09.639Z"
   },
   {
    "duration": 9,
    "start_time": "2024-05-16T20:15:09.969Z"
   },
   {
    "duration": 32,
    "start_time": "2024-05-16T20:15:10.324Z"
   },
   {
    "duration": 5,
    "start_time": "2024-05-16T20:15:11.607Z"
   },
   {
    "duration": 6,
    "start_time": "2024-05-16T20:15:13.495Z"
   },
   {
    "duration": 6,
    "start_time": "2024-05-16T20:18:15.274Z"
   },
   {
    "duration": 3,
    "start_time": "2024-05-16T20:18:29.752Z"
   },
   {
    "duration": 154,
    "start_time": "2024-05-16T20:18:30.116Z"
   },
   {
    "duration": 11,
    "start_time": "2024-05-16T20:18:30.502Z"
   },
   {
    "duration": 33,
    "start_time": "2024-05-16T20:18:30.829Z"
   },
   {
    "duration": 5,
    "start_time": "2024-05-16T20:18:32.019Z"
   },
   {
    "duration": 6,
    "start_time": "2024-05-16T20:18:33.747Z"
   },
   {
    "duration": 5,
    "start_time": "2024-05-16T20:19:03.866Z"
   },
   {
    "duration": 6,
    "start_time": "2024-05-16T20:20:34.363Z"
   },
   {
    "duration": 5,
    "start_time": "2024-05-16T20:23:52.849Z"
   },
   {
    "duration": 420,
    "start_time": "2024-05-16T20:25:33.860Z"
   },
   {
    "duration": 649,
    "start_time": "2024-05-17T07:23:13.369Z"
   },
   {
    "duration": 270,
    "start_time": "2024-05-17T07:23:14.030Z"
   },
   {
    "duration": 12,
    "start_time": "2024-05-17T07:23:14.402Z"
   },
   {
    "duration": 56,
    "start_time": "2024-05-17T07:23:14.797Z"
   },
   {
    "duration": 4,
    "start_time": "2024-05-17T07:23:17.106Z"
   },
   {
    "duration": 6,
    "start_time": "2024-05-17T07:23:19.023Z"
   },
   {
    "duration": 9,
    "start_time": "2024-05-17T07:23:20.514Z"
   },
   {
    "duration": 458,
    "start_time": "2024-05-17T07:23:22.906Z"
   },
   {
    "duration": 37,
    "start_time": "2024-05-17T07:23:30.145Z"
   },
   {
    "duration": 11,
    "start_time": "2024-05-17T07:23:38.148Z"
   },
   {
    "duration": 11,
    "start_time": "2024-05-17T07:23:53.843Z"
   },
   {
    "duration": 41,
    "start_time": "2024-05-17T07:31:39.255Z"
   },
   {
    "duration": 72,
    "start_time": "2024-05-17T07:41:24.446Z"
   },
   {
    "duration": 39,
    "start_time": "2024-05-17T07:41:46.717Z"
   },
   {
    "duration": 250,
    "start_time": "2024-05-17T07:43:18.765Z"
   },
   {
    "duration": 118,
    "start_time": "2024-05-17T07:43:47.040Z"
   },
   {
    "duration": 77,
    "start_time": "2024-05-17T07:43:57.485Z"
   },
   {
    "duration": 65,
    "start_time": "2024-05-17T07:44:04.053Z"
   },
   {
    "duration": 8,
    "start_time": "2024-05-17T07:45:17.130Z"
   },
   {
    "duration": 10,
    "start_time": "2024-05-17T19:48:55.796Z"
   },
   {
    "duration": 5,
    "start_time": "2024-05-17T19:51:48.325Z"
   },
   {
    "duration": 10,
    "start_time": "2024-05-17T19:52:06.485Z"
   },
   {
    "duration": 315,
    "start_time": "2024-05-17T19:52:14.187Z"
   },
   {
    "duration": 32,
    "start_time": "2024-05-17T19:55:33.517Z"
   },
   {
    "duration": 21,
    "start_time": "2024-05-17T19:55:45.259Z"
   },
   {
    "duration": 444,
    "start_time": "2024-05-17T19:55:49.831Z"
   },
   {
    "duration": 184,
    "start_time": "2024-05-17T19:55:50.278Z"
   },
   {
    "duration": 12,
    "start_time": "2024-05-17T19:55:50.476Z"
   },
   {
    "duration": 32,
    "start_time": "2024-05-17T19:55:50.793Z"
   },
   {
    "duration": 5,
    "start_time": "2024-05-17T19:55:51.816Z"
   },
   {
    "duration": 6,
    "start_time": "2024-05-17T19:55:52.350Z"
   },
   {
    "duration": 6,
    "start_time": "2024-05-17T19:55:52.700Z"
   },
   {
    "duration": 6,
    "start_time": "2024-05-17T19:55:53.106Z"
   },
   {
    "duration": 4,
    "start_time": "2024-05-17T19:55:53.470Z"
   },
   {
    "duration": 28,
    "start_time": "2024-05-17T19:55:54.074Z"
   },
   {
    "duration": 20,
    "start_time": "2024-05-17T19:55:54.995Z"
   },
   {
    "duration": 25,
    "start_time": "2024-05-17T19:55:55.345Z"
   },
   {
    "duration": 237,
    "start_time": "2024-05-17T19:55:56.495Z"
   },
   {
    "duration": 53,
    "start_time": "2024-05-17T19:55:57.093Z"
   },
   {
    "duration": 68,
    "start_time": "2024-05-17T19:55:57.652Z"
   },
   {
    "duration": 8,
    "start_time": "2024-05-17T19:55:59.046Z"
   },
   {
    "duration": 20,
    "start_time": "2024-05-17T19:56:03.682Z"
   },
   {
    "duration": 17,
    "start_time": "2024-05-17T19:57:20.141Z"
   },
   {
    "duration": 19,
    "start_time": "2024-05-17T19:57:30.026Z"
   },
   {
    "duration": 20,
    "start_time": "2024-05-17T19:58:06.921Z"
   },
   {
    "duration": 4,
    "start_time": "2024-05-17T19:58:33.569Z"
   },
   {
    "duration": 12,
    "start_time": "2024-05-17T19:59:11.196Z"
   },
   {
    "duration": 13,
    "start_time": "2024-05-17T19:59:18.527Z"
   },
   {
    "duration": 17,
    "start_time": "2024-05-17T20:01:00.786Z"
   },
   {
    "duration": 17,
    "start_time": "2024-05-17T20:01:47.129Z"
   },
   {
    "duration": 6,
    "start_time": "2024-05-17T20:01:55.796Z"
   },
   {
    "duration": 13,
    "start_time": "2024-05-17T20:01:57.855Z"
   },
   {
    "duration": 16,
    "start_time": "2024-05-17T20:02:01.316Z"
   },
   {
    "duration": 3,
    "start_time": "2024-05-17T20:02:15.797Z"
   },
   {
    "duration": 156,
    "start_time": "2024-05-17T20:02:16.697Z"
   },
   {
    "duration": 9,
    "start_time": "2024-05-17T20:02:16.856Z"
   },
   {
    "duration": 45,
    "start_time": "2024-05-17T20:02:16.869Z"
   },
   {
    "duration": 4,
    "start_time": "2024-05-17T20:02:18.006Z"
   },
   {
    "duration": 5,
    "start_time": "2024-05-17T20:02:18.125Z"
   },
   {
    "duration": 6,
    "start_time": "2024-05-17T20:02:18.330Z"
   },
   {
    "duration": 7,
    "start_time": "2024-05-17T20:02:18.340Z"
   },
   {
    "duration": 5,
    "start_time": "2024-05-17T20:02:18.354Z"
   },
   {
    "duration": 25,
    "start_time": "2024-05-17T20:02:19.452Z"
   },
   {
    "duration": 22,
    "start_time": "2024-05-17T20:02:20.837Z"
   },
   {
    "duration": 26,
    "start_time": "2024-05-17T20:02:21.833Z"
   },
   {
    "duration": 194,
    "start_time": "2024-05-17T20:02:23.498Z"
   },
   {
    "duration": 65,
    "start_time": "2024-05-17T20:02:24.430Z"
   },
   {
    "duration": 57,
    "start_time": "2024-05-17T20:02:24.981Z"
   },
   {
    "duration": 18,
    "start_time": "2024-05-17T20:02:28.452Z"
   },
   {
    "duration": 5,
    "start_time": "2024-05-17T20:02:33.053Z"
   },
   {
    "duration": 17,
    "start_time": "2024-05-17T20:02:34.037Z"
   },
   {
    "duration": 17,
    "start_time": "2024-05-17T20:02:35.697Z"
   },
   {
    "duration": 5,
    "start_time": "2024-05-17T20:12:52.084Z"
   },
   {
    "duration": 11,
    "start_time": "2024-05-17T20:12:52.940Z"
   },
   {
    "duration": 18,
    "start_time": "2024-05-17T20:12:56.476Z"
   },
   {
    "duration": 855,
    "start_time": "2024-05-17T20:48:20.633Z"
   },
   {
    "duration": 19,
    "start_time": "2024-05-17T20:49:06.150Z"
   },
   {
    "duration": 343,
    "start_time": "2024-05-17T20:50:45.334Z"
   },
   {
    "duration": 81,
    "start_time": "2024-05-17T20:51:00.092Z"
   },
   {
    "duration": 82,
    "start_time": "2024-05-17T20:51:33.976Z"
   },
   {
    "duration": 163,
    "start_time": "2024-05-17T20:51:40.808Z"
   },
   {
    "duration": 3,
    "start_time": "2024-05-17T20:54:54.925Z"
   },
   {
    "duration": 153,
    "start_time": "2024-05-17T20:54:55.405Z"
   },
   {
    "duration": 9,
    "start_time": "2024-05-17T20:54:55.716Z"
   },
   {
    "duration": 32,
    "start_time": "2024-05-17T20:54:56.042Z"
   },
   {
    "duration": 4,
    "start_time": "2024-05-17T20:54:57.531Z"
   },
   {
    "duration": 6,
    "start_time": "2024-05-17T20:54:57.640Z"
   },
   {
    "duration": 6,
    "start_time": "2024-05-17T20:54:57.713Z"
   },
   {
    "duration": 5,
    "start_time": "2024-05-17T20:54:57.788Z"
   },
   {
    "duration": 5,
    "start_time": "2024-05-17T20:54:57.867Z"
   },
   {
    "duration": 27,
    "start_time": "2024-05-17T20:54:57.983Z"
   },
   {
    "duration": 19,
    "start_time": "2024-05-17T20:54:58.118Z"
   },
   {
    "duration": 25,
    "start_time": "2024-05-17T20:54:58.189Z"
   },
   {
    "duration": 191,
    "start_time": "2024-05-17T20:54:58.283Z"
   },
   {
    "duration": 70,
    "start_time": "2024-05-17T20:54:58.477Z"
   },
   {
    "duration": 84,
    "start_time": "2024-05-17T20:54:58.550Z"
   },
   {
    "duration": 16,
    "start_time": "2024-05-17T20:54:58.640Z"
   },
   {
    "duration": 5,
    "start_time": "2024-05-17T20:54:58.661Z"
   },
   {
    "duration": 14,
    "start_time": "2024-05-17T20:54:58.706Z"
   },
   {
    "duration": 17,
    "start_time": "2024-05-17T20:54:58.784Z"
   },
   {
    "duration": 85,
    "start_time": "2024-05-17T20:54:59.086Z"
   },
   {
    "duration": 3,
    "start_time": "2024-05-17T20:54:59.207Z"
   },
   {
    "duration": 4,
    "start_time": "2024-05-17T20:54:59.317Z"
   },
   {
    "duration": 3,
    "start_time": "2024-05-17T20:54:59.398Z"
   },
   {
    "duration": 3,
    "start_time": "2024-05-17T20:54:59.428Z"
   },
   {
    "duration": 3,
    "start_time": "2024-05-17T20:54:59.467Z"
   },
   {
    "duration": 2,
    "start_time": "2024-05-17T20:54:59.506Z"
   },
   {
    "duration": 82,
    "start_time": "2024-05-17T20:57:41.246Z"
   },
   {
    "duration": 11,
    "start_time": "2024-05-17T20:58:03.713Z"
   },
   {
    "duration": 3,
    "start_time": "2024-05-17T20:58:52.941Z"
   },
   {
    "duration": 158,
    "start_time": "2024-05-17T20:58:53.808Z"
   },
   {
    "duration": 10,
    "start_time": "2024-05-17T20:58:55.187Z"
   },
   {
    "duration": 33,
    "start_time": "2024-05-17T20:58:56.706Z"
   },
   {
    "duration": 5,
    "start_time": "2024-05-17T20:58:59.546Z"
   },
   {
    "duration": 7,
    "start_time": "2024-05-17T20:59:01.090Z"
   },
   {
    "duration": 7,
    "start_time": "2024-05-17T20:59:01.920Z"
   },
   {
    "duration": 6,
    "start_time": "2024-05-17T20:59:03.422Z"
   },
   {
    "duration": 5,
    "start_time": "2024-05-17T20:59:04.283Z"
   },
   {
    "duration": 28,
    "start_time": "2024-05-17T20:59:05.748Z"
   },
   {
    "duration": 19,
    "start_time": "2024-05-17T20:59:06.933Z"
   },
   {
    "duration": 27,
    "start_time": "2024-05-17T20:59:07.822Z"
   },
   {
    "duration": 199,
    "start_time": "2024-05-17T20:59:08.770Z"
   },
   {
    "duration": 58,
    "start_time": "2024-05-17T20:59:09.486Z"
   },
   {
    "duration": 57,
    "start_time": "2024-05-17T20:59:10.292Z"
   },
   {
    "duration": 19,
    "start_time": "2024-05-17T20:59:11.784Z"
   },
   {
    "duration": 5,
    "start_time": "2024-05-17T20:59:12.805Z"
   },
   {
    "duration": 11,
    "start_time": "2024-05-17T20:59:13.615Z"
   },
   {
    "duration": 16,
    "start_time": "2024-05-17T20:59:14.397Z"
   },
   {
    "duration": 9,
    "start_time": "2024-05-17T20:59:19.635Z"
   },
   {
    "duration": 81,
    "start_time": "2024-05-17T20:59:45.843Z"
   },
   {
    "duration": 82,
    "start_time": "2024-05-17T21:01:32.212Z"
   },
   {
    "duration": 81,
    "start_time": "2024-05-17T21:02:57.620Z"
   },
   {
    "duration": 83,
    "start_time": "2024-05-17T21:03:27.898Z"
   },
   {
    "duration": 81,
    "start_time": "2024-05-17T21:03:51.180Z"
   },
   {
    "duration": 81,
    "start_time": "2024-05-17T21:03:59.918Z"
   },
   {
    "duration": 310,
    "start_time": "2024-05-18T19:14:18.061Z"
   },
   {
    "duration": 24,
    "start_time": "2024-05-18T19:14:18.801Z"
   },
   {
    "duration": 24,
    "start_time": "2024-05-18T19:14:19.190Z"
   },
   {
    "duration": 29,
    "start_time": "2024-05-18T19:14:19.595Z"
   },
   {
    "duration": 21,
    "start_time": "2024-05-18T19:14:19.955Z"
   },
   {
    "duration": 21,
    "start_time": "2024-05-18T19:14:21.312Z"
   },
   {
    "duration": 415,
    "start_time": "2024-05-18T19:14:28.879Z"
   },
   {
    "duration": 190,
    "start_time": "2024-05-18T19:14:29.298Z"
   },
   {
    "duration": 10,
    "start_time": "2024-05-18T19:14:29.657Z"
   },
   {
    "duration": 33,
    "start_time": "2024-05-18T19:14:30.074Z"
   },
   {
    "duration": 4,
    "start_time": "2024-05-18T19:14:31.337Z"
   },
   {
    "duration": 7,
    "start_time": "2024-05-18T19:14:31.880Z"
   },
   {
    "duration": 5,
    "start_time": "2024-05-18T19:14:32.282Z"
   },
   {
    "duration": 6,
    "start_time": "2024-05-18T19:14:32.671Z"
   },
   {
    "duration": 4,
    "start_time": "2024-05-18T19:14:33.126Z"
   },
   {
    "duration": 26,
    "start_time": "2024-05-18T19:14:34.105Z"
   },
   {
    "duration": 21,
    "start_time": "2024-05-18T19:14:34.863Z"
   },
   {
    "duration": 26,
    "start_time": "2024-05-18T19:14:35.409Z"
   },
   {
    "duration": 238,
    "start_time": "2024-05-18T19:14:36.291Z"
   },
   {
    "duration": 59,
    "start_time": "2024-05-18T19:14:36.806Z"
   },
   {
    "duration": 64,
    "start_time": "2024-05-18T19:14:37.313Z"
   },
   {
    "duration": 16,
    "start_time": "2024-05-18T19:14:38.118Z"
   },
   {
    "duration": 4,
    "start_time": "2024-05-18T19:14:39.421Z"
   },
   {
    "duration": 12,
    "start_time": "2024-05-18T19:14:40.391Z"
   },
   {
    "duration": 16,
    "start_time": "2024-05-18T19:14:41.397Z"
   },
   {
    "duration": 756,
    "start_time": "2024-05-18T19:14:46.296Z"
   },
   {
    "duration": 89,
    "start_time": "2024-05-18T19:17:13.466Z"
   },
   {
    "duration": 81,
    "start_time": "2024-05-18T19:19:39.779Z"
   },
   {
    "duration": 4,
    "start_time": "2024-05-18T19:21:49.181Z"
   },
   {
    "duration": 12,
    "start_time": "2024-05-18T19:25:14.393Z"
   },
   {
    "duration": 3,
    "start_time": "2024-05-18T19:25:29.529Z"
   },
   {
    "duration": 155,
    "start_time": "2024-05-18T19:25:30.919Z"
   },
   {
    "duration": 9,
    "start_time": "2024-05-18T19:25:35.460Z"
   },
   {
    "duration": 32,
    "start_time": "2024-05-18T19:25:43.331Z"
   },
   {
    "duration": 4,
    "start_time": "2024-05-18T19:25:51.358Z"
   },
   {
    "duration": 7,
    "start_time": "2024-05-18T19:25:56.361Z"
   },
   {
    "duration": 6,
    "start_time": "2024-05-18T19:25:59.631Z"
   },
   {
    "duration": 6,
    "start_time": "2024-05-18T19:26:05.443Z"
   },
   {
    "duration": 5,
    "start_time": "2024-05-18T19:26:28.012Z"
   },
   {
    "duration": 26,
    "start_time": "2024-05-18T19:27:02.284Z"
   },
   {
    "duration": 24,
    "start_time": "2024-05-18T19:27:04.979Z"
   },
   {
    "duration": 27,
    "start_time": "2024-05-18T19:27:07.883Z"
   },
   {
    "duration": 220,
    "start_time": "2024-05-18T19:27:12.241Z"
   },
   {
    "duration": 75,
    "start_time": "2024-05-18T19:27:13.935Z"
   },
   {
    "duration": 63,
    "start_time": "2024-05-18T19:27:16.294Z"
   },
   {
    "duration": 19,
    "start_time": "2024-05-18T19:27:20.358Z"
   },
   {
    "duration": 10,
    "start_time": "2024-05-18T19:27:39.694Z"
   },
   {
    "duration": 15,
    "start_time": "2024-05-18T19:28:12.575Z"
   },
   {
    "duration": 18,
    "start_time": "2024-05-18T19:28:38.814Z"
   },
   {
    "duration": 12,
    "start_time": "2024-05-18T19:28:44.802Z"
   },
   {
    "duration": 10,
    "start_time": "2024-05-18T19:29:04.056Z"
   },
   {
    "duration": 329,
    "start_time": "2024-05-21T03:47:45.571Z"
   },
   {
    "duration": 460,
    "start_time": "2024-05-21T03:47:52.322Z"
   },
   {
    "duration": 191,
    "start_time": "2024-05-21T03:47:52.890Z"
   },
   {
    "duration": 10,
    "start_time": "2024-05-21T03:47:53.500Z"
   },
   {
    "duration": 32,
    "start_time": "2024-05-21T03:47:54.085Z"
   },
   {
    "duration": 4,
    "start_time": "2024-05-21T03:47:55.729Z"
   },
   {
    "duration": 6,
    "start_time": "2024-05-21T03:47:56.481Z"
   },
   {
    "duration": 6,
    "start_time": "2024-05-21T03:47:56.946Z"
   },
   {
    "duration": 6,
    "start_time": "2024-05-21T03:47:57.391Z"
   },
   {
    "duration": 4,
    "start_time": "2024-05-21T03:47:57.865Z"
   },
   {
    "duration": 24,
    "start_time": "2024-05-21T03:47:58.610Z"
   },
   {
    "duration": 20,
    "start_time": "2024-05-21T03:47:59.338Z"
   },
   {
    "duration": 26,
    "start_time": "2024-05-21T03:47:59.954Z"
   },
   {
    "duration": 240,
    "start_time": "2024-05-21T03:48:00.660Z"
   },
   {
    "duration": 54,
    "start_time": "2024-05-21T03:48:01.079Z"
   },
   {
    "duration": 57,
    "start_time": "2024-05-21T03:48:01.503Z"
   },
   {
    "duration": 16,
    "start_time": "2024-05-21T03:48:02.110Z"
   },
   {
    "duration": 4,
    "start_time": "2024-05-21T03:48:02.512Z"
   },
   {
    "duration": 13,
    "start_time": "2024-05-21T03:48:02.911Z"
   },
   {
    "duration": 17,
    "start_time": "2024-05-21T03:48:03.297Z"
   },
   {
    "duration": 7,
    "start_time": "2024-05-21T03:48:05.032Z"
   },
   {
    "duration": 3,
    "start_time": "2024-05-21T03:48:05.753Z"
   },
   {
    "duration": 164,
    "start_time": "2024-05-21T03:48:56.203Z"
   },
   {
    "duration": 8,
    "start_time": "2024-05-21T03:51:22.782Z"
   },
   {
    "duration": 9,
    "start_time": "2024-05-21T03:51:28.940Z"
   },
   {
    "duration": 4,
    "start_time": "2024-05-21T03:51:38.315Z"
   },
   {
    "duration": 154,
    "start_time": "2024-05-21T03:51:39.674Z"
   },
   {
    "duration": 159,
    "start_time": "2024-05-21T03:51:45.125Z"
   },
   {
    "duration": 9,
    "start_time": "2024-05-21T03:51:47.654Z"
   },
   {
    "duration": 34,
    "start_time": "2024-05-21T03:51:52.070Z"
   },
   {
    "duration": 3,
    "start_time": "2024-05-21T03:51:56.497Z"
   },
   {
    "duration": 6,
    "start_time": "2024-05-21T03:51:58.422Z"
   },
   {
    "duration": 6,
    "start_time": "2024-05-21T03:51:59.541Z"
   },
   {
    "duration": 6,
    "start_time": "2024-05-21T03:52:00.149Z"
   },
   {
    "duration": 5,
    "start_time": "2024-05-21T03:52:01.076Z"
   },
   {
    "duration": 27,
    "start_time": "2024-05-21T03:52:02.064Z"
   },
   {
    "duration": 19,
    "start_time": "2024-05-21T03:52:02.891Z"
   },
   {
    "duration": 29,
    "start_time": "2024-05-21T03:52:03.533Z"
   },
   {
    "duration": 235,
    "start_time": "2024-05-21T03:52:04.528Z"
   },
   {
    "duration": 59,
    "start_time": "2024-05-21T03:52:05.189Z"
   },
   {
    "duration": 58,
    "start_time": "2024-05-21T03:52:05.826Z"
   },
   {
    "duration": 19,
    "start_time": "2024-05-21T03:52:06.824Z"
   },
   {
    "duration": 4,
    "start_time": "2024-05-21T03:52:07.506Z"
   },
   {
    "duration": 16,
    "start_time": "2024-05-21T03:52:08.156Z"
   },
   {
    "duration": 17,
    "start_time": "2024-05-21T03:52:08.737Z"
   },
   {
    "duration": 8,
    "start_time": "2024-05-21T03:52:11.556Z"
   },
   {
    "duration": 57,
    "start_time": "2024-05-21T03:53:41.981Z"
   },
   {
    "duration": 3,
    "start_time": "2024-05-21T03:53:56.038Z"
   },
   {
    "duration": 152,
    "start_time": "2024-05-21T03:53:56.482Z"
   },
   {
    "duration": 12,
    "start_time": "2024-05-21T03:53:56.963Z"
   },
   {
    "duration": 34,
    "start_time": "2024-05-21T03:53:57.445Z"
   },
   {
    "duration": 6,
    "start_time": "2024-05-21T03:53:58.516Z"
   },
   {
    "duration": 7,
    "start_time": "2024-05-21T03:53:58.915Z"
   },
   {
    "duration": 6,
    "start_time": "2024-05-21T03:53:59.226Z"
   },
   {
    "duration": 6,
    "start_time": "2024-05-21T03:53:59.781Z"
   },
   {
    "duration": 5,
    "start_time": "2024-05-21T03:54:00.193Z"
   },
   {
    "duration": 28,
    "start_time": "2024-05-21T03:54:01.909Z"
   },
   {
    "duration": 23,
    "start_time": "2024-05-21T03:54:03.538Z"
   },
   {
    "duration": 28,
    "start_time": "2024-05-21T03:54:05.750Z"
   },
   {
    "duration": 78,
    "start_time": "2024-05-21T03:54:09.823Z"
   },
   {
    "duration": 85,
    "start_time": "2024-05-21T03:54:15.914Z"
   },
   {
    "duration": 73,
    "start_time": "2024-05-21T03:54:18.022Z"
   },
   {
    "duration": 19,
    "start_time": "2024-05-21T03:54:20.305Z"
   },
   {
    "duration": 4,
    "start_time": "2024-05-21T03:54:23.698Z"
   },
   {
    "duration": 16,
    "start_time": "2024-05-21T03:54:31.395Z"
   },
   {
    "duration": 23,
    "start_time": "2024-05-21T03:54:34.720Z"
   },
   {
    "duration": 9,
    "start_time": "2024-05-21T04:01:55.951Z"
   },
   {
    "duration": 38,
    "start_time": "2024-05-21T04:05:37.641Z"
   },
   {
    "duration": 13,
    "start_time": "2024-05-21T04:20:07.281Z"
   },
   {
    "duration": 7,
    "start_time": "2024-05-21T04:22:09.575Z"
   },
   {
    "duration": 13,
    "start_time": "2024-05-21T04:23:50.546Z"
   },
   {
    "duration": 15,
    "start_time": "2024-05-21T04:24:07.976Z"
   },
   {
    "duration": 114,
    "start_time": "2024-05-21T04:24:21.121Z"
   },
   {
    "duration": 13,
    "start_time": "2024-05-21T04:24:29.575Z"
   },
   {
    "duration": 36,
    "start_time": "2024-05-21T04:33:31.398Z"
   },
   {
    "duration": 6,
    "start_time": "2024-05-21T04:34:08.535Z"
   },
   {
    "duration": 19,
    "start_time": "2024-05-21T04:34:22.786Z"
   },
   {
    "duration": 20,
    "start_time": "2024-05-21T04:35:51.998Z"
   },
   {
    "duration": 40,
    "start_time": "2024-05-21T04:41:56.058Z"
   },
   {
    "duration": 42,
    "start_time": "2024-05-21T04:42:29.182Z"
   },
   {
    "duration": 41,
    "start_time": "2024-05-21T04:42:41.104Z"
   },
   {
    "duration": 42,
    "start_time": "2024-05-21T04:44:29.423Z"
   },
   {
    "duration": 52,
    "start_time": "2024-05-21T04:46:07.412Z"
   },
   {
    "duration": 50,
    "start_time": "2024-05-21T04:47:16.969Z"
   },
   {
    "duration": 49,
    "start_time": "2024-05-21T04:49:12.384Z"
   },
   {
    "duration": 5,
    "start_time": "2024-05-21T05:10:54.915Z"
   },
   {
    "duration": 79,
    "start_time": "2024-05-21T05:11:54.565Z"
   },
   {
    "duration": 6,
    "start_time": "2024-05-21T05:12:27.478Z"
   },
   {
    "duration": 35,
    "start_time": "2024-05-21T05:12:29.350Z"
   },
   {
    "duration": 27,
    "start_time": "2024-05-21T05:15:29.280Z"
   },
   {
    "duration": 30,
    "start_time": "2024-05-21T05:16:01.170Z"
   },
   {
    "duration": 25,
    "start_time": "2024-05-21T05:16:01.446Z"
   },
   {
    "duration": 4,
    "start_time": "2024-05-21T05:16:02.016Z"
   },
   {
    "duration": 27,
    "start_time": "2024-05-21T05:16:20.696Z"
   },
   {
    "duration": 26,
    "start_time": "2024-05-21T05:17:04.723Z"
   },
   {
    "duration": 27,
    "start_time": "2024-05-21T05:17:37.451Z"
   },
   {
    "duration": 30,
    "start_time": "2024-05-21T05:17:40.100Z"
   },
   {
    "duration": 58,
    "start_time": "2024-05-21T05:22:14.601Z"
   },
   {
    "duration": 52,
    "start_time": "2024-05-21T05:22:34.603Z"
   },
   {
    "duration": 57,
    "start_time": "2024-05-21T05:26:51.494Z"
   },
   {
    "duration": 48,
    "start_time": "2024-05-21T05:27:04.229Z"
   },
   {
    "duration": 49,
    "start_time": "2024-05-21T05:28:22.751Z"
   },
   {
    "duration": 49,
    "start_time": "2024-05-21T05:28:51.014Z"
   },
   {
    "duration": 211,
    "start_time": "2024-05-21T05:34:32.570Z"
   },
   {
    "duration": 152,
    "start_time": "2024-05-21T05:35:11.513Z"
   },
   {
    "duration": 158,
    "start_time": "2024-05-21T05:35:55.421Z"
   },
   {
    "duration": 227,
    "start_time": "2024-05-21T05:36:02.050Z"
   },
   {
    "duration": 41,
    "start_time": "2024-05-21T05:36:46.603Z"
   },
   {
    "duration": 30,
    "start_time": "2024-05-21T05:36:53.314Z"
   },
   {
    "duration": 133,
    "start_time": "2024-05-21T05:43:02.178Z"
   }
  ],
  "colab": {
   "collapsed_sections": [
    "E0vqbgi9ay0H",
    "VUC88oWjTJw2"
   ],
   "provenance": []
  },
  "kernelspec": {
   "display_name": "Python 3 (ipykernel)",
   "language": "python",
   "name": "python3"
  },
  "language_info": {
   "codemirror_mode": {
    "name": "ipython",
    "version": 3
   },
   "file_extension": ".py",
   "mimetype": "text/x-python",
   "name": "python",
   "nbconvert_exporter": "python",
   "pygments_lexer": "ipython3",
   "version": "3.9.19"
  },
  "toc": {
   "base_numbering": 1,
   "nav_menu": {},
   "number_sections": true,
   "sideBar": true,
   "skip_h1_title": true,
   "title_cell": "Table of Contents",
   "title_sidebar": "Contents",
   "toc_cell": false,
   "toc_position": {},
   "toc_section_display": true,
   "toc_window_display": false
  }
 },
 "nbformat": 4,
 "nbformat_minor": 1
}
