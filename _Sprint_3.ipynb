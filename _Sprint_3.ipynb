{
 "cells": [
  {
   "cell_type": "markdown",
   "id": "623e2846",
   "metadata": {},
   "source": [
    "# ¡Hola, Aldo!  \n",
    "\n",
    "Mi nombre es Francisco Benavides, soy code reviewer de Tripleten y voy a revisar el proyecto que acabas de desarrollar.\n",
    "\n",
    "\n",
    "Cada ves que vea un error por primera vez, lo señalaré. Deberás encontrarlo y arreglarlo, ya que buscamos que te prepares para un trabajo real, en el cual tu líder de equipo hará lo mismo. Si no puedes solucionar el error, te brindaré algunos tips más especificos la proxima vez.\n",
    "\n",
    "Podrás encontrar mis comentarios más abajo - **por favor, no los muevas, no los modifiques ni los borres**.\n",
    "\n",
    "¿Cómo lo voy a hacer? Voy a leer cuidadosamente cada una de tus implementaciones que has llevado a cabo para complir con tu informe. Cada uno de mis comentarios tiene el siguiente código de colores:\n",
    "\n",
    "<div class=\"alert alert-block alert-success\">\n",
    "<b>Comentario del revisor</b> <a class=\"tocSkip\"></a>\n",
    "    \n",
    "Si todo está perfecto.\n",
    "</div>\n",
    "\n",
    "\n",
    "<div class=\"alert alert-block alert-warning\">\n",
    "<b>Comentario del revisor</b> <a class=\"tocSkip\"></a>\n",
    "    \n",
    "Si tu código está bien pero se puede mejorar o hay algún detalle que le hace falta.\n",
    "</div>\n",
    "\n",
    "\n",
    "<div class=\"alert alert-block alert-danger\">\n",
    "    \n",
    "<b>Comentario del revisor</b> <a class=\"tocSkip\"></a>\n",
    "    \n",
    "    \n",
    "Si de pronto hace falta algo o existe algún problema con tu código o conclusiones.\n",
    "</div>\n",
    "\n",
    "\n",
    "Si encuentras que es necesario, puedes responderme de esta forma: \n",
    "\n",
    "<div class=\"alert alert-block alert-info\">\n",
    "<b>Respuesta del estudiante</b> <a class=\"tocSkip\"></a>\n",
    "</div>\n",
    "\n",
    "Mucho éxito!"
   ]
  },
  {
   "cell_type": "markdown",
   "id": "3Xg_RQfnafXz",
   "metadata": {
    "id": "3Xg_RQfnafXz"
   },
   "source": [
    "# ¡Llena ese carrito!"
   ]
  },
  {
   "cell_type": "markdown",
   "id": "mhIvmmkW414q",
   "metadata": {
    "id": "mhIvmmkW414q"
   },
   "source": [
    "# Introducción\n",
    "\n",
    "Instacart es una plataforma de entregas de comestibles donde la clientela puede registrar un pedido y hacer que se lo entreguen, similar a Uber Eats y Door Dash.\n",
    "El conjunto de datos que te hemos proporcionado tiene modificaciones del original. Redujimos el tamaño del conjunto para que tus cálculos se hicieran más rápido e introdujimos valores ausentes y duplicados. Tuvimos cuidado de conservar las distribuciones de los datos originales cuando hicimos los cambios.\n",
    "\n",
    "Debes completar tres pasos. Para cada uno de ellos, escribe una breve introducción que refleje con claridad cómo pretendes resolver cada paso, y escribe párrafos explicatorios que justifiquen tus decisiones al tiempo que avanzas en tu solución.  También escribe una conclusión que resuma tus hallazgos y elecciones.\n"
   ]
  },
  {
   "cell_type": "markdown",
   "id": "3MbyzpOQZ5Or",
   "metadata": {
    "id": "3MbyzpOQZ5Or"
   },
   "source": [
    "## Diccionario de datos\n",
    "\n",
    "Hay cinco tablas en el conjunto de datos, y tendrás que usarlas todas para hacer el preprocesamiento de datos y el análisis exploratorio de datos. A continuación se muestra un diccionario de datos que enumera las columnas de cada tabla y describe los datos que contienen.\n",
    "\n",
    "- `instacart_orders.csv`: cada fila corresponde a un pedido en la aplicación Instacart.\n",
    "    - `'order_id'`: número de ID que identifica de manera única cada pedido.\n",
    "    - `'user_id'`: número de ID que identifica de manera única la cuenta de cada cliente.\n",
    "    - `'order_number'`: el número de veces que este cliente ha hecho un pedido.\n",
    "    - `'order_dow'`: día de la semana en que se hizo el pedido (0 si es domingo).\n",
    "    - `'order_hour_of_day'`: hora del día en que se hizo el pedido.\n",
    "    - `'days_since_prior_order'`: número de días transcurridos desde que este cliente hizo su pedido anterior.\n",
    "- `products.csv`: cada fila corresponde a un producto único que pueden comprar los clientes.\n",
    "    - `'product_id'`: número ID que identifica de manera única cada producto.\n",
    "    - `'product_name'`: nombre del producto.\n",
    "    - `'aisle_id'`: número ID que identifica de manera única cada categoría de pasillo de víveres.\n",
    "    - `'department_id'`: número ID que identifica de manera única cada departamento de víveres.\n",
    "- `order_products.csv`: cada fila corresponde a un artículo pedido en un pedido.\n",
    "    - `'order_id'`: número de ID que identifica de manera única cada pedido.\n",
    "    - `'product_id'`: número ID que identifica de manera única cada producto.\n",
    "    - `'add_to_cart_order'`: el orden secuencial en el que se añadió cada artículo en el carrito.\n",
    "    - `'reordered'`: 0 si el cliente nunca ha pedido este producto antes, 1 si lo ha pedido.\n",
    "- `aisles.csv`\n",
    "    - `'aisle_id'`: número ID que identifica de manera única cada categoría de pasillo de víveres.\n",
    "    - `'aisle'`: nombre del pasillo.\n",
    "- `departments.csv`\n",
    "    - `'department_id'`: número ID que identifica de manera única cada departamento de víveres.\n",
    "    - `'department'`: nombre del departamento."
   ]
  },
  {
   "cell_type": "markdown",
   "id": "n3Ha_cNSZ8lK",
   "metadata": {
    "id": "n3Ha_cNSZ8lK"
   },
   "source": [
    "# Paso 1. Descripción de los datos\n",
    "\n",
    "Lee los archivos de datos (`/datasets/instacart_orders.csv`, `/datasets/products.csv`, `/datasets/aisles.csv`, `/datasets/departments.csv` y `/datasets/order_products.csv`) con `pd.read_csv()` usando los parámetros adecuados para leer los datos correctamente. Verifica la información para cada DataFrame creado.\n"
   ]
  },
  {
   "cell_type": "markdown",
   "id": "OmlQPLlyaAfR",
   "metadata": {
    "id": "OmlQPLlyaAfR"
   },
   "source": [
    "## Plan de solución\n",
    "\n",
    "Escribe aquí tu plan de solución para el Paso 1. Descripción de los datos."
   ]
  },
  {
   "cell_type": "code",
   "execution_count": 5,
   "id": "fbf1adab",
   "metadata": {
    "id": "fbf1adab"
   },
   "outputs": [],
   "source": [
    "# importar librerías\n",
    "import pandas as pd\n",
    "from matplotlib import pyplot as plt\n",
    "import statistics"
   ]
  },
  {
   "cell_type": "code",
   "execution_count": 6,
   "id": "ad36396d",
   "metadata": {
    "id": "ad36396d"
   },
   "outputs": [],
   "source": [
    "# leer conjuntos de datos en los DataFrames\n",
    "instacart_orders = pd.read_csv('C:/Users/aldo_/OneDrive/Documentos/My Learning/Bootcamp/DataSets/Sprint_3/instacart_orders.csv', sep=';')\n",
    "products = pd.read_csv('C:/Users/aldo_/OneDrive/Documentos/My Learning/Bootcamp/DataSets/Sprint_3/products.csv', sep=';')\n",
    "aisles = pd.read_csv('C:/Users/aldo_/OneDrive/Documentos/My Learning/Bootcamp/DataSets/Sprint_3/aisles.csv', sep=';')\n",
    "departments = pd.read_csv('C:/Users/aldo_/OneDrive/Documentos/My Learning/Bootcamp/DataSets/Sprint_3/departments.csv', sep=';')\n",
    "order_products = pd.read_csv('C:/Users/aldo_/OneDrive/Documentos/My Learning/Bootcamp/DataSets/Sprint_3/order_products.csv', sep=';')"
   ]
  },
  {
   "cell_type": "code",
   "execution_count": 7,
   "id": "ad6a1efa",
   "metadata": {
    "id": "ad6a1efa"
   },
   "outputs": [
    {
     "name": "stdout",
     "output_type": "stream",
     "text": [
      "<class 'pandas.core.frame.DataFrame'>\n",
      "RangeIndex: 478967 entries, 0 to 478966\n",
      "Data columns (total 6 columns):\n",
      " #   Column                  Non-Null Count   Dtype  \n",
      "---  ------                  --------------   -----  \n",
      " 0   order_id                478967 non-null  int64  \n",
      " 1   user_id                 478967 non-null  int64  \n",
      " 2   order_number            478967 non-null  int64  \n",
      " 3   order_dow               478967 non-null  int64  \n",
      " 4   order_hour_of_day       478967 non-null  int64  \n",
      " 5   days_since_prior_order  450148 non-null  float64\n",
      "dtypes: float64(1), int64(5)\n",
      "memory usage: 21.9 MB\n"
     ]
    }
   ],
   "source": [
    "# mostrar información del DataFrame instacart_orders\n",
    "instacart_orders.info()"
   ]
  },
  {
   "cell_type": "code",
   "execution_count": 8,
   "id": "5130e05e",
   "metadata": {
    "id": "5130e05e"
   },
   "outputs": [
    {
     "name": "stdout",
     "output_type": "stream",
     "text": [
      "<class 'pandas.core.frame.DataFrame'>\n",
      "RangeIndex: 49694 entries, 0 to 49693\n",
      "Data columns (total 4 columns):\n",
      " #   Column         Non-Null Count  Dtype \n",
      "---  ------         --------------  ----- \n",
      " 0   product_id     49694 non-null  int64 \n",
      " 1   product_name   48436 non-null  object\n",
      " 2   aisle_id       49694 non-null  int64 \n",
      " 3   department_id  49694 non-null  int64 \n",
      "dtypes: int64(3), object(1)\n",
      "memory usage: 1.5+ MB\n"
     ]
    }
   ],
   "source": [
    "# mostrar información del DataFrame products\n",
    "products.info()"
   ]
  },
  {
   "cell_type": "code",
   "execution_count": 9,
   "id": "d8370c05",
   "metadata": {
    "id": "d8370c05"
   },
   "outputs": [
    {
     "name": "stdout",
     "output_type": "stream",
     "text": [
      "<class 'pandas.core.frame.DataFrame'>\n",
      "RangeIndex: 134 entries, 0 to 133\n",
      "Data columns (total 2 columns):\n",
      " #   Column    Non-Null Count  Dtype \n",
      "---  ------    --------------  ----- \n",
      " 0   aisle_id  134 non-null    int64 \n",
      " 1   aisle     134 non-null    object\n",
      "dtypes: int64(1), object(1)\n",
      "memory usage: 2.2+ KB\n"
     ]
    }
   ],
   "source": [
    "# mostrar información del DataFrame aisles\n",
    "aisles.info()"
   ]
  },
  {
   "cell_type": "code",
   "execution_count": 10,
   "id": "59e2090f",
   "metadata": {
    "id": "59e2090f"
   },
   "outputs": [
    {
     "name": "stdout",
     "output_type": "stream",
     "text": [
      "<class 'pandas.core.frame.DataFrame'>\n",
      "RangeIndex: 21 entries, 0 to 20\n",
      "Data columns (total 2 columns):\n",
      " #   Column         Non-Null Count  Dtype \n",
      "---  ------         --------------  ----- \n",
      " 0   department_id  21 non-null     int64 \n",
      " 1   department     21 non-null     object\n",
      "dtypes: int64(1), object(1)\n",
      "memory usage: 468.0+ bytes\n"
     ]
    }
   ],
   "source": [
    "# mostrar información del DataFrame departments\n",
    "departments.info()"
   ]
  },
  {
   "cell_type": "code",
   "execution_count": 11,
   "id": "6fc81694",
   "metadata": {
    "id": "6fc81694"
   },
   "outputs": [
    {
     "name": "stdout",
     "output_type": "stream",
     "text": [
      "<class 'pandas.core.frame.DataFrame'>\n",
      "RangeIndex: 4545007 entries, 0 to 4545006\n",
      "Data columns (total 4 columns):\n",
      " #   Column             Non-Null Count    Dtype  \n",
      "---  ------             --------------    -----  \n",
      " 0   order_id           4545007 non-null  int64  \n",
      " 1   product_id         4545007 non-null  int64  \n",
      " 2   add_to_cart_order  4544171 non-null  float64\n",
      " 3   reordered          4545007 non-null  int64  \n",
      "dtypes: float64(1), int64(3)\n",
      "memory usage: 138.7 MB\n"
     ]
    }
   ],
   "source": [
    "# mostrar información del DataFrame order_products\n",
    "order_products.info(show_counts=True)"
   ]
  },
  {
   "cell_type": "markdown",
   "id": "t75BD19oaR5f",
   "metadata": {
    "id": "t75BD19oaR5f"
   },
   "source": [
    "## Conclusiones\n",
    "\n",
    "Escribe aquí tus conclusiones intermedias sobre el Paso 1. Descripción de los datos.\n",
    "\n",
    "* En el data frame de instacart_orders, se encontraron 478967 valores en todas las columnas, a excepción de days_since_prior_order con 450148.\n",
    "\n",
    "* En el data frame de products, se encontraron 49694 valores en las columnas, a excepción de product_name con 48436.\n",
    "\n",
    "* En el data frame de aisles con 134 valores en todas sus columnas.\n",
    "\n",
    "* En el data frame de departments con 21 valores en todas sus columnas.\n",
    "\n",
    "* En el data frame de order_products, se encontraron 4545007 valores en todas las columnas, a excepción de add_to_cart_order con 4544171.\n"
   ]
  },
  {
   "cell_type": "markdown",
   "id": "967fb7de",
   "metadata": {},
   "source": [
    "<div class=\"alert alert-block alert-success\">\n",
    "<b>Comentario del revisor</b> <a class=\"tocSkip\"></a>\n",
    "    \n",
    "Buen analisis del estado inicial de los datos :D\n",
    "</div>"
   ]
  },
  {
   "cell_type": "markdown",
   "id": "8RJHqxVmaVsF",
   "metadata": {
    "id": "8RJHqxVmaVsF"
   },
   "source": [
    "# Paso 2. Preprocesamiento de los datos\n",
    "\n",
    "Preprocesa los datos de la siguiente manera:\n",
    "\n",
    "- Verifica y corrige los tipos de datos (por ejemplo, asegúrate de que las columnas de ID sean números enteros).\n",
    "- Identifica y completa los valores ausentes.\n",
    "- Identifica y elimina los valores duplicados.\n",
    "\n",
    "Asegúrate de explicar qué tipos de valores ausentes y duplicados encontraste, cómo los completaste o eliminaste y por qué usaste esos métodos. ¿Por qué crees que estos valores ausentes y duplicados pueden haber estado presentes en el conjunto de datos?"
   ]
  },
  {
   "cell_type": "markdown",
   "id": "p6poABZQaZYb",
   "metadata": {
    "id": "p6poABZQaZYb"
   },
   "source": [
    "## Plan de solución\n",
    "\n",
    "Escribe aquí tu plan para el Paso 2. Preprocesamiento de los datos.\n",
    "\n",
    "El plan es simple, analizar cada conjunto de datos y quedarnos con toda la información que sea de utilidad. Es decir, limpiar y filtrar todos los datos que esten incompletos y duplicados."
   ]
  },
  {
   "cell_type": "markdown",
   "id": "07357848-dc64-4156-9cc3-01ff4365226d",
   "metadata": {
    "id": "07357848-dc64-4156-9cc3-01ff4365226d"
   },
   "source": [
    "## Encuentra y elimina los valores duplicados (y describe cómo tomaste tus decisiones)."
   ]
  },
  {
   "cell_type": "markdown",
   "id": "f179f0a9",
   "metadata": {
    "id": "f179f0a9"
   },
   "source": [
    "### `instacart_orders` data frame"
   ]
  },
  {
   "cell_type": "code",
   "execution_count": 12,
   "id": "b99297a5-405a-463d-8535-9adc3da4ad74",
   "metadata": {
    "id": "b99297a5-405a-463d-8535-9adc3da4ad74"
   },
   "outputs": [
    {
     "name": "stdout",
     "output_type": "stream",
     "text": [
      "15\n"
     ]
    }
   ],
   "source": [
    "# Revisa si hay pedidos duplicados\n",
    "print(instacart_orders.duplicated(subset='order_id').sum())"
   ]
  },
  {
   "cell_type": "code",
   "execution_count": 13,
   "id": "37520d29",
   "metadata": {},
   "outputs": [
    {
     "name": "stdout",
     "output_type": "stream",
     "text": [
      "        order_id  user_id  order_number  order_dow  order_hour_of_day  \\\n",
      "145574    794638    50898            24          3                  2   \n",
      "223105   2160484   107525            16          3                  2   \n",
      "230807   1918001   188546            14          3                  2   \n",
      "266232   1782114   106752             1          3                  2   \n",
      "273805   1112182   202304            84          3                  2   \n",
      "284038   2845099    31189            11          3                  2   \n",
      "311713   1021560    53767             3          3                  2   \n",
      "321100    408114    68324             4          3                  2   \n",
      "323900   1919531   191501            32          3                  2   \n",
      "345917   2232988    82565             1          3                  2   \n",
      "371905    391768    57671            19          3                  2   \n",
      "394347    467134    63189            21          3                  2   \n",
      "411408   1286742   183220            48          3                  2   \n",
      "415163   2282673    86751            49          3                  2   \n",
      "441599   2125197    14050            48          3                  2   \n",
      "\n",
      "        days_since_prior_order  \n",
      "145574                     2.0  \n",
      "223105                    30.0  \n",
      "230807                    16.0  \n",
      "266232                     NaN  \n",
      "273805                     6.0  \n",
      "284038                     7.0  \n",
      "311713                     9.0  \n",
      "321100                    18.0  \n",
      "323900                     7.0  \n",
      "345917                     NaN  \n",
      "371905                    10.0  \n",
      "394347                     2.0  \n",
      "411408                     4.0  \n",
      "415163                     2.0  \n",
      "441599                     3.0  \n"
     ]
    }
   ],
   "source": [
    "print(instacart_orders[instacart_orders.duplicated()])"
   ]
  },
  {
   "cell_type": "markdown",
   "id": "PEkwUX_gvt5A",
   "metadata": {
    "id": "PEkwUX_gvt5A"
   },
   "source": [
    "¿Tienes líneas duplicadas? Si sí, ¿qué tienen en común?\n",
    "\n",
    "Contamos con 15 valores duplicados, y en todos los casos de valores duplicados se han comprado en miércoles a las 2 a.m."
   ]
  },
  {
   "cell_type": "code",
   "execution_count": 14,
   "id": "0d44de5d",
   "metadata": {
    "id": "0d44de5d"
   },
   "outputs": [
    {
     "name": "stdout",
     "output_type": "stream",
     "text": [
      "order_id                  121\n",
      "user_id                   121\n",
      "order_number              121\n",
      "order_dow                 121\n",
      "order_hour_of_day         121\n",
      "days_since_prior_order    114\n",
      "dtype: int64\n"
     ]
    }
   ],
   "source": [
    "# Basándote en tus hallazgos,\n",
    "# Verifica todos los pedidos que se hicieron el miércoles a las 2:00 a.m.\n",
    "print(instacart_orders[\n",
    "    (instacart_orders['order_dow']==3) \n",
    "    & \n",
    "    (instacart_orders['order_hour_of_day']==2)\n",
    "].count())"
   ]
  },
  {
   "cell_type": "markdown",
   "id": "vu2OWyoqwOx5",
   "metadata": {
    "id": "vu2OWyoqwOx5"
   },
   "source": [
    "¿Qué sugiere este resultado?\n",
    "\n",
    "Tenemos en total 121 pedidos que se realizaron el miércoles a las 2 a.m., de los cuales 15 son duplicados. Es decir que esperamos haya 106 pedidos realizados el miércoles a las 2 a.m."
   ]
  },
  {
   "cell_type": "code",
   "execution_count": 15,
   "id": "480563c7",
   "metadata": {
    "id": "480563c7"
   },
   "outputs": [],
   "source": [
    "# Elimina los pedidos duplicados\n",
    "instacart_orders = instacart_orders.drop_duplicates().reset_index(drop=True)"
   ]
  },
  {
   "cell_type": "code",
   "execution_count": 16,
   "id": "0b2396a2",
   "metadata": {
    "id": "0b2396a2"
   },
   "outputs": [
    {
     "name": "stdout",
     "output_type": "stream",
     "text": [
      "0\n"
     ]
    }
   ],
   "source": [
    "# Vuelve a verificar si hay filas duplicadas\n",
    "print(instacart_orders.duplicated().sum())"
   ]
  },
  {
   "cell_type": "code",
   "execution_count": 17,
   "id": "f6113ef1",
   "metadata": {
    "id": "f6113ef1"
   },
   "outputs": [
    {
     "name": "stdout",
     "output_type": "stream",
     "text": [
      "[False]\n"
     ]
    }
   ],
   "source": [
    "# Vuelve a verificar si hay IDs duplicados de pedidos\n",
    "print(instacart_orders.duplicated(subset='order_id').unique())"
   ]
  },
  {
   "cell_type": "markdown",
   "id": "5e8905ae",
   "metadata": {
    "id": "5e8905ae"
   },
   "source": [
    "Describe brevemente tus hallazgos y lo que hiciste con ellos\n",
    "\n",
    "Se descubrió que algunos pedidos realizados en miércoles a las 2 a.m. se duplicaban, para ello filtramos aquellos registros duplicados y los eliminamos para que no afecte al análisis que se realizará y al final se comprueba que no haya valores duplicados."
   ]
  },
  {
   "cell_type": "markdown",
   "id": "b1073832",
   "metadata": {},
   "source": [
    "<div class=\"alert alert-block alert-success\">\n",
    "<b>Comentario del revisor</b> <a class=\"tocSkip\"></a>\n",
    "    \n",
    "Buen trabajo analizando los duplicados de lsa ordenes\n",
    "</div>"
   ]
  },
  {
   "cell_type": "markdown",
   "id": "45e6bc46",
   "metadata": {
    "id": "45e6bc46"
   },
   "source": [
    "### `products` data frame"
   ]
  },
  {
   "cell_type": "code",
   "execution_count": 18,
   "id": "5f526b5b-8175-46fa-a0fd-441767d50e64",
   "metadata": {
    "id": "5f526b5b-8175-46fa-a0fd-441767d50e64"
   },
   "outputs": [
    {
     "name": "stdout",
     "output_type": "stream",
     "text": [
      "0\n"
     ]
    }
   ],
   "source": [
    "# Verifica si hay filas totalmente duplicadas\n",
    "print(products.duplicated().sum())"
   ]
  },
  {
   "cell_type": "code",
   "execution_count": 19,
   "id": "88daa4f4",
   "metadata": {
    "id": "88daa4f4"
   },
   "outputs": [
    {
     "name": "stdout",
     "output_type": "stream",
     "text": [
      "0\n"
     ]
    }
   ],
   "source": [
    "# Verifica si hay IDs duplicadas de productos\n",
    "print(products.duplicated(subset='product_id').sum())"
   ]
  },
  {
   "cell_type": "code",
   "execution_count": 20,
   "id": "c773f0bf",
   "metadata": {
    "id": "c773f0bf"
   },
   "outputs": [
    {
     "name": "stdout",
     "output_type": "stream",
     "text": [
      "1361\n"
     ]
    }
   ],
   "source": [
    "# Revisa si hay nombres duplicados de productos (convierte los nombres a letras mayúsculas para compararlos mejor)\n",
    "products['prod_name_modf'] = products['product_name'].str.upper()\n",
    "print(products.duplicated(subset='prod_name_modf').sum())"
   ]
  },
  {
   "cell_type": "code",
   "execution_count": 21,
   "id": "01efd02e",
   "metadata": {
    "id": "01efd02e"
   },
   "outputs": [
    {
     "name": "stdout",
     "output_type": "stream",
     "text": [
      "Valores duplicados: 1361\n",
      "Valores nulos (faltantes): 1258\n",
      "Valores no faltantes duplicados: 104\n"
     ]
    }
   ],
   "source": [
    "# Revisa si hay nombres duplicados de productos no faltantes\n",
    "print('Valores duplicados:', products.duplicated(subset='prod_name_modf').sum())\n",
    "print('Valores nulos (faltantes):', products['prod_name_modf'].isna().sum())\n",
    "print('Valores no faltantes duplicados:', products[~products['prod_name_modf'].isna()].duplicated(subset='prod_name_modf').sum())"
   ]
  },
  {
   "cell_type": "code",
   "execution_count": 22,
   "id": "dd4fb670",
   "metadata": {},
   "outputs": [
    {
     "name": "stdout",
     "output_type": "stream",
     "text": [
      "0\n"
     ]
    }
   ],
   "source": [
    "print(products[(~products['prod_name_modf'].isna()) & (products['prod_name_modf'].duplicated())]['product_id'].duplicated().sum())\n"
   ]
  },
  {
   "cell_type": "markdown",
   "id": "9da8d293",
   "metadata": {
    "id": "9da8d293"
   },
   "source": [
    "Describe brevemente tus hallazgos y lo que hiciste con ellos.\n",
    "\n",
    "Como vimos en un inicio, hay 1258 valores ausentes en la columna product_name, lo que nos indica que al buscar valores duplicados en esa misma columna, obtendremos 1257 valores duplicados, ya que hay 1258 valores de tipo 'NAN'. Pero al convertir todos los nombres en mayúsculas encontramos que hay 1361 valores duplicados. Suponemos que al restar (1361-1258=103) tenemos 103 valores repetidos, diferentes de 'NAN'. Obtenemos 104 ya que hay un valor repetido una vez adicional a los demás.\n",
    "\n",
    "Sin embargo, verificamos que estos 104 valores repetidos no tuvieran un 'product_id' repetido, y como encontramos en la celda anterior, no podemos afirmar que hay valores duplicados, pues los 'product_id' de aquellos productos con nombres en mayúsculas duplicados no se repiten."
   ]
  },
  {
   "cell_type": "markdown",
   "id": "93b73d8a",
   "metadata": {},
   "source": [
    "<div class=\"alert alert-block alert-success\">\n",
    "<b>Comentario del revisor</b> <a class=\"tocSkip\"></a>\n",
    "    \n",
    "**solucionado**\n",
    "Lo que identifica un producto de manera unica es product_id no product_name, por lo que estos productos NO necesariamente son duplicados\n",
    "</div>"
   ]
  },
  {
   "cell_type": "markdown",
   "id": "60f30db1",
   "metadata": {
    "id": "60f30db1"
   },
   "source": [
    "### `departments` data frame"
   ]
  },
  {
   "cell_type": "code",
   "execution_count": 23,
   "id": "fb410ad4-0fbf-4b80-bb09-23fdea79afe3",
   "metadata": {
    "id": "fb410ad4-0fbf-4b80-bb09-23fdea79afe3"
   },
   "outputs": [
    {
     "name": "stdout",
     "output_type": "stream",
     "text": [
      "Filas duplicadas:  0\n"
     ]
    }
   ],
   "source": [
    "# Revisa si hay filas totalmente duplicadas\n",
    "print('Filas duplicadas: ', departments.duplicated().sum())"
   ]
  },
  {
   "cell_type": "code",
   "execution_count": 24,
   "id": "332b12bb",
   "metadata": {
    "id": "332b12bb"
   },
   "outputs": [
    {
     "name": "stdout",
     "output_type": "stream",
     "text": [
      "IDs duplicados:  0\n",
      "Nombres duplicados:  0\n"
     ]
    }
   ],
   "source": [
    "# Revisa si hay IDs duplicadas de productos\n",
    "print('IDs duplicados: ', departments.duplicated('department_id').sum())\n",
    "print('Nombres duplicados: ', departments.duplicated('department').sum())"
   ]
  },
  {
   "cell_type": "markdown",
   "id": "bd30d78e",
   "metadata": {
    "id": "bd30d78e"
   },
   "source": [
    "Describe brevemente tus hallazgos y lo que hiciste con ellos.\n",
    "\n",
    "No se hayaron ID´s, nombres o filas duplicadas."
   ]
  },
  {
   "cell_type": "markdown",
   "id": "889349c1",
   "metadata": {
    "id": "889349c1"
   },
   "source": [
    "### `aisles` data frame"
   ]
  },
  {
   "cell_type": "code",
   "execution_count": 25,
   "id": "9da89fb9-4679-40f5-ad0d-c34df753a3f8",
   "metadata": {
    "id": "9da89fb9-4679-40f5-ad0d-c34df753a3f8"
   },
   "outputs": [
    {
     "name": "stdout",
     "output_type": "stream",
     "text": [
      "Filas duplicadas:  0\n"
     ]
    }
   ],
   "source": [
    "# Revisa si hay filas totalmente duplicadas\n",
    "print('Filas duplicadas: ', aisles.duplicated().sum())"
   ]
  },
  {
   "cell_type": "code",
   "execution_count": 26,
   "id": "da7c2822",
   "metadata": {
    "id": "da7c2822"
   },
   "outputs": [
    {
     "name": "stdout",
     "output_type": "stream",
     "text": [
      "IDs duplicados:  0\n",
      "Nombres duplicados:  0\n"
     ]
    }
   ],
   "source": [
    "# Revisa si hay IDs duplicadas de productos\n",
    "print('IDs duplicados: ', aisles.duplicated('aisle_id').sum())\n",
    "print('Nombres duplicados: ', aisles.duplicated('aisle').sum())"
   ]
  },
  {
   "cell_type": "markdown",
   "id": "ac63826f",
   "metadata": {
    "id": "ac63826f"
   },
   "source": [
    "Describe brevemente tus hallazgos y lo que hiciste con ellos.\n",
    "\n",
    "No se hayaron ID´s, nombres o filas duplicadas."
   ]
  },
  {
   "cell_type": "markdown",
   "id": "274cd06a",
   "metadata": {
    "id": "274cd06a"
   },
   "source": [
    "### `order_products` data frame"
   ]
  },
  {
   "cell_type": "code",
   "execution_count": 27,
   "id": "52326689-84a8-4b8f-a881-7c68780f62c9",
   "metadata": {
    "id": "52326689-84a8-4b8f-a881-7c68780f62c9"
   },
   "outputs": [
    {
     "name": "stdout",
     "output_type": "stream",
     "text": [
      "Filas duplicadas:  0\n"
     ]
    }
   ],
   "source": [
    "# Revisa si hay filas totalmente duplicadas\n",
    "print('Filas duplicadas: ', order_products.duplicated().sum())"
   ]
  },
  {
   "cell_type": "code",
   "execution_count": 28,
   "id": "7b861391",
   "metadata": {
    "id": "7b861391"
   },
   "outputs": [
    {
     "name": "stdout",
     "output_type": "stream",
     "text": [
      "          product_id  add_to_cart_order  reordered\n",
      "order_id                                          \n",
      "4                 13                 13         13\n",
      "9                 15                 15         15\n",
      "11                 5                  5          5\n",
      "19                 3                  3          3\n",
      "20                 8                  8          8\n",
      "...              ...                ...        ...\n",
      "3421034           17                 17         17\n",
      "3421053            9                  9          9\n",
      "3421071            5                  5          5\n",
      "3421077            4                  4          4\n",
      "3421079            1                  1          1\n",
      "\n",
      "[450046 rows x 3 columns]\n"
     ]
    }
   ],
   "source": [
    "# Vuelve a verificar si hay cualquier otro duplicado engañoso\n",
    "print(order_products.groupby('order_id').count())#.groupby('order_id').count())"
   ]
  },
  {
   "cell_type": "markdown",
   "id": "0b890492",
   "metadata": {
    "id": "0b890492"
   },
   "source": [
    "Describe brevemente tus hallazgos y lo que hiciste con ellos.\n",
    "\n",
    "Dado que no hay filas repetidas, es difícil demostrar que exista cualquier otro caso duplicado, pues como cada fila representa un artículo pedido en un pedido, no podemos afirmar que haya cualquier otro caso de duplicado, a menos que contemos con mayor información coomo fecha y hora en la que se realizo cada pedido."
   ]
  },
  {
   "cell_type": "markdown",
   "id": "e6600509",
   "metadata": {},
   "source": [
    "<div class=\"alert alert-block alert-success\">\n",
    "<b>Comentario del revisor</b> <a class=\"tocSkip\"></a>\n",
    "    \n",
    "Buen trabajo con estos 3 ultimos dataframes\n",
    "</div>"
   ]
  },
  {
   "cell_type": "markdown",
   "id": "1e46de76",
   "metadata": {
    "id": "1e46de76"
   },
   "source": [
    "## Encuentra y elimina los valores ausentes\n",
    "\n",
    "Al trabajar con valores duplicados, pudimos observar que también nos falta investigar valores ausentes:\n",
    "\n",
    "* La columna `'product_name'` de la tabla products.\n",
    "* La columna `'days_since_prior_order'` de la tabla orders.\n",
    "* La columna `'add_to_cart_order'` de la tabla order_productos."
   ]
  },
  {
   "cell_type": "markdown",
   "id": "c0aebd78",
   "metadata": {
    "id": "c0aebd78"
   },
   "source": [
    "### `products` data frame"
   ]
  },
  {
   "cell_type": "code",
   "execution_count": 29,
   "id": "fe4a8b0f",
   "metadata": {
    "id": "fe4a8b0f"
   },
   "outputs": [
    {
     "name": "stdout",
     "output_type": "stream",
     "text": [
      "product_id           0\n",
      "product_name      1258\n",
      "aisle_id             0\n",
      "department_id        0\n",
      "prod_name_modf    1258\n",
      "dtype: int64\n"
     ]
    }
   ],
   "source": [
    "# Encuentra los valores ausentes en la columna 'product_name'\n",
    "print(products.isna().sum())"
   ]
  },
  {
   "cell_type": "markdown",
   "id": "-A6x1AbJhjkp",
   "metadata": {
    "id": "-A6x1AbJhjkp"
   },
   "source": [
    "Describe brevemente cuáles son tus hallazgos.\n",
    "\n",
    "Hay 1258 valores ausentes en las columnas 'product_name' y 'prod_name_modf'"
   ]
  },
  {
   "cell_type": "code",
   "execution_count": 30,
   "id": "e96167bc",
   "metadata": {
    "id": "e96167bc"
   },
   "outputs": [
    {
     "name": "stdout",
     "output_type": "stream",
     "text": [
      "product_id        1258\n",
      "product_name         0\n",
      "aisle_id          1258\n",
      "department_id     1258\n",
      "prod_name_modf       0\n",
      "dtype: int64\n"
     ]
    }
   ],
   "source": [
    "#  ¿Todos los nombres de productos ausentes están relacionados con el pasillo con ID 100?\n",
    "\n",
    "print(products[(products['product_name'].isna()) & (products['aisle_id']==100)].count())"
   ]
  },
  {
   "cell_type": "markdown",
   "id": "WRpIfXRphpSL",
   "metadata": {
    "id": "WRpIfXRphpSL"
   },
   "source": [
    "Describe brevemente cuáles son tus hallazgos.\n",
    "\n",
    "Nos dimos cuenta de que todos aquellos valores ausentes pertenecían al pasillo 100 y el departamento 21."
   ]
  },
  {
   "cell_type": "code",
   "execution_count": 31,
   "id": "8fd0a541",
   "metadata": {
    "id": "8fd0a541"
   },
   "outputs": [
    {
     "name": "stdout",
     "output_type": "stream",
     "text": [
      "product_id        1258\n",
      "product_name         0\n",
      "aisle_id          1258\n",
      "department_id     1258\n",
      "prod_name_modf       0\n",
      "dtype: int64\n"
     ]
    }
   ],
   "source": [
    "# ¿Todos los nombres de productos ausentes están relacionados con el departamento con ID 21?\n",
    "\n",
    "print(products[(products['product_name'].isna()) & (products['department_id']==21)].count())"
   ]
  },
  {
   "cell_type": "markdown",
   "id": "qDpdYn1Fht_I",
   "metadata": {
    "id": "qDpdYn1Fht_I"
   },
   "source": [
    "Describe brevemente cuáles son tus hallazgos.\n",
    "\n",
    "En la sección anterior nos dimos cuenta de que todos aquellos valores ausentes pertenecían al pasillo 100 y el departamento 21."
   ]
  },
  {
   "cell_type": "code",
   "execution_count": 32,
   "id": "325c3464",
   "metadata": {
    "id": "325c3464"
   },
   "outputs": [
    {
     "name": "stdout",
     "output_type": "stream",
     "text": [
      "    department_id department\n",
      "20             21    missing\n",
      "    aisle_id    aisle\n",
      "99       100  missing\n"
     ]
    }
   ],
   "source": [
    "# Usa las tablas department y aisle para revisar los datos del pasillo con ID 100 y el departamento con ID 21.\n",
    "print(departments[departments['department_id']==21])\n",
    "print(aisles[aisles['aisle_id']==100])"
   ]
  },
  {
   "cell_type": "markdown",
   "id": "nqhSTUPhhvEJ",
   "metadata": {
    "id": "nqhSTUPhhvEJ"
   },
   "source": [
    "Describe brevemente cuáles son tus hallazgos.\n",
    "\n",
    "Tanto el pasillo como el departamento, son valores desconocidos."
   ]
  },
  {
   "cell_type": "code",
   "execution_count": 33,
   "id": "6b295120",
   "metadata": {
    "id": "6b295120"
   },
   "outputs": [
    {
     "name": "stdout",
     "output_type": "stream",
     "text": [
      "       product_id product_name  aisle_id  department_id prod_name_modf\n",
      "37             38       Unknow       100             21         Unknow\n",
      "71             72       Unknow       100             21         Unknow\n",
      "109           110       Unknow       100             21         Unknow\n",
      "296           297       Unknow       100             21         Unknow\n",
      "416           417       Unknow       100             21         Unknow\n",
      "...           ...          ...       ...            ...            ...\n",
      "49552       49553       Unknow       100             21         Unknow\n",
      "49574       49575       Unknow       100             21         Unknow\n",
      "49640       49641       Unknow       100             21         Unknow\n",
      "49663       49664       Unknow       100             21         Unknow\n",
      "49668       49669       Unknow       100             21         Unknow\n",
      "\n",
      "[1258 rows x 5 columns]\n"
     ]
    }
   ],
   "source": [
    "# Completa los nombres de productos ausentes con 'Unknown'\n",
    "\n",
    "\n",
    "products['product_name'] = products['product_name'].fillna('Unknow')\n",
    "products['prod_name_modf'] = products['prod_name_modf'].fillna('Unknow')\n",
    "print(products[products['product_name']=='Unknow'])\n",
    "\n",
    "\n"
   ]
  },
  {
   "cell_type": "markdown",
   "id": "fc70e5ad",
   "metadata": {
    "id": "fc70e5ad"
   },
   "source": [
    "Describe brevemente tus hallazgos y lo que hiciste con ellos.\n",
    "\n",
    "Renombramos todos aquellos valores ausentes de manera exitosa."
   ]
  },
  {
   "cell_type": "markdown",
   "id": "9c2ffbc9",
   "metadata": {},
   "source": [
    "<div class=\"alert alert-block alert-success\">\n",
    "<b>Comentario del revisor</b> <a class=\"tocSkip\"></a>\n",
    "    \n",
    "**solucionado**\n",
    "    \n",
    "Si bien, tu analisis en la parte superior esta correcto y tus conclusiones son acertadas, es mejor que lo traigas a esta parte por dos motivos:\n",
    "    \n",
    "1° Cuando revises los ids, te daras cuenta que no habran duplicados de productos no nulos.\n",
    "\n",
    "2° Un tema de orden.\n",
    "\n",
    "Si prefieres dejarlo como esta, tambien es valido, pero dejo el comentario para recalcar que en el punto anterior el identificar unico es product_id no product_name\n",
    "\n",
    "</div>"
   ]
  },
  {
   "cell_type": "markdown",
   "id": "7eb45c86",
   "metadata": {
    "id": "7eb45c86"
   },
   "source": [
    "### `orders` data frame"
   ]
  },
  {
   "cell_type": "code",
   "execution_count": 34,
   "id": "93e41d96",
   "metadata": {
    "id": "93e41d96"
   },
   "outputs": [
    {
     "name": "stdout",
     "output_type": "stream",
     "text": [
      "order_id                      0\n",
      "user_id                       0\n",
      "order_number                  0\n",
      "order_dow                     0\n",
      "order_hour_of_day             0\n",
      "days_since_prior_order    28817\n",
      "dtype: int64\n"
     ]
    }
   ],
   "source": [
    "# Encuentra los valores ausentes\n",
    "print(instacart_orders.isna().sum())"
   ]
  },
  {
   "cell_type": "code",
   "execution_count": 35,
   "id": "166e5a86",
   "metadata": {
    "id": "166e5a86"
   },
   "outputs": [
    {
     "name": "stdout",
     "output_type": "stream",
     "text": [
      "Empty DataFrame\n",
      "Columns: [order_id, user_id, order_number, order_dow, order_hour_of_day, days_since_prior_order]\n",
      "Index: []\n"
     ]
    }
   ],
   "source": [
    "# ¿Hay algún valor ausente que no sea el primer pedido del cliente?\n",
    "print(instacart_orders[\n",
    "    (instacart_orders['days_since_prior_order'].isna()) \n",
    "    & \n",
    "    (instacart_orders['order_number']>1)\n",
    "    ])"
   ]
  },
  {
   "cell_type": "markdown",
   "id": "4e23d089",
   "metadata": {
    "id": "4e23d089"
   },
   "source": [
    "Describe brevemente tus hallazgos y lo que hiciste con ellos.\n",
    "\n",
    "Al parecer, todos aquellos valores ausentes en la columna 'days_since_prior_order' existen porque no se había realizado un pedido anterior a ese, es decir, han sido los primeros pedidos que se realizan por cada cliente."
   ]
  },
  {
   "cell_type": "markdown",
   "id": "fe8d4e09",
   "metadata": {},
   "source": [
    "<div class=\"alert alert-block alert-success\">\n",
    "<b>Comentario del revisor</b> <a class=\"tocSkip\"></a>\n",
    "    \n",
    "Exactamente! muy buena observacion\n",
    "</div>"
   ]
  },
  {
   "cell_type": "markdown",
   "id": "69dc9ca4",
   "metadata": {
    "id": "69dc9ca4"
   },
   "source": [
    "### `order_products` data frame"
   ]
  },
  {
   "cell_type": "code",
   "execution_count": 36,
   "id": "b8240253",
   "metadata": {
    "id": "b8240253"
   },
   "outputs": [
    {
     "name": "stdout",
     "output_type": "stream",
     "text": [
      "order_id               0\n",
      "product_id             0\n",
      "add_to_cart_order    836\n",
      "reordered              0\n",
      "dtype: int64\n"
     ]
    }
   ],
   "source": [
    "# Encuentra los valores ausentes\n",
    "print(order_products.isna().sum())"
   ]
  },
  {
   "cell_type": "code",
   "execution_count": 37,
   "id": "9a78e5ee",
   "metadata": {
    "id": "9a78e5ee"
   },
   "outputs": [
    {
     "name": "stdout",
     "output_type": "stream",
     "text": [
      "64.0\n",
      "1.0\n"
     ]
    }
   ],
   "source": [
    "# ¿Cuáles son los valores mínimos y máximos en esta columna?\n",
    "print(order_products['add_to_cart_order'].max())\n",
    "print(order_products['add_to_cart_order'].min())"
   ]
  },
  {
   "cell_type": "markdown",
   "id": "-Z2Ja215jW78",
   "metadata": {
    "id": "-Z2Ja215jW78"
   },
   "source": [
    "Describe brevemente cuáles son tus hallazgos.\n",
    "\n",
    "Al parecer, el pedido más grande fue de 64 artículos y el más pequeño fue de solo uno."
   ]
  },
  {
   "cell_type": "code",
   "execution_count": 38,
   "id": "ab9d0c2b",
   "metadata": {
    "id": "ab9d0c2b"
   },
   "outputs": [
    {
     "name": "stdout",
     "output_type": "stream",
     "text": [
      "    order_id\n",
      "0    2449164\n",
      "1    1968313\n",
      "2    2926893\n",
      "3    1717990\n",
      "4    1959075\n",
      "..       ...\n",
      "65      9310\n",
      "66   2170451\n",
      "67   2979697\n",
      "68   1625713\n",
      "69   1529171\n",
      "\n",
      "[70 rows x 1 columns]\n"
     ]
    }
   ],
   "source": [
    "# Guarda todas las IDs de pedidos que tengan un valor ausente en 'add_to_cart_order'\n",
    "order_id_NaN = order_products[order_products['add_to_cart_order'].isna()]['order_id'].unique()\n",
    "add_to_cart_order_id = pd.DataFrame(data=order_id_NaN, columns=['order_id'])\n",
    "print(add_to_cart_order_id)"
   ]
  },
  {
   "cell_type": "code",
   "execution_count": 39,
   "id": "54c31695",
   "metadata": {
    "id": "54c31695"
   },
   "outputs": [
    {
     "name": "stdout",
     "output_type": "stream",
     "text": [
      "65\n"
     ]
    }
   ],
   "source": [
    "# ¿Todos los pedidos con valores ausentes tienen más de 64 productos?\n",
    "# Agrupa todos los pedidos con datos ausentes por su ID de pedido.\n",
    "# Cuenta el número de 'product_id' en cada pedido y revisa el valor mínimo del conteo.\n",
    "print(order_products.merge(add_to_cart_order_id, on='order_id').groupby('order_id')['product_id'].count().min())"
   ]
  },
  {
   "cell_type": "markdown",
   "id": "p9V6pddtjglj",
   "metadata": {
    "id": "p9V6pddtjglj"
   },
   "source": [
    "Describe brevemente cuáles son tus hallazgos.\n",
    "\n",
    "Se descubrió que son 70 pedidos que contienen valores ausentes. De esos 70 pedidos, se confirma que todos tienen 65 o más productos."
   ]
  },
  {
   "cell_type": "code",
   "execution_count": 40,
   "id": "7a987d08",
   "metadata": {
    "id": "7a987d08"
   },
   "outputs": [],
   "source": [
    "# Remplaza los valores ausentes en la columna 'add_to_cart? con 999 y convierte la columna al tipo entero.\n",
    "order_products['add_to_cart_order'] = order_products['add_to_cart_order'].fillna(999).astype('int')"
   ]
  },
  {
   "cell_type": "markdown",
   "id": "fea4bcc7",
   "metadata": {
    "id": "fea4bcc7"
   },
   "source": [
    "Describe brevemente tus hallazgos y lo que hiciste con ellos.\n",
    "\n",
    "Al realizar este ejercicio, quise utilizar el parámetro 'inplace=True' en el método fillna(), pues consideré que era la mejor opción, pero descubrí que no puedes encadenar otra operación directamente después de un método con inplace=True. 🤯"
   ]
  },
  {
   "cell_type": "markdown",
   "id": "ffd05e0d",
   "metadata": {},
   "source": [
    "<div class=\"alert alert-block alert-success\">\n",
    "<b>Comentario del revisor</b> <a class=\"tocSkip\"></a>\n",
    "    \n",
    "Exactamente, esto es por que con inplace señalas que guardas el resutlado de la operación, lo cual es una forma de \"finalizar\" el proceso, por asi decirlo\n",
    "</div>"
   ]
  },
  {
   "cell_type": "markdown",
   "id": "RnplPFY1gSrb",
   "metadata": {
    "id": "RnplPFY1gSrb"
   },
   "source": [
    "## Conclusiones\n",
    "\n",
    "Escribe aquí tus conclusiones intermedias sobre el Paso 2. Preprocesamiento de los datos\n",
    "\n",
    "Es fundamental y de suma importancia pre-procesar la información de todos los data sets que se utilizarán para un análisi, pues este es un claro ejemplo de que no toda la info nos llega limpia. "
   ]
  },
  {
   "cell_type": "markdown",
   "id": "UjrOIwTcz3ri",
   "metadata": {
    "id": "UjrOIwTcz3ri"
   },
   "source": [
    "# Paso 3. Análisis de los datos\n",
    "\n",
    "Una vez los datos estén procesados y listos, haz el siguiente análisis:"
   ]
  },
  {
   "cell_type": "markdown",
   "id": "turkish-kidney",
   "metadata": {
    "id": "turkish-kidney"
   },
   "source": [
    "# [A] Fácil (deben completarse todos para aprobar)\n",
    "\n",
    "1. Verifica que los valores en las columnas `'order_hour_of_day'` y `'order_dow'` en la tabla orders sean razonables (es decir, `'order_hour_of_day'` oscile entre 0 y 23 y `'order_dow'` oscile entre 0 y 6).\n",
    "2. Crea un gráfico que muestre el número de personas que hacen pedidos dependiendo de la hora del día.\n",
    "3. Crea un gráfico que muestre qué día de la semana la gente hace sus compras.\n",
    "4. Crea un gráfico que muestre el tiempo que la gente espera hasta hacer su siguiente pedido, y comenta sobre los valores mínimos y máximos."
   ]
  },
  {
   "cell_type": "markdown",
   "id": "short-capability",
   "metadata": {
    "id": "short-capability"
   },
   "source": [
    "### [A1] Verifica que los valores sean sensibles"
   ]
  },
  {
   "cell_type": "code",
   "execution_count": 41,
   "id": "growing-fruit",
   "metadata": {
    "id": "growing-fruit"
   },
   "outputs": [
    {
     "name": "stdout",
     "output_type": "stream",
     "text": [
      "23\n",
      "0\n"
     ]
    }
   ],
   "source": [
    "print(instacart_orders['order_hour_of_day'].max())\n",
    "print(instacart_orders['order_hour_of_day'].min())"
   ]
  },
  {
   "cell_type": "code",
   "execution_count": 42,
   "id": "accessory-malaysia",
   "metadata": {
    "id": "accessory-malaysia"
   },
   "outputs": [
    {
     "name": "stdout",
     "output_type": "stream",
     "text": [
      "6\n",
      "0\n"
     ]
    }
   ],
   "source": [
    "print(instacart_orders['order_dow'].max())\n",
    "print(instacart_orders['order_dow'].min())"
   ]
  },
  {
   "cell_type": "markdown",
   "id": "hmR2GNQ6lCsX",
   "metadata": {
    "id": "hmR2GNQ6lCsX"
   },
   "source": [
    "Escribe aquí tus conclusiones\n",
    "\n",
    "Se comprueba que los valores de 'order_hour_of_day' oscilan entre 0 y 23. Mientras que los valores de 'order_dow' se encuentran entre 0 y 6."
   ]
  },
  {
   "cell_type": "markdown",
   "id": "a6743a70",
   "metadata": {
    "id": "a6743a70"
   },
   "source": [
    "### [A2] Para cada hora del día, ¿cuántas personas hacen órdenes?"
   ]
  },
  {
   "cell_type": "code",
   "execution_count": 43,
   "id": "a36cca27",
   "metadata": {
    "id": "a36cca27"
   },
   "outputs": [
    {
     "data": {
      "image/png": "[encoded data removed]",
      "text/plain": [
       "<Figure size 640x480 with 1 Axes>"
      ]
     },
     "metadata": {},
     "output_type": "display_data"
    }
   ],
   "source": [
    "instacart_orders.hist(column='order_hour_of_day', bins=24)\n",
    "plt.title('Pedidos realizados por hora')\n",
    "plt.xlabel('Horas del día') \n",
    "plt.ylabel('Frecuencia')\n",
    "plt.show()"
   ]
  },
  {
   "cell_type": "markdown",
   "id": "11270eed",
   "metadata": {
    "id": "11270eed"
   },
   "source": [
    "Escribe aquí tus conclusiones\n",
    "\n",
    "Entre las 8:00 y 18:00 son las horas en las que se realizan la mayor cantidad de pedidos. Sin embargo, las horas en las que mayor demanda hay se encuentra entre las 10:00 y 15:00. Por el contrario, de 20:00 a 7:00 son las horas en las que se realizan menos cantidad de pedidos, siendo de la 1:00 a las 5:00 las horas en las que menor demanda hay."
   ]
  },
  {
   "cell_type": "markdown",
   "id": "documented-command",
   "metadata": {
    "id": "documented-command"
   },
   "source": [
    "### [A3] ¿Qué día de la semana compran víveres las personas?"
   ]
  },
  {
   "cell_type": "code",
   "execution_count": 44,
   "id": "cb6206f0",
   "metadata": {},
   "outputs": [
    {
     "name": "stdout",
     "output_type": "stream",
     "text": [
      "order_dow\n",
      "0    84090\n",
      "1    82185\n",
      "2    65833\n",
      "5    63488\n",
      "6    62649\n",
      "3    60897\n",
      "4    59810\n",
      "Name: count, dtype: int64\n"
     ]
    }
   ],
   "source": [
    "print(instacart_orders['order_dow'].value_counts())"
   ]
  },
  {
   "cell_type": "code",
   "execution_count": 45,
   "id": "chief-digit",
   "metadata": {
    "id": "chief-digit"
   },
   "outputs": [
    {
     "data": {
      "image/png": "[encoded data removed]",
      "text/plain": [
       "<Figure size 640x480 with 1 Axes>"
      ]
     },
     "metadata": {},
     "output_type": "display_data"
    }
   ],
   "source": [
    "instacart_orders['order_dow'].value_counts().plot(x='order_dow', kind='bar')\n",
    "plt.title('Pedidos realizados semana')\n",
    "plt.xlabel('Día de la semana') \n",
    "plt.ylabel('Frecuencia')\n",
    "plt.legend(['0: Domingo'])\n",
    "plt.show()"
   ]
  },
  {
   "cell_type": "markdown",
   "id": "cb87d087",
   "metadata": {},
   "source": [
    "<div class=\"alert alert-block alert-success\">\n",
    "<b>Comentario del revisor</b> <a class=\"tocSkip\"></a>\n",
    "    \n",
    "**solucionado**\n",
    "Cambia este gráfico por uno de barras. Para los gráficos de barra, recuerda que primero debes calcular la información y luego gráficarla\n",
    "</div>"
   ]
  },
  {
   "cell_type": "markdown",
   "id": "dominant-lightning",
   "metadata": {
    "id": "dominant-lightning"
   },
   "source": [
    "Escribe aquí tus conclusiones\n",
    "\n",
    "El domingo y el lunes son los días con mayor demanda en pedidos, mientras que de martes a sábado se mantiene \"constante\" el número de pédidos."
   ]
  },
  {
   "cell_type": "markdown",
   "id": "cutting-concert",
   "metadata": {
    "id": "cutting-concert"
   },
   "source": [
    "### [A4] ¿Cuánto tiempo esperan las personas hasta hacer otro pedido? Comenta sobre los valores mínimos y máximos."
   ]
  },
  {
   "cell_type": "code",
   "execution_count": 46,
   "id": "c231f523",
   "metadata": {
    "id": "c231f523"
   },
   "outputs": [
    {
     "data": {
      "image/png": "[encoded data removed]",
      "text/plain": [
       "<Figure size 640x480 with 1 Axes>"
      ]
     },
     "metadata": {},
     "output_type": "display_data"
    }
   ],
   "source": [
    "instacart_orders.hist(column='days_since_prior_order', bins=31)\n",
    "plt.title('Días transcurridos antes de realizar otro pedido')\n",
    "plt.xlabel('Número de días') \n",
    "plt.ylabel('Frecuencia')\n",
    "plt.show()"
   ]
  },
  {
   "cell_type": "markdown",
   "id": "discrete-vertex",
   "metadata": {
    "id": "discrete-vertex"
   },
   "source": [
    "Escribe aquí tus conclusiones\n",
    "\n",
    "En gran parte, los clientes esperan un mes o una semana para volver a relaizar un nuevo pedido. Sin embargo, es notorio que hay una mayor parte de los clientes que esperan 30 días para realizar otro pedido. De lo contrario la gente es muy poca la gente que vuelve a realizar otro pedido después de haber transcurrido entre 16 y 29 días.\n",
    "\n",
    "Algo curioso, es que sus valor mínimo que es 0, tiene una frecuencia de casi 10,000, esto quere decir que hay más clientes que vuelven a pedir sin que haya pasado más de un día de su último pedido en comparación de aquellos clientes que vuelven a pedir después de 16 o 29 días. Por otro lado, su valor máximo que son 30 días, tiene la mayor frecuencia de todos los datos, esto quiere decir que es más probable que la gente vuelva a realizar un pedido después de haber transcurrido 30 días."
   ]
  },
  {
   "cell_type": "markdown",
   "id": "91ce3d46",
   "metadata": {},
   "source": [
    "<div class=\"alert alert-block alert-success\">\n",
    "<b>Comentario del revisor</b> <a class=\"tocSkip\"></a>\n",
    "    \n",
    "Gran trabajo en general en la parte A\n",
    "</div>"
   ]
  },
  {
   "cell_type": "markdown",
   "id": "tight-staff",
   "metadata": {
    "id": "tight-staff"
   },
   "source": [
    "# [B] Intermedio (deben completarse todos para aprobar)\n",
    "\n",
    "1. ¿Existe alguna diferencia entre las distribuciones `'order_hour_of_day'` de los miércoles y los sábados? Traza gráficos de barra de `'order_hour_of_day'` para ambos días en la misma figura y describe las diferencias que observes.\n",
    "2. Grafica la distribución para el número de órdenes que hacen los clientes (es decir, cuántos clientes hicieron solo 1 pedido, cuántos hicieron 2, cuántos 3, y así sucesivamente...).\n",
    "3. ¿Cuáles son los 20 principales productos que se piden con más frecuencia (muestra su identificación y nombre)?"
   ]
  },
  {
   "cell_type": "markdown",
   "id": "packed-classic",
   "metadata": {
    "id": "packed-classic"
   },
   "source": [
    "### [B1] Diferencia entre miércoles y sábados para  `'order_hour_of_day'`. Traza gráficos de barra para los dos días y describe las diferencias que veas."
   ]
  },
  {
   "cell_type": "code",
   "execution_count": 47,
   "id": "d89b8403",
   "metadata": {
    "id": "d89b8403"
   },
   "outputs": [],
   "source": [
    "# Información de los miércoles.\n",
    "ohod_mier = instacart_orders[instacart_orders['order_dow']==3]['order_hour_of_day']\n",
    "# Información de los sabádos.\n",
    "ohod_saba = instacart_orders[instacart_orders['order_dow']==6]['order_hour_of_day']"
   ]
  },
  {
   "cell_type": "code",
   "execution_count": 48,
   "id": "94e54e8a",
   "metadata": {
    "id": "94e54e8a"
   },
   "outputs": [
    {
     "data": {
      "image/png": "[encoded data removed]",
      "text/plain": [
       "<Figure size 640x480 with 1 Axes>"
      ]
     },
     "metadata": {},
     "output_type": "display_data"
    }
   ],
   "source": [
    "ohod_mier.plot(kind='hist', bins=24, alpha=0.8)\n",
    "ohod_saba.plot(kind='hist', bins=24, alpha=0.5)\n",
    "plt.title('Pedidos realizados por hora Mie vs Sáb')\n",
    "plt.xlabel('Horas del día') \n",
    "plt.ylabel('Frecuencia')\n",
    "plt.legend(['Miércoles', 'Sábado'])\n",
    "plt.show()"
   ]
  },
  {
   "cell_type": "markdown",
   "id": "charitable-congo",
   "metadata": {
    "id": "charitable-congo"
   },
   "source": [
    "Escribe aquí tus conclusiones\n",
    "\n",
    "Las diferencias son muy pocas, pues la más notoria es que los días sábados hay más clientes que solicitan productos entre las 10:00 y 16:00 horas. En su mayoría, siguen las mismas distribuciones, sin embargo es notorio que hay horas en las que un día es mayor que otro, pero por pequeñas cantidades."
   ]
  },
  {
   "cell_type": "markdown",
   "id": "e3891143",
   "metadata": {
    "id": "e3891143"
   },
   "source": [
    "### [B2] ¿Cuál es la distribución para el número de pedidos por cliente?"
   ]
  },
  {
   "cell_type": "code",
   "execution_count": 49,
   "id": "d8c26c23",
   "metadata": {
    "id": "d8c26c23"
   },
   "outputs": [
    {
     "data": {
      "image/png": "[encoded data removed]",
      "text/plain": [
       "<Figure size 640x480 with 1 Axes>"
      ]
     },
     "metadata": {},
     "output_type": "display_data"
    }
   ],
   "source": [
    "instacart_orders['order_number'].plot(kind='hist', bins=100)\n",
    "plt.title('Número de pedidos por cliente')\n",
    "plt.xlabel('número de pedidos') \n",
    "plt.ylabel('Frecuencia/Clientes')\n",
    "plt.show()"
   ]
  },
  {
   "cell_type": "markdown",
   "id": "d2eff7d5",
   "metadata": {
    "id": "d2eff7d5"
   },
   "source": [
    "Escribe aquí tus conclusiones\n",
    "\n",
    "Como se muestra, hay una mayor cantidad de clientes que han hecho pocos pedidos, es decir, de 1 a 5. Mientras más pedidos se van solicitando, disminuye la cantidad de clientes que hacen esto, pues podría interpretarse como si fueran menos de 5000 clientes que realizan más de 50 pedidos.\n",
    "\n",
    "Este histograma nos revela que la distribución de los números de pedidos por cliente, tiene una distribución de poisson, lo cual nos podría ayudar a determinara la probabilidad de que un cliente realice cierta cantidad de pedidos."
   ]
  },
  {
   "cell_type": "markdown",
   "id": "54a0319c",
   "metadata": {
    "id": "54a0319c"
   },
   "source": [
    "### [B3] ¿Cuáles son los 20 productos más populares (muestra su ID y nombre)?"
   ]
  },
  {
   "cell_type": "code",
   "execution_count": 50,
   "id": "exterior-arizona",
   "metadata": {
    "id": "exterior-arizona",
    "scrolled": true
   },
   "outputs": [],
   "source": [
    "prod_mas_pop = order_products['product_id'].value_counts().head(20).reset_index()\n",
    "prod_mas_pop.columns = ['product_id', 'frequency']"
   ]
  },
  {
   "cell_type": "code",
   "execution_count": 51,
   "id": "universal-facial",
   "metadata": {
    "id": "universal-facial"
   },
   "outputs": [
    {
     "name": "stdout",
     "output_type": "stream",
     "text": [
      "    product_id  frequency\n",
      "0        24852      66050\n",
      "1        13176      53297\n",
      "2        21137      37039\n",
      "3        21903      33971\n",
      "4        47209      29773\n",
      "5        47766      24689\n",
      "6        47626      21495\n",
      "7        16797      20018\n",
      "8        26209      19690\n",
      "9        27845      19600\n",
      "10       27966      19197\n",
      "11       22935      15898\n",
      "12       24964      15292\n",
      "13       45007      14584\n",
      "14       39275      13879\n",
      "15       49683      13675\n",
      "16       28204      12544\n",
      "17        5876      12232\n",
      "18        8277      11993\n",
      "19       40706      11781\n"
     ]
    }
   ],
   "source": [
    "print(prod_mas_pop)"
   ]
  },
  {
   "cell_type": "code",
   "execution_count": 52,
   "id": "bbcdd20b",
   "metadata": {
    "id": "bbcdd20b"
   },
   "outputs": [
    {
     "name": "stdout",
     "output_type": "stream",
     "text": [
      "    product_id              product_name\n",
      "1        24852                    Banana\n",
      "2        13176    Bag of Organic Bananas\n",
      "3        21137      Organic Strawberries\n",
      "4        21903      Organic Baby Spinach\n",
      "5        47209      Organic Hass Avocado\n",
      "6        47766           Organic Avocado\n",
      "7        47626               Large Lemon\n",
      "8        16797              Strawberries\n",
      "9        26209                     Limes\n",
      "10       27845        Organic Whole Milk\n",
      "11       27966       Organic Raspberries\n",
      "12       22935      Organic Yellow Onion\n",
      "13       24964            Organic Garlic\n",
      "14       45007          Organic Zucchini\n",
      "15       39275       Organic Blueberries\n",
      "16       49683            Cucumber Kirby\n",
      "17       28204        Organic Fuji Apple\n",
      "18        5876             Organic Lemon\n",
      "19        8277  Apple Honeycrisp Organic\n",
      "20       40706    Organic Grape Tomatoes\n"
     ]
    }
   ],
   "source": [
    "df = prod_mas_pop.merge(products, on='product_id')\n",
    "df.index = df.index + 1\n",
    "print(df[['product_id', 'product_name']])"
   ]
  },
  {
   "cell_type": "markdown",
   "id": "7df00f47",
   "metadata": {
    "id": "7df00f47"
   },
   "source": [
    "Escribe aquí tus conclusiones\n",
    "\n",
    "Notamos que los 20 productos más pedidos, en su mayoría son frutas y verduras orgánicas. Siendo el platano el producto más pedido."
   ]
  },
  {
   "cell_type": "markdown",
   "id": "b7fa13d7",
   "metadata": {},
   "source": [
    "<div class=\"alert alert-block alert-success\">\n",
    "<b>Comentario del revisor</b> <a class=\"tocSkip\"></a>\n",
    "    \n",
    "Buen trabajo en la PArte B\n",
    "</div>"
   ]
  },
  {
   "cell_type": "markdown",
   "id": "gross-theme",
   "metadata": {
    "id": "gross-theme"
   },
   "source": [
    "# [C] Difícil (deben completarse todos para aprobar)\n",
    "\n",
    "1. ¿Cuántos artículos suelen comprar las personas en un pedido? ¿Cómo es la distribución?\n",
    "2. ¿Cuáles son los 20 principales artículos que vuelven a pedirse con mayor frecuencia (muestra sus nombres e IDs de los productos)?\n",
    "3. Para cada producto, ¿cuál es la tasa de repetición del pedido (número de repeticiones de pedido/total de pedidos?\n",
    "4. Para cada cliente, ¿qué proporción de los productos que pidió ya los había pedido? Calcula la tasa de repetición de pedido para cada usuario en lugar de para cada producto.\n",
    "5. ¿Cuáles son los 20 principales artículos que la gente pone primero en sus carritos (muestra las IDs de los productos, sus nombres, y el número de veces en que fueron el primer artículo en añadirse al carrito)?"
   ]
  },
  {
   "cell_type": "markdown",
   "id": "romantic-deposit",
   "metadata": {
    "id": "romantic-deposit"
   },
   "source": [
    "### [C1] ¿Cuántos artículos compran normalmente las personas en un pedido? ¿Cómo es la distribución?"
   ]
  },
  {
   "cell_type": "code",
   "execution_count": 53,
   "id": "virtual-punch",
   "metadata": {
    "id": "virtual-punch"
   },
   "outputs": [
    {
     "name": "stdout",
     "output_type": "stream",
     "text": [
      "La cantidad promedio de articulos que se realizan por pedido: 10.1\n",
      "La cantidad de articulos que más se hacen por pedido: 5\n"
     ]
    }
   ],
   "source": [
    "#Este df nos muestra el número de articulos por pedido.\n",
    "prodxordr = order_products.groupby(by='order_id').count()['product_id']\n",
    "print('La cantidad promedio de articulos que se realizan por pedido:', prodxordr.mean().round(2))\n",
    "print('La cantidad de articulos que más se hacen por pedido:', statistics.mode(prodxordr))"
   ]
  },
  {
   "cell_type": "code",
   "execution_count": 54,
   "id": "sensitive-breathing",
   "metadata": {
    "id": "sensitive-breathing"
   },
   "outputs": [
    {
     "name": "stdout",
     "output_type": "stream",
     "text": [
      "Los valores mínimo y máximo que se han realizado en pedidos son ( 1 , 127 )\n"
     ]
    }
   ],
   "source": [
    "#Aquí veremos el rango de la cantidad de productos en todos los pedidos\n",
    "print('Los valores mínimo y máximo que se han realizado en pedidos son (', prodxordr.min(), ',', prodxordr.max(), ')')"
   ]
  },
  {
   "cell_type": "code",
   "execution_count": 55,
   "id": "completed-frank",
   "metadata": {
    "id": "completed-frank"
   },
   "outputs": [
    {
     "data": {
      "image/png": "[encoded data removed]",
      "text/plain": [
       "<Figure size 640x480 with 1 Axes>"
      ]
     },
     "metadata": {},
     "output_type": "display_data"
    }
   ],
   "source": [
    "#Ahora veamos la distribución...\n",
    "prodxordr.plot(kind='hist', bins=130)\n",
    "plt.title('Número de productos por pedido')\n",
    "plt.xlabel('Número de productos')\n",
    "plt.ylabel('Frecuencia')\n",
    "plt.axvline(x=5, color='r', linestyle='--', linewidth=1, label='x=5')\n",
    "plt.axvline(x=10, color='y', linestyle='--', linewidth=1, label='x=10')\n",
    "plt.grid()\n",
    "plt.legend()\n",
    "plt.show()"
   ]
  },
  {
   "cell_type": "markdown",
   "id": "designed-mortality",
   "metadata": {
    "id": "designed-mortality"
   },
   "source": [
    "Escribe aquí tus conclusiones\n",
    "\n",
    "Como pudimos ver, en promedio los clientes compran 10 productos por pedido, sin embargo, el histograma nos confirma el valor de la moda del número de productos por pedido, pues la cantidad de productos con mayor frecuencia está entre 1 y 10, siendo 5 el valor con mayor fracuencia en nuestro conjunto de datos de productos por pedido.\n",
    "\n",
    "Este histograma nos revela que la distribución del números de productos por pedidos, tiene una distribución de poisson, lo cual nos podría ayudar a determinara la probabilidad de que un pedido tenga una cierta cantidad de productos."
   ]
  },
  {
   "cell_type": "markdown",
   "id": "fb6d6e8e",
   "metadata": {},
   "source": [
    "<div class=\"alert alert-block alert-success\">\n",
    "<b>Comentario del revisor</b> <a class=\"tocSkip\"></a>\n",
    "    \n",
    "Gran trabajo en este punto!\n",
    "</div>"
   ]
  },
  {
   "cell_type": "markdown",
   "id": "5e6b5537",
   "metadata": {
    "id": "5e6b5537"
   },
   "source": [
    "### [C2] ¿Cuáles son los 20 principales artículos que vuelven a pedirse con mayor frecuencia (muestra sus nombres e IDs de los productos)?"
   ]
  },
  {
   "cell_type": "code",
   "execution_count": 56,
   "id": "9374e55a",
   "metadata": {
    "id": "9374e55a"
   },
   "outputs": [],
   "source": [
    "reorder_prod = order_products[order_products['reordered']==1]['product_id'].value_counts().head(20).reset_index()\n",
    "reorder_prod.columns = ['product_id', 'frequency']"
   ]
  },
  {
   "cell_type": "code",
   "execution_count": 57,
   "id": "possible-change",
   "metadata": {
    "id": "possible-change",
    "scrolled": true
   },
   "outputs": [
    {
     "name": "stdout",
     "output_type": "stream",
     "text": [
      "    product_id  frequency\n",
      "0        24852      55763\n",
      "1        13176      44450\n",
      "2        21137      28639\n",
      "3        21903      26233\n",
      "4        47209      23629\n",
      "5        47766      18743\n",
      "6        27845      16251\n",
      "7        47626      15044\n",
      "8        27966      14748\n",
      "9        16797      13945\n",
      "10       26209      13327\n",
      "11       22935      11145\n",
      "12       24964      10411\n",
      "13       45007      10076\n",
      "14       49683       9538\n",
      "15       28204       8989\n",
      "16        8277       8836\n",
      "17       39275       8799\n",
      "18        5876       8412\n",
      "19       49235       8389\n"
     ]
    }
   ],
   "source": [
    "print(reorder_prod)"
   ]
  },
  {
   "cell_type": "code",
   "execution_count": 58,
   "id": "professional-surfing",
   "metadata": {
    "id": "professional-surfing",
    "scrolled": true
   },
   "outputs": [
    {
     "name": "stdout",
     "output_type": "stream",
     "text": [
      "    product_id              product_name\n",
      "1        24852                    Banana\n",
      "2        13176    Bag of Organic Bananas\n",
      "3        21137      Organic Strawberries\n",
      "4        21903      Organic Baby Spinach\n",
      "5        47209      Organic Hass Avocado\n",
      "6        47766           Organic Avocado\n",
      "7        27845        Organic Whole Milk\n",
      "8        47626               Large Lemon\n",
      "9        27966       Organic Raspberries\n",
      "10       16797              Strawberries\n",
      "11       26209                     Limes\n",
      "12       22935      Organic Yellow Onion\n",
      "13       24964            Organic Garlic\n",
      "14       45007          Organic Zucchini\n",
      "15       49683            Cucumber Kirby\n",
      "16       28204        Organic Fuji Apple\n",
      "17        8277  Apple Honeycrisp Organic\n",
      "18       39275       Organic Blueberries\n",
      "19        5876             Organic Lemon\n",
      "20       49235       Organic Half & Half\n"
     ]
    }
   ],
   "source": [
    "reorder_prod_top = reorder_prod.merge(products, on='product_id')\n",
    "reorder_prod_top.index = reorder_prod_top.index + 1\n",
    "print(reorder_prod_top[['product_id', 'product_name']])"
   ]
  },
  {
   "cell_type": "markdown",
   "id": "80e70c74",
   "metadata": {
    "id": "80e70c74"
   },
   "source": [
    "Escribe aquí tus conclusiones\n",
    "\n",
    "La lista es muy similar a la lista de los productos más populares, tiene pocas variaciones, pero al igual que en la lista pasada, en primer lugar está el platano. Notamos que lo que se vuelve a comprar son frutas y verduras en su mayoría."
   ]
  },
  {
   "cell_type": "markdown",
   "id": "9d312b14",
   "metadata": {
    "id": "9d312b14"
   },
   "source": [
    "### [C3] Para cada producto, ¿cuál es la proporción de las veces que se pide y que se vuelve a pedir?"
   ]
  },
  {
   "cell_type": "code",
   "execution_count": 59,
   "id": "8ae9f4b1",
   "metadata": {
    "id": "8ae9f4b1"
   },
   "outputs": [
    {
     "name": "stdout",
     "output_type": "stream",
     "text": [
      "Empty DataFrame\n",
      "Columns: [order_id, product_id, counts]\n",
      "Index: []\n"
     ]
    }
   ],
   "source": [
    "#Para poder realizar este análisis, es necesario identificar si un producto se ha repetido dos veces \n",
    "#o más en un pedido. Para ello agruparemos el DataFrame por 'order_id' y 'product_id', luego \n",
    "#contaremos las ocurrencias de cada combinación (usando 'size()'). Esto quiere decir que si el \n",
    "#resultado nos muestra un valor, podremos afrimar que se repiten productos en un mismo pedido:\n",
    "\n",
    "order_product_counts = order_products.groupby(['order_id', 'product_id']).size().reset_index(name='counts')\n",
    "duplicate_products = order_product_counts[order_product_counts['counts'] > 1]\n",
    "print(duplicate_products)"
   ]
  },
  {
   "cell_type": "code",
   "execution_count": 60,
   "id": "8f7ec638",
   "metadata": {},
   "outputs": [
    {
     "name": "stdout",
     "output_type": "stream",
     "text": [
      "            total_pedidos  total_reorder  order_proportion\n",
      "product_id                                                \n",
      "1                     280            158             56.43\n",
      "2                      11              0              0.00\n",
      "3                      42             31             73.81\n",
      "4                      49             25             51.02\n",
      "7                       2              1             50.00\n",
      "...                   ...            ...               ...\n",
      "49690                   5              4             80.00\n",
      "49691                  72             31             43.06\n",
      "49692                  12              5             41.67\n",
      "49693                  25             11             44.00\n",
      "49694                   9              3             33.33\n",
      "\n",
      "[45573 rows x 3 columns]\n"
     ]
    }
   ],
   "source": [
    "ord_prod_id = order_products.groupby('product_id').agg(\n",
    "    total_pedidos = ('reordered', 'count'),\n",
    "    total_reorder = ('reordered', 'sum')\n",
    ")\n",
    "\n",
    "ord_prod_id['order_proportion'] = ((ord_prod_id['total_reorder']/ord_prod_id['total_pedidos'])*100).round(2)\n",
    "print(ord_prod_id)"
   ]
  },
  {
   "cell_type": "code",
   "execution_count": 61,
   "id": "ed3a0186",
   "metadata": {},
   "outputs": [
    {
     "name": "stdout",
     "output_type": "stream",
     "text": [
      "       product_id                                       product_name  \\\n",
      "0               1                         Chocolate Sandwich Cookies   \n",
      "1               2                                   All-Seasons Salt   \n",
      "2               3               Robust Golden Unsweetened Oolong Tea   \n",
      "3               4  Smart Ones Classic Favorites Mini Rigatoni Wit...   \n",
      "4               5                          Green Chile Anytime Sauce   \n",
      "...           ...                                                ...   \n",
      "49689       49690                      HIGH PERFORMANCE ENERGY DRINK   \n",
      "49690       49691                      ORIGINAL PANCAKE & WAFFLE MIX   \n",
      "49691       49692    ORGANIC INSTANT OATMEAL LIGHT MAPLE BROWN SUGAR   \n",
      "49692       49693                             SPRING WATER BODY WASH   \n",
      "49693       49694                            BURRITO- STEAK & CHEESE   \n",
      "\n",
      "       total_pedidos  total_reorder  order_proportion  \n",
      "0              280.0          158.0             56.43  \n",
      "1               11.0            0.0              0.00  \n",
      "2               42.0           31.0             73.81  \n",
      "3               49.0           25.0             51.02  \n",
      "4                0.0            0.0              0.00  \n",
      "...              ...            ...               ...  \n",
      "49689            5.0            4.0             80.00  \n",
      "49690           72.0           31.0             43.06  \n",
      "49691           12.0            5.0             41.67  \n",
      "49692           25.0           11.0             44.00  \n",
      "49693            9.0            3.0             33.33  \n",
      "\n",
      "[49694 rows x 5 columns]\n"
     ]
    }
   ],
   "source": [
    "# Aquí hacemos una unión entre products y el DataFrame creado 'ord_prod_id' y llenamos con 0 todos\n",
    "# aquellos valores que al empatar tengan un valor nulo. \n",
    "prop = products.merge(ord_prod_id, on='product_id', how='left').fillna(0)[['product_id', \n",
    "                                                                           'product_name',\n",
    "                                                                           'total_pedidos', \n",
    "                                                                           'total_reorder', \n",
    "                                                                           'order_proportion']]\n",
    "print(prop)"
   ]
  },
  {
   "cell_type": "code",
   "execution_count": 62,
   "id": "6fc16a55",
   "metadata": {},
   "outputs": [
    {
     "name": "stdout",
     "output_type": "stream",
     "text": [
      "       product_id                                  product_name  \\\n",
      "49656       49657                             Cabernet Tomatoes   \n",
      "12184       12185                        Whole Cleaned Calamari   \n",
      "49660       49661                                         Porto   \n",
      "49661       49662                  Bacon Cheddar Pretzel Pieces   \n",
      "12110       12111  Parmesan & Garlic Kettle Cooked Potato Chips   \n",
      "\n",
      "       total_pedidos  total_reorder  order_proportion  \n",
      "49656            1.0            1.0             100.0  \n",
      "12184            1.0            1.0             100.0  \n",
      "49660            1.0            1.0             100.0  \n",
      "49661            1.0            1.0             100.0  \n",
      "12110            1.0            1.0             100.0  \n"
     ]
    }
   ],
   "source": [
    "# Se pueden ver las 5 tasas de repetición de pedido más altas de manera porcentual en la columna \n",
    "print(prop.sort_values(['order_proportion'], ascending=False).head(5))"
   ]
  },
  {
   "cell_type": "markdown",
   "id": "I10dEIAyldcO",
   "metadata": {
    "id": "I10dEIAyldcO"
   },
   "source": [
    "Escribe aquí tus conclusiones\n",
    "\n",
    "Podemos observar los 5 productos que más se piden y se vuelven a pedir son los platanos, y productos orgánicos como platanos, fresas, espinacas y aguacates."
   ]
  },
  {
   "cell_type": "markdown",
   "id": "c17d3da9",
   "metadata": {},
   "source": [
    "<div class=\"alert alert-block alert-success\">\n",
    "<b>Comentario del revisor</b> <a class=\"tocSkip\"></a>\n",
    "    \n",
    "El problema era el sort_values, me tome la libertad de remover lo que hace que no se vieran los % más altos\n",
    "</div>\n",
    "\n",
    "<div class=\"alert alert-block alert-info\">\n",
    "<b>Respuesta del estudiante</b> <a class=\"tocSkip\"></a>\n",
    "    \n",
    "Hola Fransisco, muchas gracias por tus comentarios y ayuda :D\n",
    "\n",
    "Estuve intentado calcular la tasa como me lo recomendaste pero no logro obtener tasas más altas, además de que no entiendo bien cómo es que debería realizar la operación con 'reordered'. Desde un inicio me guié de acuerdo a las indicaciones en las cuales mencionan la fórmula para obtener la tasa de repetición de pedido, es decir, esta: número de repeticiones de pedido/total de pedidos.\n",
    "\n",
    "¿Me ayudas a identificar qué es en lo que estoy mal?\n",
    "</div>"
   ]
  },
  {
   "cell_type": "markdown",
   "id": "subject-boxing",
   "metadata": {
    "id": "subject-boxing"
   },
   "source": [
    "### [C4] Para cada cliente, ¿qué proporción de sus productos ya los había pedido?"
   ]
  },
  {
   "cell_type": "code",
   "execution_count": 63,
   "id": "cbbdfc6e",
   "metadata": {},
   "outputs": [
    {
     "name": "stdout",
     "output_type": "stream",
     "text": [
      "                    total_pedidos  total_reorder  order_proportion\n",
      "user_id product_id                                                \n",
      "2       9681.0                  1            0.0               0.0\n",
      "        12000.0                 1            0.0               0.0\n",
      "        13176.0                 1            0.0               0.0\n",
      "        16589.0                 1            0.0               0.0\n",
      "        20574.0                 1            0.0               0.0\n",
      "...                           ...            ...               ...\n",
      "206209  39216.0                 1            0.0               0.0\n",
      "        40992.0                 1            0.0               0.0\n",
      "        41213.0                 1            1.0             100.0\n",
      "        41665.0                 1            0.0               0.0\n",
      "        43961.0                 1            0.0               0.0\n",
      "\n",
      "[3381866 rows x 3 columns]\n"
     ]
    }
   ],
   "source": [
    "user_prop_merge = instacart_orders.merge(order_products, on='order_id', how='left')\n",
    "user_prop = user_prop_merge.groupby(['user_id', 'product_id']).agg(\n",
    "    total_pedidos = ('reordered', 'count'),\n",
    "    total_reorder = ('reordered', 'sum')\n",
    ")\n",
    "\n",
    "user_prop['order_proportion'] = ((user_prop['total_reorder']/user_prop['total_pedidos'])*100).round(2)\n",
    "print(user_prop)"
   ]
  },
  {
   "cell_type": "code",
   "execution_count": 64,
   "id": "27225c63",
   "metadata": {
    "scrolled": true
   },
   "outputs": [
    {
     "name": "stdout",
     "output_type": "stream",
     "text": [
      "                    total_pedidos  total_reorder  order_proportion\n",
      "user_id product_id                                                \n",
      "206209  41213.0                 1            1.0             100.0\n",
      "206208  44910.0                 1            1.0             100.0\n",
      "        44359.0                 1            1.0             100.0\n",
      "        43295.0                 1            1.0             100.0\n",
      "        43086.0                 3            3.0             100.0\n"
     ]
    }
   ],
   "source": [
    "print(user_prop.sort_values(['order_proportion'], ascending=False).head(5))"
   ]
  },
  {
   "cell_type": "markdown",
   "id": "7f1a3701",
   "metadata": {},
   "source": [
    "<div class=\"alert alert-block alert-success\">\n",
    "<b>Comentario del revisor</b> <a class=\"tocSkip\"></a>\n",
    "    \n",
    "mismo caso de lo anterior :)\n",
    "</div>\n",
    "\n",
    "<div class=\"alert alert-block alert-info\">\n",
    "<b>Respuesta del estudiante</b> <a class=\"tocSkip\"></a>\n",
    "    \n",
    "Igualmente en esta parte no logro identificar el error o cómo es que podría corregir mi cálculo. ¿Me ayudarías a identificarlo?\n",
    "</div>"
   ]
  },
  {
   "cell_type": "markdown",
   "id": "BgJSvXDsleXz",
   "metadata": {
    "id": "BgJSvXDsleXz"
   },
   "source": [
    "Escribe aquí tus conclusiones\n",
    "\n",
    "Es difícil mencionar la proporción de cada cliente por la cantidad de usarios que hay y la cantidad de productos que solicitan, sin embargo, podemos observar que el usuario [87130] ha solicitado 23 veces el producto [27845] en el total de todas sus ordenes, lo que indica que tiene una tasa del 100% de reordenar ese producto."
   ]
  },
  {
   "cell_type": "markdown",
   "id": "92d35137",
   "metadata": {
    "id": "92d35137"
   },
   "source": [
    "### [C5] ¿Cuáles son los 20 principales artículos que las personas ponen primero en sus carritos?"
   ]
  },
  {
   "cell_type": "code",
   "execution_count": 65,
   "id": "0ae57274",
   "metadata": {
    "id": "0ae57274",
    "scrolled": true
   },
   "outputs": [
    {
     "name": "stdout",
     "output_type": "stream",
     "text": [
      "    product_id                 product_name  frequency\n",
      "0        24852                       Banana      15562\n",
      "1        13176       Bag of Organic Bananas      11026\n",
      "2        27845           Organic Whole Milk       4363\n",
      "3        21137         Organic Strawberries       3946\n",
      "4        47209         Organic Hass Avocado       3390\n",
      "5        21903         Organic Baby Spinach       3336\n",
      "6        47766              Organic Avocado       3044\n",
      "7        19660                 Spring Water       2336\n",
      "8        16797                 Strawberries       2308\n",
      "9        27966          Organic Raspberries       2024\n",
      "10       44632   Sparkling Water Grapefruit       1914\n",
      "11       49235          Organic Half & Half       1797\n",
      "12       47626                  Large Lemon       1737\n",
      "13         196                         Soda       1733\n",
      "14       38689     Organic Reduced Fat Milk       1397\n",
      "15       26209                        Limes       1370\n",
      "16       12341                Hass Avocados       1340\n",
      "17        5785  Organic Reduced Fat 2% Milk       1310\n",
      "18       27086                  Half & Half       1309\n",
      "19       22935         Organic Yellow Onion       1246\n",
      "20       43352                  Raspberries       1246\n"
     ]
    }
   ],
   "source": [
    "rank_prod = order_products[order_products['add_to_cart_order']==1]['product_id'].value_counts().head(21).reset_index()\n",
    "rank_prod.columns = ['product_id', 'frequency']\n",
    "print(products.merge(rank_prod, on='product_id')[['product_id', 'product_name', 'frequency']].sort_values(by='frequency', ascending=False).reset_index(drop=True))"
   ]
  },
  {
   "cell_type": "markdown",
   "id": "28ce9872",
   "metadata": {
    "id": "28ce9872"
   },
   "source": [
    "Escribe aquí tus conclusiones\n",
    "\n",
    "Al igual que en los ejercicios pasados, nos percatamos de que los platanos son de los productos más comprados y no solo eso, si no que son los que las personas eligen primero al iniciar sus compras. En su mayoría la lista es similar a las listas de los ejercicios pasados, pues es de imaginar que entre mayor demanda de productos, mayor importancia le darán los clientes, por lo que los obligará a elegirlos primero que otros productos."
   ]
  },
  {
   "cell_type": "markdown",
   "id": "35b83b58",
   "metadata": {},
   "source": [
    "<div class=\"alert alert-block alert-success\">\n",
    "<b>Comentario del revisor</b> <a class=\"tocSkip\"></a>\n",
    "    \n",
    "Buen trabajo en este punto :)\n",
    "</div>"
   ]
  },
  {
   "cell_type": "markdown",
   "id": "uITbFCEoDosC",
   "metadata": {
    "id": "uITbFCEoDosC"
   },
   "source": [
    "### Conclusion general del proyecto:"
   ]
  },
  {
   "cell_type": "markdown",
   "id": "4229daf2",
   "metadata": {
    "id": "Nk-4GS7mDwqY"
   },
   "source": [
    "'''\n",
    "Para estos Data Set's, fue bastante claro que en cualquier análisis que se requiera hacer es \n",
    "fundamental pre-procesar la información, es decir, asegurarse de que la información esté libre de \n",
    "valores ausentes, duplicados o inconsistencias. Otra cosa que puedo concluir es que para poder \n",
    "resolver cualquiera de estos problemas siempre fue necesaria una etapa de análisis y comprensión de \n",
    "los datos, junto con su estructura. El graficar la información analizada es de bastante ayuda, pues \n",
    "es más fácil identificar aquellos fuertes y/o debilidades que se busca identificar.\n",
    "'''"
   ]
  }
 ],
 "metadata": {
  "ExecuteTimeLog": [
   {
    "duration": 462,
    "start_time": "2024-07-11T03:47:26.664Z"
   },
   {
    "duration": 258,
    "start_time": "2024-07-11T03:47:28.503Z"
   },
   {
    "duration": 19,
    "start_time": "2024-07-11T03:48:08.173Z"
   },
   {
    "duration": 268,
    "start_time": "2024-07-11T03:50:30.160Z"
   },
   {
    "duration": 17,
    "start_time": "2024-07-11T03:50:49.422Z"
   },
   {
    "duration": 236,
    "start_time": "2024-07-11T03:52:40.177Z"
   },
   {
    "duration": 14,
    "start_time": "2024-07-11T03:52:52.966Z"
   },
   {
    "duration": 235,
    "start_time": "2024-07-11T03:53:58.703Z"
   },
   {
    "duration": 13,
    "start_time": "2024-07-11T03:54:07.447Z"
   },
   {
    "duration": 1573,
    "start_time": "2024-07-11T03:55:43.956Z"
   },
   {
    "duration": 42,
    "start_time": "2024-07-11T03:56:10.549Z"
   },
   {
    "duration": 143,
    "start_time": "2024-07-11T04:25:15.891Z"
   },
   {
    "duration": 10,
    "start_time": "2024-07-11T04:26:07.574Z"
   },
   {
    "duration": 144,
    "start_time": "2024-07-11T04:26:34.979Z"
   },
   {
    "duration": 1149,
    "start_time": "2024-07-11T04:35:04.914Z"
   },
   {
    "duration": 78,
    "start_time": "2024-07-11T04:35:40.860Z"
   },
   {
    "duration": 18,
    "start_time": "2024-07-11T04:37:11.670Z"
   },
   {
    "duration": 11,
    "start_time": "2024-07-11T04:37:33.656Z"
   },
   {
    "duration": 12,
    "start_time": "2024-07-11T04:37:41.213Z"
   },
   {
    "duration": 9,
    "start_time": "2024-07-11T04:38:19.515Z"
   },
   {
    "duration": 166,
    "start_time": "2024-07-11T04:47:06.692Z"
   },
   {
    "duration": 160,
    "start_time": "2024-07-11T04:47:35.722Z"
   },
   {
    "duration": 182,
    "start_time": "2024-07-11T04:48:02.849Z"
   },
   {
    "duration": 131,
    "start_time": "2024-07-11T04:48:06.460Z"
   },
   {
    "duration": 161,
    "start_time": "2024-07-11T04:48:22.669Z"
   },
   {
    "duration": 146,
    "start_time": "2024-07-11T04:48:31.049Z"
   },
   {
    "duration": 81,
    "start_time": "2024-07-11T04:53:50.415Z"
   },
   {
    "duration": 77,
    "start_time": "2024-07-11T04:54:02.956Z"
   },
   {
    "duration": 102,
    "start_time": "2024-07-11T04:54:53.754Z"
   },
   {
    "duration": 73,
    "start_time": "2024-07-11T04:55:30.327Z"
   },
   {
    "duration": 67,
    "start_time": "2024-07-11T04:58:55.431Z"
   },
   {
    "duration": 71,
    "start_time": "2024-07-11T04:59:04.779Z"
   },
   {
    "duration": 67,
    "start_time": "2024-07-11T04:59:16.287Z"
   },
   {
    "duration": 126,
    "start_time": "2024-07-11T04:59:21.792Z"
   },
   {
    "duration": 1544,
    "start_time": "2024-07-11T04:59:43.760Z"
   },
   {
    "duration": 65,
    "start_time": "2024-07-11T04:59:49.378Z"
   },
   {
    "duration": 129,
    "start_time": "2024-07-11T04:59:52.566Z"
   },
   {
    "duration": 9,
    "start_time": "2024-07-11T04:59:57.091Z"
   },
   {
    "duration": 159,
    "start_time": "2024-07-11T05:00:00.631Z"
   },
   {
    "duration": 159,
    "start_time": "2024-07-11T05:00:02.994Z"
   },
   {
    "duration": 72,
    "start_time": "2024-07-11T05:00:05.622Z"
   },
   {
    "duration": 123,
    "start_time": "2024-07-11T05:15:43.886Z"
   },
   {
    "duration": 19,
    "start_time": "2024-07-11T05:16:19.677Z"
   },
   {
    "duration": 10,
    "start_time": "2024-07-11T05:16:54.539Z"
   },
   {
    "duration": 53,
    "start_time": "2024-07-11T05:20:00.593Z"
   },
   {
    "duration": 33,
    "start_time": "2024-07-11T05:20:19.351Z"
   },
   {
    "duration": 44,
    "start_time": "2024-07-11T05:20:54.189Z"
   },
   {
    "duration": 16,
    "start_time": "2024-07-11T05:28:28.580Z"
   },
   {
    "duration": 10,
    "start_time": "2024-07-11T05:29:07.708Z"
   },
   {
    "duration": 10,
    "start_time": "2024-07-11T05:29:12.339Z"
   },
   {
    "duration": 10,
    "start_time": "2024-07-11T05:29:14.843Z"
   },
   {
    "duration": 9,
    "start_time": "2024-07-11T05:29:19.161Z"
   },
   {
    "duration": 10,
    "start_time": "2024-07-11T05:29:23.956Z"
   },
   {
    "duration": 10,
    "start_time": "2024-07-11T05:29:32.334Z"
   },
   {
    "duration": 10,
    "start_time": "2024-07-11T05:29:36.503Z"
   },
   {
    "duration": 9,
    "start_time": "2024-07-11T05:29:41.379Z"
   },
   {
    "duration": 9,
    "start_time": "2024-07-11T05:29:44.213Z"
   },
   {
    "duration": 9,
    "start_time": "2024-07-11T05:29:46.862Z"
   },
   {
    "duration": 13,
    "start_time": "2024-07-11T05:29:49.500Z"
   },
   {
    "duration": 8,
    "start_time": "2024-07-11T05:29:52.109Z"
   },
   {
    "duration": 12,
    "start_time": "2024-07-11T05:34:19.993Z"
   },
   {
    "duration": 15,
    "start_time": "2024-07-11T05:35:23.738Z"
   },
   {
    "duration": 15,
    "start_time": "2024-07-11T05:38:00.700Z"
   },
   {
    "duration": 43,
    "start_time": "2024-07-11T05:38:11.734Z"
   },
   {
    "duration": 29,
    "start_time": "2024-07-11T05:41:29.214Z"
   },
   {
    "duration": 23,
    "start_time": "2024-07-11T05:41:54.489Z"
   },
   {
    "duration": 32,
    "start_time": "2024-07-11T05:45:35.810Z"
   },
   {
    "duration": 467,
    "start_time": "2024-07-16T03:07:54.227Z"
   },
   {
    "duration": 1724,
    "start_time": "2024-07-16T03:07:59.847Z"
   },
   {
    "duration": 18,
    "start_time": "2024-07-16T03:08:41.741Z"
   },
   {
    "duration": 16,
    "start_time": "2024-07-16T03:08:43.122Z"
   },
   {
    "duration": 14,
    "start_time": "2024-07-16T03:08:44.214Z"
   },
   {
    "duration": 14,
    "start_time": "2024-07-16T03:08:48.356Z"
   },
   {
    "duration": 40,
    "start_time": "2024-07-16T03:08:49.433Z"
   },
   {
    "duration": 79,
    "start_time": "2024-07-16T03:20:52.160Z"
   },
   {
    "duration": 149,
    "start_time": "2024-07-16T03:20:57.618Z"
   },
   {
    "duration": 17,
    "start_time": "2024-07-16T03:23:04.971Z"
   },
   {
    "duration": 206,
    "start_time": "2024-07-16T03:23:19.547Z"
   },
   {
    "duration": 154,
    "start_time": "2024-07-16T03:23:23.828Z"
   },
   {
    "duration": 27,
    "start_time": "2024-07-16T03:24:05.700Z"
   },
   {
    "duration": 10,
    "start_time": "2024-07-16T03:24:12.333Z"
   },
   {
    "duration": 49,
    "start_time": "2024-07-16T03:24:27.760Z"
   },
   {
    "duration": 20,
    "start_time": "2024-07-16T03:24:40.490Z"
   },
   {
    "duration": 17,
    "start_time": "2024-07-16T03:37:30.347Z"
   },
   {
    "duration": 387,
    "start_time": "2024-07-16T03:38:59.471Z"
   },
   {
    "duration": 15,
    "start_time": "2024-07-16T03:39:36.547Z"
   },
   {
    "duration": 14,
    "start_time": "2024-07-16T03:59:33.343Z"
   },
   {
    "duration": 24,
    "start_time": "2024-07-16T04:00:54.673Z"
   },
   {
    "duration": 23,
    "start_time": "2024-07-16T04:01:36.003Z"
   },
   {
    "duration": 39,
    "start_time": "2024-07-16T04:11:18.529Z"
   },
   {
    "duration": 40,
    "start_time": "2024-07-16T04:13:49.503Z"
   },
   {
    "duration": 23,
    "start_time": "2024-07-16T04:14:48.320Z"
   },
   {
    "duration": 20,
    "start_time": "2024-07-16T04:20:20.920Z"
   },
   {
    "duration": 21,
    "start_time": "2024-07-16T04:21:28.531Z"
   },
   {
    "duration": 22,
    "start_time": "2024-07-16T04:22:49.065Z"
   },
   {
    "duration": 24,
    "start_time": "2024-07-16T04:25:31.946Z"
   },
   {
    "duration": 23,
    "start_time": "2024-07-16T04:25:51.808Z"
   },
   {
    "duration": 26,
    "start_time": "2024-07-16T04:25:57.722Z"
   },
   {
    "duration": 22,
    "start_time": "2024-07-16T04:26:24.611Z"
   },
   {
    "duration": 25,
    "start_time": "2024-07-16T04:26:38.973Z"
   },
   {
    "duration": 8,
    "start_time": "2024-07-16T04:52:26.898Z"
   },
   {
    "duration": 25,
    "start_time": "2024-07-16T04:52:48.470Z"
   },
   {
    "duration": 20,
    "start_time": "2024-07-16T04:53:30.227Z"
   },
   {
    "duration": 6,
    "start_time": "2024-07-16T04:56:24.960Z"
   },
   {
    "duration": 6,
    "start_time": "2024-07-16T04:57:07.786Z"
   },
   {
    "duration": 429,
    "start_time": "2024-07-16T04:59:34.085Z"
   },
   {
    "duration": 7,
    "start_time": "2024-07-16T05:00:02.086Z"
   },
   {
    "duration": 7,
    "start_time": "2024-07-16T05:01:34.511Z"
   },
   {
    "duration": 6,
    "start_time": "2024-07-16T05:02:14.881Z"
   },
   {
    "duration": 40,
    "start_time": "2024-07-16T05:02:54.739Z"
   },
   {
    "duration": 40,
    "start_time": "2024-07-16T05:03:09.208Z"
   },
   {
    "duration": 6,
    "start_time": "2024-07-16T05:03:30.087Z"
   },
   {
    "duration": 6,
    "start_time": "2024-07-16T05:03:55.162Z"
   },
   {
    "duration": 1339,
    "start_time": "2024-07-16T05:05:00.774Z"
   },
   {
    "duration": 703,
    "start_time": "2024-07-16T05:09:06.623Z"
   },
   {
    "duration": 2018,
    "start_time": "2024-07-16T05:11:52.374Z"
   },
   {
    "duration": 675,
    "start_time": "2024-07-16T05:16:17.355Z"
   },
   {
    "duration": 463,
    "start_time": "2024-07-16T05:16:42.395Z"
   },
   {
    "duration": 599,
    "start_time": "2024-07-16T05:16:57.889Z"
   },
   {
    "duration": 337,
    "start_time": "2024-07-16T19:12:35.777Z"
   },
   {
    "duration": 27,
    "start_time": "2024-07-16T19:38:42.132Z"
   },
   {
    "duration": 516,
    "start_time": "2024-07-16T19:39:05.881Z"
   },
   {
    "duration": 1830,
    "start_time": "2024-07-16T19:39:06.422Z"
   },
   {
    "duration": 20,
    "start_time": "2024-07-16T19:39:08.255Z"
   },
   {
    "duration": 35,
    "start_time": "2024-07-16T19:39:08.279Z"
   },
   {
    "duration": 16,
    "start_time": "2024-07-16T19:39:08.321Z"
   },
   {
    "duration": 20,
    "start_time": "2024-07-16T19:39:08.341Z"
   },
   {
    "duration": 51,
    "start_time": "2024-07-16T19:39:08.403Z"
   },
   {
    "duration": 148,
    "start_time": "2024-07-16T19:39:08.458Z"
   },
   {
    "duration": 212,
    "start_time": "2024-07-16T19:39:08.611Z"
   },
   {
    "duration": 13,
    "start_time": "2024-07-16T19:39:08.835Z"
   },
   {
    "duration": 221,
    "start_time": "2024-07-16T19:39:09.199Z"
   },
   {
    "duration": 187,
    "start_time": "2024-07-16T19:39:09.424Z"
   },
   {
    "duration": 132,
    "start_time": "2024-07-16T19:39:09.618Z"
   },
   {
    "duration": 31,
    "start_time": "2024-07-16T19:39:10.064Z"
   },
   {
    "duration": 9,
    "start_time": "2024-07-16T19:39:10.247Z"
   },
   {
    "duration": 57,
    "start_time": "2024-07-16T19:39:10.447Z"
   },
   {
    "duration": 22,
    "start_time": "2024-07-16T19:39:10.633Z"
   },
   {
    "duration": 20,
    "start_time": "2024-07-16T19:39:10.982Z"
   },
   {
    "duration": 16,
    "start_time": "2024-07-16T19:39:11.383Z"
   },
   {
    "duration": 25,
    "start_time": "2024-07-16T19:39:11.558Z"
   },
   {
    "duration": 23,
    "start_time": "2024-07-16T19:39:11.727Z"
   },
   {
    "duration": 28,
    "start_time": "2024-07-16T19:39:12.214Z"
   },
   {
    "duration": 23,
    "start_time": "2024-07-16T19:39:12.493Z"
   },
   {
    "duration": 8,
    "start_time": "2024-07-16T19:39:13.372Z"
   },
   {
    "duration": 9,
    "start_time": "2024-07-16T19:39:13.571Z"
   },
   {
    "duration": 7,
    "start_time": "2024-07-16T19:39:14.395Z"
   },
   {
    "duration": 10,
    "start_time": "2024-07-16T19:39:14.886Z"
   },
   {
    "duration": 1555,
    "start_time": "2024-07-16T19:39:16.235Z"
   },
   {
    "duration": 8299,
    "start_time": "2024-07-16T19:39:17.794Z"
   },
   {
    "duration": 7502,
    "start_time": "2024-07-16T19:42:46.350Z"
   },
   {
    "duration": 11,
    "start_time": "2024-07-16T19:43:31.284Z"
   },
   {
    "duration": 6,
    "start_time": "2024-07-16T19:43:36.487Z"
   },
   {
    "duration": 354,
    "start_time": "2024-07-16T19:44:04.796Z"
   },
   {
    "duration": 569,
    "start_time": "2024-07-16T19:44:13.414Z"
   },
   {
    "duration": 2635,
    "start_time": "2024-07-16T19:44:13.987Z"
   },
   {
    "duration": 24,
    "start_time": "2024-07-16T19:44:16.627Z"
   },
   {
    "duration": 20,
    "start_time": "2024-07-16T19:44:16.656Z"
   },
   {
    "duration": 34,
    "start_time": "2024-07-16T19:44:16.878Z"
   },
   {
    "duration": 28,
    "start_time": "2024-07-16T19:44:18.741Z"
   },
   {
    "duration": 55,
    "start_time": "2024-07-16T19:44:19.661Z"
   },
   {
    "duration": 129,
    "start_time": "2024-07-16T19:44:22.089Z"
   },
   {
    "duration": 297,
    "start_time": "2024-07-16T19:44:22.916Z"
   },
   {
    "duration": 22,
    "start_time": "2024-07-16T19:44:24.156Z"
   },
   {
    "duration": 271,
    "start_time": "2024-07-16T19:44:25.350Z"
   },
   {
    "duration": 247,
    "start_time": "2024-07-16T19:44:26.078Z"
   },
   {
    "duration": 128,
    "start_time": "2024-07-16T19:44:27.026Z"
   },
   {
    "duration": 27,
    "start_time": "2024-07-16T19:44:28.837Z"
   },
   {
    "duration": 11,
    "start_time": "2024-07-16T19:44:29.687Z"
   },
   {
    "duration": 57,
    "start_time": "2024-07-16T19:44:30.156Z"
   },
   {
    "duration": 27,
    "start_time": "2024-07-16T19:44:30.916Z"
   },
   {
    "duration": 19,
    "start_time": "2024-07-16T19:44:32.370Z"
   },
   {
    "duration": 16,
    "start_time": "2024-07-16T19:44:33.672Z"
   },
   {
    "duration": 27,
    "start_time": "2024-07-16T19:44:34.377Z"
   },
   {
    "duration": 25,
    "start_time": "2024-07-16T19:44:35.117Z"
   },
   {
    "duration": 31,
    "start_time": "2024-07-16T19:44:36.643Z"
   },
   {
    "duration": 23,
    "start_time": "2024-07-16T19:44:37.414Z"
   },
   {
    "duration": 6,
    "start_time": "2024-07-16T19:44:39.875Z"
   },
   {
    "duration": 14,
    "start_time": "2024-07-16T19:44:40.775Z"
   },
   {
    "duration": 7,
    "start_time": "2024-07-16T19:44:43.905Z"
   },
   {
    "duration": 9,
    "start_time": "2024-07-16T19:44:44.712Z"
   },
   {
    "duration": 1546,
    "start_time": "2024-07-16T19:44:47.266Z"
   },
   {
    "duration": 8319,
    "start_time": "2024-07-16T19:44:48.815Z"
   },
   {
    "duration": 741,
    "start_time": "2024-07-16T19:46:07.669Z"
   },
   {
    "duration": 1165,
    "start_time": "2024-07-16T19:48:24.274Z"
   },
   {
    "duration": 40,
    "start_time": "2024-07-16T19:52:39.106Z"
   },
   {
    "duration": 1437,
    "start_time": "2024-07-16T19:52:57.127Z"
   },
   {
    "duration": 549,
    "start_time": "2024-07-17T18:52:17.735Z"
   },
   {
    "duration": 1900,
    "start_time": "2024-07-17T18:52:18.289Z"
   },
   {
    "duration": 27,
    "start_time": "2024-07-17T18:52:20.192Z"
   },
   {
    "duration": 17,
    "start_time": "2024-07-17T18:52:20.952Z"
   },
   {
    "duration": 13,
    "start_time": "2024-07-17T18:52:21.740Z"
   },
   {
    "duration": 14,
    "start_time": "2024-07-17T18:52:22.302Z"
   },
   {
    "duration": 48,
    "start_time": "2024-07-17T18:52:22.804Z"
   },
   {
    "duration": 89,
    "start_time": "2024-07-17T18:52:24.022Z"
   },
   {
    "duration": 180,
    "start_time": "2024-07-17T18:52:24.232Z"
   },
   {
    "duration": 13,
    "start_time": "2024-07-17T18:52:24.616Z"
   },
   {
    "duration": 188,
    "start_time": "2024-07-17T18:52:25.002Z"
   },
   {
    "duration": 171,
    "start_time": "2024-07-17T18:52:25.225Z"
   },
   {
    "duration": 112,
    "start_time": "2024-07-17T18:52:25.430Z"
   },
   {
    "duration": 22,
    "start_time": "2024-07-17T18:52:26.097Z"
   },
   {
    "duration": 9,
    "start_time": "2024-07-17T18:52:26.327Z"
   },
   {
    "duration": 54,
    "start_time": "2024-07-17T18:52:26.583Z"
   },
   {
    "duration": 19,
    "start_time": "2024-07-17T18:52:26.827Z"
   },
   {
    "duration": 19,
    "start_time": "2024-07-17T18:52:27.425Z"
   },
   {
    "duration": 15,
    "start_time": "2024-07-17T18:52:28.017Z"
   },
   {
    "duration": 24,
    "start_time": "2024-07-17T18:52:28.292Z"
   },
   {
    "duration": 23,
    "start_time": "2024-07-17T18:52:28.569Z"
   },
   {
    "duration": 25,
    "start_time": "2024-07-17T18:52:29.104Z"
   },
   {
    "duration": 24,
    "start_time": "2024-07-17T18:52:29.357Z"
   },
   {
    "duration": 6,
    "start_time": "2024-07-17T18:52:30.132Z"
   },
   {
    "duration": 7,
    "start_time": "2024-07-17T18:52:30.394Z"
   },
   {
    "duration": 7,
    "start_time": "2024-07-17T18:52:31.136Z"
   },
   {
    "duration": 8,
    "start_time": "2024-07-17T18:52:31.371Z"
   },
   {
    "duration": 1379,
    "start_time": "2024-07-17T18:52:32.081Z"
   },
   {
    "duration": 8,
    "start_time": "2024-07-17T18:52:33.464Z"
   },
   {
    "duration": 1968,
    "start_time": "2024-07-17T18:53:51.097Z"
   },
   {
    "duration": 619,
    "start_time": "2024-07-17T18:54:27.244Z"
   },
   {
    "duration": 595,
    "start_time": "2024-07-17T18:55:11.086Z"
   },
   {
    "duration": 634,
    "start_time": "2024-07-17T18:55:20.703Z"
   },
   {
    "duration": 632,
    "start_time": "2024-07-17T19:01:21.151Z"
   },
   {
    "duration": 7,
    "start_time": "2024-07-17T19:01:31.574Z"
   },
   {
    "duration": 603,
    "start_time": "2024-07-17T19:01:36.808Z"
   },
   {
    "duration": 569,
    "start_time": "2024-07-17T19:02:08.449Z"
   },
   {
    "duration": 9,
    "start_time": "2024-07-17T19:04:14.624Z"
   },
   {
    "duration": 1489,
    "start_time": "2024-07-17T19:05:08.369Z"
   },
   {
    "duration": 1367,
    "start_time": "2024-07-17T19:05:17.859Z"
   },
   {
    "duration": 22,
    "start_time": "2024-07-17T19:06:57.825Z"
   },
   {
    "duration": 4,
    "start_time": "2024-07-17T19:07:03.615Z"
   },
   {
    "duration": 578,
    "start_time": "2024-07-17T19:07:12.342Z"
   },
   {
    "duration": 13,
    "start_time": "2024-07-17T19:09:05.522Z"
   },
   {
    "duration": 11,
    "start_time": "2024-07-17T19:17:45.341Z"
   },
   {
    "duration": 23,
    "start_time": "2024-07-17T19:26:01.463Z"
   },
   {
    "duration": 6,
    "start_time": "2024-07-17T19:26:18.356Z"
   },
   {
    "duration": 9,
    "start_time": "2024-07-17T19:27:50.357Z"
   },
   {
    "duration": 14,
    "start_time": "2024-07-17T19:28:13.948Z"
   },
   {
    "duration": 23,
    "start_time": "2024-07-17T19:41:11.342Z"
   },
   {
    "duration": 21,
    "start_time": "2024-07-17T19:41:37.994Z"
   },
   {
    "duration": 26,
    "start_time": "2024-07-17T19:41:54.393Z"
   },
   {
    "duration": 5,
    "start_time": "2024-07-17T19:44:50.918Z"
   },
   {
    "duration": 12,
    "start_time": "2024-07-17T19:44:54.293Z"
   },
   {
    "duration": 13,
    "start_time": "2024-07-17T19:45:43.824Z"
   },
   {
    "duration": 20,
    "start_time": "2024-07-17T19:46:58.417Z"
   },
   {
    "duration": 19,
    "start_time": "2024-07-17T19:49:22.078Z"
   },
   {
    "duration": 20,
    "start_time": "2024-07-17T19:49:52.510Z"
   },
   {
    "duration": 26,
    "start_time": "2024-07-17T19:57:02.811Z"
   },
   {
    "duration": 28,
    "start_time": "2024-07-17T19:57:55.087Z"
   },
   {
    "duration": 49,
    "start_time": "2024-07-17T19:58:04.848Z"
   },
   {
    "duration": 10,
    "start_time": "2024-07-17T19:59:22.168Z"
   },
   {
    "duration": 75,
    "start_time": "2024-07-17T20:00:37.995Z"
   },
   {
    "duration": 16,
    "start_time": "2024-07-17T20:01:01.512Z"
   },
   {
    "duration": 7,
    "start_time": "2024-07-17T20:01:08.366Z"
   },
   {
    "duration": 481,
    "start_time": "2024-07-23T02:47:39.940Z"
   },
   {
    "duration": 1705,
    "start_time": "2024-07-23T02:47:40.626Z"
   },
   {
    "duration": 22,
    "start_time": "2024-07-23T02:47:42.335Z"
   },
   {
    "duration": 21,
    "start_time": "2024-07-23T02:47:42.364Z"
   },
   {
    "duration": 12,
    "start_time": "2024-07-23T02:47:42.678Z"
   },
   {
    "duration": 16,
    "start_time": "2024-07-23T02:47:43.423Z"
   },
   {
    "duration": 39,
    "start_time": "2024-07-23T02:47:43.790Z"
   },
   {
    "duration": 82,
    "start_time": "2024-07-23T02:47:46.291Z"
   },
   {
    "duration": 152,
    "start_time": "2024-07-23T02:47:47.069Z"
   },
   {
    "duration": 11,
    "start_time": "2024-07-23T02:47:48.495Z"
   },
   {
    "duration": 187,
    "start_time": "2024-07-23T02:47:49.727Z"
   },
   {
    "duration": 148,
    "start_time": "2024-07-23T02:47:50.198Z"
   },
   {
    "duration": 83,
    "start_time": "2024-07-23T02:47:50.721Z"
   },
   {
    "duration": 22,
    "start_time": "2024-07-23T02:47:52.165Z"
   },
   {
    "duration": 8,
    "start_time": "2024-07-23T02:47:52.682Z"
   },
   {
    "duration": 43,
    "start_time": "2024-07-23T02:47:53.206Z"
   },
   {
    "duration": 19,
    "start_time": "2024-07-23T02:47:53.797Z"
   },
   {
    "duration": 19,
    "start_time": "2024-07-23T02:47:54.791Z"
   },
   {
    "duration": 16,
    "start_time": "2024-07-23T02:47:56.183Z"
   },
   {
    "duration": 23,
    "start_time": "2024-07-23T02:47:56.630Z"
   },
   {
    "duration": 22,
    "start_time": "2024-07-23T02:47:57.292Z"
   },
   {
    "duration": 26,
    "start_time": "2024-07-23T02:47:58.495Z"
   },
   {
    "duration": 19,
    "start_time": "2024-07-23T02:47:58.880Z"
   },
   {
    "duration": 5,
    "start_time": "2024-07-23T02:48:00.377Z"
   },
   {
    "duration": 6,
    "start_time": "2024-07-23T02:48:00.920Z"
   },
   {
    "duration": 5,
    "start_time": "2024-07-23T02:48:02.478Z"
   },
   {
    "duration": 7,
    "start_time": "2024-07-23T02:48:03.082Z"
   },
   {
    "duration": 1347,
    "start_time": "2024-07-23T02:48:04.570Z"
   },
   {
    "duration": 637,
    "start_time": "2024-07-23T02:48:05.930Z"
   },
   {
    "duration": 11,
    "start_time": "2024-07-23T02:48:07.035Z"
   },
   {
    "duration": 3,
    "start_time": "2024-07-23T02:48:08.141Z"
   },
   {
    "duration": 3,
    "start_time": "2024-07-23T02:48:09.085Z"
   },
   {
    "duration": 14,
    "start_time": "2024-07-23T02:48:10.102Z"
   },
   {
    "duration": 29,
    "start_time": "2024-07-23T02:48:11.088Z"
   },
   {
    "duration": 10,
    "start_time": "2024-07-23T02:48:12.696Z"
   },
   {
    "duration": 11,
    "start_time": "2024-07-23T02:48:13.272Z"
   },
   {
    "duration": 28,
    "start_time": "2024-07-23T02:48:16.024Z"
   },
   {
    "duration": 48,
    "start_time": "2024-07-23T02:48:16.581Z"
   },
   {
    "duration": 22,
    "start_time": "2024-07-23T02:54:53.626Z"
   },
   {
    "duration": 16,
    "start_time": "2024-07-23T02:57:30.267Z"
   },
   {
    "duration": 21,
    "start_time": "2024-07-23T02:57:59.912Z"
   },
   {
    "duration": 11,
    "start_time": "2024-07-23T02:59:00.387Z"
   },
   {
    "duration": 7,
    "start_time": "2024-07-23T02:59:11.447Z"
   },
   {
    "duration": 7,
    "start_time": "2024-07-23T02:59:18.968Z"
   },
   {
    "duration": 10,
    "start_time": "2024-07-23T02:59:30.585Z"
   },
   {
    "duration": 10,
    "start_time": "2024-07-23T03:01:23.109Z"
   },
   {
    "duration": 7,
    "start_time": "2024-07-23T03:06:06.873Z"
   },
   {
    "duration": 226,
    "start_time": "2024-07-23T03:06:38.406Z"
   },
   {
    "duration": 15,
    "start_time": "2024-07-23T03:07:09.968Z"
   },
   {
    "duration": 7,
    "start_time": "2024-07-23T03:14:43.954Z"
   },
   {
    "duration": 341,
    "start_time": "2024-07-23T03:14:54.348Z"
   },
   {
    "duration": 10,
    "start_time": "2024-07-23T03:15:10.868Z"
   },
   {
    "duration": 5,
    "start_time": "2024-07-23T03:15:58.093Z"
   },
   {
    "duration": 6,
    "start_time": "2024-07-23T03:16:13.365Z"
   },
   {
    "duration": 9,
    "start_time": "2024-07-23T03:17:39.902Z"
   },
   {
    "duration": 12,
    "start_time": "2024-07-23T03:17:54.990Z"
   },
   {
    "duration": 976,
    "start_time": "2024-07-23T03:21:02.995Z"
   },
   {
    "duration": 12,
    "start_time": "2024-07-23T03:21:49.802Z"
   },
   {
    "duration": 13,
    "start_time": "2024-07-23T03:23:41.820Z"
   },
   {
    "duration": 818,
    "start_time": "2024-07-23T03:24:20.554Z"
   },
   {
    "duration": 7644,
    "start_time": "2024-07-23T03:26:26.313Z"
   },
   {
    "duration": 846,
    "start_time": "2024-07-23T03:26:51.089Z"
   },
   {
    "duration": 823,
    "start_time": "2024-07-23T03:29:33.956Z"
   },
   {
    "duration": 801,
    "start_time": "2024-07-23T03:30:09.103Z"
   },
   {
    "duration": 848,
    "start_time": "2024-07-23T03:31:35.292Z"
   },
   {
    "duration": 803,
    "start_time": "2024-07-23T03:31:42.836Z"
   },
   {
    "duration": 821,
    "start_time": "2024-07-23T03:31:53.209Z"
   },
   {
    "duration": 797,
    "start_time": "2024-07-23T03:32:15.844Z"
   },
   {
    "duration": 14,
    "start_time": "2024-07-23T03:39:34.069Z"
   },
   {
    "duration": 801,
    "start_time": "2024-07-23T03:40:00.651Z"
   },
   {
    "duration": 954,
    "start_time": "2024-07-23T03:40:31.173Z"
   },
   {
    "duration": 98,
    "start_time": "2024-07-23T03:49:47.015Z"
   },
   {
    "duration": 837,
    "start_time": "2024-07-23T03:57:37.114Z"
   },
   {
    "duration": 9,
    "start_time": "2024-07-23T04:00:48.813Z"
   },
   {
    "duration": 4,
    "start_time": "2024-07-23T04:04:53.305Z"
   },
   {
    "duration": 422,
    "start_time": "2024-07-23T20:35:49.177Z"
   },
   {
    "duration": 1704,
    "start_time": "2024-07-23T20:35:49.661Z"
   },
   {
    "duration": 18,
    "start_time": "2024-07-23T20:35:51.368Z"
   },
   {
    "duration": 43,
    "start_time": "2024-07-23T20:35:51.389Z"
   },
   {
    "duration": 14,
    "start_time": "2024-07-23T20:35:52.295Z"
   },
   {
    "duration": 13,
    "start_time": "2024-07-23T20:35:53.393Z"
   },
   {
    "duration": 38,
    "start_time": "2024-07-23T20:35:54.186Z"
   },
   {
    "duration": 83,
    "start_time": "2024-07-23T20:35:56.668Z"
   },
   {
    "duration": 152,
    "start_time": "2024-07-23T20:35:56.895Z"
   },
   {
    "duration": 12,
    "start_time": "2024-07-23T20:35:57.455Z"
   },
   {
    "duration": 174,
    "start_time": "2024-07-23T20:35:58.345Z"
   },
   {
    "duration": 151,
    "start_time": "2024-07-23T20:35:58.738Z"
   },
   {
    "duration": 88,
    "start_time": "2024-07-23T20:35:59.071Z"
   },
   {
    "duration": 22,
    "start_time": "2024-07-23T20:36:00.276Z"
   },
   {
    "duration": 8,
    "start_time": "2024-07-23T20:36:00.646Z"
   },
   {
    "duration": 42,
    "start_time": "2024-07-23T20:36:00.978Z"
   },
   {
    "duration": 18,
    "start_time": "2024-07-23T20:36:01.310Z"
   },
   {
    "duration": 19,
    "start_time": "2024-07-23T20:36:01.820Z"
   },
   {
    "duration": 13,
    "start_time": "2024-07-23T20:36:02.297Z"
   },
   {
    "duration": 23,
    "start_time": "2024-07-23T20:36:02.566Z"
   },
   {
    "duration": 27,
    "start_time": "2024-07-23T20:36:02.811Z"
   },
   {
    "duration": 23,
    "start_time": "2024-07-23T20:36:03.330Z"
   },
   {
    "duration": 18,
    "start_time": "2024-07-23T20:36:03.644Z"
   },
   {
    "duration": 6,
    "start_time": "2024-07-23T20:36:04.387Z"
   },
   {
    "duration": 6,
    "start_time": "2024-07-23T20:36:04.622Z"
   },
   {
    "duration": 6,
    "start_time": "2024-07-23T20:36:05.425Z"
   },
   {
    "duration": 7,
    "start_time": "2024-07-23T20:36:05.685Z"
   },
   {
    "duration": 1316,
    "start_time": "2024-07-23T20:36:06.434Z"
   },
   {
    "duration": 623,
    "start_time": "2024-07-23T20:36:07.754Z"
   },
   {
    "duration": 12,
    "start_time": "2024-07-23T20:36:08.380Z"
   },
   {
    "duration": 3,
    "start_time": "2024-07-23T20:36:08.396Z"
   },
   {
    "duration": 3,
    "start_time": "2024-07-23T20:36:08.731Z"
   },
   {
    "duration": 9,
    "start_time": "2024-07-23T20:36:09.241Z"
   },
   {
    "duration": 9,
    "start_time": "2024-07-23T20:36:09.736Z"
   },
   {
    "duration": 9,
    "start_time": "2024-07-23T20:36:10.532Z"
   },
   {
    "duration": 9,
    "start_time": "2024-07-23T20:36:10.772Z"
   },
   {
    "duration": 28,
    "start_time": "2024-07-23T20:36:11.540Z"
   },
   {
    "duration": 49,
    "start_time": "2024-07-23T20:36:11.800Z"
   },
   {
    "duration": 24,
    "start_time": "2024-07-23T20:36:12.329Z"
   },
   {
    "duration": 779,
    "start_time": "2024-07-23T20:36:12.587Z"
   },
   {
    "duration": 63,
    "start_time": "2024-07-23T20:36:13.370Z"
   },
   {
    "duration": 8,
    "start_time": "2024-07-23T20:42:01.338Z"
   },
   {
    "duration": 334,
    "start_time": "2024-07-23T20:42:12.934Z"
   },
   {
    "duration": 25,
    "start_time": "2024-07-23T20:44:01.578Z"
   },
   {
    "duration": 71,
    "start_time": "2024-07-23T20:44:36.446Z"
   },
   {
    "duration": 22,
    "start_time": "2024-07-23T20:45:16.049Z"
   },
   {
    "duration": 60,
    "start_time": "2024-07-23T20:45:29.391Z"
   },
   {
    "duration": 8,
    "start_time": "2024-07-23T20:46:11.336Z"
   },
   {
    "duration": 5,
    "start_time": "2024-07-23T20:46:19.834Z"
   },
   {
    "duration": 5,
    "start_time": "2024-07-23T20:46:24.718Z"
   },
   {
    "duration": 19,
    "start_time": "2024-07-23T20:46:37.173Z"
   },
   {
    "duration": 6,
    "start_time": "2024-07-23T20:46:41.213Z"
   },
   {
    "duration": 5,
    "start_time": "2024-07-23T20:47:22.765Z"
   },
   {
    "duration": 4146,
    "start_time": "2024-07-23T20:49:34.039Z"
   },
   {
    "duration": 301,
    "start_time": "2024-07-23T20:49:55.017Z"
   },
   {
    "duration": 3,
    "start_time": "2024-07-23T20:50:20.043Z"
   },
   {
    "duration": 206,
    "start_time": "2024-07-23T20:50:28.170Z"
   },
   {
    "duration": 260,
    "start_time": "2024-07-23T20:51:11.800Z"
   },
   {
    "duration": 363,
    "start_time": "2024-07-23T20:57:47.678Z"
   },
   {
    "duration": 727,
    "start_time": "2024-07-23T20:57:55.636Z"
   },
   {
    "duration": 1645,
    "start_time": "2024-07-23T20:57:56.367Z"
   },
   {
    "duration": 21,
    "start_time": "2024-07-23T20:57:58.025Z"
   },
   {
    "duration": 15,
    "start_time": "2024-07-23T20:57:59.230Z"
   },
   {
    "duration": 13,
    "start_time": "2024-07-23T20:58:05.101Z"
   },
   {
    "duration": 13,
    "start_time": "2024-07-23T20:58:05.791Z"
   },
   {
    "duration": 38,
    "start_time": "2024-07-23T20:58:06.312Z"
   },
   {
    "duration": 83,
    "start_time": "2024-07-23T20:58:08.641Z"
   },
   {
    "duration": 151,
    "start_time": "2024-07-23T20:58:09.086Z"
   },
   {
    "duration": 15,
    "start_time": "2024-07-23T20:58:10.318Z"
   },
   {
    "duration": 175,
    "start_time": "2024-07-23T20:58:11.316Z"
   },
   {
    "duration": 151,
    "start_time": "2024-07-23T20:58:11.826Z"
   },
   {
    "duration": 89,
    "start_time": "2024-07-23T20:58:12.216Z"
   },
   {
    "duration": 21,
    "start_time": "2024-07-23T20:58:13.258Z"
   },
   {
    "duration": 9,
    "start_time": "2024-07-23T20:58:13.610Z"
   },
   {
    "duration": 40,
    "start_time": "2024-07-23T20:58:13.904Z"
   },
   {
    "duration": 19,
    "start_time": "2024-07-23T20:58:14.181Z"
   },
   {
    "duration": 18,
    "start_time": "2024-07-23T20:58:14.835Z"
   },
   {
    "duration": 13,
    "start_time": "2024-07-23T20:58:15.615Z"
   },
   {
    "duration": 22,
    "start_time": "2024-07-23T20:58:15.945Z"
   },
   {
    "duration": 21,
    "start_time": "2024-07-23T20:58:16.294Z"
   },
   {
    "duration": 23,
    "start_time": "2024-07-23T20:58:17.018Z"
   },
   {
    "duration": 22,
    "start_time": "2024-07-23T20:58:17.344Z"
   },
   {
    "duration": 6,
    "start_time": "2024-07-23T20:58:18.556Z"
   },
   {
    "duration": 7,
    "start_time": "2024-07-23T20:58:18.883Z"
   },
   {
    "duration": 5,
    "start_time": "2024-07-23T20:58:19.945Z"
   },
   {
    "duration": 7,
    "start_time": "2024-07-23T20:58:20.247Z"
   },
   {
    "duration": 1300,
    "start_time": "2024-07-23T20:58:21.240Z"
   },
   {
    "duration": 599,
    "start_time": "2024-07-23T20:58:22.544Z"
   },
   {
    "duration": 12,
    "start_time": "2024-07-23T20:58:23.146Z"
   },
   {
    "duration": 3,
    "start_time": "2024-07-23T20:58:23.957Z"
   },
   {
    "duration": 3,
    "start_time": "2024-07-23T20:58:24.780Z"
   },
   {
    "duration": 9,
    "start_time": "2024-07-23T20:58:25.531Z"
   },
   {
    "duration": 7,
    "start_time": "2024-07-23T20:58:26.280Z"
   },
   {
    "duration": 9,
    "start_time": "2024-07-23T20:58:28.386Z"
   },
   {
    "duration": 9,
    "start_time": "2024-07-23T20:58:28.806Z"
   },
   {
    "duration": 34,
    "start_time": "2024-07-23T20:58:30.086Z"
   },
   {
    "duration": 51,
    "start_time": "2024-07-23T20:58:30.449Z"
   },
   {
    "duration": 23,
    "start_time": "2024-07-23T20:58:31.372Z"
   },
   {
    "duration": 810,
    "start_time": "2024-07-23T20:58:31.759Z"
   },
   {
    "duration": 53,
    "start_time": "2024-07-23T20:58:32.574Z"
   },
   {
    "duration": 6,
    "start_time": "2024-07-23T20:58:34.951Z"
   },
   {
    "duration": 7,
    "start_time": "2024-07-23T20:58:35.818Z"
   },
   {
    "duration": 717,
    "start_time": "2024-07-23T21:00:04.114Z"
   },
   {
    "duration": 1681,
    "start_time": "2024-07-23T21:00:04.835Z"
   },
   {
    "duration": 22,
    "start_time": "2024-07-23T21:00:06.521Z"
   },
   {
    "duration": 16,
    "start_time": "2024-07-23T21:00:06.546Z"
   },
   {
    "duration": 14,
    "start_time": "2024-07-23T21:00:06.567Z"
   },
   {
    "duration": 51,
    "start_time": "2024-07-23T21:00:06.585Z"
   },
   {
    "duration": 39,
    "start_time": "2024-07-23T21:00:06.638Z"
   },
   {
    "duration": 112,
    "start_time": "2024-07-23T21:00:06.680Z"
   },
   {
    "duration": 165,
    "start_time": "2024-07-23T21:00:06.795Z"
   },
   {
    "duration": 11,
    "start_time": "2024-07-23T21:00:06.963Z"
   },
   {
    "duration": 198,
    "start_time": "2024-07-23T21:00:06.977Z"
   },
   {
    "duration": 163,
    "start_time": "2024-07-23T21:00:07.178Z"
   },
   {
    "duration": 99,
    "start_time": "2024-07-23T21:00:07.344Z"
   },
   {
    "duration": 23,
    "start_time": "2024-07-23T21:00:07.449Z"
   },
   {
    "duration": 9,
    "start_time": "2024-07-23T21:00:07.475Z"
   },
   {
    "duration": 85,
    "start_time": "2024-07-23T21:00:07.486Z"
   },
   {
    "duration": 26,
    "start_time": "2024-07-23T21:00:07.574Z"
   },
   {
    "duration": 22,
    "start_time": "2024-07-23T21:00:07.627Z"
   },
   {
    "duration": 14,
    "start_time": "2024-07-23T21:00:07.652Z"
   },
   {
    "duration": 60,
    "start_time": "2024-07-23T21:00:07.669Z"
   },
   {
    "duration": 25,
    "start_time": "2024-07-23T21:00:07.733Z"
   },
   {
    "duration": 24,
    "start_time": "2024-07-23T21:00:07.762Z"
   },
   {
    "duration": 51,
    "start_time": "2024-07-23T21:00:07.789Z"
   },
   {
    "duration": 6,
    "start_time": "2024-07-23T21:00:07.843Z"
   },
   {
    "duration": 7,
    "start_time": "2024-07-23T21:00:07.852Z"
   },
   {
    "duration": 5,
    "start_time": "2024-07-23T21:00:07.863Z"
   },
   {
    "duration": 54,
    "start_time": "2024-07-23T21:00:07.871Z"
   },
   {
    "duration": 1354,
    "start_time": "2024-07-23T21:00:07.929Z"
   },
   {
    "duration": 655,
    "start_time": "2024-07-23T21:00:09.286Z"
   },
   {
    "duration": 12,
    "start_time": "2024-07-23T21:00:09.944Z"
   },
   {
    "duration": 3,
    "start_time": "2024-07-23T21:00:09.959Z"
   },
   {
    "duration": 4,
    "start_time": "2024-07-23T21:00:09.965Z"
   },
   {
    "duration": 10,
    "start_time": "2024-07-23T21:00:09.972Z"
   },
   {
    "duration": 8,
    "start_time": "2024-07-23T21:00:10.027Z"
   },
   {
    "duration": 11,
    "start_time": "2024-07-23T21:00:10.039Z"
   },
   {
    "duration": 11,
    "start_time": "2024-07-23T21:00:10.052Z"
   },
   {
    "duration": 77,
    "start_time": "2024-07-23T21:00:10.065Z"
   },
   {
    "duration": 49,
    "start_time": "2024-07-23T21:00:10.145Z"
   },
   {
    "duration": 42,
    "start_time": "2024-07-23T21:00:10.197Z"
   },
   {
    "duration": 884,
    "start_time": "2024-07-23T21:00:10.242Z"
   },
   {
    "duration": 40,
    "start_time": "2024-07-23T21:00:11.135Z"
   },
   {
    "duration": 7,
    "start_time": "2024-07-23T21:00:11.177Z"
   },
   {
    "duration": 39,
    "start_time": "2024-07-23T21:00:11.187Z"
   },
   {
    "duration": 275,
    "start_time": "2024-07-23T21:00:11.229Z"
   },
   {
    "duration": 253,
    "start_time": "2024-07-23T21:16:09.219Z"
   },
   {
    "duration": 7,
    "start_time": "2024-07-23T21:18:22.985Z"
   },
   {
    "duration": 265,
    "start_time": "2024-07-23T21:19:50.905Z"
   },
   {
    "duration": 1518,
    "start_time": "2024-07-23T21:20:43.418Z"
   },
   {
    "duration": 269,
    "start_time": "2024-07-23T21:21:10.657Z"
   },
   {
    "duration": 280,
    "start_time": "2024-07-23T21:26:20.986Z"
   },
   {
    "duration": 555,
    "start_time": "2024-07-23T21:26:46.706Z"
   },
   {
    "duration": 294,
    "start_time": "2024-07-23T21:27:55.486Z"
   },
   {
    "duration": 277,
    "start_time": "2024-07-23T21:28:05.012Z"
   },
   {
    "duration": 8,
    "start_time": "2024-07-23T21:28:52.574Z"
   },
   {
    "duration": 258,
    "start_time": "2024-07-23T21:28:55.812Z"
   },
   {
    "duration": 256,
    "start_time": "2024-07-23T21:29:02.665Z"
   },
   {
    "duration": 12,
    "start_time": "2024-07-23T21:32:49.084Z"
   },
   {
    "duration": 7,
    "start_time": "2024-07-23T21:33:22.785Z"
   },
   {
    "duration": 8,
    "start_time": "2024-07-23T21:33:27.179Z"
   },
   {
    "duration": 260,
    "start_time": "2024-07-23T21:35:10.918Z"
   },
   {
    "duration": 279,
    "start_time": "2024-07-23T21:38:07.017Z"
   },
   {
    "duration": 262,
    "start_time": "2024-07-23T21:39:17.042Z"
   },
   {
    "duration": 4334,
    "start_time": "2024-07-25T02:03:08.639Z"
   },
   {
    "duration": 1684,
    "start_time": "2024-07-25T02:03:12.978Z"
   },
   {
    "duration": 19,
    "start_time": "2024-07-25T02:03:14.664Z"
   },
   {
    "duration": 15,
    "start_time": "2024-07-25T02:03:14.687Z"
   },
   {
    "duration": 13,
    "start_time": "2024-07-25T02:03:14.734Z"
   },
   {
    "duration": 16,
    "start_time": "2024-07-25T02:03:14.750Z"
   },
   {
    "duration": 72,
    "start_time": "2024-07-25T02:03:14.769Z"
   },
   {
    "duration": 95,
    "start_time": "2024-07-25T02:03:14.844Z"
   },
   {
    "duration": 168,
    "start_time": "2024-07-25T02:03:14.942Z"
   },
   {
    "duration": 14,
    "start_time": "2024-07-25T02:03:15.815Z"
   },
   {
    "duration": 196,
    "start_time": "2024-07-25T02:03:16.854Z"
   },
   {
    "duration": 159,
    "start_time": "2024-07-25T02:03:17.329Z"
   },
   {
    "duration": 87,
    "start_time": "2024-07-25T02:03:17.776Z"
   },
   {
    "duration": 21,
    "start_time": "2024-07-25T02:03:19.211Z"
   },
   {
    "duration": 8,
    "start_time": "2024-07-25T02:03:19.607Z"
   },
   {
    "duration": 40,
    "start_time": "2024-07-25T02:03:19.889Z"
   },
   {
    "duration": 18,
    "start_time": "2024-07-25T02:03:20.183Z"
   },
   {
    "duration": 17,
    "start_time": "2024-07-25T02:03:20.805Z"
   },
   {
    "duration": 13,
    "start_time": "2024-07-25T02:03:21.418Z"
   },
   {
    "duration": 22,
    "start_time": "2024-07-25T02:03:21.720Z"
   },
   {
    "duration": 22,
    "start_time": "2024-07-25T02:03:21.950Z"
   },
   {
    "duration": 24,
    "start_time": "2024-07-25T02:03:22.453Z"
   },
   {
    "duration": 18,
    "start_time": "2024-07-25T02:03:22.704Z"
   },
   {
    "duration": 5,
    "start_time": "2024-07-25T02:03:23.462Z"
   },
   {
    "duration": 6,
    "start_time": "2024-07-25T02:03:23.729Z"
   },
   {
    "duration": 6,
    "start_time": "2024-07-25T02:03:24.462Z"
   },
   {
    "duration": 6,
    "start_time": "2024-07-25T02:03:24.695Z"
   },
   {
    "duration": 1343,
    "start_time": "2024-07-25T02:03:25.464Z"
   },
   {
    "duration": 592,
    "start_time": "2024-07-25T02:03:26.810Z"
   },
   {
    "duration": 11,
    "start_time": "2024-07-25T02:03:27.569Z"
   },
   {
    "duration": 3,
    "start_time": "2024-07-25T02:03:28.486Z"
   },
   {
    "duration": 4,
    "start_time": "2024-07-25T02:03:29.698Z"
   },
   {
    "duration": 13,
    "start_time": "2024-07-25T02:03:30.654Z"
   },
   {
    "duration": 7,
    "start_time": "2024-07-25T02:03:31.487Z"
   },
   {
    "duration": 10,
    "start_time": "2024-07-25T02:03:32.833Z"
   },
   {
    "duration": 9,
    "start_time": "2024-07-25T02:03:33.283Z"
   },
   {
    "duration": 26,
    "start_time": "2024-07-25T02:03:34.625Z"
   },
   {
    "duration": 49,
    "start_time": "2024-07-25T02:03:35.132Z"
   },
   {
    "duration": 25,
    "start_time": "2024-07-25T02:03:35.900Z"
   },
   {
    "duration": 809,
    "start_time": "2024-07-25T02:03:36.309Z"
   },
   {
    "duration": 40,
    "start_time": "2024-07-25T02:03:37.152Z"
   },
   {
    "duration": 6,
    "start_time": "2024-07-25T02:03:39.359Z"
   },
   {
    "duration": 5,
    "start_time": "2024-07-25T02:03:39.949Z"
   },
   {
    "duration": 286,
    "start_time": "2024-07-25T02:03:41.242Z"
   },
   {
    "duration": 255,
    "start_time": "2024-07-25T02:03:42.426Z"
   },
   {
    "duration": 262,
    "start_time": "2024-07-25T02:03:43.675Z"
   },
   {
    "duration": 12,
    "start_time": "2024-07-25T02:09:35.935Z"
   },
   {
    "duration": 15,
    "start_time": "2024-07-25T02:12:22.744Z"
   },
   {
    "duration": 274,
    "start_time": "2024-07-25T02:14:52.196Z"
   },
   {
    "duration": 291,
    "start_time": "2024-07-25T02:15:15.264Z"
   },
   {
    "duration": 271,
    "start_time": "2024-07-25T02:15:24.472Z"
   },
   {
    "duration": 311,
    "start_time": "2024-07-25T02:15:40.897Z"
   },
   {
    "duration": 337,
    "start_time": "2024-07-25T02:15:46.618Z"
   },
   {
    "duration": 652,
    "start_time": "2024-07-25T02:16:58.412Z"
   },
   {
    "duration": 317,
    "start_time": "2024-07-25T02:17:11.156Z"
   },
   {
    "duration": 339,
    "start_time": "2024-07-25T02:17:20.574Z"
   },
   {
    "duration": 330,
    "start_time": "2024-07-25T02:17:26.423Z"
   },
   {
    "duration": 331,
    "start_time": "2024-07-25T02:18:35.438Z"
   },
   {
    "duration": 10,
    "start_time": "2024-07-25T02:29:25.217Z"
   },
   {
    "duration": 9,
    "start_time": "2024-07-25T02:30:29.785Z"
   },
   {
    "duration": 784,
    "start_time": "2024-07-25T02:32:44.850Z"
   },
   {
    "duration": 5,
    "start_time": "2024-07-25T02:34:18.138Z"
   },
   {
    "duration": 5,
    "start_time": "2024-07-25T02:34:44.232Z"
   },
   {
    "duration": 10,
    "start_time": "2024-07-25T02:35:00.223Z"
   },
   {
    "duration": 8,
    "start_time": "2024-07-25T02:36:42.704Z"
   },
   {
    "duration": 156,
    "start_time": "2024-07-25T02:39:43.673Z"
   },
   {
    "duration": 6,
    "start_time": "2024-07-25T02:39:57.135Z"
   },
   {
    "duration": 391,
    "start_time": "2024-07-25T02:40:52.490Z"
   },
   {
    "duration": 406,
    "start_time": "2024-07-25T02:40:59.434Z"
   },
   {
    "duration": 309,
    "start_time": "2024-07-25T02:41:12.793Z"
   },
   {
    "duration": 243,
    "start_time": "2024-07-25T02:43:42.086Z"
   },
   {
    "duration": 416,
    "start_time": "2024-07-25T02:43:52.360Z"
   },
   {
    "duration": 9,
    "start_time": "2024-07-25T03:01:30.461Z"
   },
   {
    "duration": 1343,
    "start_time": "2024-07-25T03:02:24.498Z"
   },
   {
    "duration": 183,
    "start_time": "2024-07-25T03:06:55.496Z"
   },
   {
    "duration": 165,
    "start_time": "2024-07-25T03:07:43.945Z"
   },
   {
    "duration": 181,
    "start_time": "2024-07-25T03:09:28.473Z"
   },
   {
    "duration": 6,
    "start_time": "2024-07-25T03:09:40.941Z"
   },
   {
    "duration": 10,
    "start_time": "2024-07-25T03:09:58.185Z"
   },
   {
    "duration": 6,
    "start_time": "2024-07-25T03:10:14.677Z"
   },
   {
    "duration": 152,
    "start_time": "2024-07-25T03:10:47.725Z"
   },
   {
    "duration": 5,
    "start_time": "2024-07-25T03:10:48.597Z"
   },
   {
    "duration": 171,
    "start_time": "2024-07-25T03:11:09.491Z"
   },
   {
    "duration": 200,
    "start_time": "2024-07-25T03:11:20.314Z"
   },
   {
    "duration": 205,
    "start_time": "2024-07-25T03:17:11.380Z"
   },
   {
    "duration": 4,
    "start_time": "2024-07-25T03:17:18.580Z"
   },
   {
    "duration": 168,
    "start_time": "2024-07-25T03:20:26.051Z"
   },
   {
    "duration": 5,
    "start_time": "2024-07-25T03:20:29.783Z"
   },
   {
    "duration": 166,
    "start_time": "2024-07-25T03:22:46.258Z"
   },
   {
    "duration": 7,
    "start_time": "2024-07-25T03:23:09.993Z"
   },
   {
    "duration": 7,
    "start_time": "2024-07-25T03:23:16.911Z"
   },
   {
    "duration": 191,
    "start_time": "2024-07-25T03:23:24.503Z"
   },
   {
    "duration": 155,
    "start_time": "2024-07-25T03:23:52.442Z"
   },
   {
    "duration": 174,
    "start_time": "2024-07-25T03:24:04.170Z"
   },
   {
    "duration": 168,
    "start_time": "2024-07-25T03:24:25.799Z"
   },
   {
    "duration": 158,
    "start_time": "2024-07-25T03:24:50.532Z"
   },
   {
    "duration": 165,
    "start_time": "2024-07-25T03:24:57.645Z"
   },
   {
    "duration": 163,
    "start_time": "2024-07-25T03:26:05.435Z"
   },
   {
    "duration": 218,
    "start_time": "2024-07-25T03:27:45.781Z"
   },
   {
    "duration": 209,
    "start_time": "2024-07-25T03:28:00.674Z"
   },
   {
    "duration": 5,
    "start_time": "2024-07-25T03:28:17.640Z"
   },
   {
    "duration": 167,
    "start_time": "2024-07-25T03:28:25.234Z"
   },
   {
    "duration": 165,
    "start_time": "2024-07-25T03:39:08.428Z"
   },
   {
    "duration": 173,
    "start_time": "2024-07-25T03:43:37.248Z"
   },
   {
    "duration": 155,
    "start_time": "2024-07-25T03:43:44.115Z"
   },
   {
    "duration": 6,
    "start_time": "2024-07-25T03:43:48.027Z"
   },
   {
    "duration": 20,
    "start_time": "2024-07-25T03:51:24.454Z"
   },
   {
    "duration": 154,
    "start_time": "2024-07-25T04:01:03.232Z"
   },
   {
    "duration": 7,
    "start_time": "2024-07-25T04:01:06.140Z"
   },
   {
    "duration": 24,
    "start_time": "2024-07-25T04:01:12.124Z"
   },
   {
    "duration": 21,
    "start_time": "2024-07-25T04:01:21.564Z"
   },
   {
    "duration": 808,
    "start_time": "2024-07-25T04:03:26.049Z"
   },
   {
    "duration": 19,
    "start_time": "2024-07-25T04:03:38.363Z"
   },
   {
    "duration": 149,
    "start_time": "2024-07-25T04:03:46.609Z"
   },
   {
    "duration": 22,
    "start_time": "2024-07-25T04:06:18.700Z"
   },
   {
    "duration": 157,
    "start_time": "2024-07-25T04:06:47.341Z"
   },
   {
    "duration": 6,
    "start_time": "2024-07-25T04:06:48.270Z"
   },
   {
    "duration": 23,
    "start_time": "2024-07-25T04:06:54.198Z"
   },
   {
    "duration": 4355,
    "start_time": "2024-07-31T04:26:31.247Z"
   },
   {
    "duration": 1720,
    "start_time": "2024-07-31T04:26:35.606Z"
   },
   {
    "duration": 17,
    "start_time": "2024-07-31T04:26:37.329Z"
   },
   {
    "duration": 16,
    "start_time": "2024-07-31T04:26:37.350Z"
   },
   {
    "duration": 14,
    "start_time": "2024-07-31T04:26:37.391Z"
   },
   {
    "duration": 14,
    "start_time": "2024-07-31T04:26:39.432Z"
   },
   {
    "duration": 40,
    "start_time": "2024-07-31T04:26:40.727Z"
   },
   {
    "duration": 90,
    "start_time": "2024-07-31T04:26:43.215Z"
   },
   {
    "duration": 164,
    "start_time": "2024-07-31T04:26:44.128Z"
   },
   {
    "duration": 14,
    "start_time": "2024-07-31T04:26:45.644Z"
   },
   {
    "duration": 201,
    "start_time": "2024-07-31T04:26:46.657Z"
   },
   {
    "duration": 157,
    "start_time": "2024-07-31T04:26:47.048Z"
   },
   {
    "duration": 90,
    "start_time": "2024-07-31T04:26:47.387Z"
   },
   {
    "duration": 23,
    "start_time": "2024-07-31T04:26:48.740Z"
   },
   {
    "duration": 8,
    "start_time": "2024-07-31T04:26:49.152Z"
   },
   {
    "duration": 43,
    "start_time": "2024-07-31T04:26:49.656Z"
   },
   {
    "duration": 20,
    "start_time": "2024-07-31T04:26:50.115Z"
   },
   {
    "duration": 19,
    "start_time": "2024-07-31T04:26:51.106Z"
   },
   {
    "duration": 12,
    "start_time": "2024-07-31T04:26:52.326Z"
   },
   {
    "duration": 22,
    "start_time": "2024-07-31T04:26:52.722Z"
   },
   {
    "duration": 22,
    "start_time": "2024-07-31T04:26:53.252Z"
   },
   {
    "duration": 24,
    "start_time": "2024-07-31T04:26:54.193Z"
   },
   {
    "duration": 19,
    "start_time": "2024-07-31T04:26:54.568Z"
   },
   {
    "duration": 6,
    "start_time": "2024-07-31T04:26:55.896Z"
   },
   {
    "duration": 7,
    "start_time": "2024-07-31T04:26:56.281Z"
   },
   {
    "duration": 7,
    "start_time": "2024-07-31T04:26:57.422Z"
   },
   {
    "duration": 7,
    "start_time": "2024-07-31T04:26:57.796Z"
   },
   {
    "duration": 1521,
    "start_time": "2024-07-31T04:26:58.918Z"
   },
   {
    "duration": 753,
    "start_time": "2024-07-31T04:27:00.445Z"
   },
   {
    "duration": 12,
    "start_time": "2024-07-31T04:27:01.202Z"
   },
   {
    "duration": 3,
    "start_time": "2024-07-31T04:27:02.105Z"
   },
   {
    "duration": 4,
    "start_time": "2024-07-31T04:27:03.160Z"
   },
   {
    "duration": 12,
    "start_time": "2024-07-31T04:27:04.011Z"
   },
   {
    "duration": 11,
    "start_time": "2024-07-31T04:27:04.724Z"
   },
   {
    "duration": 9,
    "start_time": "2024-07-31T04:27:06.078Z"
   },
   {
    "duration": 9,
    "start_time": "2024-07-31T04:27:06.420Z"
   },
   {
    "duration": 26,
    "start_time": "2024-07-31T04:27:07.592Z"
   },
   {
    "duration": 49,
    "start_time": "2024-07-31T04:27:07.911Z"
   },
   {
    "duration": 23,
    "start_time": "2024-07-31T04:27:08.623Z"
   },
   {
    "duration": 856,
    "start_time": "2024-07-31T04:27:09.112Z"
   },
   {
    "duration": 41,
    "start_time": "2024-07-31T04:27:10.228Z"
   },
   {
    "duration": 6,
    "start_time": "2024-07-31T04:27:13.044Z"
   },
   {
    "duration": 6,
    "start_time": "2024-07-31T04:27:13.577Z"
   },
   {
    "duration": 269,
    "start_time": "2024-07-31T04:27:15.276Z"
   },
   {
    "duration": 265,
    "start_time": "2024-07-31T04:27:16.711Z"
   },
   {
    "duration": 317,
    "start_time": "2024-07-31T04:27:18.797Z"
   },
   {
    "duration": 15,
    "start_time": "2024-07-31T04:27:21.510Z"
   },
   {
    "duration": 341,
    "start_time": "2024-07-31T04:27:22.086Z"
   },
   {
    "duration": 412,
    "start_time": "2024-07-31T04:27:24.010Z"
   },
   {
    "duration": 161,
    "start_time": "2024-07-31T04:27:25.507Z"
   },
   {
    "duration": 7,
    "start_time": "2024-07-31T04:27:25.943Z"
   },
   {
    "duration": 21,
    "start_time": "2024-07-31T04:27:26.483Z"
   },
   {
    "duration": 9,
    "start_time": "2024-07-31T04:43:42.145Z"
   },
   {
    "duration": 5,
    "start_time": "2024-07-31T04:44:42.197Z"
   },
   {
    "duration": 7,
    "start_time": "2024-07-31T04:45:16.387Z"
   },
   {
    "duration": 5,
    "start_time": "2024-07-31T04:45:19.966Z"
   },
   {
    "duration": 310,
    "start_time": "2024-07-31T04:46:03.344Z"
   },
   {
    "duration": 6,
    "start_time": "2024-07-31T04:46:12.383Z"
   },
   {
    "duration": 716,
    "start_time": "2024-07-31T04:47:02.335Z"
   },
   {
    "duration": 745,
    "start_time": "2024-07-31T04:47:33.400Z"
   },
   {
    "duration": 588,
    "start_time": "2024-07-31T04:47:44.381Z"
   },
   {
    "duration": 537,
    "start_time": "2024-07-31T04:51:20.730Z"
   },
   {
    "duration": 627,
    "start_time": "2024-07-31T04:51:42.749Z"
   },
   {
    "duration": 554,
    "start_time": "2024-07-31T04:52:07.175Z"
   },
   {
    "duration": 576,
    "start_time": "2024-07-31T04:53:57.176Z"
   },
   {
    "duration": 535,
    "start_time": "2024-07-31T04:54:34.006Z"
   },
   {
    "duration": 565,
    "start_time": "2024-07-31T04:54:41.138Z"
   },
   {
    "duration": 565,
    "start_time": "2024-07-31T04:54:45.980Z"
   },
   {
    "duration": 605,
    "start_time": "2024-07-31T04:57:26.721Z"
   },
   {
    "duration": 611,
    "start_time": "2024-07-31T05:03:04.629Z"
   },
   {
    "duration": 586,
    "start_time": "2024-07-31T05:05:57.927Z"
   },
   {
    "duration": 245,
    "start_time": "2024-07-31T05:07:39.866Z"
   },
   {
    "duration": 388,
    "start_time": "2024-07-31T05:08:00.658Z"
   },
   {
    "duration": 1979,
    "start_time": "2024-07-31T05:08:06.892Z"
   },
   {
    "duration": 566,
    "start_time": "2024-07-31T05:08:18.573Z"
   },
   {
    "duration": 542,
    "start_time": "2024-07-31T05:08:24.936Z"
   },
   {
    "duration": 473,
    "start_time": "2024-07-31T05:08:31.754Z"
   },
   {
    "duration": 436,
    "start_time": "2024-07-31T05:08:39.206Z"
   },
   {
    "duration": 478,
    "start_time": "2024-07-31T05:10:32.949Z"
   },
   {
    "duration": 533,
    "start_time": "2024-07-31T05:10:44.896Z"
   },
   {
    "duration": 438,
    "start_time": "2024-07-31T05:11:15.848Z"
   },
   {
    "duration": 6,
    "start_time": "2024-07-31T05:15:08.093Z"
   },
   {
    "duration": 446,
    "start_time": "2024-07-31T05:19:39.358Z"
   },
   {
    "duration": 445,
    "start_time": "2024-07-31T05:19:48.523Z"
   },
   {
    "duration": 454,
    "start_time": "2024-07-31T05:21:28.541Z"
   },
   {
    "duration": 452,
    "start_time": "2024-07-31T05:25:00.897Z"
   },
   {
    "duration": 342,
    "start_time": "2024-07-31T05:27:01.085Z"
   },
   {
    "duration": 457,
    "start_time": "2024-07-31T05:30:08.785Z"
   },
   {
    "duration": 449,
    "start_time": "2024-07-31T05:30:14.809Z"
   },
   {
    "duration": 309,
    "start_time": "2024-07-31T05:30:59.065Z"
   },
   {
    "duration": 291,
    "start_time": "2024-07-31T05:31:10.049Z"
   },
   {
    "duration": 443,
    "start_time": "2024-07-31T05:31:18.518Z"
   },
   {
    "duration": 464,
    "start_time": "2024-07-31T05:32:42.952Z"
   },
   {
    "duration": 742,
    "start_time": "2024-07-31T05:39:52.031Z"
   },
   {
    "duration": 566,
    "start_time": "2024-07-31T05:40:05.016Z"
   },
   {
    "duration": 559,
    "start_time": "2024-07-31T05:41:15.515Z"
   },
   {
    "duration": 593,
    "start_time": "2024-07-31T05:41:33.675Z"
   },
   {
    "duration": 565,
    "start_time": "2024-07-31T05:41:49.020Z"
   },
   {
    "duration": 686,
    "start_time": "2024-07-31T05:41:55.947Z"
   },
   {
    "duration": 703,
    "start_time": "2024-07-31T05:43:29.624Z"
   },
   {
    "duration": 9,
    "start_time": "2024-07-31T05:54:52.187Z"
   },
   {
    "duration": 117,
    "start_time": "2024-07-31T05:57:07.246Z"
   },
   {
    "duration": 116,
    "start_time": "2024-07-31T05:59:03.419Z"
   },
   {
    "duration": 136,
    "start_time": "2024-07-31T05:59:10.193Z"
   },
   {
    "duration": 7,
    "start_time": "2024-07-31T05:59:29.413Z"
   },
   {
    "duration": 115,
    "start_time": "2024-07-31T05:59:43.647Z"
   },
   {
    "duration": 2041,
    "start_time": "2024-07-31T06:00:09.094Z"
   },
   {
    "duration": 1368,
    "start_time": "2024-07-31T06:03:54.409Z"
   },
   {
    "duration": 112,
    "start_time": "2024-07-31T06:04:07.902Z"
   },
   {
    "duration": 112,
    "start_time": "2024-07-31T06:04:32.804Z"
   },
   {
    "duration": 124,
    "start_time": "2024-07-31T06:04:42.561Z"
   },
   {
    "duration": 193,
    "start_time": "2024-07-31T06:08:43.772Z"
   },
   {
    "duration": 191,
    "start_time": "2024-07-31T06:09:06.708Z"
   },
   {
    "duration": 214,
    "start_time": "2024-07-31T06:10:36.014Z"
   },
   {
    "duration": 6,
    "start_time": "2024-07-31T06:11:00.043Z"
   },
   {
    "duration": 212,
    "start_time": "2024-07-31T06:11:03.650Z"
   },
   {
    "duration": 185,
    "start_time": "2024-07-31T06:11:32.024Z"
   },
   {
    "duration": 22,
    "start_time": "2024-07-31T06:12:12.462Z"
   },
   {
    "duration": 186,
    "start_time": "2024-07-31T06:12:37.805Z"
   },
   {
    "duration": 6,
    "start_time": "2024-07-31T06:12:39.555Z"
   },
   {
    "duration": 21,
    "start_time": "2024-07-31T06:13:58.883Z"
   },
   {
    "duration": 219,
    "start_time": "2024-07-31T06:16:52.506Z"
   },
   {
    "duration": 7,
    "start_time": "2024-07-31T06:16:53.234Z"
   },
   {
    "duration": 22,
    "start_time": "2024-07-31T06:16:53.862Z"
   },
   {
    "duration": 4380,
    "start_time": "2024-08-01T03:31:16.834Z"
   },
   {
    "duration": 1655,
    "start_time": "2024-08-01T03:31:21.217Z"
   },
   {
    "duration": 19,
    "start_time": "2024-08-01T03:31:22.876Z"
   },
   {
    "duration": 17,
    "start_time": "2024-08-01T03:31:22.899Z"
   },
   {
    "duration": 50,
    "start_time": "2024-08-01T03:31:22.919Z"
   },
   {
    "duration": 14,
    "start_time": "2024-08-01T03:31:22.972Z"
   },
   {
    "duration": 39,
    "start_time": "2024-08-01T03:31:22.989Z"
   },
   {
    "duration": 117,
    "start_time": "2024-08-01T03:31:23.033Z"
   },
   {
    "duration": 177,
    "start_time": "2024-08-01T03:31:23.153Z"
   },
   {
    "duration": 12,
    "start_time": "2024-08-01T03:31:23.337Z"
   },
   {
    "duration": 199,
    "start_time": "2024-08-01T03:31:23.369Z"
   },
   {
    "duration": 173,
    "start_time": "2024-08-01T03:31:23.570Z"
   },
   {
    "duration": 96,
    "start_time": "2024-08-01T03:31:23.745Z"
   },
   {
    "duration": 34,
    "start_time": "2024-08-01T03:31:23.844Z"
   },
   {
    "duration": 10,
    "start_time": "2024-08-01T03:31:23.881Z"
   },
   {
    "duration": 43,
    "start_time": "2024-08-01T03:31:23.894Z"
   },
   {
    "duration": 44,
    "start_time": "2024-08-01T03:31:23.940Z"
   },
   {
    "duration": 18,
    "start_time": "2024-08-01T03:31:23.987Z"
   },
   {
    "duration": 13,
    "start_time": "2024-08-01T03:31:24.009Z"
   },
   {
    "duration": 61,
    "start_time": "2024-08-01T03:31:24.025Z"
   },
   {
    "duration": 22,
    "start_time": "2024-08-01T03:31:24.089Z"
   },
   {
    "duration": 56,
    "start_time": "2024-08-01T03:31:24.114Z"
   },
   {
    "duration": 20,
    "start_time": "2024-08-01T03:31:24.172Z"
   },
   {
    "duration": 6,
    "start_time": "2024-08-01T03:31:24.196Z"
   },
   {
    "duration": 7,
    "start_time": "2024-08-01T03:31:24.206Z"
   },
   {
    "duration": 6,
    "start_time": "2024-08-01T03:31:24.216Z"
   },
   {
    "duration": 9,
    "start_time": "2024-08-01T03:31:24.268Z"
   },
   {
    "duration": 1399,
    "start_time": "2024-08-01T03:31:24.287Z"
   },
   {
    "duration": 639,
    "start_time": "2024-08-01T03:31:25.690Z"
   },
   {
    "duration": 11,
    "start_time": "2024-08-01T03:31:26.332Z"
   },
   {
    "duration": 22,
    "start_time": "2024-08-01T03:31:26.347Z"
   },
   {
    "duration": 3,
    "start_time": "2024-08-01T03:31:26.373Z"
   },
   {
    "duration": 10,
    "start_time": "2024-08-01T03:31:26.379Z"
   },
   {
    "duration": 6,
    "start_time": "2024-08-01T03:31:26.392Z"
   },
   {
    "duration": 11,
    "start_time": "2024-08-01T03:31:26.402Z"
   },
   {
    "duration": 57,
    "start_time": "2024-08-01T03:31:26.416Z"
   },
   {
    "duration": 26,
    "start_time": "2024-08-01T03:31:26.476Z"
   },
   {
    "duration": 83,
    "start_time": "2024-08-01T03:31:26.505Z"
   },
   {
    "duration": 25,
    "start_time": "2024-08-01T03:31:26.591Z"
   },
   {
    "duration": 872,
    "start_time": "2024-08-01T03:31:26.620Z"
   },
   {
    "duration": 42,
    "start_time": "2024-08-01T03:31:27.495Z"
   },
   {
    "duration": 30,
    "start_time": "2024-08-01T03:31:27.540Z"
   },
   {
    "duration": 6,
    "start_time": "2024-08-01T03:31:27.574Z"
   },
   {
    "duration": 330,
    "start_time": "2024-08-01T03:31:27.584Z"
   },
   {
    "duration": 301,
    "start_time": "2024-08-01T03:31:27.917Z"
   },
   {
    "duration": 294,
    "start_time": "2024-08-01T03:31:28.221Z"
   },
   {
    "duration": 16,
    "start_time": "2024-08-01T03:31:28.518Z"
   },
   {
    "duration": 441,
    "start_time": "2024-08-01T03:31:28.537Z"
   },
   {
    "duration": 433,
    "start_time": "2024-08-01T03:31:28.982Z"
   },
   {
    "duration": 170,
    "start_time": "2024-08-01T03:31:29.418Z"
   },
   {
    "duration": 7,
    "start_time": "2024-08-01T03:31:29.591Z"
   },
   {
    "duration": 23,
    "start_time": "2024-08-01T03:31:29.601Z"
   },
   {
    "duration": 762,
    "start_time": "2024-08-01T03:31:29.627Z"
   },
   {
    "duration": 6,
    "start_time": "2024-08-01T03:31:30.392Z"
   },
   {
    "duration": 757,
    "start_time": "2024-08-01T03:31:30.401Z"
   },
   {
    "duration": 198,
    "start_time": "2024-08-01T03:31:31.169Z"
   },
   {
    "duration": 6,
    "start_time": "2024-08-01T03:31:31.370Z"
   },
   {
    "duration": 23,
    "start_time": "2024-08-01T03:31:31.380Z"
   },
   {
    "duration": 3,
    "start_time": "2024-08-01T03:31:31.406Z"
   },
   {
    "duration": 7,
    "start_time": "2024-08-01T03:41:02.161Z"
   },
   {
    "duration": 881,
    "start_time": "2024-08-01T03:45:22.939Z"
   },
   {
    "duration": 82,
    "start_time": "2024-08-01T03:45:39.620Z"
   },
   {
    "duration": 9,
    "start_time": "2024-08-01T03:46:25.065Z"
   },
   {
    "duration": 5,
    "start_time": "2024-08-01T03:46:56.333Z"
   },
   {
    "duration": 4,
    "start_time": "2024-08-01T03:47:35.300Z"
   },
   {
    "duration": 21531,
    "start_time": "2024-08-01T03:47:52.849Z"
   },
   {
    "duration": 674,
    "start_time": "2024-08-01T03:48:50.115Z"
   },
   {
    "duration": 1703,
    "start_time": "2024-08-01T03:48:50.793Z"
   },
   {
    "duration": 17,
    "start_time": "2024-08-01T03:48:52.499Z"
   },
   {
    "duration": 17,
    "start_time": "2024-08-01T03:48:52.518Z"
   },
   {
    "duration": 13,
    "start_time": "2024-08-01T03:48:52.569Z"
   },
   {
    "duration": 14,
    "start_time": "2024-08-01T03:48:52.586Z"
   },
   {
    "duration": 71,
    "start_time": "2024-08-01T03:48:52.602Z"
   },
   {
    "duration": 95,
    "start_time": "2024-08-01T03:48:52.676Z"
   },
   {
    "duration": 168,
    "start_time": "2024-08-01T03:48:52.774Z"
   },
   {
    "duration": 28,
    "start_time": "2024-08-01T03:48:52.945Z"
   },
   {
    "duration": 202,
    "start_time": "2024-08-01T03:48:52.975Z"
   },
   {
    "duration": 168,
    "start_time": "2024-08-01T03:48:53.181Z"
   },
   {
    "duration": 92,
    "start_time": "2024-08-01T03:48:53.353Z"
   },
   {
    "duration": 34,
    "start_time": "2024-08-01T03:48:53.452Z"
   },
   {
    "duration": 8,
    "start_time": "2024-08-01T03:48:53.489Z"
   },
   {
    "duration": 68,
    "start_time": "2024-08-01T03:48:53.500Z"
   },
   {
    "duration": 19,
    "start_time": "2024-08-01T03:48:53.571Z"
   },
   {
    "duration": 19,
    "start_time": "2024-08-01T03:48:53.593Z"
   },
   {
    "duration": 13,
    "start_time": "2024-08-01T03:48:53.614Z"
   },
   {
    "duration": 27,
    "start_time": "2024-08-01T03:48:53.668Z"
   },
   {
    "duration": 22,
    "start_time": "2024-08-01T03:48:53.700Z"
   },
   {
    "duration": 51,
    "start_time": "2024-08-01T03:48:53.725Z"
   },
   {
    "duration": 18,
    "start_time": "2024-08-01T03:48:53.780Z"
   },
   {
    "duration": 6,
    "start_time": "2024-08-01T03:48:53.801Z"
   },
   {
    "duration": 8,
    "start_time": "2024-08-01T03:48:53.810Z"
   },
   {
    "duration": 47,
    "start_time": "2024-08-01T03:48:53.822Z"
   },
   {
    "duration": 7,
    "start_time": "2024-08-01T03:48:53.872Z"
   },
   {
    "duration": 1404,
    "start_time": "2024-08-01T03:48:53.883Z"
   },
   {
    "duration": 634,
    "start_time": "2024-08-01T03:48:55.290Z"
   },
   {
    "duration": 11,
    "start_time": "2024-08-01T03:48:55.927Z"
   },
   {
    "duration": 3,
    "start_time": "2024-08-01T03:48:55.941Z"
   },
   {
    "duration": 21,
    "start_time": "2024-08-01T03:48:55.948Z"
   },
   {
    "duration": 12,
    "start_time": "2024-08-01T03:48:55.974Z"
   },
   {
    "duration": 8,
    "start_time": "2024-08-01T03:48:55.989Z"
   },
   {
    "duration": 9,
    "start_time": "2024-08-01T03:48:56.000Z"
   },
   {
    "duration": 62,
    "start_time": "2024-08-01T03:48:56.012Z"
   },
   {
    "duration": 27,
    "start_time": "2024-08-01T03:48:56.077Z"
   },
   {
    "duration": 88,
    "start_time": "2024-08-01T03:48:56.107Z"
   },
   {
    "duration": 24,
    "start_time": "2024-08-01T03:48:56.198Z"
   },
   {
    "duration": 962,
    "start_time": "2024-08-01T03:48:56.226Z"
   },
   {
    "duration": 41,
    "start_time": "2024-08-01T03:48:57.196Z"
   },
   {
    "duration": 29,
    "start_time": "2024-08-01T03:48:57.239Z"
   },
   {
    "duration": 6,
    "start_time": "2024-08-01T03:48:57.271Z"
   },
   {
    "duration": 311,
    "start_time": "2024-08-01T03:48:57.280Z"
   },
   {
    "duration": 291,
    "start_time": "2024-08-01T03:48:57.595Z"
   },
   {
    "duration": 292,
    "start_time": "2024-08-01T03:48:57.891Z"
   },
   {
    "duration": 17,
    "start_time": "2024-08-01T03:48:58.186Z"
   },
   {
    "duration": 383,
    "start_time": "2024-08-01T03:48:58.206Z"
   },
   {
    "duration": 434,
    "start_time": "2024-08-01T03:48:58.592Z"
   },
   {
    "duration": 181,
    "start_time": "2024-08-01T03:48:59.029Z"
   },
   {
    "duration": 7,
    "start_time": "2024-08-01T03:48:59.213Z"
   },
   {
    "duration": 49,
    "start_time": "2024-08-01T03:48:59.224Z"
   },
   {
    "duration": 748,
    "start_time": "2024-08-01T03:48:59.276Z"
   },
   {
    "duration": 6,
    "start_time": "2024-08-01T03:49:00.027Z"
   },
   {
    "duration": 712,
    "start_time": "2024-08-01T03:49:00.036Z"
   },
   {
    "duration": 203,
    "start_time": "2024-08-01T03:49:00.751Z"
   },
   {
    "duration": 11,
    "start_time": "2024-08-01T03:49:00.956Z"
   },
   {
    "duration": 22,
    "start_time": "2024-08-01T03:49:00.971Z"
   },
   {
    "duration": 4,
    "start_time": "2024-08-01T03:49:00.996Z"
   },
   {
    "duration": 30365,
    "start_time": "2024-08-01T03:49:01.004Z"
   },
   {
    "duration": 7,
    "start_time": "2024-08-01T03:49:43.298Z"
   },
   {
    "duration": 5,
    "start_time": "2024-08-01T03:50:38.459Z"
   },
   {
    "duration": 20,
    "start_time": "2024-08-01T03:51:07.738Z"
   },
   {
    "duration": 320,
    "start_time": "2024-08-01T03:51:23.158Z"
   },
   {
    "duration": 308,
    "start_time": "2024-08-01T03:51:42.650Z"
   },
   {
    "duration": 751,
    "start_time": "2024-08-01T03:52:34.937Z"
   },
   {
    "duration": 1902,
    "start_time": "2024-08-01T03:52:37.970Z"
   },
   {
    "duration": 19,
    "start_time": "2024-08-01T03:52:39.875Z"
   },
   {
    "duration": 15,
    "start_time": "2024-08-01T03:52:40.783Z"
   },
   {
    "duration": 16,
    "start_time": "2024-08-01T03:52:41.445Z"
   },
   {
    "duration": 17,
    "start_time": "2024-08-01T03:52:42.134Z"
   },
   {
    "duration": 39,
    "start_time": "2024-08-01T03:52:42.719Z"
   },
   {
    "duration": 94,
    "start_time": "2024-08-01T03:52:45.488Z"
   },
   {
    "duration": 185,
    "start_time": "2024-08-01T03:52:46.201Z"
   },
   {
    "duration": 12,
    "start_time": "2024-08-01T03:52:47.778Z"
   },
   {
    "duration": 186,
    "start_time": "2024-08-01T03:52:49.608Z"
   },
   {
    "duration": 153,
    "start_time": "2024-08-01T03:52:50.140Z"
   },
   {
    "duration": 87,
    "start_time": "2024-08-01T03:52:50.710Z"
   },
   {
    "duration": 21,
    "start_time": "2024-08-01T03:52:52.341Z"
   },
   {
    "duration": 8,
    "start_time": "2024-08-01T03:52:52.892Z"
   },
   {
    "duration": 42,
    "start_time": "2024-08-01T03:52:54.169Z"
   },
   {
    "duration": 27,
    "start_time": "2024-08-01T03:52:54.744Z"
   },
   {
    "duration": 19,
    "start_time": "2024-08-01T03:52:55.560Z"
   },
   {
    "duration": 15,
    "start_time": "2024-08-01T03:52:56.370Z"
   },
   {
    "duration": 24,
    "start_time": "2024-08-01T03:52:56.752Z"
   },
   {
    "duration": 23,
    "start_time": "2024-08-01T03:52:57.198Z"
   },
   {
    "duration": 24,
    "start_time": "2024-08-01T03:52:58.100Z"
   },
   {
    "duration": 19,
    "start_time": "2024-08-01T03:52:58.706Z"
   },
   {
    "duration": 5,
    "start_time": "2024-08-01T03:52:59.977Z"
   },
   {
    "duration": 7,
    "start_time": "2024-08-01T03:53:00.378Z"
   },
   {
    "duration": 6,
    "start_time": "2024-08-01T03:53:01.613Z"
   },
   {
    "duration": 7,
    "start_time": "2024-08-01T03:53:02.071Z"
   },
   {
    "duration": 1363,
    "start_time": "2024-08-01T03:53:03.547Z"
   },
   {
    "duration": 665,
    "start_time": "2024-08-01T03:53:04.913Z"
   },
   {
    "duration": 11,
    "start_time": "2024-08-01T03:53:06.751Z"
   },
   {
    "duration": 3,
    "start_time": "2024-08-01T03:53:07.951Z"
   },
   {
    "duration": 3,
    "start_time": "2024-08-01T03:53:08.996Z"
   },
   {
    "duration": 10,
    "start_time": "2024-08-01T03:53:10.020Z"
   },
   {
    "duration": 7,
    "start_time": "2024-08-01T03:53:11.029Z"
   },
   {
    "duration": 10,
    "start_time": "2024-08-01T03:53:12.470Z"
   },
   {
    "duration": 9,
    "start_time": "2024-08-01T03:53:12.985Z"
   },
   {
    "duration": 28,
    "start_time": "2024-08-01T03:53:14.391Z"
   },
   {
    "duration": 52,
    "start_time": "2024-08-01T03:53:14.906Z"
   },
   {
    "duration": 24,
    "start_time": "2024-08-01T03:53:15.904Z"
   },
   {
    "duration": 945,
    "start_time": "2024-08-01T03:53:16.552Z"
   },
   {
    "duration": 43,
    "start_time": "2024-08-01T03:53:17.632Z"
   },
   {
    "duration": 7,
    "start_time": "2024-08-01T03:53:20.491Z"
   },
   {
    "duration": 7,
    "start_time": "2024-08-01T03:53:20.980Z"
   },
   {
    "duration": 274,
    "start_time": "2024-08-01T03:53:22.412Z"
   },
   {
    "duration": 271,
    "start_time": "2024-08-01T03:53:24.273Z"
   },
   {
    "duration": 278,
    "start_time": "2024-08-01T03:53:25.950Z"
   },
   {
    "duration": 17,
    "start_time": "2024-08-01T03:53:28.364Z"
   },
   {
    "duration": 338,
    "start_time": "2024-08-01T03:53:28.875Z"
   },
   {
    "duration": 408,
    "start_time": "2024-08-01T03:53:30.193Z"
   },
   {
    "duration": 157,
    "start_time": "2024-08-01T03:53:32.047Z"
   },
   {
    "duration": 5,
    "start_time": "2024-08-01T03:53:32.565Z"
   },
   {
    "duration": 21,
    "start_time": "2024-08-01T03:53:33.129Z"
   },
   {
    "duration": 794,
    "start_time": "2024-08-01T03:53:35.075Z"
   },
   {
    "duration": 7,
    "start_time": "2024-08-01T03:53:35.873Z"
   },
   {
    "duration": 758,
    "start_time": "2024-08-01T03:53:36.527Z"
   },
   {
    "duration": 195,
    "start_time": "2024-08-01T03:53:39.356Z"
   },
   {
    "duration": 6,
    "start_time": "2024-08-01T03:53:39.944Z"
   },
   {
    "duration": 22,
    "start_time": "2024-08-01T03:53:40.607Z"
   },
   {
    "duration": 4,
    "start_time": "2024-08-01T03:53:43.132Z"
   },
   {
    "duration": 7,
    "start_time": "2024-08-01T03:53:46.161Z"
   },
   {
    "duration": 588,
    "start_time": "2024-08-01T03:55:32.302Z"
   },
   {
    "duration": 9,
    "start_time": "2024-08-01T03:55:48.058Z"
   },
   {
    "duration": 634,
    "start_time": "2024-08-01T03:55:55.486Z"
   },
   {
    "duration": 529,
    "start_time": "2024-08-01T03:56:17.996Z"
   },
   {
    "duration": 547,
    "start_time": "2024-08-01T03:56:31.654Z"
   },
   {
    "duration": 539,
    "start_time": "2024-08-01T03:57:22.474Z"
   },
   {
    "duration": 82,
    "start_time": "2024-08-01T03:57:38.690Z"
   },
   {
    "duration": 538,
    "start_time": "2024-08-01T03:57:51.038Z"
   },
   {
    "duration": 548,
    "start_time": "2024-08-01T03:59:39.794Z"
   },
   {
    "duration": 540,
    "start_time": "2024-08-01T04:00:00.671Z"
   },
   {
    "duration": 538,
    "start_time": "2024-08-01T04:00:10.386Z"
   },
   {
    "duration": 576,
    "start_time": "2024-08-01T04:03:36.762Z"
   },
   {
    "duration": 534,
    "start_time": "2024-08-01T04:06:10.017Z"
   },
   {
    "duration": 3033,
    "start_time": "2024-08-01T04:07:04.966Z"
   },
   {
    "duration": 11,
    "start_time": "2024-08-01T04:20:22.783Z"
   },
   {
    "duration": 14,
    "start_time": "2024-08-01T04:20:40.234Z"
   },
   {
    "duration": 15,
    "start_time": "2024-08-01T04:20:53.547Z"
   },
   {
    "duration": 23,
    "start_time": "2024-08-01T04:21:16.245Z"
   },
   {
    "duration": 11,
    "start_time": "2024-08-01T04:22:37.757Z"
   },
   {
    "duration": 14,
    "start_time": "2024-08-01T04:22:47.364Z"
   },
   {
    "duration": 5,
    "start_time": "2024-08-01T04:23:14.251Z"
   },
   {
    "duration": 3453,
    "start_time": "2024-08-01T04:24:41.758Z"
   },
   {
    "duration": 579,
    "start_time": "2024-08-01T04:25:13.304Z"
   },
   {
    "duration": 619,
    "start_time": "2024-08-01T04:25:28.754Z"
   },
   {
    "duration": 7512,
    "start_time": "2024-08-01T04:26:24.015Z"
   },
   {
    "duration": 702,
    "start_time": "2024-08-01T04:27:04.834Z"
   },
   {
    "duration": 1740,
    "start_time": "2024-08-01T04:27:05.539Z"
   },
   {
    "duration": 19,
    "start_time": "2024-08-01T04:27:07.282Z"
   },
   {
    "duration": 17,
    "start_time": "2024-08-01T04:27:07.304Z"
   },
   {
    "duration": 47,
    "start_time": "2024-08-01T04:27:07.328Z"
   },
   {
    "duration": 15,
    "start_time": "2024-08-01T04:27:07.378Z"
   },
   {
    "duration": 73,
    "start_time": "2024-08-01T04:27:07.396Z"
   },
   {
    "duration": 102,
    "start_time": "2024-08-01T04:27:07.473Z"
   },
   {
    "duration": 180,
    "start_time": "2024-08-01T04:27:07.579Z"
   },
   {
    "duration": 18,
    "start_time": "2024-08-01T04:27:07.762Z"
   },
   {
    "duration": 237,
    "start_time": "2024-08-01T04:27:07.784Z"
   },
   {
    "duration": 180,
    "start_time": "2024-08-01T04:27:08.024Z"
   },
   {
    "duration": 103,
    "start_time": "2024-08-01T04:27:08.209Z"
   },
   {
    "duration": 22,
    "start_time": "2024-08-01T04:27:08.318Z"
   },
   {
    "duration": 25,
    "start_time": "2024-08-01T04:27:08.343Z"
   },
   {
    "duration": 43,
    "start_time": "2024-08-01T04:27:08.371Z"
   },
   {
    "duration": 19,
    "start_time": "2024-08-01T04:27:08.419Z"
   },
   {
    "duration": 23,
    "start_time": "2024-08-01T04:27:08.467Z"
   },
   {
    "duration": 15,
    "start_time": "2024-08-01T04:27:08.494Z"
   },
   {
    "duration": 58,
    "start_time": "2024-08-01T04:27:08.512Z"
   },
   {
    "duration": 23,
    "start_time": "2024-08-01T04:27:08.574Z"
   },
   {
    "duration": 23,
    "start_time": "2024-08-01T04:27:08.599Z"
   },
   {
    "duration": 48,
    "start_time": "2024-08-01T04:27:08.625Z"
   },
   {
    "duration": 7,
    "start_time": "2024-08-01T04:27:08.680Z"
   },
   {
    "duration": 7,
    "start_time": "2024-08-01T04:27:08.691Z"
   },
   {
    "duration": 8,
    "start_time": "2024-08-01T04:27:08.701Z"
   },
   {
    "duration": 8,
    "start_time": "2024-08-01T04:27:08.712Z"
   },
   {
    "duration": 1360,
    "start_time": "2024-08-01T04:27:08.768Z"
   },
   {
    "duration": 619,
    "start_time": "2024-08-01T04:27:10.131Z"
   },
   {
    "duration": 19,
    "start_time": "2024-08-01T04:27:10.753Z"
   },
   {
    "duration": 3,
    "start_time": "2024-08-01T04:27:10.776Z"
   },
   {
    "duration": 3,
    "start_time": "2024-08-01T04:27:10.784Z"
   },
   {
    "duration": 10,
    "start_time": "2024-08-01T04:27:10.791Z"
   },
   {
    "duration": 8,
    "start_time": "2024-08-01T04:27:10.804Z"
   },
   {
    "duration": 57,
    "start_time": "2024-08-01T04:27:10.816Z"
   },
   {
    "duration": 9,
    "start_time": "2024-08-01T04:27:10.876Z"
   },
   {
    "duration": 30,
    "start_time": "2024-08-01T04:27:10.887Z"
   },
   {
    "duration": 90,
    "start_time": "2024-08-01T04:27:10.920Z"
   },
   {
    "duration": 26,
    "start_time": "2024-08-01T04:27:11.016Z"
   },
   {
    "duration": 825,
    "start_time": "2024-08-01T04:27:11.046Z"
   },
   {
    "duration": 42,
    "start_time": "2024-08-01T04:27:11.882Z"
   },
   {
    "duration": 6,
    "start_time": "2024-08-01T04:27:11.927Z"
   },
   {
    "duration": 35,
    "start_time": "2024-08-01T04:27:11.936Z"
   },
   {
    "duration": 322,
    "start_time": "2024-08-01T04:27:11.974Z"
   },
   {
    "duration": 270,
    "start_time": "2024-08-01T04:27:12.300Z"
   },
   {
    "duration": 284,
    "start_time": "2024-08-01T04:27:12.573Z"
   },
   {
    "duration": 20,
    "start_time": "2024-08-01T04:27:12.860Z"
   },
   {
    "duration": 356,
    "start_time": "2024-08-01T04:27:12.883Z"
   },
   {
    "duration": 424,
    "start_time": "2024-08-01T04:27:13.242Z"
   },
   {
    "duration": 168,
    "start_time": "2024-08-01T04:27:13.669Z"
   },
   {
    "duration": 6,
    "start_time": "2024-08-01T04:27:13.840Z"
   },
   {
    "duration": 36,
    "start_time": "2024-08-01T04:27:13.849Z"
   },
   {
    "duration": 754,
    "start_time": "2024-08-01T04:27:13.888Z"
   },
   {
    "duration": 22,
    "start_time": "2024-08-01T04:27:14.645Z"
   },
   {
    "duration": 684,
    "start_time": "2024-08-01T04:27:14.670Z"
   },
   {
    "duration": 195,
    "start_time": "2024-08-01T04:27:15.357Z"
   },
   {
    "duration": 15,
    "start_time": "2024-08-01T04:27:15.555Z"
   },
   {
    "duration": 24,
    "start_time": "2024-08-01T04:27:15.574Z"
   },
   {
    "duration": 4,
    "start_time": "2024-08-01T04:27:15.601Z"
   },
   {
    "duration": 710,
    "start_time": "2024-08-01T04:27:15.608Z"
   },
   {
    "duration": 663,
    "start_time": "2024-08-01T04:27:16.321Z"
   },
   {
    "duration": 4,
    "start_time": "2024-08-01T04:27:16.986Z"
   },
   {
    "duration": 7473,
    "start_time": "2024-08-01T04:27:16.994Z"
   },
   {
    "duration": 315,
    "start_time": "2024-08-01T04:28:07.498Z"
   },
   {
    "duration": 713,
    "start_time": "2024-08-01T04:28:13.865Z"
   },
   {
    "duration": 1703,
    "start_time": "2024-08-01T04:28:14.581Z"
   },
   {
    "duration": 19,
    "start_time": "2024-08-01T04:28:16.287Z"
   },
   {
    "duration": 16,
    "start_time": "2024-08-01T04:28:16.309Z"
   },
   {
    "duration": 42,
    "start_time": "2024-08-01T04:28:16.332Z"
   },
   {
    "duration": 14,
    "start_time": "2024-08-01T04:28:16.378Z"
   },
   {
    "duration": 72,
    "start_time": "2024-08-01T04:28:16.396Z"
   },
   {
    "duration": 112,
    "start_time": "2024-08-01T04:28:16.471Z"
   },
   {
    "duration": 191,
    "start_time": "2024-08-01T04:28:16.586Z"
   },
   {
    "duration": 15,
    "start_time": "2024-08-01T04:28:16.781Z"
   },
   {
    "duration": 216,
    "start_time": "2024-08-01T04:28:16.799Z"
   },
   {
    "duration": 178,
    "start_time": "2024-08-01T04:28:17.018Z"
   },
   {
    "duration": 101,
    "start_time": "2024-08-01T04:28:17.199Z"
   },
   {
    "duration": 21,
    "start_time": "2024-08-01T04:28:17.307Z"
   },
   {
    "duration": 8,
    "start_time": "2024-08-01T04:28:17.330Z"
   },
   {
    "duration": 77,
    "start_time": "2024-08-01T04:28:17.341Z"
   },
   {
    "duration": 19,
    "start_time": "2024-08-01T04:28:17.421Z"
   },
   {
    "duration": 41,
    "start_time": "2024-08-01T04:28:17.443Z"
   },
   {
    "duration": 13,
    "start_time": "2024-08-01T04:28:17.487Z"
   },
   {
    "duration": 23,
    "start_time": "2024-08-01T04:28:17.503Z"
   },
   {
    "duration": 24,
    "start_time": "2024-08-01T04:28:17.569Z"
   },
   {
    "duration": 23,
    "start_time": "2024-08-01T04:28:17.596Z"
   },
   {
    "duration": 53,
    "start_time": "2024-08-01T04:28:17.622Z"
   },
   {
    "duration": 7,
    "start_time": "2024-08-01T04:28:17.678Z"
   },
   {
    "duration": 9,
    "start_time": "2024-08-01T04:28:17.688Z"
   },
   {
    "duration": 6,
    "start_time": "2024-08-01T04:28:17.700Z"
   },
   {
    "duration": 7,
    "start_time": "2024-08-01T04:28:17.709Z"
   },
   {
    "duration": 1439,
    "start_time": "2024-08-01T04:28:17.719Z"
   },
   {
    "duration": 641,
    "start_time": "2024-08-01T04:28:19.169Z"
   },
   {
    "duration": 11,
    "start_time": "2024-08-01T04:28:19.813Z"
   },
   {
    "duration": 3,
    "start_time": "2024-08-01T04:28:19.828Z"
   },
   {
    "duration": 4,
    "start_time": "2024-08-01T04:28:19.835Z"
   },
   {
    "duration": 10,
    "start_time": "2024-08-01T04:28:19.869Z"
   },
   {
    "duration": 7,
    "start_time": "2024-08-01T04:28:19.883Z"
   },
   {
    "duration": 10,
    "start_time": "2024-08-01T04:28:19.893Z"
   },
   {
    "duration": 10,
    "start_time": "2024-08-01T04:28:19.907Z"
   },
   {
    "duration": 26,
    "start_time": "2024-08-01T04:28:19.968Z"
   },
   {
    "duration": 78,
    "start_time": "2024-08-01T04:28:19.997Z"
   },
   {
    "duration": 22,
    "start_time": "2024-08-01T04:28:20.078Z"
   },
   {
    "duration": 867,
    "start_time": "2024-08-01T04:28:20.103Z"
   },
   {
    "duration": 42,
    "start_time": "2024-08-01T04:28:20.980Z"
   },
   {
    "duration": 6,
    "start_time": "2024-08-01T04:28:21.024Z"
   },
   {
    "duration": 38,
    "start_time": "2024-08-01T04:28:21.033Z"
   },
   {
    "duration": 295,
    "start_time": "2024-08-01T04:28:21.075Z"
   },
   {
    "duration": 277,
    "start_time": "2024-08-01T04:28:21.373Z"
   },
   {
    "duration": 297,
    "start_time": "2024-08-01T04:28:21.653Z"
   },
   {
    "duration": 30,
    "start_time": "2024-08-01T04:28:21.953Z"
   },
   {
    "duration": 363,
    "start_time": "2024-08-01T04:28:21.985Z"
   },
   {
    "duration": 419,
    "start_time": "2024-08-01T04:28:22.351Z"
   },
   {
    "duration": 180,
    "start_time": "2024-08-01T04:28:22.774Z"
   },
   {
    "duration": 12,
    "start_time": "2024-08-01T04:28:22.956Z"
   },
   {
    "duration": 23,
    "start_time": "2024-08-01T04:28:22.971Z"
   },
   {
    "duration": 756,
    "start_time": "2024-08-01T04:28:22.997Z"
   },
   {
    "duration": 15,
    "start_time": "2024-08-01T04:28:23.755Z"
   },
   {
    "duration": 699,
    "start_time": "2024-08-01T04:28:23.773Z"
   },
   {
    "duration": 203,
    "start_time": "2024-08-01T04:28:24.476Z"
   },
   {
    "duration": 7,
    "start_time": "2024-08-01T04:28:24.682Z"
   },
   {
    "duration": 24,
    "start_time": "2024-08-01T04:28:24.692Z"
   },
   {
    "duration": 4,
    "start_time": "2024-08-01T04:28:24.719Z"
   },
   {
    "duration": 652,
    "start_time": "2024-08-01T04:28:24.726Z"
   },
   {
    "duration": 632,
    "start_time": "2024-08-01T04:28:25.381Z"
   },
   {
    "duration": 4,
    "start_time": "2024-08-01T04:28:26.016Z"
   },
   {
    "duration": 7679,
    "start_time": "2024-08-01T04:28:26.023Z"
   },
   {
    "duration": 602,
    "start_time": "2024-08-01T04:28:58.174Z"
   },
   {
    "duration": 675,
    "start_time": "2024-08-01T04:29:23.552Z"
   },
   {
    "duration": 598,
    "start_time": "2024-08-01T04:29:38.951Z"
   },
   {
    "duration": 606,
    "start_time": "2024-08-01T04:29:52.854Z"
   },
   {
    "duration": 6,
    "start_time": "2024-08-01T04:30:08.870Z"
   },
   {
    "duration": 577,
    "start_time": "2024-08-01T04:30:12.522Z"
   },
   {
    "duration": 585,
    "start_time": "2024-08-01T04:30:31.466Z"
   },
   {
    "duration": 3597,
    "start_time": "2024-08-01T04:32:03.488Z"
   },
   {
    "duration": 13,
    "start_time": "2024-08-01T04:32:52.620Z"
   },
   {
    "duration": 12,
    "start_time": "2024-08-01T04:33:31.523Z"
   },
   {
    "duration": 11,
    "start_time": "2024-08-01T04:33:59.655Z"
   },
   {
    "duration": 11,
    "start_time": "2024-08-01T04:34:04.675Z"
   },
   {
    "duration": 14,
    "start_time": "2024-08-01T04:34:08.630Z"
   },
   {
    "duration": 3078,
    "start_time": "2024-08-01T04:43:31.802Z"
   },
   {
    "duration": 3056,
    "start_time": "2024-08-01T04:47:48.152Z"
   },
   {
    "duration": 3824,
    "start_time": "2024-08-01T04:50:03.144Z"
   },
   {
    "duration": 3109,
    "start_time": "2024-08-01T04:50:17.336Z"
   },
   {
    "duration": 3027,
    "start_time": "2024-08-01T04:50:40.979Z"
   },
   {
    "duration": 4281,
    "start_time": "2024-08-01T19:17:13.758Z"
   },
   {
    "duration": 1687,
    "start_time": "2024-08-01T19:17:18.043Z"
   },
   {
    "duration": 18,
    "start_time": "2024-08-01T19:17:19.732Z"
   },
   {
    "duration": 15,
    "start_time": "2024-08-01T19:17:19.755Z"
   },
   {
    "duration": 41,
    "start_time": "2024-08-01T19:17:19.774Z"
   },
   {
    "duration": 13,
    "start_time": "2024-08-01T19:17:21.252Z"
   },
   {
    "duration": 39,
    "start_time": "2024-08-01T19:17:21.936Z"
   },
   {
    "duration": 85,
    "start_time": "2024-08-01T19:17:24.297Z"
   },
   {
    "duration": 159,
    "start_time": "2024-08-01T19:17:25.000Z"
   },
   {
    "duration": 11,
    "start_time": "2024-08-01T19:17:26.419Z"
   },
   {
    "duration": 180,
    "start_time": "2024-08-01T19:17:27.733Z"
   },
   {
    "duration": 157,
    "start_time": "2024-08-01T19:17:28.418Z"
   },
   {
    "duration": 91,
    "start_time": "2024-08-01T19:17:29.243Z"
   },
   {
    "duration": 25,
    "start_time": "2024-08-01T19:17:31.221Z"
   },
   {
    "duration": 8,
    "start_time": "2024-08-01T19:17:31.999Z"
   },
   {
    "duration": 45,
    "start_time": "2024-08-01T19:17:32.731Z"
   },
   {
    "duration": 21,
    "start_time": "2024-08-01T19:17:33.458Z"
   },
   {
    "duration": 18,
    "start_time": "2024-08-01T19:17:34.631Z"
   },
   {
    "duration": 17,
    "start_time": "2024-08-01T19:17:35.475Z"
   },
   {
    "duration": 22,
    "start_time": "2024-08-01T19:17:36.038Z"
   },
   {
    "duration": 21,
    "start_time": "2024-08-01T19:17:36.656Z"
   },
   {
    "duration": 23,
    "start_time": "2024-08-01T19:17:38.137Z"
   },
   {
    "duration": 28,
    "start_time": "2024-08-01T19:17:38.957Z"
   },
   {
    "duration": 5,
    "start_time": "2024-08-01T19:17:40.936Z"
   },
   {
    "duration": 7,
    "start_time": "2024-08-01T19:17:41.421Z"
   },
   {
    "duration": 5,
    "start_time": "2024-08-01T19:17:42.881Z"
   },
   {
    "duration": 7,
    "start_time": "2024-08-01T19:17:43.314Z"
   },
   {
    "duration": 1329,
    "start_time": "2024-08-01T19:17:44.696Z"
   },
   {
    "duration": 617,
    "start_time": "2024-08-01T19:17:46.028Z"
   },
   {
    "duration": 11,
    "start_time": "2024-08-01T19:17:47.004Z"
   },
   {
    "duration": 4,
    "start_time": "2024-08-01T19:17:47.882Z"
   },
   {
    "duration": 3,
    "start_time": "2024-08-01T19:17:48.765Z"
   },
   {
    "duration": 10,
    "start_time": "2024-08-01T19:17:49.659Z"
   },
   {
    "duration": 6,
    "start_time": "2024-08-01T19:17:50.611Z"
   },
   {
    "duration": 10,
    "start_time": "2024-08-01T19:17:52.007Z"
   },
   {
    "duration": 11,
    "start_time": "2024-08-01T19:17:52.459Z"
   },
   {
    "duration": 26,
    "start_time": "2024-08-01T19:17:53.774Z"
   },
   {
    "duration": 50,
    "start_time": "2024-08-01T19:17:54.156Z"
   },
   {
    "duration": 22,
    "start_time": "2024-08-01T19:17:54.916Z"
   },
   {
    "duration": 853,
    "start_time": "2024-08-01T19:17:55.198Z"
   },
   {
    "duration": 57,
    "start_time": "2024-08-01T19:17:56.055Z"
   },
   {
    "duration": 6,
    "start_time": "2024-08-01T19:17:58.177Z"
   },
   {
    "duration": 6,
    "start_time": "2024-08-01T19:17:58.389Z"
   },
   {
    "duration": 270,
    "start_time": "2024-08-01T19:17:59.522Z"
   },
   {
    "duration": 316,
    "start_time": "2024-08-01T19:18:00.592Z"
   },
   {
    "duration": 268,
    "start_time": "2024-08-01T19:18:01.796Z"
   },
   {
    "duration": 16,
    "start_time": "2024-08-01T19:18:03.156Z"
   },
   {
    "duration": 348,
    "start_time": "2024-08-01T19:18:03.464Z"
   },
   {
    "duration": 408,
    "start_time": "2024-08-01T19:18:04.412Z"
   },
   {
    "duration": 153,
    "start_time": "2024-08-01T19:18:05.492Z"
   },
   {
    "duration": 6,
    "start_time": "2024-08-01T19:18:05.817Z"
   },
   {
    "duration": 21,
    "start_time": "2024-08-01T19:18:06.159Z"
   },
   {
    "duration": 754,
    "start_time": "2024-08-01T19:18:07.517Z"
   },
   {
    "duration": 8,
    "start_time": "2024-08-01T19:18:08.275Z"
   },
   {
    "duration": 723,
    "start_time": "2024-08-01T19:18:08.286Z"
   },
   {
    "duration": 188,
    "start_time": "2024-08-01T19:18:09.574Z"
   },
   {
    "duration": 7,
    "start_time": "2024-08-01T19:18:10.185Z"
   },
   {
    "duration": 21,
    "start_time": "2024-08-01T19:18:10.875Z"
   },
   {
    "duration": 3,
    "start_time": "2024-08-01T19:18:12.808Z"
   },
   {
    "duration": 618,
    "start_time": "2024-08-01T19:18:13.425Z"
   },
   {
    "duration": 13,
    "start_time": "2024-08-01T19:18:14.106Z"
   },
   {
    "duration": 3,
    "start_time": "2024-08-01T19:18:14.822Z"
   },
   {
    "duration": 3139,
    "start_time": "2024-08-01T19:18:15.501Z"
   },
   {
    "duration": 8,
    "start_time": "2024-08-01T19:26:05.292Z"
   },
   {
    "duration": 10,
    "start_time": "2024-08-01T19:30:58.357Z"
   },
   {
    "duration": 7,
    "start_time": "2024-08-01T19:31:26.095Z"
   },
   {
    "duration": 422,
    "start_time": "2024-08-01T19:32:27.602Z"
   },
   {
    "duration": 5,
    "start_time": "2024-08-01T19:34:24.901Z"
   },
   {
    "duration": 8,
    "start_time": "2024-08-01T19:36:32.922Z"
   },
   {
    "duration": 5,
    "start_time": "2024-08-01T19:38:01.237Z"
   },
   {
    "duration": 862,
    "start_time": "2024-08-01T19:38:34.138Z"
   },
   {
    "duration": 84,
    "start_time": "2024-08-01T19:38:45.887Z"
   },
   {
    "duration": 1068,
    "start_time": "2024-08-01T19:39:05.715Z"
   },
   {
    "duration": 221,
    "start_time": "2024-08-01T19:39:14.417Z"
   },
   {
    "duration": 225,
    "start_time": "2024-08-01T19:39:34.590Z"
   },
   {
    "duration": 3453,
    "start_time": "2024-08-01T19:41:52.467Z"
   },
   {
    "duration": 155,
    "start_time": "2024-08-01T19:42:39.139Z"
   },
   {
    "duration": 165,
    "start_time": "2024-08-01T19:42:52.443Z"
   },
   {
    "duration": 188,
    "start_time": "2024-08-01T19:42:57.853Z"
   },
   {
    "duration": 157,
    "start_time": "2024-08-01T19:43:25.503Z"
   },
   {
    "duration": 173,
    "start_time": "2024-08-01T19:45:07.784Z"
   },
   {
    "duration": 163,
    "start_time": "2024-08-01T19:45:24.101Z"
   },
   {
    "duration": 8,
    "start_time": "2024-08-01T19:45:40.686Z"
   },
   {
    "duration": 163,
    "start_time": "2024-08-01T19:45:51.468Z"
   },
   {
    "duration": 161,
    "start_time": "2024-08-01T19:46:07.156Z"
   },
   {
    "duration": 165,
    "start_time": "2024-08-01T19:46:34.467Z"
   },
   {
    "duration": 167,
    "start_time": "2024-08-01T19:46:53.111Z"
   },
   {
    "duration": 151,
    "start_time": "2024-08-01T19:47:49.340Z"
   },
   {
    "duration": 155,
    "start_time": "2024-08-01T19:47:59.931Z"
   },
   {
    "duration": 162,
    "start_time": "2024-08-01T19:48:22.785Z"
   },
   {
    "duration": 7,
    "start_time": "2024-08-01T19:49:43.570Z"
   },
   {
    "duration": 160,
    "start_time": "2024-08-01T19:50:53.606Z"
   },
   {
    "duration": 7,
    "start_time": "2024-08-01T19:51:11.862Z"
   },
   {
    "duration": 8,
    "start_time": "2024-08-01T19:51:17.133Z"
   },
   {
    "duration": 160,
    "start_time": "2024-08-01T19:52:31.621Z"
   },
   {
    "duration": 10,
    "start_time": "2024-08-01T19:52:55.298Z"
   },
   {
    "duration": 25,
    "start_time": "2024-08-01T19:53:10.161Z"
   },
   {
    "duration": 14,
    "start_time": "2024-08-01T19:53:14.245Z"
   },
   {
    "duration": 302,
    "start_time": "2024-08-01T19:59:46.357Z"
   },
   {
    "duration": 7,
    "start_time": "2024-08-01T19:59:54.977Z"
   },
   {
    "duration": 359,
    "start_time": "2024-08-01T19:59:58.270Z"
   },
   {
    "duration": 242,
    "start_time": "2024-08-01T20:00:10.944Z"
   },
   {
    "duration": 165,
    "start_time": "2024-08-01T20:00:17.405Z"
   },
   {
    "duration": 166,
    "start_time": "2024-08-01T20:05:23.960Z"
   },
   {
    "duration": 163,
    "start_time": "2024-08-01T20:05:29.692Z"
   },
   {
    "duration": 161,
    "start_time": "2024-08-01T20:05:44.879Z"
   },
   {
    "duration": 164,
    "start_time": "2024-08-01T20:07:52.646Z"
   },
   {
    "duration": 161,
    "start_time": "2024-08-01T20:09:11.341Z"
   },
   {
    "duration": 158,
    "start_time": "2024-08-01T20:09:24.945Z"
   },
   {
    "duration": 161,
    "start_time": "2024-08-01T20:09:33.551Z"
   },
   {
    "duration": 166,
    "start_time": "2024-08-01T20:10:29.485Z"
   },
   {
    "duration": 164,
    "start_time": "2024-08-01T20:15:52.414Z"
   },
   {
    "duration": 40,
    "start_time": "2024-08-01T20:19:48.038Z"
   },
   {
    "duration": 30,
    "start_time": "2024-08-01T20:19:53.949Z"
   },
   {
    "duration": 42,
    "start_time": "2024-08-01T20:20:17.958Z"
   },
   {
    "duration": 3149,
    "start_time": "2024-08-01T20:23:27.020Z"
   },
   {
    "duration": 529,
    "start_time": "2024-08-01T20:23:32.980Z"
   },
   {
    "duration": 175,
    "start_time": "2024-08-01T20:23:37.509Z"
   },
   {
    "duration": 46,
    "start_time": "2024-08-01T20:23:41.974Z"
   },
   {
    "duration": 165,
    "start_time": "2024-08-01T20:23:56.683Z"
   },
   {
    "duration": 45,
    "start_time": "2024-08-01T20:24:01.408Z"
   },
   {
    "duration": 45,
    "start_time": "2024-08-01T20:25:00.815Z"
   },
   {
    "duration": 8,
    "start_time": "2024-08-01T20:25:29.942Z"
   },
   {
    "duration": 6,
    "start_time": "2024-08-01T20:25:37.163Z"
   },
   {
    "duration": 74,
    "start_time": "2024-08-01T20:25:56.068Z"
   },
   {
    "duration": 7,
    "start_time": "2024-08-01T20:26:24.427Z"
   },
   {
    "duration": 5,
    "start_time": "2024-08-01T20:26:26.949Z"
   },
   {
    "duration": 83,
    "start_time": "2024-08-01T20:26:46.384Z"
   },
   {
    "duration": 8,
    "start_time": "2024-08-01T20:27:11.238Z"
   },
   {
    "duration": 17,
    "start_time": "2024-08-01T20:27:51.614Z"
   },
   {
    "duration": 18,
    "start_time": "2024-08-01T20:28:06.217Z"
   },
   {
    "duration": 17,
    "start_time": "2024-08-01T20:33:09.165Z"
   },
   {
    "duration": 4332,
    "start_time": "2024-08-02T04:51:03.937Z"
   },
   {
    "duration": 1688,
    "start_time": "2024-08-02T04:51:08.275Z"
   },
   {
    "duration": 20,
    "start_time": "2024-08-02T04:51:09.965Z"
   },
   {
    "duration": 16,
    "start_time": "2024-08-02T04:51:09.992Z"
   },
   {
    "duration": 12,
    "start_time": "2024-08-02T04:51:10.012Z"
   },
   {
    "duration": 46,
    "start_time": "2024-08-02T04:51:10.028Z"
   },
   {
    "duration": 41,
    "start_time": "2024-08-02T04:51:10.078Z"
   },
   {
    "duration": 119,
    "start_time": "2024-08-02T04:51:10.122Z"
   },
   {
    "duration": 172,
    "start_time": "2024-08-02T04:51:10.243Z"
   },
   {
    "duration": 12,
    "start_time": "2024-08-02T04:51:10.420Z"
   },
   {
    "duration": 202,
    "start_time": "2024-08-02T04:51:10.435Z"
   },
   {
    "duration": 162,
    "start_time": "2024-08-02T04:51:10.640Z"
   },
   {
    "duration": 104,
    "start_time": "2024-08-02T04:51:10.805Z"
   },
   {
    "duration": 23,
    "start_time": "2024-08-02T04:51:10.912Z"
   },
   {
    "duration": 8,
    "start_time": "2024-08-02T04:51:10.937Z"
   },
   {
    "duration": 43,
    "start_time": "2024-08-02T04:51:10.969Z"
   },
   {
    "duration": 19,
    "start_time": "2024-08-02T04:51:11.015Z"
   },
   {
    "duration": 47,
    "start_time": "2024-08-02T04:51:11.037Z"
   },
   {
    "duration": 13,
    "start_time": "2024-08-02T04:51:11.087Z"
   },
   {
    "duration": 25,
    "start_time": "2024-08-02T04:51:11.103Z"
   },
   {
    "duration": 28,
    "start_time": "2024-08-02T04:51:11.169Z"
   },
   {
    "duration": 27,
    "start_time": "2024-08-02T04:51:11.201Z"
   },
   {
    "duration": 44,
    "start_time": "2024-08-02T04:51:11.231Z"
   },
   {
    "duration": 6,
    "start_time": "2024-08-02T04:51:11.278Z"
   },
   {
    "duration": 7,
    "start_time": "2024-08-02T04:51:11.287Z"
   },
   {
    "duration": 6,
    "start_time": "2024-08-02T04:51:11.298Z"
   },
   {
    "duration": 6,
    "start_time": "2024-08-02T04:51:11.308Z"
   },
   {
    "duration": 1346,
    "start_time": "2024-08-02T04:51:11.373Z"
   },
   {
    "duration": 616,
    "start_time": "2024-08-02T04:51:12.722Z"
   },
   {
    "duration": 11,
    "start_time": "2024-08-02T04:51:13.343Z"
   },
   {
    "duration": 4,
    "start_time": "2024-08-02T04:51:13.369Z"
   },
   {
    "duration": 4,
    "start_time": "2024-08-02T04:51:13.378Z"
   },
   {
    "duration": 11,
    "start_time": "2024-08-02T04:51:13.385Z"
   },
   {
    "duration": 6,
    "start_time": "2024-08-02T04:51:13.399Z"
   },
   {
    "duration": 10,
    "start_time": "2024-08-02T04:51:13.408Z"
   },
   {
    "duration": 53,
    "start_time": "2024-08-02T04:51:13.421Z"
   },
   {
    "duration": 28,
    "start_time": "2024-08-02T04:51:13.477Z"
   },
   {
    "duration": 89,
    "start_time": "2024-08-02T04:51:13.507Z"
   },
   {
    "duration": 24,
    "start_time": "2024-08-02T04:51:13.599Z"
   },
   {
    "duration": 909,
    "start_time": "2024-08-02T04:51:13.626Z"
   },
   {
    "duration": 55,
    "start_time": "2024-08-02T04:51:14.538Z"
   },
   {
    "duration": 8,
    "start_time": "2024-08-02T04:51:14.596Z"
   },
   {
    "duration": 7,
    "start_time": "2024-08-02T04:51:14.607Z"
   },
   {
    "duration": 306,
    "start_time": "2024-08-02T04:51:14.617Z"
   },
   {
    "duration": 347,
    "start_time": "2024-08-02T04:51:14.926Z"
   },
   {
    "duration": 300,
    "start_time": "2024-08-02T04:51:15.278Z"
   },
   {
    "duration": 20,
    "start_time": "2024-08-02T04:51:15.581Z"
   },
   {
    "duration": 381,
    "start_time": "2024-08-02T04:51:15.606Z"
   },
   {
    "duration": 453,
    "start_time": "2024-08-02T04:51:15.990Z"
   },
   {
    "duration": 185,
    "start_time": "2024-08-02T04:51:16.447Z"
   },
   {
    "duration": 7,
    "start_time": "2024-08-02T04:51:16.635Z"
   },
   {
    "duration": 42,
    "start_time": "2024-08-02T04:51:16.646Z"
   },
   {
    "duration": 795,
    "start_time": "2024-08-02T04:51:16.691Z"
   },
   {
    "duration": 6,
    "start_time": "2024-08-02T04:51:17.489Z"
   },
   {
    "duration": 773,
    "start_time": "2024-08-02T04:51:17.499Z"
   },
   {
    "duration": 203,
    "start_time": "2024-08-02T04:51:18.276Z"
   },
   {
    "duration": 7,
    "start_time": "2024-08-02T04:51:18.483Z"
   },
   {
    "duration": 23,
    "start_time": "2024-08-02T04:51:18.493Z"
   },
   {
    "duration": 3179,
    "start_time": "2024-08-02T04:51:18.519Z"
   },
   {
    "duration": 615,
    "start_time": "2024-08-02T04:51:21.701Z"
   },
   {
    "duration": 183,
    "start_time": "2024-08-02T04:51:22.319Z"
   },
   {
    "duration": 45,
    "start_time": "2024-08-02T04:51:22.505Z"
   },
   {
    "duration": 16,
    "start_time": "2024-08-02T04:51:22.569Z"
   },
   {
    "duration": 9,
    "start_time": "2024-08-02T04:53:26.507Z"
   },
   {
    "duration": 77,
    "start_time": "2024-08-02T04:54:29.428Z"
   },
   {
    "duration": 23,
    "start_time": "2024-08-02T04:55:39.562Z"
   },
   {
    "duration": 103,
    "start_time": "2024-08-02T04:56:02.433Z"
   },
   {
    "duration": 2131,
    "start_time": "2024-08-02T04:58:26.112Z"
   },
   {
    "duration": 49,
    "start_time": "2024-08-02T04:58:52.143Z"
   },
   {
    "duration": 9,
    "start_time": "2024-08-02T05:02:45.585Z"
   },
   {
    "duration": 12,
    "start_time": "2024-08-02T05:03:47.928Z"
   },
   {
    "duration": 9,
    "start_time": "2024-08-02T05:06:23.561Z"
   },
   {
    "duration": 8,
    "start_time": "2024-08-02T05:07:03.519Z"
   },
   {
    "duration": 11,
    "start_time": "2024-08-02T05:07:12.508Z"
   },
   {
    "duration": 6,
    "start_time": "2024-08-02T05:13:27.199Z"
   },
   {
    "duration": 394,
    "start_time": "2024-08-02T05:13:35.010Z"
   },
   {
    "duration": 62,
    "start_time": "2024-08-02T05:16:33.264Z"
   },
   {
    "duration": 10,
    "start_time": "2024-08-02T05:29:46.432Z"
   },
   {
    "duration": 42,
    "start_time": "2024-08-02T05:33:13.487Z"
   },
   {
    "duration": 4428,
    "start_time": "2024-08-02T23:28:21.345Z"
   },
   {
    "duration": 1788,
    "start_time": "2024-08-02T23:28:25.778Z"
   },
   {
    "duration": 34,
    "start_time": "2024-08-02T23:28:27.572Z"
   },
   {
    "duration": 16,
    "start_time": "2024-08-02T23:28:27.612Z"
   },
   {
    "duration": 14,
    "start_time": "2024-08-02T23:28:27.631Z"
   },
   {
    "duration": 14,
    "start_time": "2024-08-02T23:28:27.648Z"
   },
   {
    "duration": 39,
    "start_time": "2024-08-02T23:28:27.702Z"
   },
   {
    "duration": 107,
    "start_time": "2024-08-02T23:28:27.744Z"
   },
   {
    "duration": 167,
    "start_time": "2024-08-02T23:28:27.854Z"
   },
   {
    "duration": 12,
    "start_time": "2024-08-02T23:28:28.025Z"
   },
   {
    "duration": 220,
    "start_time": "2024-08-02T23:28:28.040Z"
   },
   {
    "duration": 178,
    "start_time": "2024-08-02T23:28:28.263Z"
   },
   {
    "duration": 107,
    "start_time": "2024-08-02T23:28:28.448Z"
   },
   {
    "duration": 47,
    "start_time": "2024-08-02T23:28:28.558Z"
   },
   {
    "duration": 10,
    "start_time": "2024-08-02T23:28:28.609Z"
   },
   {
    "duration": 45,
    "start_time": "2024-08-02T23:28:28.622Z"
   },
   {
    "duration": 51,
    "start_time": "2024-08-02T23:28:28.670Z"
   },
   {
    "duration": 19,
    "start_time": "2024-08-02T23:28:28.725Z"
   },
   {
    "duration": 15,
    "start_time": "2024-08-02T23:28:28.747Z"
   },
   {
    "duration": 24,
    "start_time": "2024-08-02T23:28:28.802Z"
   },
   {
    "duration": 23,
    "start_time": "2024-08-02T23:28:28.830Z"
   },
   {
    "duration": 62,
    "start_time": "2024-08-02T23:28:28.856Z"
   },
   {
    "duration": 21,
    "start_time": "2024-08-02T23:28:28.921Z"
   },
   {
    "duration": 7,
    "start_time": "2024-08-02T23:28:28.945Z"
   },
   {
    "duration": 8,
    "start_time": "2024-08-02T23:28:28.956Z"
   },
   {
    "duration": 6,
    "start_time": "2024-08-02T23:28:29.003Z"
   },
   {
    "duration": 8,
    "start_time": "2024-08-02T23:28:29.013Z"
   },
   {
    "duration": 1461,
    "start_time": "2024-08-02T23:28:29.026Z"
   },
   {
    "duration": 669,
    "start_time": "2024-08-02T23:28:30.491Z"
   },
   {
    "duration": 12,
    "start_time": "2024-08-02T23:28:31.163Z"
   },
   {
    "duration": 24,
    "start_time": "2024-08-02T23:28:31.178Z"
   },
   {
    "duration": 4,
    "start_time": "2024-08-02T23:28:31.205Z"
   },
   {
    "duration": 12,
    "start_time": "2024-08-02T23:28:31.212Z"
   },
   {
    "duration": 7,
    "start_time": "2024-08-02T23:28:31.227Z"
   },
   {
    "duration": 10,
    "start_time": "2024-08-02T23:28:31.237Z"
   },
   {
    "duration": 53,
    "start_time": "2024-08-02T23:28:31.250Z"
   },
   {
    "duration": 27,
    "start_time": "2024-08-02T23:28:31.307Z"
   },
   {
    "duration": 83,
    "start_time": "2024-08-02T23:28:31.337Z"
   },
   {
    "duration": 24,
    "start_time": "2024-08-02T23:28:31.424Z"
   },
   {
    "duration": 1028,
    "start_time": "2024-08-02T23:28:31.457Z"
   },
   {
    "duration": 50,
    "start_time": "2024-08-02T23:28:32.489Z"
   },
   {
    "duration": 6,
    "start_time": "2024-08-02T23:28:32.542Z"
   },
   {
    "duration": 6,
    "start_time": "2024-08-02T23:28:32.552Z"
   },
   {
    "duration": 317,
    "start_time": "2024-08-02T23:28:32.562Z"
   },
   {
    "duration": 285,
    "start_time": "2024-08-02T23:28:32.882Z"
   },
   {
    "duration": 341,
    "start_time": "2024-08-02T23:28:33.173Z"
   },
   {
    "duration": 15,
    "start_time": "2024-08-02T23:28:33.518Z"
   },
   {
    "duration": 368,
    "start_time": "2024-08-02T23:28:33.536Z"
   },
   {
    "duration": 432,
    "start_time": "2024-08-02T23:28:33.907Z"
   },
   {
    "duration": 174,
    "start_time": "2024-08-02T23:28:34.342Z"
   },
   {
    "duration": 6,
    "start_time": "2024-08-02T23:28:34.519Z"
   },
   {
    "duration": 22,
    "start_time": "2024-08-02T23:28:34.529Z"
   },
   {
    "duration": 806,
    "start_time": "2024-08-02T23:28:34.555Z"
   },
   {
    "duration": 5,
    "start_time": "2024-08-02T23:28:35.365Z"
   },
   {
    "duration": 753,
    "start_time": "2024-08-02T23:28:35.374Z"
   },
   {
    "duration": 214,
    "start_time": "2024-08-02T23:28:36.131Z"
   },
   {
    "duration": 7,
    "start_time": "2024-08-02T23:28:36.348Z"
   },
   {
    "duration": 49,
    "start_time": "2024-08-02T23:28:36.359Z"
   },
   {
    "duration": 3291,
    "start_time": "2024-08-02T23:28:36.412Z"
   },
   {
    "duration": 612,
    "start_time": "2024-08-02T23:28:39.707Z"
   },
   {
    "duration": 196,
    "start_time": "2024-08-02T23:28:40.321Z"
   },
   {
    "duration": 51,
    "start_time": "2024-08-02T23:28:40.522Z"
   },
   {
    "duration": 39,
    "start_time": "2024-08-02T23:28:40.576Z"
   },
   {
    "duration": 10,
    "start_time": "2024-08-02T23:28:40.619Z"
   },
   {
    "duration": 77,
    "start_time": "2024-08-02T23:28:40.631Z"
   },
   {
    "duration": 11,
    "start_time": "2024-08-02T23:28:40.712Z"
   },
   {
    "duration": 470,
    "start_time": "2024-08-02T23:28:40.727Z"
   },
   {
    "duration": 1787,
    "start_time": "2024-08-03T00:16:39.772Z"
   },
   {
    "duration": 2543,
    "start_time": "2024-08-03T00:27:20.451Z"
   },
   {
    "duration": 5068,
    "start_time": "2024-08-03T00:27:40.682Z"
   },
   {
    "duration": 7462,
    "start_time": "2024-08-03T01:00:04.066Z"
   },
   {
    "duration": 7472,
    "start_time": "2024-08-03T01:02:49.915Z"
   },
   {
    "duration": 5236,
    "start_time": "2024-08-03T01:03:04.228Z"
   },
   {
    "duration": 4816,
    "start_time": "2024-08-03T01:03:35.891Z"
   },
   {
    "duration": 5002,
    "start_time": "2024-08-03T01:08:56.095Z"
   },
   {
    "duration": 4936,
    "start_time": "2024-08-03T01:14:38.036Z"
   },
   {
    "duration": 4915,
    "start_time": "2024-08-03T01:20:05.416Z"
   },
   {
    "duration": 0,
    "start_time": "2024-08-03T01:20:28.116Z"
   },
   {
    "duration": 6804,
    "start_time": "2024-08-03T01:20:38.505Z"
   },
   {
    "duration": 11,
    "start_time": "2024-08-03T01:26:27.749Z"
   },
   {
    "duration": 100,
    "start_time": "2024-08-03T01:27:18.218Z"
   },
   {
    "duration": 40,
    "start_time": "2024-08-03T01:29:51.106Z"
   },
   {
    "duration": 14,
    "start_time": "2024-08-03T01:30:01.951Z"
   },
   {
    "duration": 16,
    "start_time": "2024-08-03T01:30:16.083Z"
   },
   {
    "duration": 40,
    "start_time": "2024-08-03T01:31:31.077Z"
   },
   {
    "duration": 62,
    "start_time": "2024-08-03T01:31:54.680Z"
   },
   {
    "duration": 10,
    "start_time": "2024-08-03T01:32:04.172Z"
   },
   {
    "duration": 13,
    "start_time": "2024-08-03T01:32:20.946Z"
   },
   {
    "duration": 5236,
    "start_time": "2024-08-03T01:35:31.599Z"
   },
   {
    "duration": 9,
    "start_time": "2024-08-03T01:35:59.211Z"
   },
   {
    "duration": 5080,
    "start_time": "2024-08-03T01:41:42.962Z"
   },
   {
    "duration": 6791,
    "start_time": "2024-08-03T01:42:04.585Z"
   },
   {
    "duration": 6701,
    "start_time": "2024-08-03T01:42:29.101Z"
   },
   {
    "duration": 6790,
    "start_time": "2024-08-03T01:42:52.406Z"
   },
   {
    "duration": 6871,
    "start_time": "2024-08-03T01:43:50.677Z"
   },
   {
    "duration": 7248,
    "start_time": "2024-08-03T01:44:21.363Z"
   },
   {
    "duration": 7,
    "start_time": "2024-08-03T01:44:50.059Z"
   },
   {
    "duration": 10,
    "start_time": "2024-08-03T01:44:56.613Z"
   },
   {
    "duration": 19,
    "start_time": "2024-08-03T01:46:59.604Z"
   },
   {
    "duration": 7270,
    "start_time": "2024-08-03T01:49:02.757Z"
   },
   {
    "duration": 7368,
    "start_time": "2024-08-03T01:49:39.451Z"
   },
   {
    "duration": 19,
    "start_time": "2024-08-03T01:51:05.473Z"
   },
   {
    "duration": 19,
    "start_time": "2024-08-03T01:51:14.554Z"
   },
   {
    "duration": 8,
    "start_time": "2024-08-03T01:52:56.934Z"
   },
   {
    "duration": 87,
    "start_time": "2024-08-03T01:53:00.087Z"
   },
   {
    "duration": 11,
    "start_time": "2024-08-03T02:15:24.481Z"
   },
   {
    "duration": 9,
    "start_time": "2024-08-03T02:16:01.694Z"
   },
   {
    "duration": 6,
    "start_time": "2024-08-03T02:16:46.681Z"
   },
   {
    "duration": 476,
    "start_time": "2024-08-03T02:16:57.885Z"
   },
   {
    "duration": 417,
    "start_time": "2024-08-03T02:17:52.337Z"
   },
   {
    "duration": 409,
    "start_time": "2024-08-03T02:18:46.740Z"
   },
   {
    "duration": 401,
    "start_time": "2024-08-03T02:24:33.030Z"
   },
   {
    "duration": 402,
    "start_time": "2024-08-03T02:35:35.996Z"
   },
   {
    "duration": 372,
    "start_time": "2024-08-03T02:36:01.913Z"
   },
   {
    "duration": 7,
    "start_time": "2024-08-03T02:36:14.306Z"
   },
   {
    "duration": 389,
    "start_time": "2024-08-03T02:36:18.870Z"
   },
   {
    "duration": 533,
    "start_time": "2024-08-03T02:36:52.533Z"
   },
   {
    "duration": 394,
    "start_time": "2024-08-03T02:37:22.734Z"
   },
   {
    "duration": 399,
    "start_time": "2024-08-03T02:39:11.918Z"
   },
   {
    "duration": 457,
    "start_time": "2024-08-03T02:39:26.080Z"
   },
   {
    "duration": 353,
    "start_time": "2024-08-03T03:03:46.626Z"
   },
   {
    "duration": 1043,
    "start_time": "2024-08-03T03:10:08.923Z"
   },
   {
    "duration": 408,
    "start_time": "2024-08-03T03:10:31.201Z"
   },
   {
    "duration": 389,
    "start_time": "2024-08-03T03:10:39.814Z"
   },
   {
    "duration": 473,
    "start_time": "2024-08-03T03:11:01.204Z"
   },
   {
    "duration": 23,
    "start_time": "2024-08-03T03:11:56.261Z"
   },
   {
    "duration": 105,
    "start_time": "2024-08-03T03:12:17.320Z"
   },
   {
    "duration": 249,
    "start_time": "2024-08-03T03:12:35.022Z"
   },
   {
    "duration": 111,
    "start_time": "2024-08-03T03:14:15.607Z"
   },
   {
    "duration": 122,
    "start_time": "2024-08-03T03:14:19.322Z"
   },
   {
    "duration": 7,
    "start_time": "2024-08-03T03:14:29.341Z"
   },
   {
    "duration": 109,
    "start_time": "2024-08-03T03:14:33.125Z"
   },
   {
    "duration": 117,
    "start_time": "2024-08-03T03:15:33.227Z"
   },
   {
    "duration": 115,
    "start_time": "2024-08-03T03:17:44.107Z"
   },
   {
    "duration": 654,
    "start_time": "2024-08-03T03:18:11.699Z"
   },
   {
    "duration": 123,
    "start_time": "2024-08-03T03:18:19.320Z"
   },
   {
    "duration": 130,
    "start_time": "2024-08-03T03:19:15.947Z"
   },
   {
    "duration": 224,
    "start_time": "2024-08-03T03:20:14.155Z"
   },
   {
    "duration": 333,
    "start_time": "2024-08-03T03:20:39.324Z"
   },
   {
    "duration": 461,
    "start_time": "2024-08-03T03:22:31.926Z"
   },
   {
    "duration": 221,
    "start_time": "2024-08-03T03:27:59.788Z"
   },
   {
    "duration": 225,
    "start_time": "2024-08-03T03:28:13.688Z"
   },
   {
    "duration": 321,
    "start_time": "2024-08-03T03:28:25.007Z"
   },
   {
    "duration": 327,
    "start_time": "2024-08-03T03:30:16.971Z"
   },
   {
    "duration": 312,
    "start_time": "2024-08-03T03:30:34.697Z"
   },
   {
    "duration": 336,
    "start_time": "2024-08-03T03:30:47.923Z"
   },
   {
    "duration": 354,
    "start_time": "2024-08-03T03:31:57.299Z"
   },
   {
    "duration": 4288,
    "start_time": "2024-08-03T05:05:23.003Z"
   },
   {
    "duration": 1686,
    "start_time": "2024-08-03T05:05:27.295Z"
   },
   {
    "duration": 19,
    "start_time": "2024-08-03T05:05:28.984Z"
   },
   {
    "duration": 32,
    "start_time": "2024-08-03T05:05:29.008Z"
   },
   {
    "duration": 14,
    "start_time": "2024-08-03T05:05:29.043Z"
   },
   {
    "duration": 13,
    "start_time": "2024-08-03T05:05:29.060Z"
   },
   {
    "duration": 82,
    "start_time": "2024-08-03T05:05:29.076Z"
   },
   {
    "duration": 88,
    "start_time": "2024-08-03T05:05:29.161Z"
   },
   {
    "duration": 171,
    "start_time": "2024-08-03T05:05:29.252Z"
   },
   {
    "duration": 12,
    "start_time": "2024-08-03T05:05:29.433Z"
   },
   {
    "duration": 203,
    "start_time": "2024-08-03T05:05:29.448Z"
   },
   {
    "duration": 168,
    "start_time": "2024-08-03T05:05:29.656Z"
   },
   {
    "duration": 86,
    "start_time": "2024-08-03T05:05:29.833Z"
   },
   {
    "duration": 30,
    "start_time": "2024-08-03T05:05:29.922Z"
   },
   {
    "duration": 8,
    "start_time": "2024-08-03T05:05:29.956Z"
   },
   {
    "duration": 68,
    "start_time": "2024-08-03T05:05:29.966Z"
   },
   {
    "duration": 21,
    "start_time": "2024-08-03T05:05:30.037Z"
   },
   {
    "duration": 17,
    "start_time": "2024-08-03T05:05:30.061Z"
   },
   {
    "duration": 53,
    "start_time": "2024-08-03T05:05:30.081Z"
   },
   {
    "duration": 23,
    "start_time": "2024-08-03T05:05:30.137Z"
   },
   {
    "duration": 22,
    "start_time": "2024-08-03T05:05:30.164Z"
   },
   {
    "duration": 57,
    "start_time": "2024-08-03T05:05:30.188Z"
   },
   {
    "duration": 21,
    "start_time": "2024-08-03T05:05:30.247Z"
   },
   {
    "duration": 6,
    "start_time": "2024-08-03T05:05:30.271Z"
   },
   {
    "duration": 8,
    "start_time": "2024-08-03T05:05:30.279Z"
   },
   {
    "duration": 46,
    "start_time": "2024-08-03T05:05:30.290Z"
   },
   {
    "duration": 7,
    "start_time": "2024-08-03T05:05:30.340Z"
   },
   {
    "duration": 1315,
    "start_time": "2024-08-03T05:05:30.356Z"
   },
   {
    "duration": 596,
    "start_time": "2024-08-03T05:05:31.674Z"
   },
   {
    "duration": 11,
    "start_time": "2024-08-03T05:05:32.273Z"
   },
   {
    "duration": 3,
    "start_time": "2024-08-03T05:05:32.289Z"
   },
   {
    "duration": 4,
    "start_time": "2024-08-03T05:05:32.294Z"
   },
   {
    "duration": 10,
    "start_time": "2024-08-03T05:05:32.334Z"
   },
   {
    "duration": 8,
    "start_time": "2024-08-03T05:05:32.347Z"
   },
   {
    "duration": 9,
    "start_time": "2024-08-03T05:05:32.358Z"
   },
   {
    "duration": 9,
    "start_time": "2024-08-03T05:05:32.370Z"
   },
   {
    "duration": 71,
    "start_time": "2024-08-03T05:05:32.382Z"
   },
   {
    "duration": 88,
    "start_time": "2024-08-03T05:05:32.459Z"
   },
   {
    "duration": 26,
    "start_time": "2024-08-03T05:05:32.549Z"
   },
   {
    "duration": 821,
    "start_time": "2024-08-03T05:05:32.578Z"
   },
   {
    "duration": 50,
    "start_time": "2024-08-03T05:05:33.402Z"
   },
   {
    "duration": 9,
    "start_time": "2024-08-03T05:05:33.455Z"
   },
   {
    "duration": 6,
    "start_time": "2024-08-03T05:05:33.468Z"
   },
   {
    "duration": 303,
    "start_time": "2024-08-03T05:05:33.477Z"
   },
   {
    "duration": 272,
    "start_time": "2024-08-03T05:05:33.785Z"
   },
   {
    "duration": 277,
    "start_time": "2024-08-03T05:05:34.060Z"
   },
   {
    "duration": 17,
    "start_time": "2024-08-03T05:05:34.339Z"
   },
   {
    "duration": 406,
    "start_time": "2024-08-03T05:05:34.359Z"
   },
   {
    "duration": 423,
    "start_time": "2024-08-03T05:05:34.768Z"
   },
   {
    "duration": 166,
    "start_time": "2024-08-03T05:05:35.194Z"
   },
   {
    "duration": 6,
    "start_time": "2024-08-03T05:05:35.363Z"
   },
   {
    "duration": 22,
    "start_time": "2024-08-03T05:05:35.372Z"
   },
   {
    "duration": 757,
    "start_time": "2024-08-03T05:05:35.396Z"
   },
   {
    "duration": 7,
    "start_time": "2024-08-03T05:05:36.156Z"
   },
   {
    "duration": 737,
    "start_time": "2024-08-03T05:05:36.166Z"
   },
   {
    "duration": 204,
    "start_time": "2024-08-03T05:05:36.907Z"
   },
   {
    "duration": 6,
    "start_time": "2024-08-03T05:05:37.113Z"
   },
   {
    "duration": 33,
    "start_time": "2024-08-03T05:05:37.122Z"
   },
   {
    "duration": 3079,
    "start_time": "2024-08-03T05:05:37.158Z"
   },
   {
    "duration": 596,
    "start_time": "2024-08-03T05:05:40.240Z"
   },
   {
    "duration": 175,
    "start_time": "2024-08-03T05:05:40.839Z"
   },
   {
    "duration": 58,
    "start_time": "2024-08-03T05:05:41.017Z"
   },
   {
    "duration": 20,
    "start_time": "2024-08-03T05:05:41.078Z"
   },
   {
    "duration": 35,
    "start_time": "2024-08-03T05:05:41.102Z"
   },
   {
    "duration": 62,
    "start_time": "2024-08-03T05:05:41.140Z"
   },
   {
    "duration": 37,
    "start_time": "2024-08-03T05:05:41.206Z"
   },
   {
    "duration": 415,
    "start_time": "2024-08-03T05:05:41.245Z"
   },
   {
    "duration": 6776,
    "start_time": "2024-08-03T05:05:41.663Z"
   },
   {
    "duration": 105,
    "start_time": "2024-08-03T05:05:48.442Z"
   },
   {
    "duration": 344,
    "start_time": "2024-08-03T05:05:48.550Z"
   },
   {
    "duration": 1149,
    "start_time": "2024-08-03T05:13:17.696Z"
   },
   {
    "duration": 347,
    "start_time": "2024-08-03T05:13:24.351Z"
   },
   {
    "duration": 7,
    "start_time": "2024-08-03T05:18:11.981Z"
   },
   {
    "duration": 8,
    "start_time": "2024-08-03T05:21:06.838Z"
   },
   {
    "duration": 7,
    "start_time": "2024-08-03T05:21:27.970Z"
   },
   {
    "duration": 6,
    "start_time": "2024-08-03T05:24:21.747Z"
   },
   {
    "duration": 5,
    "start_time": "2024-08-03T05:24:47.460Z"
   },
   {
    "duration": 27,
    "start_time": "2024-08-03T05:24:50.775Z"
   },
   {
    "duration": 5,
    "start_time": "2024-08-03T05:26:02.454Z"
   },
   {
    "duration": 43,
    "start_time": "2024-08-03T05:26:25.775Z"
   },
   {
    "duration": 48,
    "start_time": "2024-08-03T05:27:21.324Z"
   },
   {
    "duration": 48,
    "start_time": "2024-08-03T05:27:56.869Z"
   },
   {
    "duration": 49,
    "start_time": "2024-08-03T05:28:08.372Z"
   },
   {
    "duration": 53,
    "start_time": "2024-08-03T05:29:12.501Z"
   },
   {
    "duration": 61,
    "start_time": "2024-08-03T05:29:53.767Z"
   },
   {
    "duration": 50,
    "start_time": "2024-08-03T05:30:37.899Z"
   },
   {
    "duration": 57,
    "start_time": "2024-08-03T05:30:56.516Z"
   },
   {
    "duration": 60,
    "start_time": "2024-08-03T05:31:13.943Z"
   },
   {
    "duration": 61,
    "start_time": "2024-08-03T05:32:52.647Z"
   },
   {
    "duration": 68,
    "start_time": "2024-08-03T05:33:30.749Z"
   },
   {
    "duration": 68,
    "start_time": "2024-08-03T05:34:12.873Z"
   },
   {
    "duration": 60,
    "start_time": "2024-08-03T05:34:23.863Z"
   },
   {
    "duration": 61,
    "start_time": "2024-08-03T05:34:48.997Z"
   },
   {
    "duration": 77,
    "start_time": "2024-08-03T05:35:18.814Z"
   },
   {
    "duration": 63,
    "start_time": "2024-08-03T05:35:47.116Z"
   },
   {
    "duration": 74,
    "start_time": "2024-08-03T05:37:05.209Z"
   },
   {
    "duration": 67,
    "start_time": "2024-08-03T05:37:37.043Z"
   },
   {
    "duration": 61,
    "start_time": "2024-08-03T05:38:42.964Z"
   },
   {
    "duration": 65,
    "start_time": "2024-08-03T05:39:33.908Z"
   },
   {
    "duration": 6,
    "start_time": "2024-08-03T05:51:16.319Z"
   },
   {
    "duration": 4207,
    "start_time": "2024-08-07T23:02:02.058Z"
   },
   {
    "duration": 1718,
    "start_time": "2024-08-07T23:02:06.268Z"
   },
   {
    "duration": 19,
    "start_time": "2024-08-07T23:02:07.992Z"
   },
   {
    "duration": 32,
    "start_time": "2024-08-07T23:02:08.015Z"
   },
   {
    "duration": 13,
    "start_time": "2024-08-07T23:02:08.050Z"
   },
   {
    "duration": 13,
    "start_time": "2024-08-07T23:02:08.066Z"
   },
   {
    "duration": 79,
    "start_time": "2024-08-07T23:02:08.082Z"
   },
   {
    "duration": 80,
    "start_time": "2024-08-07T23:02:13.647Z"
   },
   {
    "duration": 151,
    "start_time": "2024-08-07T23:02:14.424Z"
   },
   {
    "duration": 12,
    "start_time": "2024-08-07T23:02:16.997Z"
   },
   {
    "duration": 176,
    "start_time": "2024-08-07T23:02:21.956Z"
   },
   {
    "duration": 159,
    "start_time": "2024-08-07T23:02:22.419Z"
   },
   {
    "duration": 98,
    "start_time": "2024-08-07T23:02:23.293Z"
   },
   {
    "duration": 21,
    "start_time": "2024-08-07T23:04:38.551Z"
   },
   {
    "duration": 8,
    "start_time": "2024-08-07T23:04:40.281Z"
   },
   {
    "duration": 18,
    "start_time": "2024-08-07T23:08:17.232Z"
   },
   {
    "duration": 18,
    "start_time": "2024-08-07T23:16:47.735Z"
   },
   {
    "duration": 19,
    "start_time": "2024-08-07T23:16:53.426Z"
   },
   {
    "duration": 19,
    "start_time": "2024-08-07T23:18:52.883Z"
   },
   {
    "duration": 16,
    "start_time": "2024-08-07T23:25:52.619Z"
   },
   {
    "duration": 39,
    "start_time": "2024-08-07T23:29:55.808Z"
   },
   {
    "duration": 20,
    "start_time": "2024-08-07T23:29:59.179Z"
   },
   {
    "duration": 31,
    "start_time": "2024-08-07T23:42:13.670Z"
   },
   {
    "duration": 38,
    "start_time": "2024-08-07T23:43:26.239Z"
   },
   {
    "duration": 31,
    "start_time": "2024-08-07T23:49:28.875Z"
   },
   {
    "duration": 304,
    "start_time": "2024-08-07T23:50:20.236Z"
   },
   {
    "duration": 707,
    "start_time": "2024-08-07T23:50:24.218Z"
   },
   {
    "duration": 1500,
    "start_time": "2024-08-07T23:50:26.152Z"
   },
   {
    "duration": 18,
    "start_time": "2024-08-07T23:50:27.887Z"
   },
   {
    "duration": 16,
    "start_time": "2024-08-07T23:50:29.076Z"
   },
   {
    "duration": 14,
    "start_time": "2024-08-07T23:50:30.020Z"
   },
   {
    "duration": 13,
    "start_time": "2024-08-07T23:50:30.974Z"
   },
   {
    "duration": 39,
    "start_time": "2024-08-07T23:50:32.253Z"
   },
   {
    "duration": 81,
    "start_time": "2024-08-07T23:50:38.347Z"
   },
   {
    "duration": 158,
    "start_time": "2024-08-07T23:50:39.316Z"
   },
   {
    "duration": 11,
    "start_time": "2024-08-07T23:50:41.311Z"
   },
   {
    "duration": 171,
    "start_time": "2024-08-07T23:50:43.093Z"
   },
   {
    "duration": 152,
    "start_time": "2024-08-07T23:50:43.885Z"
   },
   {
    "duration": 92,
    "start_time": "2024-08-07T23:50:44.415Z"
   },
   {
    "duration": 21,
    "start_time": "2024-08-07T23:50:47.420Z"
   },
   {
    "duration": 10,
    "start_time": "2024-08-07T23:50:48.287Z"
   },
   {
    "duration": 50,
    "start_time": "2024-08-07T23:50:51.090Z"
   },
   {
    "duration": 41,
    "start_time": "2024-08-07T23:50:54.550Z"
   },
   {
    "duration": 44,
    "start_time": "2024-08-07T23:51:59.285Z"
   },
   {
    "duration": 46,
    "start_time": "2024-08-07T23:52:47.847Z"
   },
   {
    "duration": 42,
    "start_time": "2024-08-07T23:56:57.572Z"
   },
   {
    "duration": 640,
    "start_time": "2024-08-07T23:57:38.276Z"
   },
   {
    "duration": 1543,
    "start_time": "2024-08-07T23:57:38.922Z"
   },
   {
    "duration": 17,
    "start_time": "2024-08-07T23:57:40.468Z"
   },
   {
    "duration": 16,
    "start_time": "2024-08-07T23:57:40.587Z"
   },
   {
    "duration": 13,
    "start_time": "2024-08-07T23:57:41.052Z"
   },
   {
    "duration": 15,
    "start_time": "2024-08-07T23:57:41.501Z"
   },
   {
    "duration": 41,
    "start_time": "2024-08-07T23:57:41.916Z"
   },
   {
    "duration": 81,
    "start_time": "2024-08-07T23:57:43.895Z"
   },
   {
    "duration": 154,
    "start_time": "2024-08-07T23:57:44.121Z"
   },
   {
    "duration": 12,
    "start_time": "2024-08-07T23:57:45.076Z"
   },
   {
    "duration": 177,
    "start_time": "2024-08-07T23:57:46.106Z"
   },
   {
    "duration": 157,
    "start_time": "2024-08-07T23:57:46.331Z"
   },
   {
    "duration": 98,
    "start_time": "2024-08-07T23:57:46.512Z"
   },
   {
    "duration": 21,
    "start_time": "2024-08-07T23:57:47.944Z"
   },
   {
    "duration": 10,
    "start_time": "2024-08-07T23:57:48.270Z"
   },
   {
    "duration": 42,
    "start_time": "2024-08-07T23:57:48.675Z"
   },
   {
    "duration": 42,
    "start_time": "2024-08-07T23:57:50.011Z"
   },
   {
    "duration": 38,
    "start_time": "2024-08-07T23:59:34.148Z"
   },
   {
    "duration": 46,
    "start_time": "2024-08-08T00:00:20.401Z"
   },
   {
    "duration": 42,
    "start_time": "2024-08-08T00:00:25.263Z"
   },
   {
    "duration": 3,
    "start_time": "2024-08-08T00:06:44.757Z"
   },
   {
    "duration": 1447,
    "start_time": "2024-08-08T00:06:45.078Z"
   },
   {
    "duration": 15,
    "start_time": "2024-08-08T00:06:46.532Z"
   },
   {
    "duration": 16,
    "start_time": "2024-08-08T00:06:46.550Z"
   },
   {
    "duration": 14,
    "start_time": "2024-08-08T00:06:46.570Z"
   },
   {
    "duration": 52,
    "start_time": "2024-08-08T00:06:46.587Z"
   },
   {
    "duration": 35,
    "start_time": "2024-08-08T00:06:46.642Z"
   },
   {
    "duration": 87,
    "start_time": "2024-08-08T00:06:48.107Z"
   },
   {
    "duration": 142,
    "start_time": "2024-08-08T00:06:48.421Z"
   },
   {
    "duration": 11,
    "start_time": "2024-08-08T00:06:48.958Z"
   },
   {
    "duration": 153,
    "start_time": "2024-08-08T00:06:49.480Z"
   },
   {
    "duration": 138,
    "start_time": "2024-08-08T00:06:49.713Z"
   },
   {
    "duration": 79,
    "start_time": "2024-08-08T00:06:49.938Z"
   },
   {
    "duration": 24,
    "start_time": "2024-08-08T00:06:51.213Z"
   },
   {
    "duration": 9,
    "start_time": "2024-08-08T00:06:51.543Z"
   },
   {
    "duration": 44,
    "start_time": "2024-08-08T00:06:51.983Z"
   },
   {
    "duration": 43,
    "start_time": "2024-08-08T00:06:53.038Z"
   },
   {
    "duration": 68,
    "start_time": "2024-08-08T00:07:27.928Z"
   },
   {
    "duration": 45,
    "start_time": "2024-08-08T00:07:41.612Z"
   },
   {
    "duration": 48,
    "start_time": "2024-08-08T00:08:01.130Z"
   },
   {
    "duration": 48,
    "start_time": "2024-08-08T00:08:14.559Z"
   },
   {
    "duration": 45,
    "start_time": "2024-08-08T00:08:20.272Z"
   },
   {
    "duration": 3,
    "start_time": "2024-08-08T00:11:23.292Z"
   },
   {
    "duration": 1585,
    "start_time": "2024-08-08T00:11:23.483Z"
   },
   {
    "duration": 17,
    "start_time": "2024-08-08T00:11:25.087Z"
   },
   {
    "duration": 19,
    "start_time": "2024-08-08T00:11:25.108Z"
   },
   {
    "duration": 15,
    "start_time": "2024-08-08T00:11:25.137Z"
   },
   {
    "duration": 15,
    "start_time": "2024-08-08T00:11:25.154Z"
   },
   {
    "duration": 83,
    "start_time": "2024-08-08T00:11:25.172Z"
   },
   {
    "duration": 85,
    "start_time": "2024-08-08T00:11:25.846Z"
   },
   {
    "duration": 141,
    "start_time": "2024-08-08T00:11:26.034Z"
   },
   {
    "duration": 11,
    "start_time": "2024-08-08T00:11:26.662Z"
   },
   {
    "duration": 210,
    "start_time": "2024-08-08T00:11:27.130Z"
   },
   {
    "duration": 177,
    "start_time": "2024-08-08T00:11:27.344Z"
   },
   {
    "duration": 82,
    "start_time": "2024-08-08T00:11:27.713Z"
   },
   {
    "duration": 32,
    "start_time": "2024-08-08T00:11:30.396Z"
   },
   {
    "duration": 11,
    "start_time": "2024-08-08T00:11:30.695Z"
   },
   {
    "duration": 49,
    "start_time": "2024-08-08T00:11:31.269Z"
   },
   {
    "duration": 44,
    "start_time": "2024-08-08T00:11:31.994Z"
   },
   {
    "duration": 27,
    "start_time": "2024-08-08T00:12:31.513Z"
   },
   {
    "duration": 21,
    "start_time": "2024-08-08T00:12:43.157Z"
   },
   {
    "duration": 18,
    "start_time": "2024-08-08T00:12:49.931Z"
   },
   {
    "duration": 1165,
    "start_time": "2024-08-08T00:13:29.824Z"
   },
   {
    "duration": 15,
    "start_time": "2024-08-08T00:14:03.037Z"
   },
   {
    "duration": 10,
    "start_time": "2024-08-08T00:14:08.806Z"
   },
   {
    "duration": 14,
    "start_time": "2024-08-08T00:15:26.548Z"
   },
   {
    "duration": 83,
    "start_time": "2024-08-08T00:15:31.419Z"
   },
   {
    "duration": 8,
    "start_time": "2024-08-08T00:15:58.014Z"
   },
   {
    "duration": 7,
    "start_time": "2024-08-08T00:16:11.710Z"
   },
   {
    "duration": 99,
    "start_time": "2024-08-08T00:16:28.064Z"
   },
   {
    "duration": 18,
    "start_time": "2024-08-08T00:16:36.720Z"
   },
   {
    "duration": 18,
    "start_time": "2024-08-08T00:17:00.949Z"
   },
   {
    "duration": 14,
    "start_time": "2024-08-08T00:17:06.669Z"
   },
   {
    "duration": 4,
    "start_time": "2024-08-08T00:20:05.917Z"
   },
   {
    "duration": 1435,
    "start_time": "2024-08-08T00:20:06.481Z"
   },
   {
    "duration": 20,
    "start_time": "2024-08-08T00:20:07.919Z"
   },
   {
    "duration": 16,
    "start_time": "2024-08-08T00:20:07.942Z"
   },
   {
    "duration": 15,
    "start_time": "2024-08-08T00:20:07.962Z"
   },
   {
    "duration": 55,
    "start_time": "2024-08-08T00:20:07.980Z"
   },
   {
    "duration": 34,
    "start_time": "2024-08-08T00:20:08.039Z"
   },
   {
    "duration": 67,
    "start_time": "2024-08-08T00:20:09.661Z"
   },
   {
    "duration": 130,
    "start_time": "2024-08-08T00:20:09.896Z"
   },
   {
    "duration": 10,
    "start_time": "2024-08-08T00:20:10.604Z"
   },
   {
    "duration": 151,
    "start_time": "2024-08-08T00:20:11.218Z"
   },
   {
    "duration": 151,
    "start_time": "2024-08-08T00:20:11.493Z"
   },
   {
    "duration": 75,
    "start_time": "2024-08-08T00:20:11.713Z"
   },
   {
    "duration": 21,
    "start_time": "2024-08-08T00:20:13.029Z"
   },
   {
    "duration": 8,
    "start_time": "2024-08-08T00:20:13.329Z"
   },
   {
    "duration": 41,
    "start_time": "2024-08-08T00:20:13.710Z"
   },
   {
    "duration": 42,
    "start_time": "2024-08-08T00:20:14.431Z"
   },
   {
    "duration": 49,
    "start_time": "2024-08-08T00:21:42.275Z"
   },
   {
    "duration": 46,
    "start_time": "2024-08-08T00:43:52.457Z"
   },
   {
    "duration": 69,
    "start_time": "2024-08-08T00:44:18.288Z"
   },
   {
    "duration": 87,
    "start_time": "2024-08-08T00:44:39.761Z"
   },
   {
    "duration": 4,
    "start_time": "2024-08-08T00:45:49.041Z"
   },
   {
    "duration": 1434,
    "start_time": "2024-08-08T00:45:49.307Z"
   },
   {
    "duration": 17,
    "start_time": "2024-08-08T00:45:50.745Z"
   },
   {
    "duration": 16,
    "start_time": "2024-08-08T00:45:50.765Z"
   },
   {
    "duration": 48,
    "start_time": "2024-08-08T00:45:50.785Z"
   },
   {
    "duration": 14,
    "start_time": "2024-08-08T00:45:50.836Z"
   },
   {
    "duration": 35,
    "start_time": "2024-08-08T00:45:50.853Z"
   },
   {
    "duration": 71,
    "start_time": "2024-08-08T00:45:51.482Z"
   },
   {
    "duration": 152,
    "start_time": "2024-08-08T00:45:51.629Z"
   },
   {
    "duration": 9,
    "start_time": "2024-08-08T00:45:51.998Z"
   },
   {
    "duration": 146,
    "start_time": "2024-08-08T00:45:52.341Z"
   },
   {
    "duration": 126,
    "start_time": "2024-08-08T00:45:52.508Z"
   },
   {
    "duration": 70,
    "start_time": "2024-08-08T00:45:52.696Z"
   },
   {
    "duration": 22,
    "start_time": "2024-08-08T00:45:53.791Z"
   },
   {
    "duration": 9,
    "start_time": "2024-08-08T00:45:54.069Z"
   },
   {
    "duration": 41,
    "start_time": "2024-08-08T00:45:54.535Z"
   },
   {
    "duration": 43,
    "start_time": "2024-08-08T00:45:54.997Z"
   },
   {
    "duration": 80,
    "start_time": "2024-08-08T00:46:02.675Z"
   },
   {
    "duration": 5,
    "start_time": "2024-08-08T00:54:41.613Z"
   },
   {
    "duration": 7,
    "start_time": "2024-08-08T00:54:42.219Z"
   },
   {
    "duration": 6,
    "start_time": "2024-08-08T00:54:44.048Z"
   },
   {
    "duration": 9,
    "start_time": "2024-08-08T00:54:44.922Z"
   },
   {
    "duration": 1185,
    "start_time": "2024-08-08T00:54:47.722Z"
   },
   {
    "duration": 538,
    "start_time": "2024-08-08T00:54:48.911Z"
   },
   {
    "duration": 11,
    "start_time": "2024-08-08T00:55:08.057Z"
   },
   {
    "duration": 9,
    "start_time": "2024-08-08T00:59:15.198Z"
   },
   {
    "duration": 8,
    "start_time": "2024-08-08T01:00:37.682Z"
   },
   {
    "duration": 13,
    "start_time": "2024-08-08T01:00:44.673Z"
   },
   {
    "duration": 6,
    "start_time": "2024-08-08T01:01:50.298Z"
   },
   {
    "duration": 15,
    "start_time": "2024-08-08T01:01:53.811Z"
   },
   {
    "duration": 13,
    "start_time": "2024-08-08T01:02:01.924Z"
   },
   {
    "duration": 11,
    "start_time": "2024-08-08T01:02:38.754Z"
   },
   {
    "duration": 12,
    "start_time": "2024-08-08T01:03:03.415Z"
   },
   {
    "duration": 9,
    "start_time": "2024-08-08T01:03:21.905Z"
   },
   {
    "duration": 12,
    "start_time": "2024-08-08T01:05:35.538Z"
   },
   {
    "duration": 18,
    "start_time": "2024-08-08T01:06:16.618Z"
   },
   {
    "duration": 11,
    "start_time": "2024-08-08T01:08:39.976Z"
   },
   {
    "duration": 19,
    "start_time": "2024-08-08T01:10:10.649Z"
   },
   {
    "duration": 25,
    "start_time": "2024-08-08T01:10:46.644Z"
   },
   {
    "duration": 4,
    "start_time": "2024-08-08T01:13:19.498Z"
   },
   {
    "duration": 1387,
    "start_time": "2024-08-08T01:13:19.704Z"
   },
   {
    "duration": 16,
    "start_time": "2024-08-08T01:13:21.094Z"
   },
   {
    "duration": 33,
    "start_time": "2024-08-08T01:13:21.113Z"
   },
   {
    "duration": 13,
    "start_time": "2024-08-08T01:13:21.150Z"
   },
   {
    "duration": 14,
    "start_time": "2024-08-08T01:13:21.166Z"
   },
   {
    "duration": 75,
    "start_time": "2024-08-08T01:13:21.183Z"
   },
   {
    "duration": 71,
    "start_time": "2024-08-08T01:13:22.116Z"
   },
   {
    "duration": 144,
    "start_time": "2024-08-08T01:13:22.390Z"
   },
   {
    "duration": 10,
    "start_time": "2024-08-08T01:13:22.880Z"
   },
   {
    "duration": 159,
    "start_time": "2024-08-08T01:13:23.372Z"
   },
   {
    "duration": 128,
    "start_time": "2024-08-08T01:13:23.659Z"
   },
   {
    "duration": 70,
    "start_time": "2024-08-08T01:13:23.911Z"
   },
   {
    "duration": 22,
    "start_time": "2024-08-08T01:13:26.200Z"
   },
   {
    "duration": 8,
    "start_time": "2024-08-08T01:13:26.390Z"
   },
   {
    "duration": 41,
    "start_time": "2024-08-08T01:13:26.600Z"
   },
   {
    "duration": 43,
    "start_time": "2024-08-08T01:13:26.846Z"
   },
   {
    "duration": 32,
    "start_time": "2024-08-08T01:13:52.118Z"
   },
   {
    "duration": 25,
    "start_time": "2024-08-08T01:15:31.892Z"
   },
   {
    "duration": 27,
    "start_time": "2024-08-08T01:15:40.701Z"
   },
   {
    "duration": 28,
    "start_time": "2024-08-08T01:15:50.516Z"
   },
   {
    "duration": 42,
    "start_time": "2024-08-08T01:16:17.017Z"
   },
   {
    "duration": 35,
    "start_time": "2024-08-08T01:16:24.025Z"
   },
   {
    "duration": 17,
    "start_time": "2024-08-08T01:17:41.038Z"
   },
   {
    "duration": 27,
    "start_time": "2024-08-08T01:18:26.965Z"
   },
   {
    "duration": 18,
    "start_time": "2024-08-08T01:19:34.017Z"
   },
   {
    "duration": 32,
    "start_time": "2024-08-08T01:19:57.230Z"
   },
   {
    "duration": 13,
    "start_time": "2024-08-08T01:20:04.641Z"
   },
   {
    "duration": 47,
    "start_time": "2024-08-08T01:20:21.778Z"
   },
   {
    "duration": 14,
    "start_time": "2024-08-08T01:20:28.513Z"
   },
   {
    "duration": 6,
    "start_time": "2024-08-08T01:24:08.610Z"
   },
   {
    "duration": 7,
    "start_time": "2024-08-08T01:24:09.139Z"
   },
   {
    "duration": 6,
    "start_time": "2024-08-08T01:24:11.271Z"
   },
   {
    "duration": 7,
    "start_time": "2024-08-08T01:24:11.790Z"
   },
   {
    "duration": 1270,
    "start_time": "2024-08-08T01:24:13.413Z"
   },
   {
    "duration": 541,
    "start_time": "2024-08-08T01:24:14.691Z"
   },
   {
    "duration": 12,
    "start_time": "2024-08-08T01:24:26.218Z"
   },
   {
    "duration": 13,
    "start_time": "2024-08-08T01:24:44.524Z"
   },
   {
    "duration": 13,
    "start_time": "2024-08-08T01:24:50.668Z"
   },
   {
    "duration": 9,
    "start_time": "2024-08-08T01:24:56.237Z"
   },
   {
    "duration": 26,
    "start_time": "2024-08-08T01:25:02.008Z"
   },
   {
    "duration": 692,
    "start_time": "2024-08-08T01:26:03.120Z"
   },
   {
    "duration": 1556,
    "start_time": "2024-08-08T01:26:03.816Z"
   },
   {
    "duration": 18,
    "start_time": "2024-08-08T01:26:05.377Z"
   },
   {
    "duration": 37,
    "start_time": "2024-08-08T01:26:05.398Z"
   },
   {
    "duration": 13,
    "start_time": "2024-08-08T01:26:05.439Z"
   },
   {
    "duration": 13,
    "start_time": "2024-08-08T01:26:05.738Z"
   },
   {
    "duration": 38,
    "start_time": "2024-08-08T01:26:06.229Z"
   },
   {
    "duration": 81,
    "start_time": "2024-08-08T01:26:09.175Z"
   },
   {
    "duration": 153,
    "start_time": "2024-08-08T01:26:09.523Z"
   },
   {
    "duration": 11,
    "start_time": "2024-08-08T01:26:10.361Z"
   },
   {
    "duration": 180,
    "start_time": "2024-08-08T01:26:11.196Z"
   },
   {
    "duration": 152,
    "start_time": "2024-08-08T01:26:12.487Z"
   },
   {
    "duration": 91,
    "start_time": "2024-08-08T01:26:13.138Z"
   },
   {
    "duration": 22,
    "start_time": "2024-08-08T01:26:14.630Z"
   },
   {
    "duration": 8,
    "start_time": "2024-08-08T01:26:14.971Z"
   },
   {
    "duration": 42,
    "start_time": "2024-08-08T01:26:15.426Z"
   },
   {
    "duration": 42,
    "start_time": "2024-08-08T01:26:15.888Z"
   },
   {
    "duration": 13,
    "start_time": "2024-08-08T01:26:16.565Z"
   },
   {
    "duration": 5,
    "start_time": "2024-08-08T01:26:18.740Z"
   },
   {
    "duration": 7,
    "start_time": "2024-08-08T01:26:19.220Z"
   },
   {
    "duration": 6,
    "start_time": "2024-08-08T01:26:20.183Z"
   },
   {
    "duration": 7,
    "start_time": "2024-08-08T01:26:20.440Z"
   },
   {
    "duration": 1329,
    "start_time": "2024-08-08T01:26:21.193Z"
   },
   {
    "duration": 586,
    "start_time": "2024-08-08T01:26:22.525Z"
   },
   {
    "duration": 13,
    "start_time": "2024-08-08T01:26:23.360Z"
   },
   {
    "duration": 12,
    "start_time": "2024-08-08T01:26:24.757Z"
   },
   {
    "duration": 12,
    "start_time": "2024-08-08T01:26:25.722Z"
   },
   {
    "duration": 12,
    "start_time": "2024-08-08T01:26:27.074Z"
   },
   {
    "duration": 25,
    "start_time": "2024-08-08T01:26:28.943Z"
   },
   {
    "duration": 9,
    "start_time": "2024-08-08T01:26:39.003Z"
   },
   {
    "duration": 13,
    "start_time": "2024-08-08T01:26:39.845Z"
   },
   {
    "duration": 26,
    "start_time": "2024-08-08T01:26:43.219Z"
   },
   {
    "duration": 49,
    "start_time": "2024-08-08T01:26:43.801Z"
   },
   {
    "duration": 22,
    "start_time": "2024-08-08T01:26:45.040Z"
   },
   {
    "duration": 787,
    "start_time": "2024-08-08T01:26:45.677Z"
   },
   {
    "duration": 39,
    "start_time": "2024-08-08T01:26:46.823Z"
   },
   {
    "duration": 6,
    "start_time": "2024-08-08T01:27:03.621Z"
   },
   {
    "duration": 6,
    "start_time": "2024-08-08T01:27:04.072Z"
   },
   {
    "duration": 274,
    "start_time": "2024-08-08T01:27:05.377Z"
   },
   {
    "duration": 697,
    "start_time": "2024-08-08T01:32:24.842Z"
   },
   {
    "duration": 1698,
    "start_time": "2024-08-08T01:32:25.543Z"
   },
   {
    "duration": 17,
    "start_time": "2024-08-08T01:32:27.244Z"
   },
   {
    "duration": 16,
    "start_time": "2024-08-08T01:32:27.265Z"
   },
   {
    "duration": 13,
    "start_time": "2024-08-08T01:32:27.284Z"
   },
   {
    "duration": 16,
    "start_time": "2024-08-08T01:32:27.334Z"
   },
   {
    "duration": 40,
    "start_time": "2024-08-08T01:32:27.352Z"
   },
   {
    "duration": 121,
    "start_time": "2024-08-08T01:32:27.395Z"
   },
   {
    "duration": 171,
    "start_time": "2024-08-08T01:32:27.519Z"
   },
   {
    "duration": 12,
    "start_time": "2024-08-08T01:32:27.697Z"
   },
   {
    "duration": 183,
    "start_time": "2024-08-08T01:32:27.732Z"
   },
   {
    "duration": 160,
    "start_time": "2024-08-08T01:32:27.918Z"
   },
   {
    "duration": 99,
    "start_time": "2024-08-08T01:32:28.081Z"
   },
   {
    "duration": 22,
    "start_time": "2024-08-08T01:32:28.182Z"
   },
   {
    "duration": 29,
    "start_time": "2024-08-08T01:32:28.207Z"
   },
   {
    "duration": 42,
    "start_time": "2024-08-08T01:32:28.239Z"
   },
   {
    "duration": 70,
    "start_time": "2024-08-08T01:32:28.283Z"
   },
   {
    "duration": 13,
    "start_time": "2024-08-08T01:32:28.357Z"
   },
   {
    "duration": 6,
    "start_time": "2024-08-08T01:32:28.372Z"
   },
   {
    "duration": 8,
    "start_time": "2024-08-08T01:32:28.381Z"
   },
   {
    "duration": 42,
    "start_time": "2024-08-08T01:32:28.392Z"
   },
   {
    "duration": 8,
    "start_time": "2024-08-08T01:32:28.438Z"
   },
   {
    "duration": 1317,
    "start_time": "2024-08-08T01:32:28.449Z"
   },
   {
    "duration": 584,
    "start_time": "2024-08-08T01:32:29.769Z"
   },
   {
    "duration": 13,
    "start_time": "2024-08-08T01:32:30.356Z"
   },
   {
    "duration": 13,
    "start_time": "2024-08-08T01:32:30.371Z"
   },
   {
    "duration": 49,
    "start_time": "2024-08-08T01:32:30.387Z"
   },
   {
    "duration": 8,
    "start_time": "2024-08-08T01:32:30.445Z"
   },
   {
    "duration": 25,
    "start_time": "2024-08-08T01:32:30.456Z"
   },
   {
    "duration": 10,
    "start_time": "2024-08-08T01:32:30.484Z"
   },
   {
    "duration": 9,
    "start_time": "2024-08-08T01:32:30.534Z"
   },
   {
    "duration": 26,
    "start_time": "2024-08-08T01:32:30.546Z"
   },
   {
    "duration": 87,
    "start_time": "2024-08-08T01:32:30.574Z"
   },
   {
    "duration": 23,
    "start_time": "2024-08-08T01:32:30.664Z"
   },
   {
    "duration": 853,
    "start_time": "2024-08-08T01:32:30.690Z"
   },
   {
    "duration": 41,
    "start_time": "2024-08-08T01:32:31.546Z"
   },
   {
    "duration": 7,
    "start_time": "2024-08-08T01:32:31.590Z"
   },
   {
    "duration": 35,
    "start_time": "2024-08-08T01:32:31.600Z"
   },
   {
    "duration": 311,
    "start_time": "2024-08-08T01:32:31.641Z"
   },
   {
    "duration": 650,
    "start_time": "2024-08-08T01:42:05.784Z"
   },
   {
    "duration": 1746,
    "start_time": "2024-08-08T01:42:06.437Z"
   },
   {
    "duration": 18,
    "start_time": "2024-08-08T01:42:08.187Z"
   },
   {
    "duration": 34,
    "start_time": "2024-08-08T01:42:08.209Z"
   },
   {
    "duration": 14,
    "start_time": "2024-08-08T01:42:08.248Z"
   },
   {
    "duration": 14,
    "start_time": "2024-08-08T01:42:08.267Z"
   },
   {
    "duration": 38,
    "start_time": "2024-08-08T01:42:08.496Z"
   },
   {
    "duration": 80,
    "start_time": "2024-08-08T01:42:11.849Z"
   },
   {
    "duration": 160,
    "start_time": "2024-08-08T01:42:12.224Z"
   },
   {
    "duration": 11,
    "start_time": "2024-08-08T01:42:13.014Z"
   },
   {
    "duration": 177,
    "start_time": "2024-08-08T01:42:13.788Z"
   },
   {
    "duration": 154,
    "start_time": "2024-08-08T01:42:14.221Z"
   },
   {
    "duration": 86,
    "start_time": "2024-08-08T01:42:14.661Z"
   },
   {
    "duration": 22,
    "start_time": "2024-08-08T01:42:16.047Z"
   },
   {
    "duration": 9,
    "start_time": "2024-08-08T01:42:16.371Z"
   },
   {
    "duration": 40,
    "start_time": "2024-08-08T01:42:16.708Z"
   },
   {
    "duration": 53,
    "start_time": "2024-08-08T01:42:17.115Z"
   },
   {
    "duration": 13,
    "start_time": "2024-08-08T01:42:17.743Z"
   },
   {
    "duration": 5,
    "start_time": "2024-08-08T01:42:18.917Z"
   },
   {
    "duration": 7,
    "start_time": "2024-08-08T01:42:19.199Z"
   },
   {
    "duration": 6,
    "start_time": "2024-08-08T01:42:20.080Z"
   },
   {
    "duration": 7,
    "start_time": "2024-08-08T01:42:20.415Z"
   },
   {
    "duration": 1301,
    "start_time": "2024-08-08T01:42:21.526Z"
   },
   {
    "duration": 606,
    "start_time": "2024-08-08T01:42:22.830Z"
   },
   {
    "duration": 11,
    "start_time": "2024-08-08T01:42:23.460Z"
   },
   {
    "duration": 11,
    "start_time": "2024-08-08T01:42:24.152Z"
   },
   {
    "duration": 11,
    "start_time": "2024-08-08T01:42:24.908Z"
   },
   {
    "duration": 10,
    "start_time": "2024-08-08T01:42:25.622Z"
   },
   {
    "duration": 24,
    "start_time": "2024-08-08T01:42:26.277Z"
   },
   {
    "duration": 9,
    "start_time": "2024-08-08T01:42:27.620Z"
   },
   {
    "duration": 8,
    "start_time": "2024-08-08T01:42:27.912Z"
   },
   {
    "duration": 26,
    "start_time": "2024-08-08T01:42:29.066Z"
   },
   {
    "duration": 47,
    "start_time": "2024-08-08T01:42:29.390Z"
   },
   {
    "duration": 23,
    "start_time": "2024-08-08T01:42:29.969Z"
   },
   {
    "duration": 792,
    "start_time": "2024-08-08T01:42:30.251Z"
   },
   {
    "duration": 40,
    "start_time": "2024-08-08T01:42:31.047Z"
   },
   {
    "duration": 6,
    "start_time": "2024-08-08T01:42:33.027Z"
   },
   {
    "duration": 5,
    "start_time": "2024-08-08T01:42:33.371Z"
   },
   {
    "duration": 276,
    "start_time": "2024-08-08T01:42:34.629Z"
   },
   {
    "duration": 313,
    "start_time": "2024-08-08T01:46:42.421Z"
   },
   {
    "duration": 23,
    "start_time": "2024-08-08T01:46:53.922Z"
   },
   {
    "duration": 685,
    "start_time": "2024-08-08T01:47:27.788Z"
   },
   {
    "duration": 1717,
    "start_time": "2024-08-08T01:47:28.681Z"
   },
   {
    "duration": 18,
    "start_time": "2024-08-08T01:47:30.402Z"
   },
   {
    "duration": 16,
    "start_time": "2024-08-08T01:47:30.434Z"
   },
   {
    "duration": 13,
    "start_time": "2024-08-08T01:47:30.899Z"
   },
   {
    "duration": 15,
    "start_time": "2024-08-08T01:47:31.669Z"
   },
   {
    "duration": 40,
    "start_time": "2024-08-08T01:47:32.080Z"
   },
   {
    "duration": 80,
    "start_time": "2024-08-08T01:47:34.642Z"
   },
   {
    "duration": 150,
    "start_time": "2024-08-08T01:47:35.007Z"
   },
   {
    "duration": 12,
    "start_time": "2024-08-08T01:47:35.765Z"
   },
   {
    "duration": 173,
    "start_time": "2024-08-08T01:47:36.478Z"
   },
   {
    "duration": 151,
    "start_time": "2024-08-08T01:47:36.837Z"
   },
   {
    "duration": 93,
    "start_time": "2024-08-08T01:47:37.152Z"
   },
   {
    "duration": 21,
    "start_time": "2024-08-08T01:47:38.468Z"
   },
   {
    "duration": 8,
    "start_time": "2024-08-08T01:47:38.767Z"
   },
   {
    "duration": 41,
    "start_time": "2024-08-08T01:47:39.053Z"
   },
   {
    "duration": 44,
    "start_time": "2024-08-08T01:47:39.398Z"
   },
   {
    "duration": 14,
    "start_time": "2024-08-08T01:47:39.699Z"
   },
   {
    "duration": 6,
    "start_time": "2024-08-08T01:47:40.941Z"
   },
   {
    "duration": 6,
    "start_time": "2024-08-08T01:47:41.310Z"
   },
   {
    "duration": 6,
    "start_time": "2024-08-08T01:47:42.262Z"
   },
   {
    "duration": 7,
    "start_time": "2024-08-08T01:47:42.437Z"
   },
   {
    "duration": 1331,
    "start_time": "2024-08-08T01:47:43.577Z"
   },
   {
    "duration": 589,
    "start_time": "2024-08-08T01:47:44.911Z"
   },
   {
    "duration": 29,
    "start_time": "2024-08-08T01:47:45.504Z"
   },
   {
    "duration": 12,
    "start_time": "2024-08-08T01:47:46.161Z"
   },
   {
    "duration": 11,
    "start_time": "2024-08-08T01:47:47.265Z"
   },
   {
    "duration": 9,
    "start_time": "2024-08-08T01:47:47.992Z"
   },
   {
    "duration": 24,
    "start_time": "2024-08-08T01:47:48.356Z"
   },
   {
    "duration": 10,
    "start_time": "2024-08-08T01:47:50.214Z"
   },
   {
    "duration": 9,
    "start_time": "2024-08-08T01:47:50.594Z"
   },
   {
    "duration": 26,
    "start_time": "2024-08-08T01:47:51.877Z"
   },
   {
    "duration": 53,
    "start_time": "2024-08-08T01:47:52.017Z"
   },
   {
    "duration": 22,
    "start_time": "2024-08-08T01:47:52.772Z"
   },
   {
    "duration": 815,
    "start_time": "2024-08-08T01:47:53.174Z"
   },
   {
    "duration": 52,
    "start_time": "2024-08-08T01:47:53.993Z"
   },
   {
    "duration": 7,
    "start_time": "2024-08-08T01:47:56.307Z"
   },
   {
    "duration": 6,
    "start_time": "2024-08-08T01:47:56.831Z"
   },
   {
    "duration": 269,
    "start_time": "2024-08-08T01:47:57.986Z"
   },
   {
    "duration": 255,
    "start_time": "2024-08-08T01:48:08.370Z"
   },
   {
    "duration": 0,
    "start_time": "2024-08-08T01:49:18.268Z"
   },
   {
    "duration": 996,
    "start_time": "2024-08-08T01:49:22.094Z"
   },
   {
    "duration": 9,
    "start_time": "2024-08-08T01:57:05.968Z"
   },
   {
    "duration": 10,
    "start_time": "2024-08-08T01:58:21.462Z"
   },
   {
    "duration": 245,
    "start_time": "2024-08-08T01:58:53.137Z"
   },
   {
    "duration": 231,
    "start_time": "2024-08-08T02:00:30.422Z"
   },
   {
    "duration": 268,
    "start_time": "2024-08-08T02:00:31.968Z"
   },
   {
    "duration": 15,
    "start_time": "2024-08-08T02:00:40.305Z"
   },
   {
    "duration": 332,
    "start_time": "2024-08-08T02:00:40.529Z"
   },
   {
    "duration": 428,
    "start_time": "2024-08-08T02:00:41.532Z"
   },
   {
    "duration": 162,
    "start_time": "2024-08-08T02:00:42.832Z"
   },
   {
    "duration": 6,
    "start_time": "2024-08-08T02:00:43.251Z"
   },
   {
    "duration": 21,
    "start_time": "2024-08-08T02:00:47.742Z"
   },
   {
    "duration": 710,
    "start_time": "2024-08-08T02:00:53.784Z"
   },
   {
    "duration": 6,
    "start_time": "2024-08-08T02:00:54.497Z"
   },
   {
    "duration": 698,
    "start_time": "2024-08-08T02:00:54.506Z"
   },
   {
    "duration": 182,
    "start_time": "2024-08-08T02:00:58.183Z"
   },
   {
    "duration": 5,
    "start_time": "2024-08-08T02:00:58.903Z"
   },
   {
    "duration": 21,
    "start_time": "2024-08-08T02:01:04.628Z"
   },
   {
    "duration": 3049,
    "start_time": "2024-08-08T02:03:52.123Z"
   },
   {
    "duration": 588,
    "start_time": "2024-08-08T02:04:32.176Z"
   },
   {
    "duration": 164,
    "start_time": "2024-08-08T02:05:05.822Z"
   },
   {
    "duration": 311,
    "start_time": "2024-08-08T15:08:31.023Z"
   },
   {
    "duration": 4266,
    "start_time": "2024-08-08T15:08:40.269Z"
   },
   {
    "duration": 1721,
    "start_time": "2024-08-08T15:08:44.538Z"
   },
   {
    "duration": 18,
    "start_time": "2024-08-08T15:08:46.261Z"
   },
   {
    "duration": 16,
    "start_time": "2024-08-08T15:08:46.284Z"
   },
   {
    "duration": 38,
    "start_time": "2024-08-08T15:08:46.303Z"
   },
   {
    "duration": 15,
    "start_time": "2024-08-08T15:08:46.344Z"
   },
   {
    "duration": 72,
    "start_time": "2024-08-08T15:08:46.362Z"
   },
   {
    "duration": 104,
    "start_time": "2024-08-08T15:08:46.437Z"
   },
   {
    "duration": 168,
    "start_time": "2024-08-08T15:08:46.545Z"
   },
   {
    "duration": 19,
    "start_time": "2024-08-08T15:08:46.717Z"
   },
   {
    "duration": 191,
    "start_time": "2024-08-08T15:08:46.739Z"
   },
   {
    "duration": 159,
    "start_time": "2024-08-08T15:08:46.933Z"
   },
   {
    "duration": 87,
    "start_time": "2024-08-08T15:08:47.230Z"
   },
   {
    "duration": 23,
    "start_time": "2024-08-08T15:08:48.560Z"
   },
   {
    "duration": 8,
    "start_time": "2024-08-08T15:08:48.886Z"
   },
   {
    "duration": 42,
    "start_time": "2024-08-08T15:08:49.208Z"
   },
   {
    "duration": 43,
    "start_time": "2024-08-08T15:08:49.548Z"
   },
   {
    "duration": 13,
    "start_time": "2024-08-08T15:08:49.893Z"
   },
   {
    "duration": 6,
    "start_time": "2024-08-08T15:08:51.305Z"
   },
   {
    "duration": 8,
    "start_time": "2024-08-08T15:08:51.653Z"
   },
   {
    "duration": 7,
    "start_time": "2024-08-08T15:08:52.634Z"
   },
   {
    "duration": 7,
    "start_time": "2024-08-08T15:08:52.980Z"
   },
   {
    "duration": 1310,
    "start_time": "2024-08-08T15:08:53.988Z"
   },
   {
    "duration": 598,
    "start_time": "2024-08-08T15:08:55.302Z"
   },
   {
    "duration": 12,
    "start_time": "2024-08-08T15:08:55.904Z"
   },
   {
    "duration": 13,
    "start_time": "2024-08-08T15:08:56.555Z"
   },
   {
    "duration": 11,
    "start_time": "2024-08-08T15:08:57.213Z"
   },
   {
    "duration": 10,
    "start_time": "2024-08-08T15:08:57.893Z"
   },
   {
    "duration": 23,
    "start_time": "2024-08-08T15:08:58.509Z"
   },
   {
    "duration": 9,
    "start_time": "2024-08-08T15:08:59.792Z"
   },
   {
    "duration": 9,
    "start_time": "2024-08-08T15:09:00.099Z"
   },
   {
    "duration": 27,
    "start_time": "2024-08-08T15:09:01.396Z"
   },
   {
    "duration": 50,
    "start_time": "2024-08-08T15:09:01.697Z"
   },
   {
    "duration": 22,
    "start_time": "2024-08-08T15:09:02.339Z"
   },
   {
    "duration": 815,
    "start_time": "2024-08-08T15:09:02.656Z"
   },
   {
    "duration": 38,
    "start_time": "2024-08-08T15:09:03.475Z"
   },
   {
    "duration": 8,
    "start_time": "2024-08-08T15:09:05.635Z"
   },
   {
    "duration": 5,
    "start_time": "2024-08-08T15:09:05.949Z"
   },
   {
    "duration": 268,
    "start_time": "2024-08-08T15:09:06.956Z"
   },
   {
    "duration": 11,
    "start_time": "2024-08-08T15:09:07.870Z"
   },
   {
    "duration": 233,
    "start_time": "2024-08-08T15:09:08.210Z"
   },
   {
    "duration": 272,
    "start_time": "2024-08-08T15:09:45.807Z"
   },
   {
    "duration": 15,
    "start_time": "2024-08-08T15:09:46.083Z"
   },
   {
    "duration": 353,
    "start_time": "2024-08-08T15:09:46.101Z"
   },
   {
    "duration": 455,
    "start_time": "2024-08-08T15:09:46.457Z"
   },
   {
    "duration": 170,
    "start_time": "2024-08-08T15:09:46.916Z"
   },
   {
    "duration": 12,
    "start_time": "2024-08-08T15:09:47.090Z"
   },
   {
    "duration": 22,
    "start_time": "2024-08-08T15:09:56.088Z"
   },
   {
    "duration": 715,
    "start_time": "2024-08-08T15:09:58.893Z"
   },
   {
    "duration": 6,
    "start_time": "2024-08-08T15:10:00.321Z"
   },
   {
    "duration": 705,
    "start_time": "2024-08-08T15:10:00.990Z"
   },
   {
    "duration": 182,
    "start_time": "2024-08-08T15:10:03.829Z"
   },
   {
    "duration": 6,
    "start_time": "2024-08-08T15:10:05.261Z"
   },
   {
    "duration": 22,
    "start_time": "2024-08-08T15:10:05.965Z"
   },
   {
    "duration": 3266,
    "start_time": "2024-08-08T15:10:07.904Z"
   },
   {
    "duration": 753,
    "start_time": "2024-08-08T15:10:12.022Z"
   },
   {
    "duration": 191,
    "start_time": "2024-08-08T15:10:14.218Z"
   },
   {
    "duration": 47,
    "start_time": "2024-08-08T15:10:22.399Z"
   },
   {
    "duration": 15,
    "start_time": "2024-08-08T15:10:26.963Z"
   },
   {
    "duration": 165,
    "start_time": "2024-08-08T15:11:09.350Z"
   },
   {
    "duration": 45,
    "start_time": "2024-08-08T15:11:10.509Z"
   },
   {
    "duration": 22,
    "start_time": "2024-08-08T15:11:11.732Z"
   },
   {
    "duration": 178,
    "start_time": "2024-08-08T15:15:52.676Z"
   },
   {
    "duration": 230,
    "start_time": "2024-08-08T15:16:17.449Z"
   },
   {
    "duration": 183,
    "start_time": "2024-08-08T15:16:23.008Z"
   },
   {
    "duration": 170,
    "start_time": "2024-08-08T15:17:43.286Z"
   },
   {
    "duration": 168,
    "start_time": "2024-08-08T15:18:17.760Z"
   },
   {
    "duration": 164,
    "start_time": "2024-08-08T15:20:00.785Z"
   },
   {
    "duration": 168,
    "start_time": "2024-08-08T15:20:59.659Z"
   },
   {
    "duration": 170,
    "start_time": "2024-08-08T15:21:24.484Z"
   },
   {
    "duration": 179,
    "start_time": "2024-08-08T15:21:49.388Z"
   },
   {
    "duration": 175,
    "start_time": "2024-08-08T15:22:18.658Z"
   },
   {
    "duration": 173,
    "start_time": "2024-08-08T15:22:29.374Z"
   },
   {
    "duration": 189,
    "start_time": "2024-08-08T15:23:36.993Z"
   },
   {
    "duration": 4311,
    "start_time": "2024-08-08T18:01:34.623Z"
   },
   {
    "duration": 1676,
    "start_time": "2024-08-08T18:01:38.937Z"
   },
   {
    "duration": 22,
    "start_time": "2024-08-08T18:01:40.616Z"
   },
   {
    "duration": 16,
    "start_time": "2024-08-08T18:01:40.644Z"
   },
   {
    "duration": 50,
    "start_time": "2024-08-08T18:01:40.663Z"
   },
   {
    "duration": 14,
    "start_time": "2024-08-08T18:01:40.716Z"
   },
   {
    "duration": 41,
    "start_time": "2024-08-08T18:01:40.734Z"
   },
   {
    "duration": 134,
    "start_time": "2024-08-08T18:01:40.778Z"
   },
   {
    "duration": 216,
    "start_time": "2024-08-08T18:01:40.916Z"
   },
   {
    "duration": 12,
    "start_time": "2024-08-08T18:01:41.139Z"
   },
   {
    "duration": 215,
    "start_time": "2024-08-08T18:01:41.154Z"
   },
   {
    "duration": 181,
    "start_time": "2024-08-08T18:01:41.372Z"
   },
   {
    "duration": 109,
    "start_time": "2024-08-08T18:01:41.556Z"
   },
   {
    "duration": 22,
    "start_time": "2024-08-08T18:01:41.669Z"
   },
   {
    "duration": 19,
    "start_time": "2024-08-08T18:01:41.694Z"
   },
   {
    "duration": 44,
    "start_time": "2024-08-08T18:01:41.716Z"
   },
   {
    "duration": 78,
    "start_time": "2024-08-08T18:01:41.763Z"
   },
   {
    "duration": 13,
    "start_time": "2024-08-08T18:01:41.844Z"
   },
   {
    "duration": 11,
    "start_time": "2024-08-08T18:01:41.861Z"
   },
   {
    "duration": 37,
    "start_time": "2024-08-08T18:01:41.875Z"
   },
   {
    "duration": 5,
    "start_time": "2024-08-08T18:01:41.915Z"
   },
   {
    "duration": 8,
    "start_time": "2024-08-08T18:01:41.923Z"
   },
   {
    "duration": 1406,
    "start_time": "2024-08-08T18:01:41.934Z"
   },
   {
    "duration": 629,
    "start_time": "2024-08-08T18:01:43.344Z"
   },
   {
    "duration": 11,
    "start_time": "2024-08-08T18:01:43.976Z"
   },
   {
    "duration": 24,
    "start_time": "2024-08-08T18:01:43.991Z"
   },
   {
    "duration": 12,
    "start_time": "2024-08-08T18:01:44.019Z"
   },
   {
    "duration": 10,
    "start_time": "2024-08-08T18:01:44.041Z"
   },
   {
    "duration": 75,
    "start_time": "2024-08-08T18:01:44.055Z"
   },
   {
    "duration": 11,
    "start_time": "2024-08-08T18:01:44.133Z"
   },
   {
    "duration": 16,
    "start_time": "2024-08-08T18:01:44.147Z"
   },
   {
    "duration": 62,
    "start_time": "2024-08-08T18:01:44.166Z"
   },
   {
    "duration": 52,
    "start_time": "2024-08-08T18:01:44.232Z"
   },
   {
    "duration": 43,
    "start_time": "2024-08-08T18:01:44.287Z"
   },
   {
    "duration": 934,
    "start_time": "2024-08-08T18:01:44.333Z"
   },
   {
    "duration": 59,
    "start_time": "2024-08-08T18:01:45.270Z"
   },
   {
    "duration": 7,
    "start_time": "2024-08-08T18:01:45.333Z"
   },
   {
    "duration": 6,
    "start_time": "2024-08-08T18:01:45.343Z"
   },
   {
    "duration": 317,
    "start_time": "2024-08-08T18:01:45.353Z"
   },
   {
    "duration": 10,
    "start_time": "2024-08-08T18:01:45.673Z"
   },
   {
    "duration": 259,
    "start_time": "2024-08-08T18:01:45.686Z"
   },
   {
    "duration": 293,
    "start_time": "2024-08-08T18:01:45.948Z"
   },
   {
    "duration": 16,
    "start_time": "2024-08-08T18:01:46.244Z"
   },
   {
    "duration": 420,
    "start_time": "2024-08-08T18:01:46.263Z"
   },
   {
    "duration": 420,
    "start_time": "2024-08-08T18:01:46.686Z"
   },
   {
    "duration": 167,
    "start_time": "2024-08-08T18:01:47.113Z"
   },
   {
    "duration": 7,
    "start_time": "2024-08-08T18:01:47.282Z"
   },
   {
    "duration": 41,
    "start_time": "2024-08-08T18:01:47.292Z"
   },
   {
    "duration": 783,
    "start_time": "2024-08-08T18:01:47.338Z"
   },
   {
    "duration": 6,
    "start_time": "2024-08-08T18:01:48.124Z"
   },
   {
    "duration": 747,
    "start_time": "2024-08-08T18:01:48.134Z"
   },
   {
    "duration": 192,
    "start_time": "2024-08-08T18:01:48.884Z"
   },
   {
    "duration": 6,
    "start_time": "2024-08-08T18:01:49.081Z"
   },
   {
    "duration": 40,
    "start_time": "2024-08-08T18:01:49.090Z"
   },
   {
    "duration": 3142,
    "start_time": "2024-08-08T18:01:49.133Z"
   },
   {
    "duration": 610,
    "start_time": "2024-08-08T18:01:52.277Z"
   },
   {
    "duration": 211,
    "start_time": "2024-08-08T18:01:52.890Z"
   },
   {
    "duration": 52,
    "start_time": "2024-08-08T18:01:53.113Z"
   },
   {
    "duration": 17,
    "start_time": "2024-08-08T18:01:53.168Z"
   },
   {
    "duration": 391,
    "start_time": "2024-08-08T18:01:53.187Z"
   },
   {
    "duration": 77,
    "start_time": "2024-08-08T18:01:53.581Z"
   },
   {
    "duration": 7,
    "start_time": "2024-08-08T18:01:53.661Z"
   },
   {
    "duration": 322,
    "start_time": "2024-08-08T18:04:37.194Z"
   },
   {
    "duration": 300,
    "start_time": "2024-08-08T18:04:50.998Z"
   },
   {
    "duration": 320,
    "start_time": "2024-08-08T18:04:55.183Z"
   },
   {
    "duration": 171,
    "start_time": "2024-08-08T18:05:11.300Z"
   },
   {
    "duration": 312,
    "start_time": "2024-08-08T18:05:34.063Z"
   },
   {
    "duration": 312,
    "start_time": "2024-08-08T18:05:48.346Z"
   },
   {
    "duration": 335,
    "start_time": "2024-08-08T18:06:00.985Z"
   },
   {
    "duration": 182,
    "start_time": "2024-08-08T18:33:21.403Z"
   },
   {
    "duration": 178,
    "start_time": "2024-08-08T18:36:33.435Z"
   },
   {
    "duration": 195,
    "start_time": "2024-08-08T18:55:43.377Z"
   },
   {
    "duration": 48,
    "start_time": "2024-08-08T18:55:44.727Z"
   },
   {
    "duration": 17,
    "start_time": "2024-08-08T18:55:48.073Z"
   },
   {
    "duration": 17,
    "start_time": "2024-08-08T18:58:22.896Z"
   },
   {
    "duration": 316,
    "start_time": "2024-08-09T06:47:46.216Z"
   },
   {
    "duration": 4265,
    "start_time": "2024-08-09T06:47:57.892Z"
   },
   {
    "duration": 1681,
    "start_time": "2024-08-09T06:48:02.161Z"
   },
   {
    "duration": 19,
    "start_time": "2024-08-09T06:48:03.856Z"
   },
   {
    "duration": 16,
    "start_time": "2024-08-09T06:48:03.879Z"
   },
   {
    "duration": 38,
    "start_time": "2024-08-09T06:48:03.898Z"
   },
   {
    "duration": 14,
    "start_time": "2024-08-09T06:48:03.941Z"
   },
   {
    "duration": 38,
    "start_time": "2024-08-09T06:48:03.958Z"
   },
   {
    "duration": 83,
    "start_time": "2024-08-09T06:48:04.030Z"
   },
   {
    "duration": 184,
    "start_time": "2024-08-09T06:48:04.116Z"
   },
   {
    "duration": 25,
    "start_time": "2024-08-09T06:48:04.306Z"
   },
   {
    "duration": 183,
    "start_time": "2024-08-09T06:48:04.334Z"
   },
   {
    "duration": 163,
    "start_time": "2024-08-09T06:48:04.520Z"
   },
   {
    "duration": 97,
    "start_time": "2024-08-09T06:48:04.687Z"
   },
   {
    "duration": 22,
    "start_time": "2024-08-09T06:48:04.787Z"
   },
   {
    "duration": 23,
    "start_time": "2024-08-09T06:48:04.812Z"
   },
   {
    "duration": 41,
    "start_time": "2024-08-09T06:48:04.839Z"
   },
   {
    "duration": 70,
    "start_time": "2024-08-09T06:48:04.883Z"
   },
   {
    "duration": 14,
    "start_time": "2024-08-09T06:48:04.956Z"
   },
   {
    "duration": 5,
    "start_time": "2024-08-09T06:48:04.973Z"
   },
   {
    "duration": 7,
    "start_time": "2024-08-09T06:48:04.981Z"
   },
   {
    "duration": 6,
    "start_time": "2024-08-09T06:48:05.031Z"
   },
   {
    "duration": 8,
    "start_time": "2024-08-09T06:48:05.041Z"
   },
   {
    "duration": 1349,
    "start_time": "2024-08-09T06:48:05.052Z"
   },
   {
    "duration": 583,
    "start_time": "2024-08-09T06:48:06.404Z"
   },
   {
    "duration": 11,
    "start_time": "2024-08-09T06:48:06.990Z"
   },
   {
    "duration": 33,
    "start_time": "2024-08-09T06:48:07.004Z"
   },
   {
    "duration": 13,
    "start_time": "2024-08-09T06:48:07.040Z"
   },
   {
    "duration": 9,
    "start_time": "2024-08-09T06:48:07.062Z"
   },
   {
    "duration": 59,
    "start_time": "2024-08-09T06:48:07.074Z"
   },
   {
    "duration": 10,
    "start_time": "2024-08-09T06:48:07.136Z"
   },
   {
    "duration": 8,
    "start_time": "2024-08-09T06:48:07.149Z"
   },
   {
    "duration": 27,
    "start_time": "2024-08-09T06:48:07.160Z"
   },
   {
    "duration": 85,
    "start_time": "2024-08-09T06:48:07.190Z"
   },
   {
    "duration": 53,
    "start_time": "2024-08-09T06:48:07.278Z"
   },
   {
    "duration": 800,
    "start_time": "2024-08-09T06:48:07.334Z"
   },
   {
    "duration": 40,
    "start_time": "2024-08-09T06:48:08.137Z"
   },
   {
    "duration": 7,
    "start_time": "2024-08-09T06:48:08.180Z"
   },
   {
    "duration": 43,
    "start_time": "2024-08-09T06:48:08.190Z"
   },
   {
    "duration": 296,
    "start_time": "2024-08-09T06:48:08.237Z"
   },
   {
    "duration": 10,
    "start_time": "2024-08-09T06:48:08.536Z"
   },
   {
    "duration": 247,
    "start_time": "2024-08-09T06:48:08.549Z"
   },
   {
    "duration": 331,
    "start_time": "2024-08-09T06:48:08.799Z"
   },
   {
    "duration": 19,
    "start_time": "2024-08-09T06:48:09.133Z"
   },
   {
    "duration": 353,
    "start_time": "2024-08-09T06:48:09.154Z"
   },
   {
    "duration": 422,
    "start_time": "2024-08-09T06:48:09.510Z"
   },
   {
    "duration": 159,
    "start_time": "2024-08-09T06:48:09.938Z"
   },
   {
    "duration": 7,
    "start_time": "2024-08-09T06:48:10.099Z"
   },
   {
    "duration": 42,
    "start_time": "2024-08-09T06:48:10.110Z"
   },
   {
    "duration": 722,
    "start_time": "2024-08-09T06:48:10.155Z"
   },
   {
    "duration": 6,
    "start_time": "2024-08-09T06:48:10.880Z"
   },
   {
    "duration": 723,
    "start_time": "2024-08-09T06:48:10.890Z"
   },
   {
    "duration": 205,
    "start_time": "2024-08-09T06:48:11.616Z"
   },
   {
    "duration": 11,
    "start_time": "2024-08-09T06:48:11.823Z"
   },
   {
    "duration": 22,
    "start_time": "2024-08-09T06:48:11.837Z"
   },
   {
    "duration": 3088,
    "start_time": "2024-08-09T06:48:11.862Z"
   },
   {
    "duration": 577,
    "start_time": "2024-08-09T06:48:14.953Z"
   },
   {
    "duration": 175,
    "start_time": "2024-08-09T06:48:15.533Z"
   },
   {
    "duration": 50,
    "start_time": "2024-08-09T06:48:15.711Z"
   },
   {
    "duration": 16,
    "start_time": "2024-08-09T06:48:15.764Z"
   },
   {
    "duration": 150,
    "start_time": "2024-08-09T06:48:15.783Z"
   },
   {
    "duration": 355,
    "start_time": "2024-08-09T06:48:15.936Z"
   },
   {
    "duration": 73,
    "start_time": "2024-08-09T06:48:16.294Z"
   },
   {
    "duration": 7,
    "start_time": "2024-08-09T06:48:16.371Z"
   },
   {
    "duration": 10,
    "start_time": "2024-08-09T06:57:58.216Z"
   },
   {
    "duration": 95,
    "start_time": "2024-08-09T06:58:51.758Z"
   },
   {
    "duration": 82,
    "start_time": "2024-08-09T06:59:08.704Z"
   },
   {
    "duration": 82,
    "start_time": "2024-08-09T06:59:27.613Z"
   },
   {
    "duration": 122,
    "start_time": "2024-08-09T06:59:43.025Z"
   },
   {
    "duration": 11,
    "start_time": "2024-08-09T07:02:49.311Z"
   },
   {
    "duration": 104,
    "start_time": "2024-08-09T07:04:17.053Z"
   },
   {
    "duration": 4181,
    "start_time": "2024-08-09T13:47:07.694Z"
   },
   {
    "duration": 1684,
    "start_time": "2024-08-09T13:47:11.880Z"
   },
   {
    "duration": 19,
    "start_time": "2024-08-09T13:47:13.567Z"
   },
   {
    "duration": 17,
    "start_time": "2024-08-09T13:47:13.589Z"
   },
   {
    "duration": 15,
    "start_time": "2024-08-09T13:47:13.634Z"
   },
   {
    "duration": 14,
    "start_time": "2024-08-09T13:47:13.653Z"
   },
   {
    "duration": 80,
    "start_time": "2024-08-09T13:47:13.670Z"
   },
   {
    "duration": 97,
    "start_time": "2024-08-09T13:47:13.753Z"
   },
   {
    "duration": 164,
    "start_time": "2024-08-09T13:47:13.853Z"
   },
   {
    "duration": 17,
    "start_time": "2024-08-09T13:47:14.020Z"
   },
   {
    "duration": 202,
    "start_time": "2024-08-09T13:47:14.040Z"
   },
   {
    "duration": 159,
    "start_time": "2024-08-09T13:47:14.245Z"
   },
   {
    "duration": 96,
    "start_time": "2024-08-09T13:47:14.407Z"
   },
   {
    "duration": 33,
    "start_time": "2024-08-09T13:47:14.511Z"
   },
   {
    "duration": 9,
    "start_time": "2024-08-09T13:47:14.547Z"
   },
   {
    "duration": 41,
    "start_time": "2024-08-09T13:47:14.559Z"
   },
   {
    "duration": 74,
    "start_time": "2024-08-09T13:47:14.603Z"
   },
   {
    "duration": 17,
    "start_time": "2024-08-09T13:47:14.680Z"
   },
   {
    "duration": 35,
    "start_time": "2024-08-09T13:47:14.701Z"
   },
   {
    "duration": 8,
    "start_time": "2024-08-09T13:47:14.739Z"
   },
   {
    "duration": 7,
    "start_time": "2024-08-09T13:47:14.749Z"
   },
   {
    "duration": 7,
    "start_time": "2024-08-09T13:47:14.759Z"
   },
   {
    "duration": 1368,
    "start_time": "2024-08-09T13:47:14.769Z"
   },
   {
    "duration": 584,
    "start_time": "2024-08-09T13:47:16.140Z"
   },
   {
    "duration": 14,
    "start_time": "2024-08-09T13:47:16.734Z"
   },
   {
    "duration": 14,
    "start_time": "2024-08-09T13:47:16.750Z"
   },
   {
    "duration": 13,
    "start_time": "2024-08-09T13:47:16.766Z"
   },
   {
    "duration": 50,
    "start_time": "2024-08-09T13:47:16.783Z"
   },
   {
    "duration": 24,
    "start_time": "2024-08-09T13:47:16.836Z"
   },
   {
    "duration": 10,
    "start_time": "2024-08-09T13:47:16.863Z"
   },
   {
    "duration": 9,
    "start_time": "2024-08-09T13:47:16.875Z"
   },
   {
    "duration": 71,
    "start_time": "2024-08-09T13:47:16.887Z"
   },
   {
    "duration": 74,
    "start_time": "2024-08-09T13:47:16.961Z"
   },
   {
    "duration": 22,
    "start_time": "2024-08-09T13:47:17.037Z"
   },
   {
    "duration": 819,
    "start_time": "2024-08-09T13:47:17.062Z"
   },
   {
    "duration": 48,
    "start_time": "2024-08-09T13:47:17.884Z"
   },
   {
    "duration": 6,
    "start_time": "2024-08-09T13:47:17.935Z"
   },
   {
    "duration": 6,
    "start_time": "2024-08-09T13:47:17.944Z"
   },
   {
    "duration": 300,
    "start_time": "2024-08-09T13:47:17.953Z"
   },
   {
    "duration": 10,
    "start_time": "2024-08-09T13:47:18.256Z"
   },
   {
    "duration": 251,
    "start_time": "2024-08-09T13:47:18.276Z"
   },
   {
    "duration": 273,
    "start_time": "2024-08-09T13:47:18.533Z"
   },
   {
    "duration": 34,
    "start_time": "2024-08-09T13:47:18.809Z"
   },
   {
    "duration": 387,
    "start_time": "2024-08-09T13:47:18.848Z"
   },
   {
    "duration": 416,
    "start_time": "2024-08-09T13:47:19.238Z"
   },
   {
    "duration": 170,
    "start_time": "2024-08-09T13:47:19.657Z"
   },
   {
    "duration": 6,
    "start_time": "2024-08-09T13:47:19.829Z"
   },
   {
    "duration": 23,
    "start_time": "2024-08-09T13:47:19.838Z"
   },
   {
    "duration": 757,
    "start_time": "2024-08-09T13:47:19.864Z"
   },
   {
    "duration": 6,
    "start_time": "2024-08-09T13:47:20.632Z"
   },
   {
    "duration": 700,
    "start_time": "2024-08-09T13:47:20.642Z"
   },
   {
    "duration": 191,
    "start_time": "2024-08-09T13:47:21.350Z"
   },
   {
    "duration": 8,
    "start_time": "2024-08-09T13:47:21.546Z"
   },
   {
    "duration": 23,
    "start_time": "2024-08-09T13:47:21.557Z"
   },
   {
    "duration": 3128,
    "start_time": "2024-08-09T13:47:21.583Z"
   },
   {
    "duration": 656,
    "start_time": "2024-08-09T13:47:24.714Z"
   },
   {
    "duration": 201,
    "start_time": "2024-08-09T13:47:25.374Z"
   },
   {
    "duration": 61,
    "start_time": "2024-08-09T13:47:25.578Z"
   },
   {
    "duration": 19,
    "start_time": "2024-08-09T13:47:25.643Z"
   },
   {
    "duration": 425,
    "start_time": "2024-08-09T13:47:25.665Z"
   },
   {
    "duration": 0,
    "start_time": "2024-08-09T13:47:26.093Z"
   },
   {
    "duration": 0,
    "start_time": "2024-08-09T13:47:26.095Z"
   },
   {
    "duration": 12,
    "start_time": "2024-08-09T13:52:14.616Z"
   },
   {
    "duration": 9,
    "start_time": "2024-08-09T13:52:21.602Z"
   },
   {
    "duration": 636,
    "start_time": "2024-08-09T13:52:55.888Z"
   },
   {
    "duration": 168,
    "start_time": "2024-08-09T13:56:11.489Z"
   },
   {
    "duration": 10,
    "start_time": "2024-08-09T13:57:53.834Z"
   },
   {
    "duration": 22,
    "start_time": "2024-08-09T13:58:03.073Z"
   },
   {
    "duration": 13,
    "start_time": "2024-08-09T13:58:04.890Z"
   },
   {
    "duration": 4633,
    "start_time": "2024-08-10T01:48:52.651Z"
   },
   {
    "duration": 1771,
    "start_time": "2024-08-10T01:48:57.288Z"
   },
   {
    "duration": 19,
    "start_time": "2024-08-10T01:48:59.062Z"
   },
   {
    "duration": 16,
    "start_time": "2024-08-10T01:48:59.110Z"
   },
   {
    "duration": 16,
    "start_time": "2024-08-10T01:48:59.130Z"
   },
   {
    "duration": 15,
    "start_time": "2024-08-10T01:48:59.149Z"
   },
   {
    "duration": 81,
    "start_time": "2024-08-10T01:48:59.167Z"
   },
   {
    "duration": 116,
    "start_time": "2024-08-10T01:48:59.252Z"
   },
   {
    "duration": 192,
    "start_time": "2024-08-10T01:48:59.372Z"
   },
   {
    "duration": 12,
    "start_time": "2024-08-10T01:48:59.568Z"
   },
   {
    "duration": 224,
    "start_time": "2024-08-10T01:48:59.606Z"
   },
   {
    "duration": 201,
    "start_time": "2024-08-10T01:48:59.833Z"
   },
   {
    "duration": 113,
    "start_time": "2024-08-10T01:49:00.037Z"
   },
   {
    "duration": 23,
    "start_time": "2024-08-10T01:49:00.159Z"
   },
   {
    "duration": 13,
    "start_time": "2024-08-10T01:49:00.206Z"
   },
   {
    "duration": 43,
    "start_time": "2024-08-10T01:49:00.223Z"
   },
   {
    "duration": 67,
    "start_time": "2024-08-10T01:49:00.269Z"
   },
   {
    "duration": 14,
    "start_time": "2024-08-10T01:49:00.339Z"
   },
   {
    "duration": 6,
    "start_time": "2024-08-10T01:49:00.356Z"
   },
   {
    "duration": 7,
    "start_time": "2024-08-10T01:49:00.365Z"
   },
   {
    "duration": 25,
    "start_time": "2024-08-10T01:49:00.404Z"
   },
   {
    "duration": 8,
    "start_time": "2024-08-10T01:49:00.432Z"
   },
   {
    "duration": 1473,
    "start_time": "2024-08-10T01:49:00.443Z"
   },
   {
    "duration": 609,
    "start_time": "2024-08-10T01:49:01.920Z"
   },
   {
    "duration": 11,
    "start_time": "2024-08-10T01:49:02.541Z"
   },
   {
    "duration": 13,
    "start_time": "2024-08-10T01:49:02.555Z"
   },
   {
    "duration": 45,
    "start_time": "2024-08-10T01:49:02.571Z"
   },
   {
    "duration": 10,
    "start_time": "2024-08-10T01:49:02.630Z"
   },
   {
    "duration": 26,
    "start_time": "2024-08-10T01:49:02.644Z"
   },
   {
    "duration": 39,
    "start_time": "2024-08-10T01:49:02.673Z"
   },
   {
    "duration": 9,
    "start_time": "2024-08-10T01:49:02.727Z"
   },
   {
    "duration": 28,
    "start_time": "2024-08-10T01:49:02.739Z"
   },
   {
    "duration": 78,
    "start_time": "2024-08-10T01:49:02.769Z"
   },
   {
    "duration": 24,
    "start_time": "2024-08-10T01:49:02.850Z"
   },
   {
    "duration": 1051,
    "start_time": "2024-08-10T01:49:02.901Z"
   },
   {
    "duration": 63,
    "start_time": "2024-08-10T01:49:03.956Z"
   },
   {
    "duration": 8,
    "start_time": "2024-08-10T01:49:04.021Z"
   },
   {
    "duration": 8,
    "start_time": "2024-08-10T01:49:04.034Z"
   },
   {
    "duration": 319,
    "start_time": "2024-08-10T01:49:04.046Z"
   },
   {
    "duration": 11,
    "start_time": "2024-08-10T01:49:04.368Z"
   },
   {
    "duration": 245,
    "start_time": "2024-08-10T01:49:04.404Z"
   },
   {
    "duration": 299,
    "start_time": "2024-08-10T01:49:04.652Z"
   },
   {
    "duration": 17,
    "start_time": "2024-08-10T01:49:04.955Z"
   },
   {
    "duration": 384,
    "start_time": "2024-08-10T01:49:04.975Z"
   },
   {
    "duration": 512,
    "start_time": "2024-08-10T01:49:05.365Z"
   },
   {
    "duration": 206,
    "start_time": "2024-08-10T01:49:05.881Z"
   },
   {
    "duration": 26,
    "start_time": "2024-08-10T01:49:06.090Z"
   },
   {
    "duration": 31,
    "start_time": "2024-08-10T01:49:06.119Z"
   },
   {
    "duration": 837,
    "start_time": "2024-08-10T01:49:06.154Z"
   },
   {
    "duration": 20,
    "start_time": "2024-08-10T01:49:06.995Z"
   },
   {
    "duration": 769,
    "start_time": "2024-08-10T01:49:07.018Z"
   },
   {
    "duration": 201,
    "start_time": "2024-08-10T01:49:07.790Z"
   },
   {
    "duration": 15,
    "start_time": "2024-08-10T01:49:07.994Z"
   },
   {
    "duration": 24,
    "start_time": "2024-08-10T01:49:08.013Z"
   },
   {
    "duration": 3401,
    "start_time": "2024-08-10T01:49:08.039Z"
   },
   {
    "duration": 637,
    "start_time": "2024-08-10T01:49:11.443Z"
   },
   {
    "duration": 199,
    "start_time": "2024-08-10T01:49:12.083Z"
   },
   {
    "duration": 67,
    "start_time": "2024-08-10T01:49:12.285Z"
   },
   {
    "duration": 17,
    "start_time": "2024-08-10T01:49:12.355Z"
   },
   {
    "duration": 414,
    "start_time": "2024-08-10T01:49:12.376Z"
   },
   {
    "duration": 0,
    "start_time": "2024-08-10T01:49:12.806Z"
   },
   {
    "duration": 0,
    "start_time": "2024-08-10T01:49:12.809Z"
   },
   {
    "duration": 4413,
    "start_time": "2024-08-12T23:20:24.807Z"
   },
   {
    "duration": 1840,
    "start_time": "2024-08-12T23:20:29.224Z"
   },
   {
    "duration": 18,
    "start_time": "2024-08-12T23:20:31.067Z"
   },
   {
    "duration": 16,
    "start_time": "2024-08-12T23:20:32.421Z"
   },
   {
    "duration": 13,
    "start_time": "2024-08-12T23:20:33.287Z"
   },
   {
    "duration": 13,
    "start_time": "2024-08-12T23:20:34.016Z"
   },
   {
    "duration": 39,
    "start_time": "2024-08-12T23:20:34.868Z"
   },
   {
    "duration": 83,
    "start_time": "2024-08-12T23:20:38.225Z"
   },
   {
    "duration": 160,
    "start_time": "2024-08-12T23:20:39.006Z"
   },
   {
    "duration": 12,
    "start_time": "2024-08-12T23:20:40.467Z"
   },
   {
    "duration": 174,
    "start_time": "2024-08-12T23:20:41.613Z"
   },
   {
    "duration": 172,
    "start_time": "2024-08-12T23:20:42.101Z"
   },
   {
    "duration": 83,
    "start_time": "2024-08-12T23:20:42.690Z"
   },
   {
    "duration": 20,
    "start_time": "2024-08-12T23:20:45.315Z"
   },
   {
    "duration": 9,
    "start_time": "2024-08-12T23:20:45.790Z"
   },
   {
    "duration": 43,
    "start_time": "2024-08-12T23:20:46.237Z"
   },
   {
    "duration": 52,
    "start_time": "2024-08-12T23:20:46.809Z"
   },
   {
    "duration": 13,
    "start_time": "2024-08-12T23:20:47.313Z"
   },
   {
    "duration": 6,
    "start_time": "2024-08-12T23:20:49.154Z"
   },
   {
    "duration": 7,
    "start_time": "2024-08-12T23:20:49.615Z"
   },
   {
    "duration": 5,
    "start_time": "2024-08-12T23:20:50.858Z"
   },
   {
    "duration": 7,
    "start_time": "2024-08-12T23:20:51.400Z"
   },
   {
    "duration": 1303,
    "start_time": "2024-08-12T23:20:52.068Z"
   },
   {
    "duration": 590,
    "start_time": "2024-08-12T23:20:53.375Z"
   },
   {
    "duration": 10,
    "start_time": "2024-08-12T23:20:54.575Z"
   },
   {
    "duration": 13,
    "start_time": "2024-08-12T23:20:55.297Z"
   },
   {
    "duration": 12,
    "start_time": "2024-08-12T23:20:55.730Z"
   },
   {
    "duration": 9,
    "start_time": "2024-08-12T23:20:56.169Z"
   },
   {
    "duration": 24,
    "start_time": "2024-08-12T23:20:57.078Z"
   },
   {
    "duration": 10,
    "start_time": "2024-08-12T23:20:59.147Z"
   },
   {
    "duration": 9,
    "start_time": "2024-08-12T23:20:59.684Z"
   },
   {
    "duration": 27,
    "start_time": "2024-08-12T23:21:01.407Z"
   },
   {
    "duration": 47,
    "start_time": "2024-08-12T23:21:01.870Z"
   },
   {
    "duration": 22,
    "start_time": "2024-08-12T23:21:02.762Z"
   },
   {
    "duration": 877,
    "start_time": "2024-08-12T23:21:03.251Z"
   },
   {
    "duration": 39,
    "start_time": "2024-08-12T23:21:04.136Z"
   },
   {
    "duration": 6,
    "start_time": "2024-08-12T23:21:07.382Z"
   },
   {
    "duration": 6,
    "start_time": "2024-08-12T23:21:07.770Z"
   },
   {
    "duration": 290,
    "start_time": "2024-08-12T23:21:09.157Z"
   },
   {
    "duration": 11,
    "start_time": "2024-08-12T23:21:10.518Z"
   },
   {
    "duration": 248,
    "start_time": "2024-08-12T23:21:10.993Z"
   },
   {
    "duration": 269,
    "start_time": "2024-08-12T23:21:12.772Z"
   },
   {
    "duration": 16,
    "start_time": "2024-08-12T23:21:15.249Z"
   },
   {
    "duration": 345,
    "start_time": "2024-08-12T23:21:16.050Z"
   },
   {
    "duration": 419,
    "start_time": "2024-08-12T23:21:17.935Z"
   },
   {
    "duration": 189,
    "start_time": "2024-08-12T23:21:19.590Z"
   },
   {
    "duration": 7,
    "start_time": "2024-08-12T23:21:19.916Z"
   },
   {
    "duration": 25,
    "start_time": "2024-08-12T23:21:20.466Z"
   },
   {
    "duration": 754,
    "start_time": "2024-08-12T23:21:23.256Z"
   },
   {
    "duration": 7,
    "start_time": "2024-08-12T23:21:24.151Z"
   },
   {
    "duration": 763,
    "start_time": "2024-08-12T23:21:24.951Z"
   },
   {
    "duration": 188,
    "start_time": "2024-08-12T23:21:27.226Z"
   },
   {
    "duration": 5,
    "start_time": "2024-08-12T23:21:27.885Z"
   },
   {
    "duration": 22,
    "start_time": "2024-08-12T23:21:28.426Z"
   },
   {
    "duration": 3032,
    "start_time": "2024-08-12T23:21:31.257Z"
   },
   {
    "duration": 596,
    "start_time": "2024-08-12T23:21:34.292Z"
   },
   {
    "duration": 174,
    "start_time": "2024-08-12T23:21:34.892Z"
   },
   {
    "duration": 46,
    "start_time": "2024-08-12T23:21:35.070Z"
   },
   {
    "duration": 17,
    "start_time": "2024-08-12T23:21:35.134Z"
   },
   {
    "duration": 364,
    "start_time": "2024-08-12T23:21:46.877Z"
   },
   {
    "duration": 342,
    "start_time": "2024-08-12T23:21:48.042Z"
   },
   {
    "duration": 75,
    "start_time": "2024-08-12T23:21:49.547Z"
   },
   {
    "duration": 29,
    "start_time": "2024-08-12T23:23:56.615Z"
   },
   {
    "duration": 226,
    "start_time": "2024-08-12T23:24:02.635Z"
   },
   {
    "duration": 229,
    "start_time": "2024-08-12T23:24:16.579Z"
   },
   {
    "duration": 221,
    "start_time": "2024-08-12T23:29:32.896Z"
   },
   {
    "duration": 195,
    "start_time": "2024-08-12T23:30:40.664Z"
   },
   {
    "duration": 48,
    "start_time": "2024-08-12T23:30:46.953Z"
   },
   {
    "duration": 230,
    "start_time": "2024-08-12T23:31:29.440Z"
   },
   {
    "duration": 51,
    "start_time": "2024-08-12T23:31:34.012Z"
   },
   {
    "duration": 16,
    "start_time": "2024-08-12T23:31:52.951Z"
   },
   {
    "duration": 8,
    "start_time": "2024-08-12T23:48:21.585Z"
   },
   {
    "duration": 10,
    "start_time": "2024-08-12T23:50:39.857Z"
   },
   {
    "duration": 1460,
    "start_time": "2024-08-12T23:52:27.900Z"
   },
   {
    "duration": 2227,
    "start_time": "2024-08-12T23:54:32.364Z"
   },
   {
    "duration": 721,
    "start_time": "2024-08-12T23:55:29.386Z"
   },
   {
    "duration": 1707,
    "start_time": "2024-08-12T23:55:30.111Z"
   },
   {
    "duration": 24,
    "start_time": "2024-08-12T23:55:31.820Z"
   },
   {
    "duration": 18,
    "start_time": "2024-08-12T23:55:31.849Z"
   },
   {
    "duration": 13,
    "start_time": "2024-08-12T23:55:31.870Z"
   },
   {
    "duration": 54,
    "start_time": "2024-08-12T23:55:31.886Z"
   },
   {
    "duration": 38,
    "start_time": "2024-08-12T23:55:31.944Z"
   },
   {
    "duration": 102,
    "start_time": "2024-08-12T23:55:31.985Z"
   },
   {
    "duration": 166,
    "start_time": "2024-08-12T23:55:32.090Z"
   },
   {
    "duration": 12,
    "start_time": "2024-08-12T23:55:32.262Z"
   },
   {
    "duration": 197,
    "start_time": "2024-08-12T23:55:32.278Z"
   },
   {
    "duration": 177,
    "start_time": "2024-08-12T23:55:32.478Z"
   },
   {
    "duration": 112,
    "start_time": "2024-08-12T23:55:32.658Z"
   },
   {
    "duration": 21,
    "start_time": "2024-08-12T23:55:32.773Z"
   },
   {
    "duration": 8,
    "start_time": "2024-08-12T23:55:32.798Z"
   },
   {
    "duration": 43,
    "start_time": "2024-08-12T23:55:32.835Z"
   },
   {
    "duration": 67,
    "start_time": "2024-08-12T23:55:32.882Z"
   },
   {
    "duration": 14,
    "start_time": "2024-08-12T23:55:32.952Z"
   },
   {
    "duration": 7,
    "start_time": "2024-08-12T23:55:32.969Z"
   },
   {
    "duration": 8,
    "start_time": "2024-08-12T23:55:32.979Z"
   },
   {
    "duration": 45,
    "start_time": "2024-08-12T23:55:32.990Z"
   },
   {
    "duration": 7,
    "start_time": "2024-08-12T23:55:33.038Z"
   },
   {
    "duration": 1359,
    "start_time": "2024-08-12T23:55:33.049Z"
   },
   {
    "duration": 601,
    "start_time": "2024-08-12T23:55:34.410Z"
   },
   {
    "duration": 21,
    "start_time": "2024-08-12T23:55:35.014Z"
   },
   {
    "duration": 12,
    "start_time": "2024-08-12T23:55:35.038Z"
   },
   {
    "duration": 12,
    "start_time": "2024-08-12T23:55:35.054Z"
   },
   {
    "duration": 9,
    "start_time": "2024-08-12T23:55:35.075Z"
   },
   {
    "duration": 65,
    "start_time": "2024-08-12T23:55:35.087Z"
   },
   {
    "duration": 10,
    "start_time": "2024-08-12T23:55:35.156Z"
   },
   {
    "duration": 9,
    "start_time": "2024-08-12T23:55:35.169Z"
   },
   {
    "duration": 66,
    "start_time": "2024-08-12T23:55:35.181Z"
   },
   {
    "duration": 49,
    "start_time": "2024-08-12T23:55:35.250Z"
   },
   {
    "duration": 48,
    "start_time": "2024-08-12T23:55:35.301Z"
   },
   {
    "duration": 838,
    "start_time": "2024-08-12T23:55:35.352Z"
   },
   {
    "duration": 58,
    "start_time": "2024-08-12T23:55:36.192Z"
   },
   {
    "duration": 6,
    "start_time": "2024-08-12T23:55:36.253Z"
   },
   {
    "duration": 6,
    "start_time": "2024-08-12T23:55:36.262Z"
   },
   {
    "duration": 315,
    "start_time": "2024-08-12T23:55:36.272Z"
   },
   {
    "duration": 10,
    "start_time": "2024-08-12T23:55:36.591Z"
   },
   {
    "duration": 264,
    "start_time": "2024-08-12T23:55:36.604Z"
   },
   {
    "duration": 322,
    "start_time": "2024-08-12T23:55:36.871Z"
   },
   {
    "duration": 16,
    "start_time": "2024-08-12T23:55:37.199Z"
   },
   {
    "duration": 350,
    "start_time": "2024-08-12T23:55:37.235Z"
   },
   {
    "duration": 440,
    "start_time": "2024-08-12T23:55:37.588Z"
   },
   {
    "duration": 185,
    "start_time": "2024-08-12T23:55:38.036Z"
   },
   {
    "duration": 11,
    "start_time": "2024-08-12T23:55:38.224Z"
   },
   {
    "duration": 24,
    "start_time": "2024-08-12T23:55:38.238Z"
   },
   {
    "duration": 916,
    "start_time": "2024-08-12T23:55:38.265Z"
   },
   {
    "duration": 6,
    "start_time": "2024-08-12T23:55:39.184Z"
   },
   {
    "duration": 918,
    "start_time": "2024-08-12T23:55:39.194Z"
   },
   {
    "duration": 223,
    "start_time": "2024-08-12T23:55:40.115Z"
   },
   {
    "duration": 7,
    "start_time": "2024-08-12T23:55:40.342Z"
   },
   {
    "duration": 24,
    "start_time": "2024-08-12T23:55:40.353Z"
   },
   {
    "duration": 3095,
    "start_time": "2024-08-12T23:55:40.381Z"
   },
   {
    "duration": 255,
    "start_time": "2024-08-12T23:55:43.479Z"
   },
   {
    "duration": 46,
    "start_time": "2024-08-12T23:55:43.737Z"
   },
   {
    "duration": 16,
    "start_time": "2024-08-12T23:55:43.786Z"
   },
   {
    "duration": 4268,
    "start_time": "2024-08-12T23:55:43.805Z"
   },
   {
    "duration": 77,
    "start_time": "2024-08-12T23:55:48.076Z"
   },
   {
    "duration": 4515,
    "start_time": "2024-08-12T23:57:37.874Z"
   },
   {
    "duration": 4253,
    "start_time": "2024-08-12T23:59:25.806Z"
   },
   {
    "duration": 3855,
    "start_time": "2024-08-12T23:59:55.405Z"
   },
   {
    "duration": 4445,
    "start_time": "2024-08-13T00:01:09.597Z"
   },
   {
    "duration": 4240,
    "start_time": "2024-08-13T00:01:37.702Z"
   },
   {
    "duration": 4237,
    "start_time": "2024-08-13T00:02:20.387Z"
   },
   {
    "duration": 4871,
    "start_time": "2024-08-13T00:04:24.793Z"
   },
   {
    "duration": 4065,
    "start_time": "2024-08-13T00:06:12.136Z"
   },
   {
    "duration": 4147,
    "start_time": "2024-08-13T00:06:41.955Z"
   },
   {
    "duration": 4159,
    "start_time": "2024-08-13T00:06:52.801Z"
   },
   {
    "duration": 701,
    "start_time": "2024-08-13T00:10:06.948Z"
   },
   {
    "duration": 1785,
    "start_time": "2024-08-13T00:10:07.653Z"
   },
   {
    "duration": 18,
    "start_time": "2024-08-13T00:10:09.441Z"
   },
   {
    "duration": 18,
    "start_time": "2024-08-13T00:10:09.462Z"
   },
   {
    "duration": 49,
    "start_time": "2024-08-13T00:10:09.485Z"
   },
   {
    "duration": 18,
    "start_time": "2024-08-13T00:10:09.537Z"
   },
   {
    "duration": 51,
    "start_time": "2024-08-13T00:10:09.561Z"
   },
   {
    "duration": 85,
    "start_time": "2024-08-13T00:10:09.635Z"
   },
   {
    "duration": 192,
    "start_time": "2024-08-13T00:10:09.733Z"
   },
   {
    "duration": 19,
    "start_time": "2024-08-13T00:10:09.935Z"
   },
   {
    "duration": 208,
    "start_time": "2024-08-13T00:10:09.957Z"
   },
   {
    "duration": 178,
    "start_time": "2024-08-13T00:10:10.168Z"
   },
   {
    "duration": 98,
    "start_time": "2024-08-13T00:10:10.349Z"
   },
   {
    "duration": 25,
    "start_time": "2024-08-13T00:10:10.455Z"
   },
   {
    "duration": 9,
    "start_time": "2024-08-13T00:10:10.483Z"
   },
   {
    "duration": 74,
    "start_time": "2024-08-13T00:10:10.496Z"
   },
   {
    "duration": 67,
    "start_time": "2024-08-13T00:10:10.573Z"
   },
   {
    "duration": 20,
    "start_time": "2024-08-13T00:10:10.643Z"
   },
   {
    "duration": 8,
    "start_time": "2024-08-13T00:10:10.666Z"
   },
   {
    "duration": 9,
    "start_time": "2024-08-13T00:10:10.677Z"
   },
   {
    "duration": 6,
    "start_time": "2024-08-13T00:10:10.690Z"
   },
   {
    "duration": 7,
    "start_time": "2024-08-13T00:10:10.735Z"
   },
   {
    "duration": 1324,
    "start_time": "2024-08-13T00:10:10.745Z"
   },
   {
    "duration": 599,
    "start_time": "2024-08-13T00:10:12.072Z"
   },
   {
    "duration": 12,
    "start_time": "2024-08-13T00:10:12.674Z"
   },
   {
    "duration": 12,
    "start_time": "2024-08-13T00:10:12.689Z"
   },
   {
    "duration": 40,
    "start_time": "2024-08-13T00:10:12.704Z"
   },
   {
    "duration": 10,
    "start_time": "2024-08-13T00:10:12.747Z"
   },
   {
    "duration": 24,
    "start_time": "2024-08-13T00:10:12.760Z"
   },
   {
    "duration": 49,
    "start_time": "2024-08-13T00:10:12.787Z"
   },
   {
    "duration": 8,
    "start_time": "2024-08-13T00:10:12.839Z"
   },
   {
    "duration": 27,
    "start_time": "2024-08-13T00:10:12.850Z"
   },
   {
    "duration": 87,
    "start_time": "2024-08-13T00:10:12.880Z"
   },
   {
    "duration": 24,
    "start_time": "2024-08-13T00:10:12.970Z"
   },
   {
    "duration": 827,
    "start_time": "2024-08-13T00:10:12.997Z"
   },
   {
    "duration": 40,
    "start_time": "2024-08-13T00:10:13.834Z"
   },
   {
    "duration": 7,
    "start_time": "2024-08-13T00:10:13.876Z"
   },
   {
    "duration": 6,
    "start_time": "2024-08-13T00:10:13.886Z"
   },
   {
    "duration": 331,
    "start_time": "2024-08-13T00:10:13.896Z"
   },
   {
    "duration": 13,
    "start_time": "2024-08-13T00:10:14.230Z"
   },
   {
    "duration": 256,
    "start_time": "2024-08-13T00:10:14.254Z"
   },
   {
    "duration": 283,
    "start_time": "2024-08-13T00:10:14.513Z"
   },
   {
    "duration": 15,
    "start_time": "2024-08-13T00:10:14.799Z"
   },
   {
    "duration": 356,
    "start_time": "2024-08-13T00:10:14.817Z"
   },
   {
    "duration": 436,
    "start_time": "2024-08-13T00:10:15.177Z"
   },
   {
    "duration": 167,
    "start_time": "2024-08-13T00:10:15.616Z"
   },
   {
    "duration": 6,
    "start_time": "2024-08-13T00:10:15.786Z"
   },
   {
    "duration": 42,
    "start_time": "2024-08-13T00:10:15.795Z"
   },
   {
    "duration": 761,
    "start_time": "2024-08-13T00:10:15.839Z"
   },
   {
    "duration": 6,
    "start_time": "2024-08-13T00:10:16.603Z"
   },
   {
    "duration": 698,
    "start_time": "2024-08-13T00:10:16.612Z"
   },
   {
    "duration": 200,
    "start_time": "2024-08-13T00:10:17.313Z"
   },
   {
    "duration": 17,
    "start_time": "2024-08-13T00:10:17.516Z"
   },
   {
    "duration": 22,
    "start_time": "2024-08-13T00:10:17.536Z"
   },
   {
    "duration": 3314,
    "start_time": "2024-08-13T00:10:17.560Z"
   },
   {
    "duration": 257,
    "start_time": "2024-08-13T00:10:20.877Z"
   },
   {
    "duration": 49,
    "start_time": "2024-08-13T00:10:21.138Z"
   },
   {
    "duration": 17,
    "start_time": "2024-08-13T00:10:21.190Z"
   },
   {
    "duration": 5519,
    "start_time": "2024-08-13T00:10:21.236Z"
   },
   {
    "duration": 0,
    "start_time": "2024-08-13T00:10:26.758Z"
   },
   {
    "duration": 4122,
    "start_time": "2024-08-13T00:11:43.804Z"
   },
   {
    "duration": 4005,
    "start_time": "2024-08-13T00:12:00.060Z"
   },
   {
    "duration": 3899,
    "start_time": "2024-08-13T00:13:02.138Z"
   },
   {
    "duration": 307,
    "start_time": "2024-08-13T00:14:44.612Z"
   },
   {
    "duration": 715,
    "start_time": "2024-08-13T00:15:00.279Z"
   },
   {
    "duration": 1721,
    "start_time": "2024-08-13T00:15:00.998Z"
   },
   {
    "duration": 24,
    "start_time": "2024-08-13T00:15:02.722Z"
   },
   {
    "duration": 16,
    "start_time": "2024-08-13T00:15:02.750Z"
   },
   {
    "duration": 13,
    "start_time": "2024-08-13T00:15:02.770Z"
   },
   {
    "duration": 50,
    "start_time": "2024-08-13T00:15:02.786Z"
   },
   {
    "duration": 41,
    "start_time": "2024-08-13T00:15:02.839Z"
   },
   {
    "duration": 111,
    "start_time": "2024-08-13T00:15:02.883Z"
   },
   {
    "duration": 193,
    "start_time": "2024-08-13T00:15:02.998Z"
   },
   {
    "duration": 12,
    "start_time": "2024-08-13T00:15:03.198Z"
   },
   {
    "duration": 239,
    "start_time": "2024-08-13T00:15:03.212Z"
   },
   {
    "duration": 170,
    "start_time": "2024-08-13T00:15:03.454Z"
   },
   {
    "duration": 101,
    "start_time": "2024-08-13T00:15:03.634Z"
   },
   {
    "duration": 24,
    "start_time": "2024-08-13T00:15:03.740Z"
   },
   {
    "duration": 8,
    "start_time": "2024-08-13T00:15:03.768Z"
   },
   {
    "duration": 78,
    "start_time": "2024-08-13T00:15:03.779Z"
   },
   {
    "duration": 45,
    "start_time": "2024-08-13T00:15:03.860Z"
   },
   {
    "duration": 30,
    "start_time": "2024-08-13T00:15:03.908Z"
   },
   {
    "duration": 7,
    "start_time": "2024-08-13T00:15:03.941Z"
   },
   {
    "duration": 8,
    "start_time": "2024-08-13T00:15:03.951Z"
   },
   {
    "duration": 6,
    "start_time": "2024-08-13T00:15:03.963Z"
   },
   {
    "duration": 8,
    "start_time": "2024-08-13T00:15:03.972Z"
   },
   {
    "duration": 1302,
    "start_time": "2024-08-13T00:15:04.036Z"
   },
   {
    "duration": 610,
    "start_time": "2024-08-13T00:15:05.341Z"
   },
   {
    "duration": 12,
    "start_time": "2024-08-13T00:15:05.954Z"
   },
   {
    "duration": 12,
    "start_time": "2024-08-13T00:15:05.970Z"
   },
   {
    "duration": 47,
    "start_time": "2024-08-13T00:15:05.986Z"
   },
   {
    "duration": 9,
    "start_time": "2024-08-13T00:15:06.044Z"
   },
   {
    "duration": 24,
    "start_time": "2024-08-13T00:15:06.057Z"
   },
   {
    "duration": 10,
    "start_time": "2024-08-13T00:15:06.086Z"
   },
   {
    "duration": 42,
    "start_time": "2024-08-13T00:15:06.099Z"
   },
   {
    "duration": 30,
    "start_time": "2024-08-13T00:15:06.144Z"
   },
   {
    "duration": 84,
    "start_time": "2024-08-13T00:15:06.176Z"
   },
   {
    "duration": 23,
    "start_time": "2024-08-13T00:15:06.263Z"
   },
   {
    "duration": 848,
    "start_time": "2024-08-13T00:15:06.288Z"
   },
   {
    "duration": 41,
    "start_time": "2024-08-13T00:15:07.140Z"
   },
   {
    "duration": 6,
    "start_time": "2024-08-13T00:15:07.184Z"
   },
   {
    "duration": 41,
    "start_time": "2024-08-13T00:15:07.193Z"
   },
   {
    "duration": 278,
    "start_time": "2024-08-13T00:15:07.238Z"
   },
   {
    "duration": 18,
    "start_time": "2024-08-13T00:15:07.519Z"
   },
   {
    "duration": 250,
    "start_time": "2024-08-13T00:15:07.539Z"
   },
   {
    "duration": 277,
    "start_time": "2024-08-13T00:15:07.792Z"
   },
   {
    "duration": 16,
    "start_time": "2024-08-13T00:15:08.072Z"
   },
   {
    "duration": 356,
    "start_time": "2024-08-13T00:15:08.091Z"
   },
   {
    "duration": 486,
    "start_time": "2024-08-13T00:15:08.451Z"
   },
   {
    "duration": 180,
    "start_time": "2024-08-13T00:15:08.941Z"
   },
   {
    "duration": 10,
    "start_time": "2024-08-13T00:15:09.126Z"
   },
   {
    "duration": 24,
    "start_time": "2024-08-13T00:15:09.140Z"
   },
   {
    "duration": 789,
    "start_time": "2024-08-13T00:15:09.168Z"
   },
   {
    "duration": 7,
    "start_time": "2024-08-13T00:15:09.960Z"
   },
   {
    "duration": 812,
    "start_time": "2024-08-13T00:15:09.971Z"
   },
   {
    "duration": 202,
    "start_time": "2024-08-13T00:15:10.786Z"
   },
   {
    "duration": 5,
    "start_time": "2024-08-13T00:15:10.991Z"
   },
   {
    "duration": 41,
    "start_time": "2024-08-13T00:15:11.000Z"
   },
   {
    "duration": 3032,
    "start_time": "2024-08-13T00:15:11.045Z"
   },
   {
    "duration": 255,
    "start_time": "2024-08-13T00:15:14.080Z"
   },
   {
    "duration": 46,
    "start_time": "2024-08-13T00:15:14.337Z"
   },
   {
    "duration": 18,
    "start_time": "2024-08-13T00:15:14.385Z"
   },
   {
    "duration": 4380,
    "start_time": "2024-08-13T00:15:14.405Z"
   },
   {
    "duration": 81,
    "start_time": "2024-08-13T00:15:18.789Z"
   },
   {
    "duration": 4524,
    "start_time": "2024-08-13T00:16:39.263Z"
   },
   {
    "duration": 48,
    "start_time": "2024-08-13T00:18:21.739Z"
   },
   {
    "duration": 18,
    "start_time": "2024-08-13T00:18:26.296Z"
   },
   {
    "duration": 20,
    "start_time": "2024-08-13T00:19:11.582Z"
   },
   {
    "duration": 4317,
    "start_time": "2024-08-13T00:22:15.292Z"
   },
   {
    "duration": 3949,
    "start_time": "2024-08-13T00:22:42.185Z"
   },
   {
    "duration": 4232,
    "start_time": "2024-08-13T00:23:10.951Z"
   },
   {
    "duration": 3944,
    "start_time": "2024-08-13T00:24:03.569Z"
   },
   {
    "duration": 392,
    "start_time": "2024-08-13T00:24:16.551Z"
   },
   {
    "duration": 386,
    "start_time": "2024-08-13T00:25:29.649Z"
   },
   {
    "duration": 61,
    "start_time": "2024-08-13T00:28:26.984Z"
   },
   {
    "duration": 745,
    "start_time": "2024-08-13T00:29:10.048Z"
   },
   {
    "duration": 1651,
    "start_time": "2024-08-13T00:29:10.797Z"
   },
   {
    "duration": 17,
    "start_time": "2024-08-13T00:29:12.453Z"
   },
   {
    "duration": 16,
    "start_time": "2024-08-13T00:29:12.476Z"
   },
   {
    "duration": 43,
    "start_time": "2024-08-13T00:29:12.494Z"
   },
   {
    "duration": 13,
    "start_time": "2024-08-13T00:29:12.540Z"
   },
   {
    "duration": 38,
    "start_time": "2024-08-13T00:29:12.557Z"
   },
   {
    "duration": 110,
    "start_time": "2024-08-13T00:29:12.597Z"
   },
   {
    "duration": 180,
    "start_time": "2024-08-13T00:29:12.710Z"
   },
   {
    "duration": 11,
    "start_time": "2024-08-13T00:29:12.896Z"
   },
   {
    "duration": 199,
    "start_time": "2024-08-13T00:29:12.910Z"
   },
   {
    "duration": 158,
    "start_time": "2024-08-13T00:29:13.112Z"
   },
   {
    "duration": 98,
    "start_time": "2024-08-13T00:29:13.273Z"
   },
   {
    "duration": 22,
    "start_time": "2024-08-13T00:29:13.374Z"
   },
   {
    "duration": 9,
    "start_time": "2024-08-13T00:29:13.399Z"
   },
   {
    "duration": 64,
    "start_time": "2024-08-13T00:29:13.410Z"
   },
   {
    "duration": 65,
    "start_time": "2024-08-13T00:29:13.477Z"
   },
   {
    "duration": 13,
    "start_time": "2024-08-13T00:29:13.546Z"
   },
   {
    "duration": 6,
    "start_time": "2024-08-13T00:29:13.562Z"
   },
   {
    "duration": 7,
    "start_time": "2024-08-13T00:29:13.571Z"
   },
   {
    "duration": 6,
    "start_time": "2024-08-13T00:29:13.582Z"
   },
   {
    "duration": 7,
    "start_time": "2024-08-13T00:29:13.635Z"
   },
   {
    "duration": 1329,
    "start_time": "2024-08-13T00:29:13.645Z"
   },
   {
    "duration": 599,
    "start_time": "2024-08-13T00:29:14.977Z"
   },
   {
    "duration": 12,
    "start_time": "2024-08-13T00:29:15.579Z"
   },
   {
    "duration": 14,
    "start_time": "2024-08-13T00:29:15.594Z"
   },
   {
    "duration": 12,
    "start_time": "2024-08-13T00:29:15.635Z"
   },
   {
    "duration": 10,
    "start_time": "2024-08-13T00:29:15.655Z"
   },
   {
    "duration": 24,
    "start_time": "2024-08-13T00:29:15.668Z"
   },
   {
    "duration": 46,
    "start_time": "2024-08-13T00:29:15.695Z"
   },
   {
    "duration": 8,
    "start_time": "2024-08-13T00:29:15.744Z"
   },
   {
    "duration": 27,
    "start_time": "2024-08-13T00:29:15.755Z"
   },
   {
    "duration": 88,
    "start_time": "2024-08-13T00:29:15.784Z"
   },
   {
    "duration": 22,
    "start_time": "2024-08-13T00:29:15.875Z"
   },
   {
    "duration": 862,
    "start_time": "2024-08-13T00:29:15.900Z"
   },
   {
    "duration": 40,
    "start_time": "2024-08-13T00:29:16.764Z"
   },
   {
    "duration": 27,
    "start_time": "2024-08-13T00:29:16.807Z"
   },
   {
    "duration": 10,
    "start_time": "2024-08-13T00:29:16.837Z"
   },
   {
    "duration": 303,
    "start_time": "2024-08-13T00:29:16.849Z"
   },
   {
    "duration": 13,
    "start_time": "2024-08-13T00:29:17.154Z"
   },
   {
    "duration": 256,
    "start_time": "2024-08-13T00:29:17.171Z"
   },
   {
    "duration": 279,
    "start_time": "2024-08-13T00:29:17.433Z"
   },
   {
    "duration": 28,
    "start_time": "2024-08-13T00:29:17.715Z"
   },
   {
    "duration": 335,
    "start_time": "2024-08-13T00:29:17.745Z"
   },
   {
    "duration": 416,
    "start_time": "2024-08-13T00:29:18.083Z"
   },
   {
    "duration": 182,
    "start_time": "2024-08-13T00:29:18.502Z"
   },
   {
    "duration": 6,
    "start_time": "2024-08-13T00:29:18.687Z"
   },
   {
    "duration": 41,
    "start_time": "2024-08-13T00:29:18.695Z"
   },
   {
    "duration": 771,
    "start_time": "2024-08-13T00:29:18.740Z"
   },
   {
    "duration": 20,
    "start_time": "2024-08-13T00:29:19.514Z"
   },
   {
    "duration": 762,
    "start_time": "2024-08-13T00:29:19.537Z"
   },
   {
    "duration": 205,
    "start_time": "2024-08-13T00:29:20.302Z"
   },
   {
    "duration": 8,
    "start_time": "2024-08-13T00:29:20.510Z"
   },
   {
    "duration": 34,
    "start_time": "2024-08-13T00:29:20.522Z"
   },
   {
    "duration": 3067,
    "start_time": "2024-08-13T00:29:20.559Z"
   },
   {
    "duration": 257,
    "start_time": "2024-08-13T00:29:23.634Z"
   },
   {
    "duration": 59,
    "start_time": "2024-08-13T00:29:23.894Z"
   },
   {
    "duration": 20,
    "start_time": "2024-08-13T00:29:23.956Z"
   },
   {
    "duration": 4351,
    "start_time": "2024-08-13T00:29:23.979Z"
   },
   {
    "duration": 439,
    "start_time": "2024-08-13T00:29:28.335Z"
   },
   {
    "duration": 85,
    "start_time": "2024-08-13T00:29:28.778Z"
   },
   {
    "duration": 722,
    "start_time": "2024-08-14T23:08:58.338Z"
   },
   {
    "duration": 1789,
    "start_time": "2024-08-14T23:08:59.065Z"
   },
   {
    "duration": 17,
    "start_time": "2024-08-14T23:09:00.858Z"
   },
   {
    "duration": 39,
    "start_time": "2024-08-14T23:09:00.878Z"
   },
   {
    "duration": 14,
    "start_time": "2024-08-14T23:09:00.922Z"
   },
   {
    "duration": 15,
    "start_time": "2024-08-14T23:09:00.940Z"
   },
   {
    "duration": 77,
    "start_time": "2024-08-14T23:09:00.958Z"
   },
   {
    "duration": 106,
    "start_time": "2024-08-14T23:09:01.039Z"
   },
   {
    "duration": 187,
    "start_time": "2024-08-14T23:09:01.148Z"
   },
   {
    "duration": 13,
    "start_time": "2024-08-14T23:09:01.337Z"
   },
   {
    "duration": 201,
    "start_time": "2024-08-14T23:09:01.355Z"
   },
   {
    "duration": 168,
    "start_time": "2024-08-14T23:09:01.559Z"
   },
   {
    "duration": 109,
    "start_time": "2024-08-14T23:09:01.729Z"
   },
   {
    "duration": 24,
    "start_time": "2024-08-14T23:09:01.848Z"
   },
   {
    "duration": 33,
    "start_time": "2024-08-14T23:09:01.876Z"
   },
   {
    "duration": 49,
    "start_time": "2024-08-14T23:09:01.912Z"
   },
   {
    "duration": 69,
    "start_time": "2024-08-14T23:09:01.966Z"
   },
   {
    "duration": 15,
    "start_time": "2024-08-14T23:09:02.038Z"
   },
   {
    "duration": 5,
    "start_time": "2024-08-14T23:09:02.059Z"
   },
   {
    "duration": 9,
    "start_time": "2024-08-14T23:09:02.066Z"
   },
   {
    "duration": 34,
    "start_time": "2024-08-14T23:09:02.077Z"
   },
   {
    "duration": 8,
    "start_time": "2024-08-14T23:09:02.115Z"
   },
   {
    "duration": 1378,
    "start_time": "2024-08-14T23:09:02.127Z"
   },
   {
    "duration": 629,
    "start_time": "2024-08-14T23:09:03.508Z"
   },
   {
    "duration": 14,
    "start_time": "2024-08-14T23:09:04.141Z"
   },
   {
    "duration": 14,
    "start_time": "2024-08-14T23:09:04.159Z"
   },
   {
    "duration": 41,
    "start_time": "2024-08-14T23:09:04.176Z"
   },
   {
    "duration": 9,
    "start_time": "2024-08-14T23:09:04.220Z"
   },
   {
    "duration": 25,
    "start_time": "2024-08-14T23:09:04.232Z"
   },
   {
    "duration": 51,
    "start_time": "2024-08-14T23:09:04.260Z"
   },
   {
    "duration": 9,
    "start_time": "2024-08-14T23:09:04.315Z"
   },
   {
    "duration": 27,
    "start_time": "2024-08-14T23:09:04.328Z"
   },
   {
    "duration": 86,
    "start_time": "2024-08-14T23:09:04.358Z"
   },
   {
    "duration": 27,
    "start_time": "2024-08-14T23:09:04.447Z"
   },
   {
    "duration": 870,
    "start_time": "2024-08-14T23:09:04.505Z"
   },
   {
    "duration": 59,
    "start_time": "2024-08-14T23:09:05.378Z"
   },
   {
    "duration": 6,
    "start_time": "2024-08-14T23:09:05.441Z"
   },
   {
    "duration": 6,
    "start_time": "2024-08-14T23:09:05.450Z"
   },
   {
    "duration": 310,
    "start_time": "2024-08-14T23:09:05.459Z"
   },
   {
    "duration": 10,
    "start_time": "2024-08-14T23:09:05.772Z"
   },
   {
    "duration": 238,
    "start_time": "2024-08-14T23:09:05.807Z"
   },
   {
    "duration": 305,
    "start_time": "2024-08-14T23:09:06.049Z"
   },
   {
    "duration": 15,
    "start_time": "2024-08-14T23:09:06.357Z"
   },
   {
    "duration": 354,
    "start_time": "2024-08-14T23:09:06.375Z"
   },
   {
    "duration": 437,
    "start_time": "2024-08-14T23:09:06.733Z"
   },
   {
    "duration": 203,
    "start_time": "2024-08-14T23:09:07.173Z"
   },
   {
    "duration": 6,
    "start_time": "2024-08-14T23:09:07.380Z"
   },
   {
    "duration": 39,
    "start_time": "2024-08-14T23:09:07.389Z"
   },
   {
    "duration": 788,
    "start_time": "2024-08-14T23:09:07.431Z"
   },
   {
    "duration": 7,
    "start_time": "2024-08-14T23:09:08.223Z"
   },
   {
    "duration": 1031,
    "start_time": "2024-08-14T23:09:08.233Z"
   },
   {
    "duration": 214,
    "start_time": "2024-08-14T23:09:09.267Z"
   },
   {
    "duration": 7,
    "start_time": "2024-08-14T23:09:09.485Z"
   },
   {
    "duration": 25,
    "start_time": "2024-08-14T23:09:09.507Z"
   },
   {
    "duration": 3195,
    "start_time": "2024-08-14T23:09:09.537Z"
   },
   {
    "duration": 255,
    "start_time": "2024-08-14T23:09:12.736Z"
   },
   {
    "duration": 54,
    "start_time": "2024-08-14T23:09:12.994Z"
   },
   {
    "duration": 18,
    "start_time": "2024-08-14T23:09:13.051Z"
   }
  ],
  "colab": {
   "provenance": []
  },
  "kernelspec": {
   "display_name": "Python 3",
   "language": "python",
   "name": "python3"
  },
  "language_info": {
   "codemirror_mode": {
    "name": "ipython",
    "version": 3
   },
   "file_extension": ".py",
   "mimetype": "text/x-python",
   "name": "python",
   "nbconvert_exporter": "python",
   "pygments_lexer": "ipython3",
   "version": "3.12.7"
  },
  "toc": {
   "base_numbering": 1,
   "nav_menu": {},
   "number_sections": true,
   "sideBar": true,
   "skip_h1_title": true,
   "title_cell": "Table of Contents",
   "title_sidebar": "Contents",
   "toc_cell": false,
   "toc_position": {},
   "toc_section_display": true,
   "toc_window_display": false
  }
 },
 "nbformat": 4,
 "nbformat_minor": 5
}
